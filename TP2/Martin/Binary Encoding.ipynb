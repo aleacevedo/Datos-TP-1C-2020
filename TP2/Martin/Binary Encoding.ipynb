{
 "cells": [
  {
   "cell_type": "code",
   "execution_count": 1,
   "metadata": {},
   "outputs": [
    {
     "name": "stderr",
     "output_type": "stream",
     "text": [
      "[nltk_data] Downloading package stopwords to /home/martin/nltk_data...\n",
      "[nltk_data]   Package stopwords is already up-to-date!\n"
     ]
    }
   ],
   "source": [
    "import datetime as datetime\n",
    "import datetime \n",
    "import pandas as pd\n",
    "import matplotlib.pyplot as plt\n",
    "import numpy as np\n",
    "import re\n",
    "import string\n",
    "import unidecode\n",
    "import nltk\n",
    "nltk.download('stopwords')\n",
    "from nltk.corpus import stopwords\n",
    "\n",
    "\n",
    "import sklearn as sk\n",
    "import xgboost\n",
    "import category_encoders as ce\n",
    "\n",
    "from matplotlib import pyplot\n",
    "from sklearn.utils import shuffle\n",
    "from numpy import sort\n",
    "from matplotlib import pyplot\n",
    "from xgboost import plot_importance\n",
    "\n",
    "from sklearn.feature_extraction.text import CountVectorizer\n",
    "\n",
    "from sklearn.feature_selection import SelectFromModel\n",
    "from sklearn.feature_selection import SelectKBest\n",
    "from sklearn.feature_selection import chi2\n",
    "from sklearn.feature_selection import mutual_info_classif\n",
    "\n",
    "from sklearn.model_selection import RandomizedSearchCV, GridSearchCV\n",
    "from sklearn.model_selection import train_test_split\n",
    "from sklearn.model_selection import cross_val_score, KFold\n",
    "\n",
    "from sklearn.metrics import accuracy_score, r2_score, classification_report, mean_squared_error, mean_absolute_error\n",
    "from sklearn.linear_model import LogisticRegression\n",
    "\n",
    "from sklearn.neighbors import KNeighborsClassifier\n",
    "from sklearn.tree import DecisionTreeClassifier\n",
    "\n",
    "from sklearn.ensemble import RandomForestClassifier\n",
    "from sklearn.ensemble import AdaBoostClassifier\n",
    "from sklearn.ensemble import BaggingClassifier\n",
    "\n",
    "from sklearn.preprocessing import StandardScaler\n",
    "from lightgbm.sklearn import LGBMClassifier"
   ]
  },
  {
   "cell_type": "code",
   "execution_count": 2,
   "metadata": {},
   "outputs": [],
   "source": [
    "train = pd.read_csv('../../train.csv', low_memory=False)\n",
    "test = pd.read_csv('../../test.csv', low_memory=False)"
   ]
  },
  {
   "cell_type": "code",
   "execution_count": 3,
   "metadata": {},
   "outputs": [],
   "source": [
    "train[\"text\"] = train[\"text\"].str.lower()\n",
    "train[\"text\"] = train[\"text\"].apply(lambda x: re.sub('(?P<url>https?://[^\\s]+)', ' ', x))\n",
    "train[\"text\"] = train[\"text\"].apply(lambda x: re.sub(r'[^\\w]', ' ', x))\n",
    "train[\"text\"] = train[\"text\"].apply(lambda x: re.sub(r'_', ' ', x))\n",
    "train[\"text\"] = train[\"text\"].apply(lambda x: re.sub(r'[0-9]',' ', x))\n",
    "train[\"text\"] = train[\"text\"].apply(lambda x: re.sub(' +',' ', x))\n",
    "train[\"text\"] = train[\"text\"].apply(lambda x: re.sub(r'\\b\\w{1}\\b', '', x))\n",
    "train[\"text\"] = train[\"text\"].apply(lambda x: unidecode.unidecode(x))\n",
    "train[\"text\"] = train[\"text\"].str.strip()\n",
    "train[\"text_length\"] = train[\"text\"].str.len()\n",
    "train[\"words_count\"] = train[\"text\"].str.split(' ').apply(lambda x: len(x))\n",
    "\n",
    "train[\"keyword\"] = train[\"keyword\"].str.replace('%20',' ')"
   ]
  },
  {
   "cell_type": "code",
   "execution_count": 4,
   "metadata": {},
   "outputs": [],
   "source": [
    "test[\"text\"] = test[\"text\"].str.lower()\n",
    "test[\"text\"] = test[\"text\"].apply(lambda x: re.sub('(?P<url>https?://[^\\s]+)', ' ', x))\n",
    "test[\"text\"] = test[\"text\"].apply(lambda x: re.sub(r'[^\\w]', ' ', x))\n",
    "test[\"text\"] = test[\"text\"].apply(lambda x: re.sub(r'_', ' ', x))\n",
    "test[\"text\"] = test[\"text\"].apply(lambda x: re.sub(r'[0-9]',' ', x))\n",
    "test[\"text\"] = test[\"text\"].apply(lambda x: re.sub(' +',' ', x))\n",
    "test[\"text\"] = test[\"text\"].apply(lambda x: re.sub(r'\\b\\w{1}\\b', '', x))\n",
    "test[\"text\"] = test[\"text\"].apply(lambda x: unidecode.unidecode(x))\n",
    "test[\"text\"] = test[\"text\"].str.strip()\n",
    "test[\"text_length\"] = test[\"text\"].str.len()\n",
    "test[\"words_count\"] = test[\"text\"].str.split(' ').apply(lambda x: len(x))\n",
    "\n",
    "test[\"keyword\"] = test[\"keyword\"].str.replace('%20',' ')"
   ]
  },
  {
   "cell_type": "code",
   "execution_count": 5,
   "metadata": {},
   "outputs": [],
   "source": [
    "#Delete stopwords\n",
    "stopwordsset = set(stopwords.words('english'))\n",
    "stopwordsset.update(['im', 'like', 'get'])\n",
    "train['text'] = train['text'].map(lambda x: ' '.join([word for word in x.split(' ') if word not in stopwordsset])) "
   ]
  },
  {
   "cell_type": "code",
   "execution_count": 6,
   "metadata": {},
   "outputs": [],
   "source": [
    "#Delete stopwords\n",
    "stopwordsset = set(stopwords.words('english'))\n",
    "stopwordsset.update(['im', 'like', 'get'])\n",
    "test['text'] = test['text'].map(lambda x: ' '.join([word for word in x.split(' ') if word not in stopwordsset])) "
   ]
  },
  {
   "cell_type": "code",
   "execution_count": 7,
   "metadata": {},
   "outputs": [],
   "source": [
    "# if after deleting empty unsignificant words text become empty replace it with empty placeholder\n",
    "train.loc[train.text=='',\"text\"] = \"emptyplaceholder\"\n",
    "test.loc[test.text=='',\"text\"] = \"emptyplaceholder\""
   ]
  },
  {
   "cell_type": "code",
   "execution_count": 8,
   "metadata": {},
   "outputs": [
    {
     "data": {
      "text/html": [
       "<div>\n",
       "<style scoped>\n",
       "    .dataframe tbody tr th:only-of-type {\n",
       "        vertical-align: middle;\n",
       "    }\n",
       "\n",
       "    .dataframe tbody tr th {\n",
       "        vertical-align: top;\n",
       "    }\n",
       "\n",
       "    .dataframe thead th {\n",
       "        text-align: right;\n",
       "    }\n",
       "</style>\n",
       "<table border=\"1\" class=\"dataframe\">\n",
       "  <thead>\n",
       "    <tr style=\"text-align: right;\">\n",
       "      <th></th>\n",
       "      <th>id</th>\n",
       "      <th>keyword</th>\n",
       "      <th>location</th>\n",
       "      <th>text</th>\n",
       "      <th>target</th>\n",
       "      <th>text_length</th>\n",
       "      <th>words_count</th>\n",
       "    </tr>\n",
       "  </thead>\n",
       "  <tbody>\n",
       "    <tr>\n",
       "      <th>0</th>\n",
       "      <td>1</td>\n",
       "      <td>NaN</td>\n",
       "      <td>NaN</td>\n",
       "      <td>deeds reason earthquake may allah forgive us</td>\n",
       "      <td>1.0</td>\n",
       "      <td>68</td>\n",
       "      <td>13</td>\n",
       "    </tr>\n",
       "    <tr>\n",
       "      <th>1</th>\n",
       "      <td>4</td>\n",
       "      <td>NaN</td>\n",
       "      <td>NaN</td>\n",
       "      <td>forest fire near la ronge sask canada</td>\n",
       "      <td>1.0</td>\n",
       "      <td>37</td>\n",
       "      <td>7</td>\n",
       "    </tr>\n",
       "    <tr>\n",
       "      <th>2</th>\n",
       "      <td>5</td>\n",
       "      <td>NaN</td>\n",
       "      <td>NaN</td>\n",
       "      <td>residents asked shelter place notified officer...</td>\n",
       "      <td>1.0</td>\n",
       "      <td>130</td>\n",
       "      <td>22</td>\n",
       "    </tr>\n",
       "    <tr>\n",
       "      <th>3</th>\n",
       "      <td>6</td>\n",
       "      <td>NaN</td>\n",
       "      <td>NaN</td>\n",
       "      <td>people receive wildfires evacuation orders cal...</td>\n",
       "      <td>1.0</td>\n",
       "      <td>56</td>\n",
       "      <td>7</td>\n",
       "    </tr>\n",
       "    <tr>\n",
       "      <th>4</th>\n",
       "      <td>7</td>\n",
       "      <td>NaN</td>\n",
       "      <td>NaN</td>\n",
       "      <td>got sent photo ruby alaska smoke wildfires pou...</td>\n",
       "      <td>1.0</td>\n",
       "      <td>84</td>\n",
       "      <td>16</td>\n",
       "    </tr>\n",
       "    <tr>\n",
       "      <th>...</th>\n",
       "      <td>...</td>\n",
       "      <td>...</td>\n",
       "      <td>...</td>\n",
       "      <td>...</td>\n",
       "      <td>...</td>\n",
       "      <td>...</td>\n",
       "      <td>...</td>\n",
       "    </tr>\n",
       "    <tr>\n",
       "      <th>3258</th>\n",
       "      <td>10861</td>\n",
       "      <td>NaN</td>\n",
       "      <td>NaN</td>\n",
       "      <td>earthquake safety los angeles uo safety fasten...</td>\n",
       "      <td>NaN</td>\n",
       "      <td>54</td>\n",
       "      <td>8</td>\n",
       "    </tr>\n",
       "    <tr>\n",
       "      <th>3259</th>\n",
       "      <td>10865</td>\n",
       "      <td>NaN</td>\n",
       "      <td>NaN</td>\n",
       "      <td>storm ri worse last hurricane city amp others ...</td>\n",
       "      <td>NaN</td>\n",
       "      <td>129</td>\n",
       "      <td>25</td>\n",
       "    </tr>\n",
       "    <tr>\n",
       "      <th>3260</th>\n",
       "      <td>10868</td>\n",
       "      <td>NaN</td>\n",
       "      <td>NaN</td>\n",
       "      <td>green line derailment chicago</td>\n",
       "      <td>NaN</td>\n",
       "      <td>32</td>\n",
       "      <td>5</td>\n",
       "    </tr>\n",
       "    <tr>\n",
       "      <th>3261</th>\n",
       "      <td>10874</td>\n",
       "      <td>NaN</td>\n",
       "      <td>NaN</td>\n",
       "      <td>meg issues hazardous weather outlook hwo</td>\n",
       "      <td>NaN</td>\n",
       "      <td>40</td>\n",
       "      <td>6</td>\n",
       "    </tr>\n",
       "    <tr>\n",
       "      <th>3262</th>\n",
       "      <td>10875</td>\n",
       "      <td>NaN</td>\n",
       "      <td>NaN</td>\n",
       "      <td>cityofcalgary activated municipal emergency pl...</td>\n",
       "      <td>NaN</td>\n",
       "      <td>65</td>\n",
       "      <td>8</td>\n",
       "    </tr>\n",
       "  </tbody>\n",
       "</table>\n",
       "<p>10876 rows × 7 columns</p>\n",
       "</div>"
      ],
      "text/plain": [
       "         id keyword location  \\\n",
       "0         1     NaN      NaN   \n",
       "1         4     NaN      NaN   \n",
       "2         5     NaN      NaN   \n",
       "3         6     NaN      NaN   \n",
       "4         7     NaN      NaN   \n",
       "...     ...     ...      ...   \n",
       "3258  10861     NaN      NaN   \n",
       "3259  10865     NaN      NaN   \n",
       "3260  10868     NaN      NaN   \n",
       "3261  10874     NaN      NaN   \n",
       "3262  10875     NaN      NaN   \n",
       "\n",
       "                                                   text  target  text_length  \\\n",
       "0          deeds reason earthquake may allah forgive us     1.0           68   \n",
       "1                 forest fire near la ronge sask canada     1.0           37   \n",
       "2     residents asked shelter place notified officer...     1.0          130   \n",
       "3     people receive wildfires evacuation orders cal...     1.0           56   \n",
       "4     got sent photo ruby alaska smoke wildfires pou...     1.0           84   \n",
       "...                                                 ...     ...          ...   \n",
       "3258  earthquake safety los angeles uo safety fasten...     NaN           54   \n",
       "3259  storm ri worse last hurricane city amp others ...     NaN          129   \n",
       "3260                      green line derailment chicago     NaN           32   \n",
       "3261           meg issues hazardous weather outlook hwo     NaN           40   \n",
       "3262  cityofcalgary activated municipal emergency pl...     NaN           65   \n",
       "\n",
       "      words_count  \n",
       "0              13  \n",
       "1               7  \n",
       "2              22  \n",
       "3               7  \n",
       "4              16  \n",
       "...           ...  \n",
       "3258            8  \n",
       "3259           25  \n",
       "3260            5  \n",
       "3261            6  \n",
       "3262            8  \n",
       "\n",
       "[10876 rows x 7 columns]"
      ]
     },
     "execution_count": 8,
     "metadata": {},
     "output_type": "execute_result"
    }
   ],
   "source": [
    "tweets = pd.concat([train, test], sort=False)\n",
    "tweets"
   ]
  },
  {
   "cell_type": "code",
   "execution_count": 9,
   "metadata": {
    "scrolled": true
   },
   "outputs": [
    {
     "data": {
      "text/html": [
       "<div>\n",
       "<style scoped>\n",
       "    .dataframe tbody tr th:only-of-type {\n",
       "        vertical-align: middle;\n",
       "    }\n",
       "\n",
       "    .dataframe tbody tr th {\n",
       "        vertical-align: top;\n",
       "    }\n",
       "\n",
       "    .dataframe thead th {\n",
       "        text-align: right;\n",
       "    }\n",
       "</style>\n",
       "<table border=\"1\" class=\"dataframe\">\n",
       "  <thead>\n",
       "    <tr style=\"text-align: right;\">\n",
       "      <th></th>\n",
       "      <th>id</th>\n",
       "      <th>keyword</th>\n",
       "      <th>location</th>\n",
       "      <th>text</th>\n",
       "      <th>target</th>\n",
       "      <th>text_length</th>\n",
       "      <th>words_count</th>\n",
       "      <th>keyword_0</th>\n",
       "      <th>keyword_1</th>\n",
       "      <th>keyword_2</th>\n",
       "      <th>keyword_3</th>\n",
       "      <th>keyword_4</th>\n",
       "      <th>keyword_5</th>\n",
       "      <th>keyword_6</th>\n",
       "      <th>keyword_7</th>\n",
       "      <th>keyword_8</th>\n",
       "    </tr>\n",
       "  </thead>\n",
       "  <tbody>\n",
       "    <tr>\n",
       "      <th>0</th>\n",
       "      <td>1</td>\n",
       "      <td>NaN</td>\n",
       "      <td>NaN</td>\n",
       "      <td>deeds reason earthquake may allah forgive us</td>\n",
       "      <td>1.0</td>\n",
       "      <td>68</td>\n",
       "      <td>13</td>\n",
       "      <td>0</td>\n",
       "      <td>0</td>\n",
       "      <td>0</td>\n",
       "      <td>0</td>\n",
       "      <td>0</td>\n",
       "      <td>0</td>\n",
       "      <td>0</td>\n",
       "      <td>0</td>\n",
       "      <td>1</td>\n",
       "    </tr>\n",
       "    <tr>\n",
       "      <th>1</th>\n",
       "      <td>4</td>\n",
       "      <td>NaN</td>\n",
       "      <td>NaN</td>\n",
       "      <td>forest fire near la ronge sask canada</td>\n",
       "      <td>1.0</td>\n",
       "      <td>37</td>\n",
       "      <td>7</td>\n",
       "      <td>0</td>\n",
       "      <td>0</td>\n",
       "      <td>0</td>\n",
       "      <td>0</td>\n",
       "      <td>0</td>\n",
       "      <td>0</td>\n",
       "      <td>0</td>\n",
       "      <td>0</td>\n",
       "      <td>1</td>\n",
       "    </tr>\n",
       "    <tr>\n",
       "      <th>2</th>\n",
       "      <td>5</td>\n",
       "      <td>NaN</td>\n",
       "      <td>NaN</td>\n",
       "      <td>residents asked shelter place notified officer...</td>\n",
       "      <td>1.0</td>\n",
       "      <td>130</td>\n",
       "      <td>22</td>\n",
       "      <td>0</td>\n",
       "      <td>0</td>\n",
       "      <td>0</td>\n",
       "      <td>0</td>\n",
       "      <td>0</td>\n",
       "      <td>0</td>\n",
       "      <td>0</td>\n",
       "      <td>0</td>\n",
       "      <td>1</td>\n",
       "    </tr>\n",
       "    <tr>\n",
       "      <th>3</th>\n",
       "      <td>6</td>\n",
       "      <td>NaN</td>\n",
       "      <td>NaN</td>\n",
       "      <td>people receive wildfires evacuation orders cal...</td>\n",
       "      <td>1.0</td>\n",
       "      <td>56</td>\n",
       "      <td>7</td>\n",
       "      <td>0</td>\n",
       "      <td>0</td>\n",
       "      <td>0</td>\n",
       "      <td>0</td>\n",
       "      <td>0</td>\n",
       "      <td>0</td>\n",
       "      <td>0</td>\n",
       "      <td>0</td>\n",
       "      <td>1</td>\n",
       "    </tr>\n",
       "    <tr>\n",
       "      <th>4</th>\n",
       "      <td>7</td>\n",
       "      <td>NaN</td>\n",
       "      <td>NaN</td>\n",
       "      <td>got sent photo ruby alaska smoke wildfires pou...</td>\n",
       "      <td>1.0</td>\n",
       "      <td>84</td>\n",
       "      <td>16</td>\n",
       "      <td>0</td>\n",
       "      <td>0</td>\n",
       "      <td>0</td>\n",
       "      <td>0</td>\n",
       "      <td>0</td>\n",
       "      <td>0</td>\n",
       "      <td>0</td>\n",
       "      <td>0</td>\n",
       "      <td>1</td>\n",
       "    </tr>\n",
       "    <tr>\n",
       "      <th>...</th>\n",
       "      <td>...</td>\n",
       "      <td>...</td>\n",
       "      <td>...</td>\n",
       "      <td>...</td>\n",
       "      <td>...</td>\n",
       "      <td>...</td>\n",
       "      <td>...</td>\n",
       "      <td>...</td>\n",
       "      <td>...</td>\n",
       "      <td>...</td>\n",
       "      <td>...</td>\n",
       "      <td>...</td>\n",
       "      <td>...</td>\n",
       "      <td>...</td>\n",
       "      <td>...</td>\n",
       "      <td>...</td>\n",
       "    </tr>\n",
       "    <tr>\n",
       "      <th>3258</th>\n",
       "      <td>10861</td>\n",
       "      <td>NaN</td>\n",
       "      <td>NaN</td>\n",
       "      <td>earthquake safety los angeles uo safety fasten...</td>\n",
       "      <td>NaN</td>\n",
       "      <td>54</td>\n",
       "      <td>8</td>\n",
       "      <td>0</td>\n",
       "      <td>0</td>\n",
       "      <td>0</td>\n",
       "      <td>0</td>\n",
       "      <td>0</td>\n",
       "      <td>0</td>\n",
       "      <td>0</td>\n",
       "      <td>0</td>\n",
       "      <td>1</td>\n",
       "    </tr>\n",
       "    <tr>\n",
       "      <th>3259</th>\n",
       "      <td>10865</td>\n",
       "      <td>NaN</td>\n",
       "      <td>NaN</td>\n",
       "      <td>storm ri worse last hurricane city amp others ...</td>\n",
       "      <td>NaN</td>\n",
       "      <td>129</td>\n",
       "      <td>25</td>\n",
       "      <td>0</td>\n",
       "      <td>0</td>\n",
       "      <td>0</td>\n",
       "      <td>0</td>\n",
       "      <td>0</td>\n",
       "      <td>0</td>\n",
       "      <td>0</td>\n",
       "      <td>0</td>\n",
       "      <td>1</td>\n",
       "    </tr>\n",
       "    <tr>\n",
       "      <th>3260</th>\n",
       "      <td>10868</td>\n",
       "      <td>NaN</td>\n",
       "      <td>NaN</td>\n",
       "      <td>green line derailment chicago</td>\n",
       "      <td>NaN</td>\n",
       "      <td>32</td>\n",
       "      <td>5</td>\n",
       "      <td>0</td>\n",
       "      <td>0</td>\n",
       "      <td>0</td>\n",
       "      <td>0</td>\n",
       "      <td>0</td>\n",
       "      <td>0</td>\n",
       "      <td>0</td>\n",
       "      <td>0</td>\n",
       "      <td>1</td>\n",
       "    </tr>\n",
       "    <tr>\n",
       "      <th>3261</th>\n",
       "      <td>10874</td>\n",
       "      <td>NaN</td>\n",
       "      <td>NaN</td>\n",
       "      <td>meg issues hazardous weather outlook hwo</td>\n",
       "      <td>NaN</td>\n",
       "      <td>40</td>\n",
       "      <td>6</td>\n",
       "      <td>0</td>\n",
       "      <td>0</td>\n",
       "      <td>0</td>\n",
       "      <td>0</td>\n",
       "      <td>0</td>\n",
       "      <td>0</td>\n",
       "      <td>0</td>\n",
       "      <td>0</td>\n",
       "      <td>1</td>\n",
       "    </tr>\n",
       "    <tr>\n",
       "      <th>3262</th>\n",
       "      <td>10875</td>\n",
       "      <td>NaN</td>\n",
       "      <td>NaN</td>\n",
       "      <td>cityofcalgary activated municipal emergency pl...</td>\n",
       "      <td>NaN</td>\n",
       "      <td>65</td>\n",
       "      <td>8</td>\n",
       "      <td>0</td>\n",
       "      <td>0</td>\n",
       "      <td>0</td>\n",
       "      <td>0</td>\n",
       "      <td>0</td>\n",
       "      <td>0</td>\n",
       "      <td>0</td>\n",
       "      <td>0</td>\n",
       "      <td>1</td>\n",
       "    </tr>\n",
       "  </tbody>\n",
       "</table>\n",
       "<p>10876 rows × 16 columns</p>\n",
       "</div>"
      ],
      "text/plain": [
       "         id keyword location  \\\n",
       "0         1     NaN      NaN   \n",
       "1         4     NaN      NaN   \n",
       "2         5     NaN      NaN   \n",
       "3         6     NaN      NaN   \n",
       "4         7     NaN      NaN   \n",
       "...     ...     ...      ...   \n",
       "3258  10861     NaN      NaN   \n",
       "3259  10865     NaN      NaN   \n",
       "3260  10868     NaN      NaN   \n",
       "3261  10874     NaN      NaN   \n",
       "3262  10875     NaN      NaN   \n",
       "\n",
       "                                                   text  target  text_length  \\\n",
       "0          deeds reason earthquake may allah forgive us     1.0           68   \n",
       "1                 forest fire near la ronge sask canada     1.0           37   \n",
       "2     residents asked shelter place notified officer...     1.0          130   \n",
       "3     people receive wildfires evacuation orders cal...     1.0           56   \n",
       "4     got sent photo ruby alaska smoke wildfires pou...     1.0           84   \n",
       "...                                                 ...     ...          ...   \n",
       "3258  earthquake safety los angeles uo safety fasten...     NaN           54   \n",
       "3259  storm ri worse last hurricane city amp others ...     NaN          129   \n",
       "3260                      green line derailment chicago     NaN           32   \n",
       "3261           meg issues hazardous weather outlook hwo     NaN           40   \n",
       "3262  cityofcalgary activated municipal emergency pl...     NaN           65   \n",
       "\n",
       "      words_count  keyword_0  keyword_1  keyword_2  keyword_3  keyword_4  \\\n",
       "0              13          0          0          0          0          0   \n",
       "1               7          0          0          0          0          0   \n",
       "2              22          0          0          0          0          0   \n",
       "3               7          0          0          0          0          0   \n",
       "4              16          0          0          0          0          0   \n",
       "...           ...        ...        ...        ...        ...        ...   \n",
       "3258            8          0          0          0          0          0   \n",
       "3259           25          0          0          0          0          0   \n",
       "3260            5          0          0          0          0          0   \n",
       "3261            6          0          0          0          0          0   \n",
       "3262            8          0          0          0          0          0   \n",
       "\n",
       "      keyword_5  keyword_6  keyword_7  keyword_8  \n",
       "0             0          0          0          1  \n",
       "1             0          0          0          1  \n",
       "2             0          0          0          1  \n",
       "3             0          0          0          1  \n",
       "4             0          0          0          1  \n",
       "...         ...        ...        ...        ...  \n",
       "3258          0          0          0          1  \n",
       "3259          0          0          0          1  \n",
       "3260          0          0          0          1  \n",
       "3261          0          0          0          1  \n",
       "3262          0          0          0          1  \n",
       "\n",
       "[10876 rows x 16 columns]"
      ]
     },
     "execution_count": 9,
     "metadata": {},
     "output_type": "execute_result"
    }
   ],
   "source": [
    "encoder = ce.BinaryEncoder(cols=['keyword'])\n",
    "tweetsbin = encoder.fit_transform(tweets['keyword'])\n",
    "binary = pd.concat([tweets, tweetsbin], axis=1)\n",
    "binary"
   ]
  },
  {
   "cell_type": "code",
   "execution_count": 26,
   "metadata": {},
   "outputs": [
    {
     "data": {
      "text/plain": [
       "array([[0, 0, 0, ..., 0, 0, 0],\n",
       "       [0, 0, 0, ..., 0, 0, 0],\n",
       "       [0, 0, 0, ..., 0, 0, 0],\n",
       "       ...,\n",
       "       [0, 0, 0, ..., 0, 0, 0],\n",
       "       [0, 0, 0, ..., 0, 0, 0],\n",
       "       [0, 0, 0, ..., 0, 0, 0]], dtype=int64)"
      ]
     },
     "execution_count": 26,
     "metadata": {},
     "output_type": "execute_result"
    }
   ],
   "source": [
    "# Vectorize the text\n",
    "vectorizer = CountVectorizer(stop_words='english', min_df=35)\n",
    "df_text = tweets[\"text\"]\n",
    "X = vectorizer.fit_transform(df_text)\n",
    "X.toarray()"
   ]
  },
  {
   "cell_type": "code",
   "execution_count": 27,
   "metadata": {},
   "outputs": [
    {
     "data": {
      "text/plain": [
       "529"
      ]
     },
     "execution_count": 27,
     "metadata": {},
     "output_type": "execute_result"
    }
   ],
   "source": [
    "feature_words = vectorizer.get_feature_names()\n",
    "len(feature_words)"
   ]
  },
  {
   "cell_type": "code",
   "execution_count": 28,
   "metadata": {},
   "outputs": [
    {
     "data": {
      "text/html": [
       "<div>\n",
       "<style scoped>\n",
       "    .dataframe tbody tr th:only-of-type {\n",
       "        vertical-align: middle;\n",
       "    }\n",
       "\n",
       "    .dataframe tbody tr th {\n",
       "        vertical-align: top;\n",
       "    }\n",
       "\n",
       "    .dataframe thead th {\n",
       "        text-align: right;\n",
       "    }\n",
       "</style>\n",
       "<table border=\"1\" class=\"dataframe\">\n",
       "  <thead>\n",
       "    <tr style=\"text-align: right;\">\n",
       "      <th></th>\n",
       "      <th>abc</th>\n",
       "      <th>ablaze</th>\n",
       "      <th>accident</th>\n",
       "      <th>actually</th>\n",
       "      <th>affected</th>\n",
       "      <th>aftershock</th>\n",
       "      <th>ago</th>\n",
       "      <th>air</th>\n",
       "      <th>airplane</th>\n",
       "      <th>airport</th>\n",
       "      <th>...</th>\n",
       "      <th>wreck</th>\n",
       "      <th>wreckage</th>\n",
       "      <th>wrecked</th>\n",
       "      <th>yeah</th>\n",
       "      <th>year</th>\n",
       "      <th>years</th>\n",
       "      <th>yes</th>\n",
       "      <th>youtube</th>\n",
       "      <th>yr</th>\n",
       "      <th>zone</th>\n",
       "    </tr>\n",
       "  </thead>\n",
       "  <tbody>\n",
       "    <tr>\n",
       "      <th>0</th>\n",
       "      <td>0</td>\n",
       "      <td>0</td>\n",
       "      <td>0</td>\n",
       "      <td>0</td>\n",
       "      <td>0</td>\n",
       "      <td>0</td>\n",
       "      <td>0</td>\n",
       "      <td>0</td>\n",
       "      <td>0</td>\n",
       "      <td>0</td>\n",
       "      <td>...</td>\n",
       "      <td>0</td>\n",
       "      <td>0</td>\n",
       "      <td>0</td>\n",
       "      <td>0</td>\n",
       "      <td>0</td>\n",
       "      <td>0</td>\n",
       "      <td>0</td>\n",
       "      <td>0</td>\n",
       "      <td>0</td>\n",
       "      <td>0</td>\n",
       "    </tr>\n",
       "    <tr>\n",
       "      <th>1</th>\n",
       "      <td>0</td>\n",
       "      <td>0</td>\n",
       "      <td>0</td>\n",
       "      <td>0</td>\n",
       "      <td>0</td>\n",
       "      <td>0</td>\n",
       "      <td>0</td>\n",
       "      <td>0</td>\n",
       "      <td>0</td>\n",
       "      <td>0</td>\n",
       "      <td>...</td>\n",
       "      <td>0</td>\n",
       "      <td>0</td>\n",
       "      <td>0</td>\n",
       "      <td>0</td>\n",
       "      <td>0</td>\n",
       "      <td>0</td>\n",
       "      <td>0</td>\n",
       "      <td>0</td>\n",
       "      <td>0</td>\n",
       "      <td>0</td>\n",
       "    </tr>\n",
       "    <tr>\n",
       "      <th>2</th>\n",
       "      <td>0</td>\n",
       "      <td>0</td>\n",
       "      <td>0</td>\n",
       "      <td>0</td>\n",
       "      <td>0</td>\n",
       "      <td>0</td>\n",
       "      <td>0</td>\n",
       "      <td>0</td>\n",
       "      <td>0</td>\n",
       "      <td>0</td>\n",
       "      <td>...</td>\n",
       "      <td>0</td>\n",
       "      <td>0</td>\n",
       "      <td>0</td>\n",
       "      <td>0</td>\n",
       "      <td>0</td>\n",
       "      <td>0</td>\n",
       "      <td>0</td>\n",
       "      <td>0</td>\n",
       "      <td>0</td>\n",
       "      <td>0</td>\n",
       "    </tr>\n",
       "    <tr>\n",
       "      <th>3</th>\n",
       "      <td>0</td>\n",
       "      <td>0</td>\n",
       "      <td>0</td>\n",
       "      <td>0</td>\n",
       "      <td>0</td>\n",
       "      <td>0</td>\n",
       "      <td>0</td>\n",
       "      <td>0</td>\n",
       "      <td>0</td>\n",
       "      <td>0</td>\n",
       "      <td>...</td>\n",
       "      <td>0</td>\n",
       "      <td>0</td>\n",
       "      <td>0</td>\n",
       "      <td>0</td>\n",
       "      <td>0</td>\n",
       "      <td>0</td>\n",
       "      <td>0</td>\n",
       "      <td>0</td>\n",
       "      <td>0</td>\n",
       "      <td>0</td>\n",
       "    </tr>\n",
       "    <tr>\n",
       "      <th>4</th>\n",
       "      <td>0</td>\n",
       "      <td>0</td>\n",
       "      <td>0</td>\n",
       "      <td>0</td>\n",
       "      <td>0</td>\n",
       "      <td>0</td>\n",
       "      <td>0</td>\n",
       "      <td>0</td>\n",
       "      <td>0</td>\n",
       "      <td>0</td>\n",
       "      <td>...</td>\n",
       "      <td>0</td>\n",
       "      <td>0</td>\n",
       "      <td>0</td>\n",
       "      <td>0</td>\n",
       "      <td>0</td>\n",
       "      <td>0</td>\n",
       "      <td>0</td>\n",
       "      <td>0</td>\n",
       "      <td>0</td>\n",
       "      <td>0</td>\n",
       "    </tr>\n",
       "  </tbody>\n",
       "</table>\n",
       "<p>5 rows × 529 columns</p>\n",
       "</div>"
      ],
      "text/plain": [
       "   abc  ablaze  accident  actually  affected  aftershock  ago  air  airplane  \\\n",
       "0    0       0         0         0         0           0    0    0         0   \n",
       "1    0       0         0         0         0           0    0    0         0   \n",
       "2    0       0         0         0         0           0    0    0         0   \n",
       "3    0       0         0         0         0           0    0    0         0   \n",
       "4    0       0         0         0         0           0    0    0         0   \n",
       "\n",
       "   airport  ...  wreck  wreckage  wrecked  yeah  year  years  yes  youtube  \\\n",
       "0        0  ...      0         0        0     0     0      0    0        0   \n",
       "1        0  ...      0         0        0     0     0      0    0        0   \n",
       "2        0  ...      0         0        0     0     0      0    0        0   \n",
       "3        0  ...      0         0        0     0     0      0    0        0   \n",
       "4        0  ...      0         0        0     0     0      0    0        0   \n",
       "\n",
       "   yr  zone  \n",
       "0   0     0  \n",
       "1   0     0  \n",
       "2   0     0  \n",
       "3   0     0  \n",
       "4   0     0  \n",
       "\n",
       "[5 rows x 529 columns]"
      ]
     },
     "execution_count": 28,
     "metadata": {},
     "output_type": "execute_result"
    }
   ],
   "source": [
    "df_bow = pd.DataFrame(X.toarray(), columns=feature_words)\n",
    "df_bow.head()"
   ]
  },
  {
   "cell_type": "code",
   "execution_count": 29,
   "metadata": {},
   "outputs": [
    {
     "data": {
      "text/html": [
       "<div>\n",
       "<style scoped>\n",
       "    .dataframe tbody tr th:only-of-type {\n",
       "        vertical-align: middle;\n",
       "    }\n",
       "\n",
       "    .dataframe tbody tr th {\n",
       "        vertical-align: top;\n",
       "    }\n",
       "\n",
       "    .dataframe thead th {\n",
       "        text-align: right;\n",
       "    }\n",
       "</style>\n",
       "<table border=\"1\" class=\"dataframe\">\n",
       "  <thead>\n",
       "    <tr style=\"text-align: right;\">\n",
       "      <th></th>\n",
       "      <th>id</th>\n",
       "      <th>keyword</th>\n",
       "      <th>location</th>\n",
       "      <th>text</th>\n",
       "      <th>target</th>\n",
       "      <th>text_length</th>\n",
       "      <th>words_count</th>\n",
       "      <th>keyword_0</th>\n",
       "      <th>keyword_1</th>\n",
       "      <th>keyword_2</th>\n",
       "      <th>...</th>\n",
       "      <th>wreck</th>\n",
       "      <th>wreckage</th>\n",
       "      <th>wrecked</th>\n",
       "      <th>yeah</th>\n",
       "      <th>year</th>\n",
       "      <th>years</th>\n",
       "      <th>yes</th>\n",
       "      <th>youtube</th>\n",
       "      <th>yr</th>\n",
       "      <th>zone</th>\n",
       "    </tr>\n",
       "  </thead>\n",
       "  <tbody>\n",
       "    <tr>\n",
       "      <th>0</th>\n",
       "      <td>1</td>\n",
       "      <td>NaN</td>\n",
       "      <td>NaN</td>\n",
       "      <td>deeds reason earthquake may allah forgive us</td>\n",
       "      <td>1.0</td>\n",
       "      <td>68</td>\n",
       "      <td>13</td>\n",
       "      <td>0</td>\n",
       "      <td>0</td>\n",
       "      <td>0</td>\n",
       "      <td>...</td>\n",
       "      <td>0</td>\n",
       "      <td>0</td>\n",
       "      <td>0</td>\n",
       "      <td>0</td>\n",
       "      <td>0</td>\n",
       "      <td>0</td>\n",
       "      <td>0</td>\n",
       "      <td>0</td>\n",
       "      <td>0</td>\n",
       "      <td>0</td>\n",
       "    </tr>\n",
       "    <tr>\n",
       "      <th>1</th>\n",
       "      <td>4</td>\n",
       "      <td>NaN</td>\n",
       "      <td>NaN</td>\n",
       "      <td>forest fire near la ronge sask canada</td>\n",
       "      <td>1.0</td>\n",
       "      <td>37</td>\n",
       "      <td>7</td>\n",
       "      <td>0</td>\n",
       "      <td>0</td>\n",
       "      <td>0</td>\n",
       "      <td>...</td>\n",
       "      <td>0</td>\n",
       "      <td>0</td>\n",
       "      <td>0</td>\n",
       "      <td>0</td>\n",
       "      <td>0</td>\n",
       "      <td>0</td>\n",
       "      <td>0</td>\n",
       "      <td>0</td>\n",
       "      <td>0</td>\n",
       "      <td>0</td>\n",
       "    </tr>\n",
       "    <tr>\n",
       "      <th>2</th>\n",
       "      <td>5</td>\n",
       "      <td>NaN</td>\n",
       "      <td>NaN</td>\n",
       "      <td>residents asked shelter place notified officer...</td>\n",
       "      <td>1.0</td>\n",
       "      <td>130</td>\n",
       "      <td>22</td>\n",
       "      <td>0</td>\n",
       "      <td>0</td>\n",
       "      <td>0</td>\n",
       "      <td>...</td>\n",
       "      <td>0</td>\n",
       "      <td>0</td>\n",
       "      <td>0</td>\n",
       "      <td>0</td>\n",
       "      <td>0</td>\n",
       "      <td>0</td>\n",
       "      <td>0</td>\n",
       "      <td>0</td>\n",
       "      <td>0</td>\n",
       "      <td>0</td>\n",
       "    </tr>\n",
       "    <tr>\n",
       "      <th>3</th>\n",
       "      <td>6</td>\n",
       "      <td>NaN</td>\n",
       "      <td>NaN</td>\n",
       "      <td>people receive wildfires evacuation orders cal...</td>\n",
       "      <td>1.0</td>\n",
       "      <td>56</td>\n",
       "      <td>7</td>\n",
       "      <td>0</td>\n",
       "      <td>0</td>\n",
       "      <td>0</td>\n",
       "      <td>...</td>\n",
       "      <td>0</td>\n",
       "      <td>0</td>\n",
       "      <td>0</td>\n",
       "      <td>0</td>\n",
       "      <td>0</td>\n",
       "      <td>0</td>\n",
       "      <td>0</td>\n",
       "      <td>0</td>\n",
       "      <td>0</td>\n",
       "      <td>0</td>\n",
       "    </tr>\n",
       "    <tr>\n",
       "      <th>4</th>\n",
       "      <td>7</td>\n",
       "      <td>NaN</td>\n",
       "      <td>NaN</td>\n",
       "      <td>got sent photo ruby alaska smoke wildfires pou...</td>\n",
       "      <td>1.0</td>\n",
       "      <td>84</td>\n",
       "      <td>16</td>\n",
       "      <td>0</td>\n",
       "      <td>0</td>\n",
       "      <td>0</td>\n",
       "      <td>...</td>\n",
       "      <td>0</td>\n",
       "      <td>0</td>\n",
       "      <td>0</td>\n",
       "      <td>0</td>\n",
       "      <td>0</td>\n",
       "      <td>0</td>\n",
       "      <td>0</td>\n",
       "      <td>0</td>\n",
       "      <td>0</td>\n",
       "      <td>0</td>\n",
       "    </tr>\n",
       "  </tbody>\n",
       "</table>\n",
       "<p>5 rows × 545 columns</p>\n",
       "</div>"
      ],
      "text/plain": [
       "   id keyword location                                               text  \\\n",
       "0   1     NaN      NaN       deeds reason earthquake may allah forgive us   \n",
       "1   4     NaN      NaN              forest fire near la ronge sask canada   \n",
       "2   5     NaN      NaN  residents asked shelter place notified officer...   \n",
       "3   6     NaN      NaN  people receive wildfires evacuation orders cal...   \n",
       "4   7     NaN      NaN  got sent photo ruby alaska smoke wildfires pou...   \n",
       "\n",
       "   target  text_length  words_count  keyword_0  keyword_1  keyword_2  ...  \\\n",
       "0     1.0           68           13          0          0          0  ...   \n",
       "1     1.0           37            7          0          0          0  ...   \n",
       "2     1.0          130           22          0          0          0  ...   \n",
       "3     1.0           56            7          0          0          0  ...   \n",
       "4     1.0           84           16          0          0          0  ...   \n",
       "\n",
       "   wreck  wreckage  wrecked  yeah  year  years  yes  youtube  yr  zone  \n",
       "0      0         0        0     0     0      0    0        0   0     0  \n",
       "1      0         0        0     0     0      0    0        0   0     0  \n",
       "2      0         0        0     0     0      0    0        0   0     0  \n",
       "3      0         0        0     0     0      0    0        0   0     0  \n",
       "4      0         0        0     0     0      0    0        0   0     0  \n",
       "\n",
       "[5 rows x 545 columns]"
      ]
     },
     "execution_count": 29,
     "metadata": {},
     "output_type": "execute_result"
    }
   ],
   "source": [
    "BINARY_BOW = pd.concat([binary, df_bow.reindex(binary.index)], axis=1)\n",
    "BINARY_BOW.head()"
   ]
  },
  {
   "cell_type": "code",
   "execution_count": 30,
   "metadata": {},
   "outputs": [
    {
     "data": {
      "text/html": [
       "<div>\n",
       "<style scoped>\n",
       "    .dataframe tbody tr th:only-of-type {\n",
       "        vertical-align: middle;\n",
       "    }\n",
       "\n",
       "    .dataframe tbody tr th {\n",
       "        vertical-align: top;\n",
       "    }\n",
       "\n",
       "    .dataframe thead th {\n",
       "        text-align: right;\n",
       "    }\n",
       "</style>\n",
       "<table border=\"1\" class=\"dataframe\">\n",
       "  <thead>\n",
       "    <tr style=\"text-align: right;\">\n",
       "      <th></th>\n",
       "      <th>id</th>\n",
       "      <th>keyword</th>\n",
       "      <th>location</th>\n",
       "      <th>text</th>\n",
       "      <th>target</th>\n",
       "      <th>text_length</th>\n",
       "      <th>words_count</th>\n",
       "      <th>keyword_0</th>\n",
       "      <th>keyword_1</th>\n",
       "      <th>keyword_2</th>\n",
       "      <th>...</th>\n",
       "      <th>wreck</th>\n",
       "      <th>wreckage</th>\n",
       "      <th>wrecked</th>\n",
       "      <th>yeah</th>\n",
       "      <th>year</th>\n",
       "      <th>years</th>\n",
       "      <th>yes</th>\n",
       "      <th>youtube</th>\n",
       "      <th>yr</th>\n",
       "      <th>zone</th>\n",
       "    </tr>\n",
       "  </thead>\n",
       "  <tbody>\n",
       "    <tr>\n",
       "      <th>0</th>\n",
       "      <td>1</td>\n",
       "      <td>NaN</td>\n",
       "      <td>NaN</td>\n",
       "      <td>deeds reason earthquake may allah forgive us</td>\n",
       "      <td>1.0</td>\n",
       "      <td>68</td>\n",
       "      <td>13</td>\n",
       "      <td>0</td>\n",
       "      <td>0</td>\n",
       "      <td>0</td>\n",
       "      <td>...</td>\n",
       "      <td>0</td>\n",
       "      <td>0</td>\n",
       "      <td>0</td>\n",
       "      <td>0</td>\n",
       "      <td>0</td>\n",
       "      <td>0</td>\n",
       "      <td>0</td>\n",
       "      <td>0</td>\n",
       "      <td>0</td>\n",
       "      <td>0</td>\n",
       "    </tr>\n",
       "    <tr>\n",
       "      <th>1</th>\n",
       "      <td>4</td>\n",
       "      <td>NaN</td>\n",
       "      <td>NaN</td>\n",
       "      <td>forest fire near la ronge sask canada</td>\n",
       "      <td>1.0</td>\n",
       "      <td>37</td>\n",
       "      <td>7</td>\n",
       "      <td>0</td>\n",
       "      <td>0</td>\n",
       "      <td>0</td>\n",
       "      <td>...</td>\n",
       "      <td>0</td>\n",
       "      <td>0</td>\n",
       "      <td>0</td>\n",
       "      <td>0</td>\n",
       "      <td>0</td>\n",
       "      <td>0</td>\n",
       "      <td>0</td>\n",
       "      <td>0</td>\n",
       "      <td>0</td>\n",
       "      <td>0</td>\n",
       "    </tr>\n",
       "    <tr>\n",
       "      <th>2</th>\n",
       "      <td>5</td>\n",
       "      <td>NaN</td>\n",
       "      <td>NaN</td>\n",
       "      <td>residents asked shelter place notified officer...</td>\n",
       "      <td>1.0</td>\n",
       "      <td>130</td>\n",
       "      <td>22</td>\n",
       "      <td>0</td>\n",
       "      <td>0</td>\n",
       "      <td>0</td>\n",
       "      <td>...</td>\n",
       "      <td>0</td>\n",
       "      <td>0</td>\n",
       "      <td>0</td>\n",
       "      <td>0</td>\n",
       "      <td>0</td>\n",
       "      <td>0</td>\n",
       "      <td>0</td>\n",
       "      <td>0</td>\n",
       "      <td>0</td>\n",
       "      <td>0</td>\n",
       "    </tr>\n",
       "    <tr>\n",
       "      <th>3</th>\n",
       "      <td>6</td>\n",
       "      <td>NaN</td>\n",
       "      <td>NaN</td>\n",
       "      <td>people receive wildfires evacuation orders cal...</td>\n",
       "      <td>1.0</td>\n",
       "      <td>56</td>\n",
       "      <td>7</td>\n",
       "      <td>0</td>\n",
       "      <td>0</td>\n",
       "      <td>0</td>\n",
       "      <td>...</td>\n",
       "      <td>0</td>\n",
       "      <td>0</td>\n",
       "      <td>0</td>\n",
       "      <td>0</td>\n",
       "      <td>0</td>\n",
       "      <td>0</td>\n",
       "      <td>0</td>\n",
       "      <td>0</td>\n",
       "      <td>0</td>\n",
       "      <td>0</td>\n",
       "    </tr>\n",
       "    <tr>\n",
       "      <th>4</th>\n",
       "      <td>7</td>\n",
       "      <td>NaN</td>\n",
       "      <td>NaN</td>\n",
       "      <td>got sent photo ruby alaska smoke wildfires pou...</td>\n",
       "      <td>1.0</td>\n",
       "      <td>84</td>\n",
       "      <td>16</td>\n",
       "      <td>0</td>\n",
       "      <td>0</td>\n",
       "      <td>0</td>\n",
       "      <td>...</td>\n",
       "      <td>0</td>\n",
       "      <td>0</td>\n",
       "      <td>0</td>\n",
       "      <td>0</td>\n",
       "      <td>0</td>\n",
       "      <td>0</td>\n",
       "      <td>0</td>\n",
       "      <td>0</td>\n",
       "      <td>0</td>\n",
       "      <td>0</td>\n",
       "    </tr>\n",
       "  </tbody>\n",
       "</table>\n",
       "<p>5 rows × 545 columns</p>\n",
       "</div>"
      ],
      "text/plain": [
       "   id keyword location                                               text  \\\n",
       "0   1     NaN      NaN       deeds reason earthquake may allah forgive us   \n",
       "1   4     NaN      NaN              forest fire near la ronge sask canada   \n",
       "2   5     NaN      NaN  residents asked shelter place notified officer...   \n",
       "3   6     NaN      NaN  people receive wildfires evacuation orders cal...   \n",
       "4   7     NaN      NaN  got sent photo ruby alaska smoke wildfires pou...   \n",
       "\n",
       "   target  text_length  words_count  keyword_0  keyword_1  keyword_2  ...  \\\n",
       "0     1.0           68           13          0          0          0  ...   \n",
       "1     1.0           37            7          0          0          0  ...   \n",
       "2     1.0          130           22          0          0          0  ...   \n",
       "3     1.0           56            7          0          0          0  ...   \n",
       "4     1.0           84           16          0          0          0  ...   \n",
       "\n",
       "   wreck  wreckage  wrecked  yeah  year  years  yes  youtube  yr  zone  \n",
       "0      0         0        0     0     0      0    0        0   0     0  \n",
       "1      0         0        0     0     0      0    0        0   0     0  \n",
       "2      0         0        0     0     0      0    0        0   0     0  \n",
       "3      0         0        0     0     0      0    0        0   0     0  \n",
       "4      0         0        0     0     0      0    0        0   0     0  \n",
       "\n",
       "[5 rows x 545 columns]"
      ]
     },
     "execution_count": 30,
     "metadata": {},
     "output_type": "execute_result"
    }
   ],
   "source": [
    "BINARY_BOW_TRAIN = BINARY_BOW.loc[BINARY_BOW['target'].notnull(),:]\n",
    "BINARY_BOW_TRAIN.head()"
   ]
  },
  {
   "cell_type": "code",
   "execution_count": 31,
   "metadata": {},
   "outputs": [
    {
     "data": {
      "text/html": [
       "<div>\n",
       "<style scoped>\n",
       "    .dataframe tbody tr th:only-of-type {\n",
       "        vertical-align: middle;\n",
       "    }\n",
       "\n",
       "    .dataframe tbody tr th {\n",
       "        vertical-align: top;\n",
       "    }\n",
       "\n",
       "    .dataframe thead th {\n",
       "        text-align: right;\n",
       "    }\n",
       "</style>\n",
       "<table border=\"1\" class=\"dataframe\">\n",
       "  <thead>\n",
       "    <tr style=\"text-align: right;\">\n",
       "      <th></th>\n",
       "      <th>id</th>\n",
       "      <th>keyword</th>\n",
       "      <th>location</th>\n",
       "      <th>text</th>\n",
       "      <th>target</th>\n",
       "      <th>text_length</th>\n",
       "      <th>words_count</th>\n",
       "      <th>keyword_0</th>\n",
       "      <th>keyword_1</th>\n",
       "      <th>keyword_2</th>\n",
       "      <th>...</th>\n",
       "      <th>wreck</th>\n",
       "      <th>wreckage</th>\n",
       "      <th>wrecked</th>\n",
       "      <th>yeah</th>\n",
       "      <th>year</th>\n",
       "      <th>years</th>\n",
       "      <th>yes</th>\n",
       "      <th>youtube</th>\n",
       "      <th>yr</th>\n",
       "      <th>zone</th>\n",
       "    </tr>\n",
       "  </thead>\n",
       "  <tbody>\n",
       "    <tr>\n",
       "      <th>0</th>\n",
       "      <td>0</td>\n",
       "      <td>NaN</td>\n",
       "      <td>NaN</td>\n",
       "      <td>happened  terrible car crash</td>\n",
       "      <td>NaN</td>\n",
       "      <td>33</td>\n",
       "      <td>6</td>\n",
       "      <td>0</td>\n",
       "      <td>0</td>\n",
       "      <td>0</td>\n",
       "      <td>...</td>\n",
       "      <td>0</td>\n",
       "      <td>0</td>\n",
       "      <td>0</td>\n",
       "      <td>0</td>\n",
       "      <td>0</td>\n",
       "      <td>0</td>\n",
       "      <td>0</td>\n",
       "      <td>0</td>\n",
       "      <td>0</td>\n",
       "      <td>0</td>\n",
       "    </tr>\n",
       "    <tr>\n",
       "      <th>1</th>\n",
       "      <td>2</td>\n",
       "      <td>NaN</td>\n",
       "      <td>NaN</td>\n",
       "      <td>heard earthquake different cities stay safe ev...</td>\n",
       "      <td>NaN</td>\n",
       "      <td>61</td>\n",
       "      <td>9</td>\n",
       "      <td>0</td>\n",
       "      <td>0</td>\n",
       "      <td>0</td>\n",
       "      <td>...</td>\n",
       "      <td>0</td>\n",
       "      <td>0</td>\n",
       "      <td>0</td>\n",
       "      <td>0</td>\n",
       "      <td>0</td>\n",
       "      <td>0</td>\n",
       "      <td>0</td>\n",
       "      <td>0</td>\n",
       "      <td>0</td>\n",
       "      <td>0</td>\n",
       "    </tr>\n",
       "    <tr>\n",
       "      <th>2</th>\n",
       "      <td>3</td>\n",
       "      <td>NaN</td>\n",
       "      <td>NaN</td>\n",
       "      <td>forest fire spot pond geese fleeing across st...</td>\n",
       "      <td>NaN</td>\n",
       "      <td>92</td>\n",
       "      <td>19</td>\n",
       "      <td>0</td>\n",
       "      <td>0</td>\n",
       "      <td>0</td>\n",
       "      <td>...</td>\n",
       "      <td>0</td>\n",
       "      <td>0</td>\n",
       "      <td>0</td>\n",
       "      <td>0</td>\n",
       "      <td>0</td>\n",
       "      <td>0</td>\n",
       "      <td>0</td>\n",
       "      <td>0</td>\n",
       "      <td>0</td>\n",
       "      <td>0</td>\n",
       "    </tr>\n",
       "    <tr>\n",
       "      <th>3</th>\n",
       "      <td>9</td>\n",
       "      <td>NaN</td>\n",
       "      <td>NaN</td>\n",
       "      <td>apocalypse lighting spokane wildfires</td>\n",
       "      <td>NaN</td>\n",
       "      <td>37</td>\n",
       "      <td>4</td>\n",
       "      <td>0</td>\n",
       "      <td>0</td>\n",
       "      <td>0</td>\n",
       "      <td>...</td>\n",
       "      <td>0</td>\n",
       "      <td>0</td>\n",
       "      <td>0</td>\n",
       "      <td>0</td>\n",
       "      <td>0</td>\n",
       "      <td>0</td>\n",
       "      <td>0</td>\n",
       "      <td>0</td>\n",
       "      <td>0</td>\n",
       "      <td>0</td>\n",
       "    </tr>\n",
       "    <tr>\n",
       "      <th>4</th>\n",
       "      <td>11</td>\n",
       "      <td>NaN</td>\n",
       "      <td>NaN</td>\n",
       "      <td>typhoon soudelor kills china taiwan</td>\n",
       "      <td>NaN</td>\n",
       "      <td>42</td>\n",
       "      <td>7</td>\n",
       "      <td>0</td>\n",
       "      <td>0</td>\n",
       "      <td>0</td>\n",
       "      <td>...</td>\n",
       "      <td>0</td>\n",
       "      <td>0</td>\n",
       "      <td>0</td>\n",
       "      <td>0</td>\n",
       "      <td>0</td>\n",
       "      <td>0</td>\n",
       "      <td>0</td>\n",
       "      <td>0</td>\n",
       "      <td>0</td>\n",
       "      <td>0</td>\n",
       "    </tr>\n",
       "  </tbody>\n",
       "</table>\n",
       "<p>5 rows × 545 columns</p>\n",
       "</div>"
      ],
      "text/plain": [
       "   id keyword location                                               text  \\\n",
       "0   0     NaN      NaN                       happened  terrible car crash   \n",
       "1   2     NaN      NaN  heard earthquake different cities stay safe ev...   \n",
       "2   3     NaN      NaN   forest fire spot pond geese fleeing across st...   \n",
       "3   9     NaN      NaN              apocalypse lighting spokane wildfires   \n",
       "4  11     NaN      NaN                typhoon soudelor kills china taiwan   \n",
       "\n",
       "   target  text_length  words_count  keyword_0  keyword_1  keyword_2  ...  \\\n",
       "0     NaN           33            6          0          0          0  ...   \n",
       "1     NaN           61            9          0          0          0  ...   \n",
       "2     NaN           92           19          0          0          0  ...   \n",
       "3     NaN           37            4          0          0          0  ...   \n",
       "4     NaN           42            7          0          0          0  ...   \n",
       "\n",
       "   wreck  wreckage  wrecked  yeah  year  years  yes  youtube  yr  zone  \n",
       "0      0         0        0     0     0      0    0        0   0     0  \n",
       "1      0         0        0     0     0      0    0        0   0     0  \n",
       "2      0         0        0     0     0      0    0        0   0     0  \n",
       "3      0         0        0     0     0      0    0        0   0     0  \n",
       "4      0         0        0     0     0      0    0        0   0     0  \n",
       "\n",
       "[5 rows x 545 columns]"
      ]
     },
     "execution_count": 31,
     "metadata": {},
     "output_type": "execute_result"
    }
   ],
   "source": [
    "BINARY_BOW_TEST = BINARY_BOW.loc[BINARY_BOW['target'].isnull(),:]\n",
    "BINARY_BOW_TEST.head()"
   ]
  },
  {
   "cell_type": "code",
   "execution_count": 32,
   "metadata": {},
   "outputs": [],
   "source": [
    "data = binary.drop([\"id\",\"location\",\"text\",\"target\", \"keyword\"], axis=1)\n",
    "target = binary[\"target\"]"
   ]
  },
  {
   "cell_type": "code",
   "execution_count": 33,
   "metadata": {},
   "outputs": [],
   "source": [
    "data2 = BINARY_BOW.drop([\"id\",\"location\",\"text\",\"target\", \"keyword\"], axis=1)\n",
    "target2 = BINARY_BOW[\"target\"]"
   ]
  },
  {
   "cell_type": "code",
   "execution_count": 35,
   "metadata": {},
   "outputs": [],
   "source": [
    "kaggleId = BINARY_BOW_TEST.id"
   ]
  },
  {
   "cell_type": "code",
   "execution_count": 36,
   "metadata": {},
   "outputs": [],
   "source": [
    "data_test = BINARY_BOW_TEST.drop([\"id\",\"location\",\"text\", \"target\"], axis=1)"
   ]
  },
  {
   "cell_type": "code",
   "execution_count": 37,
   "metadata": {},
   "outputs": [],
   "source": [
    "x_train, x_test, y_train, y_test = train_test_split(data, target, test_size = 0.25)"
   ]
  },
  {
   "cell_type": "code",
   "execution_count": 38,
   "metadata": {},
   "outputs": [],
   "source": [
    "x_train2, x_test2, y_train2, y_test2 = train_test_split(data2, target2, test_size = 0.25)"
   ]
  },
  {
   "cell_type": "code",
   "execution_count": 7,
   "metadata": {},
   "outputs": [],
   "source": [
    "# feature selection\n",
    "def select_features(x_train, y_train, x_test):\n",
    "    fs = SelectKBest(score_func=chi2, k=6)\n",
    "    fs.fit(x_train, y_train)\n",
    "    x_train_fs = fs.transform(x_train)\n",
    "    x_test_fs = fs.transform(x_test)\n",
    "    return x_train_fs, x_test_fs, fs"
   ]
  },
  {
   "cell_type": "code",
   "execution_count": 8,
   "metadata": {},
   "outputs": [],
   "source": [
    "x_train_fs, x_test_fs, fs = select_features(x_train, y_train, x_test)"
   ]
  },
  {
   "cell_type": "code",
   "execution_count": 24,
   "metadata": {},
   "outputs": [
    {
     "name": "stdout",
     "output_type": "stream",
     "text": [
      "Feature 0: 623.193571\n",
      "Feature 1: 0.672913\n",
      "Feature 2: nan\n",
      "Feature 3: 0.262745\n",
      "Feature 4: 8.226638\n",
      "Feature 5: 8.984080\n",
      "Feature 6: 7.987866\n",
      "Feature 7: 8.132898\n",
      "Feature 8: 12.413415\n",
      "Feature 9: 0.121415\n",
      "Feature 10: 0.085737\n"
     ]
    }
   ],
   "source": [
    "for i in range(len(fs.scores_)):\n",
    "    print('Feature %d: %f' % (i, fs.scores_[i]))"
   ]
  },
  {
   "cell_type": "code",
   "execution_count": 25,
   "metadata": {},
   "outputs": [
    {
     "data": {
      "image/png": "[encoded data removed]",
      "text/plain": [
       "<Figure size 432x288 with 1 Axes>"
      ]
     },
     "metadata": {
      "needs_background": "light"
     },
     "output_type": "display_data"
    }
   ],
   "source": [
    "# plot the scores\n",
    "pyplot.bar([i for i in range(len(fs.scores_))], fs.scores_)\n",
    "pyplot.show()"
   ]
  },
  {
   "cell_type": "code",
   "execution_count": 9,
   "metadata": {},
   "outputs": [],
   "source": [
    "# feature selection\n",
    "def select_features2(x_train, y_train, x_test):\n",
    "    fs2 = SelectKBest(score_func=mutual_info_classif, k=6)\n",
    "    fs2.fit(x_train, y_train)\n",
    "    x_train_fs2 = fs2.transform(x_train)\n",
    "    x_test_fs2 = fs2.transform(x_test)\n",
    "    return x_train_fs2, x_test_fs2, fs2"
   ]
  },
  {
   "cell_type": "code",
   "execution_count": 10,
   "metadata": {},
   "outputs": [],
   "source": [
    "x_train_fs2, x_test_fs2, fs2 = select_features2(x_train, y_train, x_test)"
   ]
  },
  {
   "cell_type": "code",
   "execution_count": 32,
   "metadata": {},
   "outputs": [
    {
     "name": "stdout",
     "output_type": "stream",
     "text": [
      "Feature 0: 0.010752\n",
      "Feature 1: 0.007353\n",
      "Feature 2: 0.000000\n",
      "Feature 3: 0.000196\n",
      "Feature 4: 0.006836\n",
      "Feature 5: 0.003373\n",
      "Feature 6: 0.000000\n",
      "Feature 7: 0.018432\n",
      "Feature 8: 0.000000\n",
      "Feature 9: 0.007171\n",
      "Feature 10: 0.000000\n"
     ]
    }
   ],
   "source": [
    "# what are scores for the features\n",
    "for i in range(len(fs2.scores_)):\n",
    "    print('Feature %d: %f' % (i, fs2.scores_[i]))"
   ]
  },
  {
   "cell_type": "code",
   "execution_count": 33,
   "metadata": {},
   "outputs": [
    {
     "data": {
      "image/png": "[encoded data removed]",
      "text/plain": [
       "<Figure size 432x288 with 1 Axes>"
      ]
     },
     "metadata": {
      "needs_background": "light"
     },
     "output_type": "display_data"
    }
   ],
   "source": [
    "# plot the scores\n",
    "pyplot.bar([i for i in range(len(fs2.scores_))], fs2.scores_)\n",
    "pyplot.show()"
   ]
  },
  {
   "cell_type": "code",
   "execution_count": 11,
   "metadata": {},
   "outputs": [
    {
     "name": "stdout",
     "output_type": "stream",
     "text": [
      "Accuracy: 61.03\n"
     ]
    }
   ],
   "source": [
    "# fit the model\n",
    "model = LogisticRegression(solver='lbfgs')\n",
    "model.fit(x_train, y_train)\n",
    "# evaluate the model\n",
    "yhat = model.predict(x_test)\n",
    "# evaluate predictions\n",
    "accuracy = accuracy_score(y_test, yhat)\n",
    "print('Accuracy: %.2f' % (accuracy*100))"
   ]
  },
  {
   "cell_type": "code",
   "execution_count": 12,
   "metadata": {},
   "outputs": [
    {
     "name": "stdout",
     "output_type": "stream",
     "text": [
      "Accuracy: 57.93\n"
     ]
    }
   ],
   "source": [
    "# fit the model\n",
    "model = LogisticRegression(solver='lbfgs')\n",
    "model.fit(x_train_fs, y_train)\n",
    "# evaluate the model\n",
    "yhat = model.predict(x_test_fs)\n",
    "# evaluate predictions\n",
    "accuracy = accuracy_score(y_test, yhat)\n",
    "print('Accuracy: %.2f' % (accuracy*100))"
   ]
  },
  {
   "cell_type": "code",
   "execution_count": 13,
   "metadata": {},
   "outputs": [
    {
     "name": "stdout",
     "output_type": "stream",
     "text": [
      "Accuracy: 60.66\n"
     ]
    }
   ],
   "source": [
    "# fit the model\n",
    "model = LogisticRegression(solver='lbfgs')\n",
    "model.fit(x_train_fs2, y_train)\n",
    "# evaluate the model\n",
    "yhat = model.predict(x_test_fs2)\n",
    "# evaluate predictions\n",
    "accuracy = accuracy_score(y_test, yhat)\n",
    "print('Accuracy: %.2f' % (accuracy*100))"
   ]
  },
  {
   "cell_type": "markdown",
   "metadata": {},
   "source": [
    "# Logistic Regression"
   ]
  },
  {
   "cell_type": "markdown",
   "metadata": {},
   "source": [
    "## Sin la columna Text"
   ]
  },
  {
   "cell_type": "code",
   "execution_count": 15,
   "metadata": {},
   "outputs": [],
   "source": [
    "log_reg_grid_param = {'solver': ['liblinear'],\n",
    "               'penalty': ['l1', 'l2'],\n",
    "                \"C\": np.logspace(-4, 4, 20)}\n",
    "# tuned hpyerparameters :(best parameters)  {'C': 0.012742749857031334, 'penalty': 'l2', 'solver': 'liblinear'}\n",
    "# accuracy : 0.5238363753376147\n",
    "\n",
    "\n",
    "#log_reg_grid_param = {'solver': ['liblinear', 'lbfgs', 'newton-cg'],\n",
    "#                \"C\": np.logspace(-4, 4, 20)}\n",
    "# tuned hpyerparameters :(best parameters)  {'C': 206.913808111479, 'solver': 'liblinear'}\n",
    "# accuracy : 0.6762867722923174\n",
    "\n",
    "#log_reg_grid_param = {'penalty': ['l1', 'l2'],\n",
    "#                \"C\": np.logspace(-4, 4, 20)}\n",
    "# tuned hpyerparameters :(best parameters)  {'C': 11.288378916846883, 'penalty': 'l1'}\n",
    "# accuracy : 0.6773280120566767"
   ]
  },
  {
   "cell_type": "code",
   "execution_count": 16,
   "metadata": {},
   "outputs": [],
   "source": [
    "logisticReggesion = LogisticRegression()"
   ]
  },
  {
   "cell_type": "code",
   "execution_count": 17,
   "metadata": {},
   "outputs": [
    {
     "name": "stdout",
     "output_type": "stream",
     "text": [
      "Fitting 5 folds for each of 40 candidates, totalling 200 fits\n"
     ]
    },
    {
     "name": "stderr",
     "output_type": "stream",
     "text": [
      "[Parallel(n_jobs=-1)]: Using backend LokyBackend with 8 concurrent workers.\n",
      "[Parallel(n_jobs=-1)]: Done  34 tasks      | elapsed:    1.6s\n"
     ]
    },
    {
     "name": "stdout",
     "output_type": "stream",
     "text": [
      "tuned hpyerparameters :(best parameters)  {'C': 0.012742749857031334, 'penalty': 'l2', 'solver': 'liblinear'}\n",
      "accuracy : 0.5238363753376147\n"
     ]
    },
    {
     "name": "stderr",
     "output_type": "stream",
     "text": [
      "[Parallel(n_jobs=-1)]: Done 200 out of 200 | elapsed:    3.5s finished\n"
     ]
    }
   ],
   "source": [
    "logistic_GS = GridSearchCV(estimator=logisticReggesion, param_grid=log_reg_grid_param, verbose=1, scoring=\"f1\", cv=5, n_jobs=-1)\n",
    "logistic_GS.fit(x_train, y_train)\n",
    "print(\"tuned hpyerparameters :(best parameters) \",logistic_GS.best_params_)\n",
    "print(\"accuracy :\",logistic_GS.best_score_)"
   ]
  },
  {
   "cell_type": "markdown",
   "metadata": {},
   "source": [
    "## Con la columna Text"
   ]
  },
  {
   "cell_type": "code",
   "execution_count": 18,
   "metadata": {},
   "outputs": [],
   "source": [
    "log_reg_grid_param2 = {'solver': ['liblinear'],\n",
    "               'penalty': ['l1', 'l2'],\n",
    "                \"C\": np.logspace(-4, 4, 20)}\n",
    "# tuned hpyerparameters :(best parameters)  {'C': 1.623776739188721, 'penalty': 'l1', 'solver': 'liblinear'}\n",
    "# accuracy : 0.7345377363929668\n",
    "\n",
    "\n",
    "log_reg_grid_param = {'solver': ['liblinear', 'lbfgs', 'newton-cg'],\n",
    "                    \"C\": np.logspace(-4, 4, 20)}\n",
    "# tuned hpyerparameters :(best parameters)  {'C': 0.615848211066026, 'solver': 'liblinear'}\n",
    "# accuracy : 0.7332050067780481\n",
    "\n",
    "#log_reg_grid_param = {'penalty': ['l1', 'l2'],\n",
    "#                \"C\": np.logspace(-4, 4, 20)}\n",
    "# tuned hpyerparameters :(best parameters)  {'C': 11.288378916846883, 'penalty': 'l1'}\n",
    "# accuracy : 0.6773280120566767"
   ]
  },
  {
   "cell_type": "code",
   "execution_count": 19,
   "metadata": {},
   "outputs": [],
   "source": [
    "logisticReggesion2 = LogisticRegression()"
   ]
  },
  {
   "cell_type": "code",
   "execution_count": 20,
   "metadata": {},
   "outputs": [
    {
     "name": "stdout",
     "output_type": "stream",
     "text": [
      "Fitting 5 folds for each of 40 candidates, totalling 200 fits\n"
     ]
    },
    {
     "name": "stderr",
     "output_type": "stream",
     "text": [
      "[Parallel(n_jobs=-1)]: Using backend LokyBackend with 8 concurrent workers.\n",
      "[Parallel(n_jobs=-1)]: Done  34 tasks      | elapsed:    1.9s\n",
      "[Parallel(n_jobs=-1)]: Done 184 tasks      | elapsed:    6.4s\n"
     ]
    },
    {
     "name": "stdout",
     "output_type": "stream",
     "text": [
      "tuned hpyerparameters :(best parameters)  {'C': 1.623776739188721, 'penalty': 'l1', 'solver': 'liblinear'}\n",
      "accuracy : 0.7345377363929668\n"
     ]
    },
    {
     "name": "stderr",
     "output_type": "stream",
     "text": [
      "[Parallel(n_jobs=-1)]: Done 200 out of 200 | elapsed:    6.9s finished\n"
     ]
    }
   ],
   "source": [
    "logistic_GS2 = GridSearchCV(estimator=logisticReggesion2, param_grid=log_reg_grid_param2, verbose=1, scoring=\"f1\", cv=5, n_jobs=-1)\n",
    "logistic_GS2.fit(x_train2, y_train2)\n",
    "print(\"tuned hpyerparameters :(best parameters) \",logistic_GS2.best_params_)\n",
    "print(\"accuracy :\",logistic_GS2.best_score_)"
   ]
  },
  {
   "cell_type": "code",
   "execution_count": null,
   "metadata": {},
   "outputs": [],
   "source": [
    "logistic_GS2_predict = logistic_GS2.predict(data_test)"
   ]
  },
  {
   "cell_type": "code",
   "execution_count": null,
   "metadata": {},
   "outputs": [],
   "source": [
    "kaggle_logistic_GS2_submit = {'id': kaggleId, 'target': logistic_GS2_predict}\n",
    "kaggle_logistic_GS2_submit_DF = pd.DataFrame(data=kaggle_logistic_GS2_submit)"
   ]
  },
  {
   "cell_type": "code",
   "execution_count": null,
   "metadata": {},
   "outputs": [],
   "source": [
    "kaggle_logistic_GS2_submit_DF.to_csv('setSubmitLogistic.csv', index=False)"
   ]
  },
  {
   "cell_type": "markdown",
   "metadata": {},
   "source": [
    "# KNN"
   ]
  },
  {
   "cell_type": "markdown",
   "metadata": {},
   "source": [
    "## Sin la columna Text"
   ]
  },
  {
   "cell_type": "code",
   "execution_count": 24,
   "metadata": {},
   "outputs": [],
   "source": [
    "#knn_grid_param = {'n_neighbors': [3,5,11,19],\n",
    "#               'algorithm': ['auto'],\n",
    "#               'metric': ['manhattan', 'euclidean'],\n",
    "#                'weights': ['uniform', 'distance']}\n",
    "# tuned hpyerparameters :(best parameters)  {'algorithm': 'auto', 'metric': 'manhattan', 'n_neighbors': 19, 'weights': 'distance'}\n",
    "# accuracy : 0.5584487464918637\n",
    "\n",
    "#knn_grid_param = {'n_neighbors': [11,19,25,30],\n",
    "#               'algorithm': ['auto'],\n",
    "#               'metric': ['manhattan', 'euclidean'],\n",
    "#                'weights': ['uniform', 'distance']}\n",
    "# tuned hpyerparameters :(best parameters)  {'algorithm': 'auto', 'metric': 'manhattan', 'n_neighbors': 19, 'weights': 'distance'}\n",
    "# accuracy : 0.5584487464918637\n",
    "\n",
    "#knn_grid_param = {'n_neighbors': [14,15,16,17,18,19,20],\n",
    "#               'algorithm': ['auto'],\n",
    "#               'metric': ['manhattan', 'euclidean'],\n",
    "#                'weights': ['uniform', 'distance']}\n",
    "# tuned hpyerparameters :(best parameters)  {'algorithm': 'auto', 'metric': 'manhattan', 'n_neighbors': 17, 'weights': 'distance'}\n",
    "# accuracy : 0.5602674085086873\n",
    "\n",
    "knn_grid_param = {'n_neighbors': [3,7,15,50,100,150,200],\n",
    "               'algorithm': ['auto'],\n",
    "               'metric': ['manhattan', 'euclidean'],\n",
    "                'weights': ['uniform', 'distance']}\n",
    "# tuned hpyerparameters :(best parameters)  {'algorithm': 'auto', 'metric': 'manhattan', 'n_neighbors': 50, 'weights': 'distance'}\n",
    "# accuracy : 0.5860598980781437"
   ]
  },
  {
   "cell_type": "code",
   "execution_count": 22,
   "metadata": {},
   "outputs": [],
   "source": [
    "knnClassifier = KNeighborsClassifier()"
   ]
  },
  {
   "cell_type": "code",
   "execution_count": 25,
   "metadata": {},
   "outputs": [
    {
     "name": "stdout",
     "output_type": "stream",
     "text": [
      "Fitting 5 folds for each of 28 candidates, totalling 140 fits\n"
     ]
    },
    {
     "name": "stderr",
     "output_type": "stream",
     "text": [
      "[Parallel(n_jobs=-1)]: Using backend LokyBackend with 8 concurrent workers.\n",
      "[Parallel(n_jobs=-1)]: Done  34 tasks      | elapsed:    1.8s\n"
     ]
    },
    {
     "name": "stdout",
     "output_type": "stream",
     "text": [
      "tuned hpyerparameters :(best parameters)  {'algorithm': 'auto', 'metric': 'manhattan', 'n_neighbors': 50, 'weights': 'distance'}\n",
      "accuracy : 0.5860598980781437\n"
     ]
    },
    {
     "name": "stderr",
     "output_type": "stream",
     "text": [
      "[Parallel(n_jobs=-1)]: Done 140 out of 140 | elapsed:    3.4s finished\n"
     ]
    }
   ],
   "source": [
    "knn_GS = GridSearchCV(estimator=knnClassifier, param_grid=knn_grid_param, verbose=1, scoring=\"f1\", cv=5, n_jobs=-1)\n",
    "knn_GS.fit(x_train, y_train)\n",
    "print(\"tuned hpyerparameters :(best parameters) \",knn_GS.best_params_)\n",
    "print(\"accuracy :\",knn_GS.best_score_)"
   ]
  },
  {
   "cell_type": "markdown",
   "metadata": {},
   "source": [
    "## Con la columna Text"
   ]
  },
  {
   "cell_type": "code",
   "execution_count": 27,
   "metadata": {},
   "outputs": [],
   "source": [
    "#knn_grid_param2 = {'n_neighbors': [3,5,10,15],\n",
    "#               'algorithm': ['auto'],\n",
    "#               'metric': ['manhattan', 'euclidean'],\n",
    "#                'weights': ['uniform', 'distance']}\n",
    "# tuned hpyerparameters :(best parameters)  {'algorithm': 'auto', 'metric': 'manhattan', 'n_neighbors': 3, 'weights': 'distance'}\n",
    "# accuracy : 0.5189932870856757\n",
    "\n",
    "knn_grid_param2 = {'n_neighbors': [2,3,4,10,30,70],\n",
    "               'algorithm': ['auto'],\n",
    "               'metric': ['manhattan', 'euclidean'],\n",
    "                'weights': ['uniform', 'distance']}\n",
    "# tuned hpyerparameters :(best parameters)  {'algorithm': 'auto', 'metric': 'manhattan', 'n_neighbors': 2, 'weights': 'distance'}\n",
    "# accuracy : 0.5322323330364732\n",
    "\n",
    "#knn_grid_param = {'n_neighbors': [14,15,16,17,18,19,20],\n",
    "#               'algorithm': ['auto'],\n",
    "#               'metric': ['manhattan', 'euclidean'],\n",
    "#                'weights': ['uniform', 'distance']}\n",
    "# tuned hpyerparameters :(best parameters)  {'algorithm': 'auto', 'metric': 'manhattan', 'n_neighbors': 17, 'weights': 'distance'}\n",
    "# accuracy : 0.5602674085086873\n",
    "\n",
    "#knn_grid_param = {'n_neighbors': [17,50,100,150,200],\n",
    "#               'algorithm': ['auto'],\n",
    "#               'metric': ['manhattan', 'euclidean'],\n",
    "#                'weights': ['uniform', 'distance']}\n",
    "# tuned hpyerparameters :(best parameters)  {'algorithm': 'auto', 'metric': 'manhattan', 'n_neighbors': 17, 'weights': 'distance'}\n",
    "# accuracy : 0.5602674085086873"
   ]
  },
  {
   "cell_type": "code",
   "execution_count": 28,
   "metadata": {},
   "outputs": [],
   "source": [
    "knnClassifier2 = KNeighborsClassifier()"
   ]
  },
  {
   "cell_type": "code",
   "execution_count": 29,
   "metadata": {},
   "outputs": [
    {
     "name": "stdout",
     "output_type": "stream",
     "text": [
      "Fitting 5 folds for each of 24 candidates, totalling 120 fits\n"
     ]
    },
    {
     "name": "stderr",
     "output_type": "stream",
     "text": [
      "[Parallel(n_jobs=-1)]: Using backend LokyBackend with 8 concurrent workers.\n",
      "[Parallel(n_jobs=-1)]: Done  34 tasks      | elapsed:   12.1s\n"
     ]
    },
    {
     "name": "stdout",
     "output_type": "stream",
     "text": [
      "tuned hpyerparameters :(best parameters)  {'algorithm': 'auto', 'metric': 'manhattan', 'n_neighbors': 2, 'weights': 'distance'}\n",
      "accuracy : 0.5322323330364732\n"
     ]
    },
    {
     "name": "stderr",
     "output_type": "stream",
     "text": [
      "[Parallel(n_jobs=-1)]: Done 120 out of 120 | elapsed:   31.6s finished\n"
     ]
    }
   ],
   "source": [
    "knn_GS2 = GridSearchCV(estimator=knnClassifier2, param_grid=knn_grid_param2, verbose=1, scoring=\"f1\", cv=5, n_jobs=-1)\n",
    "knn_GS2.fit(x_train2, y_train2)\n",
    "print(\"tuned hpyerparameters :(best parameters) \",knn_GS2.best_params_)\n",
    "print(\"accuracy :\",knn_GS2.best_score_)"
   ]
  },
  {
   "cell_type": "code",
   "execution_count": null,
   "metadata": {},
   "outputs": [],
   "source": [
    "knn_GS2_predict = knn_GS2.predict(data_test)"
   ]
  },
  {
   "cell_type": "code",
   "execution_count": null,
   "metadata": {},
   "outputs": [],
   "source": [
    "kaggle_knn_GS2_submit = {'id': kaggleId, 'target': knn_GS2_predict}\n",
    "kaggle_knn_GS2_submit_DF = pd.DataFrame(data=kaggle_knn_GS2_submit)"
   ]
  },
  {
   "cell_type": "code",
   "execution_count": null,
   "metadata": {},
   "outputs": [],
   "source": [
    "kaggle_knn_GS2_submit_DF.to_csv('setSubmitKNN.csv', index=False)"
   ]
  },
  {
   "cell_type": "markdown",
   "metadata": {},
   "source": [
    "# Decision Tree"
   ]
  },
  {
   "cell_type": "markdown",
   "metadata": {},
   "source": [
    "## Sin la columna Text"
   ]
  },
  {
   "cell_type": "code",
   "execution_count": 30,
   "metadata": {},
   "outputs": [],
   "source": [
    "decision_tree_grid = {'max_depth': [20,40,60,80,100],\n",
    "                     'min_samples_split': [2,4,6,8,10],\n",
    "                     'min_samples_leaf': [1,2,5,10]}\n",
    "# tuned hpyerparameters :(best parameters)  {'max_depth': 20, 'min_samples_leaf': 1, 'min_samples_split': 2}\n",
    "# accuracy : 0.5658834497487223"
   ]
  },
  {
   "cell_type": "code",
   "execution_count": 31,
   "metadata": {},
   "outputs": [],
   "source": [
    "decisionClassifier = DecisionTreeClassifier()"
   ]
  },
  {
   "cell_type": "code",
   "execution_count": 32,
   "metadata": {},
   "outputs": [
    {
     "name": "stdout",
     "output_type": "stream",
     "text": [
      "Fitting 5 folds for each of 100 candidates, totalling 500 fits\n"
     ]
    },
    {
     "name": "stderr",
     "output_type": "stream",
     "text": [
      "[Parallel(n_jobs=-1)]: Using backend LokyBackend with 8 concurrent workers.\n",
      "[Parallel(n_jobs=-1)]: Done  34 tasks      | elapsed:    1.5s\n"
     ]
    },
    {
     "name": "stdout",
     "output_type": "stream",
     "text": [
      "tuned hpyerparameters :(best parameters)  {'max_depth': 20, 'min_samples_leaf': 1, 'min_samples_split': 2}\n",
      "accuracy : 0.5658834497487223\n"
     ]
    },
    {
     "name": "stderr",
     "output_type": "stream",
     "text": [
      "[Parallel(n_jobs=-1)]: Done 500 out of 500 | elapsed:    3.1s finished\n"
     ]
    }
   ],
   "source": [
    "decision_GS = GridSearchCV(estimator=decisionClassifier, param_grid=decision_tree_grid, scoring='f1', verbose=1, cv=5, n_jobs=-1)\n",
    "decision_GS.fit(x_train, y_train)\n",
    "print(\"tuned hpyerparameters :(best parameters) \",decision_GS.best_params_)\n",
    "print(\"accuracy :\",decision_GS.best_score_)"
   ]
  },
  {
   "cell_type": "markdown",
   "metadata": {},
   "source": [
    "## Con la columna Text"
   ]
  },
  {
   "cell_type": "code",
   "execution_count": 33,
   "metadata": {},
   "outputs": [],
   "source": [
    "#decision_tree_grid2 = {'max_depth': [20,40,60,80,100],\n",
    "#                     'min_samples_split': [2,4,6,8,10],\n",
    "#                     'min_samples_leaf': [1,2,5,10]}\n",
    "# tuned hpyerparameters :(best parameters)  {'max_depth': 100, 'min_samples_leaf': 1, 'min_samples_split': 10}\n",
    "# accuracy : 0.6500121884229279\n",
    "\n",
    "#decision_tree_grid2 = {'max_depth': [90,100,150,200],\n",
    "#                     'min_samples_split': [8,10,12,15],\n",
    "#                     'min_samples_leaf': [1,2,3]}\n",
    "# tuned hpyerparameters :(best parameters)  {'max_depth': 150, 'min_samples_leaf': 1, 'min_samples_split': 10}\n",
    "# accuracy : 0.6560101863933094\n",
    "\n",
    "decision_tree_grid2 = {'max_depth': [140,150,160],\n",
    "                     'min_samples_split': [8,9,10,11],\n",
    "                     'min_samples_leaf': [1,2,3]}\n",
    "# tuned hpyerparameters :(best parameters)  {'max_depth': 140, 'min_samples_leaf': 1, 'min_samples_split': 10}\n",
    "# accuracy : 0.6652465246582776"
   ]
  },
  {
   "cell_type": "code",
   "execution_count": 34,
   "metadata": {},
   "outputs": [],
   "source": [
    "decisionClassifier2 = DecisionTreeClassifier()"
   ]
  },
  {
   "cell_type": "code",
   "execution_count": 35,
   "metadata": {},
   "outputs": [
    {
     "name": "stdout",
     "output_type": "stream",
     "text": [
      "Fitting 5 folds for each of 36 candidates, totalling 180 fits\n"
     ]
    },
    {
     "name": "stderr",
     "output_type": "stream",
     "text": [
      "[Parallel(n_jobs=-1)]: Using backend LokyBackend with 8 concurrent workers.\n",
      "[Parallel(n_jobs=-1)]: Done  34 tasks      | elapsed:    6.9s\n",
      "[Parallel(n_jobs=-1)]: Done 180 out of 180 | elapsed:   26.2s finished\n"
     ]
    },
    {
     "name": "stdout",
     "output_type": "stream",
     "text": [
      "tuned hpyerparameters :(best parameters)  {'max_depth': 140, 'min_samples_leaf': 1, 'min_samples_split': 10}\n",
      "accuracy : 0.6652465246582776\n"
     ]
    }
   ],
   "source": [
    "decision_GS2 = GridSearchCV(estimator=decisionClassifier2, param_grid=decision_tree_grid2, scoring='f1', verbose=1, cv=5, n_jobs=-1)\n",
    "decision_GS2.fit(x_train2, y_train2)\n",
    "print(\"tuned hpyerparameters :(best parameters) \",decision_GS2.best_params_)\n",
    "print(\"accuracy :\",decision_GS2.best_score_)"
   ]
  },
  {
   "cell_type": "code",
   "execution_count": null,
   "metadata": {},
   "outputs": [],
   "source": [
    "decision_GS2_predict = decision_GS2.predict(data_test)"
   ]
  },
  {
   "cell_type": "code",
   "execution_count": null,
   "metadata": {},
   "outputs": [],
   "source": [
    "kaggle_decision_GS2_submit = {'id': kaggleId, 'target': decision_GS2_predict}\n",
    "kaggle_decision_GS2_submit_DF = pd.DataFrame(data=kaggle_decision_GS2_submit)"
   ]
  },
  {
   "cell_type": "code",
   "execution_count": null,
   "metadata": {},
   "outputs": [],
   "source": [
    "kaggle_decision_GS2_submit_DF.to_csv('setSubmitDecision.csv', index=False)"
   ]
  },
  {
   "cell_type": "markdown",
   "metadata": {},
   "source": [
    "# Random Forest"
   ]
  },
  {
   "cell_type": "markdown",
   "metadata": {},
   "source": [
    "## Sin la columna Text"
   ]
  },
  {
   "cell_type": "code",
   "execution_count": null,
   "metadata": {},
   "outputs": [],
   "source": [
    "#random_forest_grid_param = {'bootstrap': [True, False],\n",
    "#                            'max_depth': [10, 20, 30, 40, 50, 60, 70, 80, 90, 100, None],\n",
    "#                            'max_features': ['auto', 'sqrt'],\n",
    "#                            'min_samples_leaf': [1, 2, 4],\n",
    "#                            'min_samples_split': [2, 5, 10],\n",
    "#                            'n_estimators': [200, 400, 600, 800, 1000, 1200, 1400, 1600, 1800, 2000]}\n",
    "\n",
    "#random_forest_grid_param = {'bootstrap': [True, False],\n",
    "#                            'max_depth': [10, 20, 30, None],\n",
    "#                            'max_features': ['auto', 'sqrt'],\n",
    "#                            'min_samples_leaf': [1, 2, 4],\n",
    "#                            'min_samples_split': [2, 5, 10],\n",
    "#                            'n_estimators': [200, 400, 600]}\n",
    "#tuned hpyerparameters :(best parameters)  {'bootstrap': True, 'max_depth': None, 'max_features': 'sqrt', 'min_samples_leaf': 1, 'min_samples_split': 10, 'n_estimators': 200}\n",
    "#accuracy : 0.653347094748209\n",
    "\n",
    "#random_forest_grid_param = {'bootstrap': [True],\n",
    "#                            'max_depth': [2, 4, 6, None],\n",
    "#                            'max_features': ['sqrt'],\n",
    "#                            'min_samples_leaf': [1, 5, 7],\n",
    "#                            'min_samples_split': [9, 10, 11],\n",
    "#                            'n_estimators': [50,100,200]}\n",
    "#tuned hpyerparameters :(best parameters)  {'bootstrap': True, 'max_depth': None, 'max_features': 'sqrt', 'min_samples_leaf': 1, 'min_samples_split': 10, 'n_estimators': 50}\n",
    "#accuracy : 0.6534201199529246\n",
    "\n",
    "random_forest_grid_param = {'bootstrap': [True],\n",
    "                            'max_depth': [2, 4, 6, None],\n",
    "                            'max_features': ['sqrt'],\n",
    "                            'min_samples_leaf': [1,10,15],\n",
    "                            'min_samples_split': [9, 10, 11],\n",
    "                            'n_estimators': [20,30,50,75]}\n",
    "#tuned hpyerparameters :(best parameters)  {'bootstrap': True, 'max_depth': None, 'max_features': 'sqrt', 'min_samples_leaf': 1, 'min_samples_split': 9, 'n_estimators': 20}\n",
    "#accuracy : 0.6541641584525214\n",
    "\n",
    "#random_forest_grid_param = {'bootstrap': [True],\n",
    "#                            'max_depth': [50, 60, 70, None],\n",
    "#                            'max_features': ['sqrt'],\n",
    "#                            'min_samples_leaf': [1,2,3],\n",
    "#                            'min_samples_split': [9, 10, 11],\n",
    "#                            'n_estimators': [5,9,12,15,20]}\n",
    "#tuned hpyerparameters :(best parameters)  {'bootstrap': True, 'max_depth': None, 'max_features': 'sqrt', 'min_samples_leaf': 1, 'min_samples_split': 11, 'n_estimators': 15}\n",
    "#accuracy : 0.6492213934204937"
   ]
  },
  {
   "cell_type": "code",
   "execution_count": null,
   "metadata": {},
   "outputs": [],
   "source": [
    "rfClassifier = RandomForestClassifier()"
   ]
  },
  {
   "cell_type": "code",
   "execution_count": null,
   "metadata": {},
   "outputs": [],
   "source": [
    "rf_GS = GridSearchCV(estimator=rfClassifier, param_grid=random_forest_grid_param, scoring='f1', verbose=1, cv=5, n_jobs=-1)\n",
    "rf_GS.fit(x_train, y_train)\n",
    "print(\"tuned hpyerparameters :(best parameters) \",rf_GS.best_params_)\n",
    "print(\"accuracy :\",rf_GS.best_score_)"
   ]
  },
  {
   "cell_type": "markdown",
   "metadata": {},
   "source": [
    "## Con la columna Text"
   ]
  },
  {
   "cell_type": "code",
   "execution_count": null,
   "metadata": {},
   "outputs": [],
   "source": [
    "#random_forest_grid_param2 = {'bootstrap': [True, False],\n",
    "#                            'max_depth': [10, 20, 30, 40, 50, 60, 70, 80, 90, 100, None],\n",
    "#                            'max_features': ['auto', 'sqrt'],\n",
    "#                            'min_samples_leaf': [1, 2, 4],\n",
    "#                            'min_samples_split': [2, 5, 10],\n",
    "#                            'n_estimators': [200, 400, 600, 800, 1000, 1200, 1400, 1600, 1800, 2000]}\n",
    "\n",
    "#random_forest_grid_param2 = {'bootstrap': [True, False],\n",
    "#                            'max_depth': [10, 20, 30, None],\n",
    "#                            'max_features': ['auto', 'sqrt'],\n",
    "#                            'min_samples_leaf': [1, 2, 4],\n",
    "#                            'min_samples_split': [2, 5, 10],\n",
    "#                            'n_estimators': [200, 400, 600]}\n",
    "#tuned hpyerparameters :(best parameters)  {'bootstrap': True, 'max_depth': None, 'max_features': 'sqrt', \n",
    "# 'min_samples_leaf': 1, 'min_samples_split': 10, 'n_estimators': 200}\n",
    "#accuracy : 0.7212366222022716\n",
    "\n",
    "random_forest_grid_param2 = {'bootstrap': [True],\n",
    "                            'max_depth': [None],\n",
    "                            'max_features': ['sqrt'],\n",
    "                            'min_samples_leaf': [1,2,10],\n",
    "                            'min_samples_split': [10,12,15],\n",
    "                            'n_estimators': [50,100,200]}\n",
    "#tuned hpyerparameters :(best parameters)  {'bootstrap': True, 'max_depth': None, 'max_features': 'sqrt', \n",
    "#'min_samples_leaf': 1, 'min_samples_split': 12, 'n_estimators': 100}\n",
    "#accuracy : 0.7214048228595785"
   ]
  },
  {
   "cell_type": "code",
   "execution_count": null,
   "metadata": {},
   "outputs": [],
   "source": [
    "rfClassifier2 = RandomForestClassifier()"
   ]
  },
  {
   "cell_type": "code",
   "execution_count": null,
   "metadata": {},
   "outputs": [],
   "source": [
    "rf_GS2 = GridSearchCV(estimator=rfClassifier2, param_grid=random_forest_grid_param2, scoring='f1', verbose=1, cv=5, n_jobs=-1)\n",
    "rf_GS2.fit(x_train2, y_train2)\n",
    "print(\"tuned hpyerparameters :(best parameters) \",rf_GS2.best_params_)\n",
    "print(\"accuracy :\",rf_GS2.best_score_)"
   ]
  },
  {
   "cell_type": "code",
   "execution_count": null,
   "metadata": {},
   "outputs": [],
   "source": [
    "rf_GS2_predict = rf_GS2.predict(data_test)"
   ]
  },
  {
   "cell_type": "code",
   "execution_count": null,
   "metadata": {},
   "outputs": [],
   "source": [
    "kaggle_rf_GS2_submit = {'id': kaggleId, 'target': rf_GS2_predict}\n",
    "kaggle_rf_GS2_submit_DF = pd.DataFrame(data=kaggle_rf_GS2_submit)"
   ]
  },
  {
   "cell_type": "code",
   "execution_count": null,
   "metadata": {},
   "outputs": [],
   "source": [
    "kaggle_rf_GS2_submit_DF.to_csv('setSubmitRF.csv', index=False)"
   ]
  },
  {
   "cell_type": "markdown",
   "metadata": {},
   "source": [
    "# Ada Boost"
   ]
  },
  {
   "cell_type": "markdown",
   "metadata": {},
   "source": [
    "## Sin la columna Text"
   ]
  },
  {
   "cell_type": "code",
   "execution_count": 36,
   "metadata": {},
   "outputs": [],
   "source": [
    "ada_grid = {'n_estimators': np.arange(280,400,10),\n",
    "            'learning_rate' : [0.01,0.05,0.1,0.3,0.7,1]}\n",
    "#tuned hpyerparameters :(best parameters)  {'learning_rate': 0.7, 'n_estimators': 320}\n",
    "#accuracy : 0.5448198513892962"
   ]
  },
  {
   "cell_type": "code",
   "execution_count": 37,
   "metadata": {},
   "outputs": [],
   "source": [
    "ada = AdaBoostClassifier()"
   ]
  },
  {
   "cell_type": "code",
   "execution_count": 38,
   "metadata": {},
   "outputs": [
    {
     "name": "stdout",
     "output_type": "stream",
     "text": [
      "Fitting 5 folds for each of 72 candidates, totalling 360 fits\n"
     ]
    },
    {
     "name": "stderr",
     "output_type": "stream",
     "text": [
      "[Parallel(n_jobs=-1)]: Using backend LokyBackend with 8 concurrent workers.\n",
      "[Parallel(n_jobs=-1)]: Done  34 tasks      | elapsed:   10.1s\n",
      "[Parallel(n_jobs=-1)]: Done 184 tasks      | elapsed:   46.8s\n",
      "[Parallel(n_jobs=-1)]: Done 360 out of 360 | elapsed:  1.5min finished\n"
     ]
    },
    {
     "name": "stdout",
     "output_type": "stream",
     "text": [
      "tuned hpyerparameters :(best parameters)  {'learning_rate': 0.7, 'n_estimators': 320}\n",
      "accuracy : 0.5448198513892962\n"
     ]
    }
   ],
   "source": [
    "ada_GS = GridSearchCV(estimator=ada, param_grid=ada_grid, scoring='f1', verbose=1, cv=5, n_jobs=-1)\n",
    "ada_GS.fit(x_train, y_train)\n",
    "print(\"tuned hpyerparameters :(best parameters) \",ada_GS.best_params_)\n",
    "print(\"accuracy :\",ada_GS.best_score_)"
   ]
  },
  {
   "cell_type": "markdown",
   "metadata": {},
   "source": [
    "## Con la columna Text"
   ]
  },
  {
   "cell_type": "code",
   "execution_count": 43,
   "metadata": {},
   "outputs": [],
   "source": [
    "ada_grid2 = {'n_estimators': np.arange(280,400,10),\n",
    "            'learning_rate' : [0.01,0.1,1]}\n",
    "#tuned hpyerparameters :(best parameters)  {'learning_rate': 1, 'n_estimators': 380}\n",
    "#accuracy : 0.7211916742238501"
   ]
  },
  {
   "cell_type": "code",
   "execution_count": 41,
   "metadata": {},
   "outputs": [],
   "source": [
    "ada2 = AdaBoostClassifier()"
   ]
  },
  {
   "cell_type": "code",
   "execution_count": 44,
   "metadata": {},
   "outputs": [
    {
     "name": "stdout",
     "output_type": "stream",
     "text": [
      "Fitting 5 folds for each of 36 candidates, totalling 180 fits\n"
     ]
    },
    {
     "name": "stderr",
     "output_type": "stream",
     "text": [
      "[Parallel(n_jobs=-1)]: Using backend LokyBackend with 8 concurrent workers.\n",
      "[Parallel(n_jobs=-1)]: Done  34 tasks      | elapsed:  1.6min\n",
      "[Parallel(n_jobs=-1)]: Done 180 out of 180 | elapsed:  7.9min finished\n"
     ]
    },
    {
     "name": "stdout",
     "output_type": "stream",
     "text": [
      "tuned hpyerparameters :(best parameters)  {'learning_rate': 1, 'n_estimators': 380}\n",
      "accuracy : 0.7211916742238501\n"
     ]
    }
   ],
   "source": [
    "ada_GS2 = GridSearchCV(estimator=ada2, param_grid=ada_grid2, scoring='f1', verbose=1, cv=5, n_jobs=-1)\n",
    "ada_GS2.fit(x_train2, y_train2)\n",
    "print(\"tuned hpyerparameters :(best parameters) \",ada_GS2.best_params_)\n",
    "print(\"accuracy :\",ada_GS2.best_score_)"
   ]
  },
  {
   "cell_type": "code",
   "execution_count": null,
   "metadata": {},
   "outputs": [],
   "source": [
    "ada_GS2_predict = ada_GS2.predict(data_test)"
   ]
  },
  {
   "cell_type": "code",
   "execution_count": null,
   "metadata": {},
   "outputs": [],
   "source": [
    "kaggle_ada_GS2_submit = {'id': kaggleId, 'target': ada_GS2_predict}\n",
    "kaggle_ada_GS2_submit_DF = pd.DataFrame(data=kaggle_ada_GS2_submit)"
   ]
  },
  {
   "cell_type": "code",
   "execution_count": null,
   "metadata": {},
   "outputs": [],
   "source": [
    "kaggle_ada_GS2_submit_DF.to_csv('setSubmitAda.csv', index=False)"
   ]
  },
  {
   "cell_type": "markdown",
   "metadata": {},
   "source": [
    "# XGBoost"
   ]
  },
  {
   "cell_type": "markdown",
   "metadata": {},
   "source": [
    "## Sin la columna Text"
   ]
  },
  {
   "cell_type": "code",
   "execution_count": null,
   "metadata": {},
   "outputs": [],
   "source": [
    "#xgb_grid_param = {\n",
    "#    'max_depth': [5,7,9],\n",
    "#    'gamma': [0.5, 1, 1.5],\n",
    "#    'subsample': [0.4,0.5,0.6], #[0.4,0.5,0.6,0.7,0.8,0.9,1.0],\n",
    "#    'min_child_weight': [1,3,4],\n",
    "#    'colsample_bytree': [0.5,0.6,0.7], #[0.5,0.6,0.7,0.8],\n",
    "#    'n_estimators': [100, 200], #[1000,2000,3000]\n",
    "#    'learning_rate': [0.1, 1]}\n",
    "#tuned hpyerparameters :(best parameters)  {'colsample_bytree': 0.7, 'gamma': 1, 'learning_rate': 0.1, \n",
    "#    'max_depth': 9, 'min_child_weight': 1, 'n_estimators': 200, 'subsample': 0.5}\n",
    "#accuracy : 0.670547740462945\n",
    "\n",
    "#xgb_grid_param = {\n",
    "#    'max_depth': [9,12],\n",
    "#    'gamma': [0.9,1,1.2],\n",
    "#    'subsample': [0.5,0.8], #[0.4,0.5,0.6,0.7,0.8,0.9,1.0],\n",
    "#    'min_child_weight': [1,3,4],\n",
    "#    'colsample_bytree': [0.7,0.9], #[0.5,0.6,0.7,0.8],\n",
    "#    'n_estimators': [200,350], #[1000,2000,3000]\n",
    "#    'learning_rate': [0.1, 0.5]}\n",
    "#tuned hpyerparameters :(best parameters)  {'colsample_bytree': 0.9, 'gamma': 1.2, 'learning_rate': 0.1, 'max_depth': 9, 'min_child_weight': 1, 'n_estimators': 350, 'subsample': 0.8}\n",
    "#accuracy : 0.6696604992524797\n",
    "\n",
    "xgb_grid_param = {\n",
    "    'max_depth': [9],\n",
    "    'gamma': [1,1.2],\n",
    "    'subsample': [0.8,1], #[0.4,0.5,0.6,0.7,0.8,0.9,1.0],\n",
    "    'min_child_weight': [1,2],\n",
    "    'colsample_bytree': [0.7,0.9], #[0.5,0.6,0.7,0.8],\n",
    "    'n_estimators': [600], #[1000,2000,3000]\n",
    "    'learning_rate': [0.1]}\n",
    "#tuned hpyerparameters :(best parameters)  {'colsample_bytree': 0.9, 'gamma': 1.2, 'learning_rate': 0.1, 'max_depth': 9, 'min_child_weight': 1, 'n_estimators': 600, 'subsample': 0.8}\n",
    "#accuracy : 0.6681432627951468"
   ]
  },
  {
   "cell_type": "code",
   "execution_count": null,
   "metadata": {},
   "outputs": [],
   "source": [
    "xgboost = XGBClassifier()"
   ]
  },
  {
   "cell_type": "code",
   "execution_count": null,
   "metadata": {},
   "outputs": [],
   "source": [
    "xgboost_GS = GridSearchCV(estimator=xgboost, param_grid=xgb_grid_param, scoring='f1', verbose=1, cv=5, n_jobs=-1)\n",
    "xgboost_GS.fit(x_train, y_train)\n",
    "print(\"tuned hpyerparameters :(best parameters) \",xgboost_GS.best_params_)\n",
    "print(\"accuracy :\",xgboost_GS.best_score_)"
   ]
  },
  {
   "cell_type": "markdown",
   "metadata": {},
   "source": [
    "## Con la columna Text"
   ]
  },
  {
   "cell_type": "code",
   "execution_count": null,
   "metadata": {},
   "outputs": [],
   "source": [
    "#xgb_grid_param2 = {\n",
    "#    'max_depth': [2,3,5,6,10],\n",
    "#    'gamma': [1],\n",
    "#    'subsample': [0.5], #[0.4,0.5,0.6,0.7,0.8,0.9,1.0],\n",
    "#    'min_child_weight': [1,2],\n",
    "#    'colsample_bytree': [0.7], #[0.5,0.6,0.7,0.8],\n",
    "#    'n_estimators': [300], #[1000,2000,3000]\n",
    "#    'learning_rate': [1]}\n",
    "#tuned hpyerparameters :(best parameters)  {'colsample_bytree': 0.7, 'gamma': 1, 'learning_rate': 1, \n",
    "#'max_depth': 3, 'min_child_weight': 2, 'n_estimators': 300, 'subsample': 0.5}\n",
    "#accuracy : 0.6953201310248737\n",
    "\n",
    "#xgb_grid_param2 = {\n",
    "#    'max_depth': [3,4],\n",
    "#    'gamma': [0.7,0.8],\n",
    "#    'subsample': [0.5], #[0.4,0.5,0.6,0.7,0.8,0.9,1.0],\n",
    "#    'min_child_weight': [1],\n",
    "#    'colsample_bytree': [0.7], #[0.5,0.6,0.7,0.8],\n",
    "#    'n_estimators': [300], #[1000,2000,3000]\n",
    "#    'learning_rate': [1]}\n",
    "#tuned hpyerparameters :(best parameters)  {'colsample_bytree': 0.7, 'gamma': 0.8, 'learning_rate': 1, '\n",
    "#max_depth': 3, 'min_child_weight': 1, 'n_estimators': 300, 'subsample': 0.5}\n",
    "#accuracy : 0.6964528252886683\n",
    "\n",
    "#xgb_grid_param2 = {\n",
    "#    'max_depth': [3],\n",
    "#    'gamma': [0.8],\n",
    "#    'subsample': [0.7], #[0.4,0.5,0.6,0.7,0.8,0.9,1.0],\n",
    "#    'min_child_weight': [1,2],\n",
    "#    'colsample_bytree': [0.6,0.7,0.8], #[0.5,0.6,0.7,0.8],\n",
    "#    'n_estimators': [300], #[1000,2000,3000]\n",
    "#    'learning_rate': [1]}\n",
    "#tuned hpyerparameters :(best parameters)  {'colsample_bytree': 0.8, 'gamma': 0.8, 'learning_rate': 1, \n",
    "#'max_depth': 3, 'min_child_weight': 1, 'n_estimators': 300, 'subsample': 0.7}\n",
    "#accuracy : 0.7115072057243385\n",
    "\n",
    "xgb_grid_param2 = {\n",
    "    'max_depth': [3],\n",
    "    'gamma': [0.8],\n",
    "    'subsample': [0.7], #[0.4,0.5,0.6,0.7,0.8,0.9,1.0],\n",
    "    'min_child_weight': [1],\n",
    "    'colsample_bytree': [0.8], #[0.5,0.6,0.7,0.8],\n",
    "    'n_estimators': [200,300,400], #[1000,2000,3000]\n",
    "    'learning_rate': [0.1,1]}\n",
    "#tuned hpyerparameters :(best parameters)  {'colsample_bytree': 0.8, 'gamma': 0.8, 'learning_rate': 1, \n",
    "#'max_depth': 3, 'min_child_weight': 1, 'n_estimators': 200, 'subsample': 0.7}\n",
    "#accuracy : 0.712881419602948"
   ]
  },
  {
   "cell_type": "code",
   "execution_count": null,
   "metadata": {},
   "outputs": [],
   "source": [
    "xgboost2 = XGBClassifier()"
   ]
  },
  {
   "cell_type": "code",
   "execution_count": null,
   "metadata": {},
   "outputs": [],
   "source": [
    "xgboost_GS2 = GridSearchCV(estimator=xgboost2, param_grid=xgb_grid_param2, scoring='f1', verbose=1, cv=5, n_jobs=-1)\n",
    "xgboost_GS2.fit(x_train2, y_train2)\n",
    "print(\"tuned hpyerparameters :(best parameters) \",xgboost_GS2.best_params_)\n",
    "print(\"accuracy :\",xgboost_GS2.best_score_)"
   ]
  },
  {
   "cell_type": "code",
   "execution_count": null,
   "metadata": {},
   "outputs": [],
   "source": [
    "xgboost_GS2_predict = xgboost_GS2.predict(data_test)"
   ]
  },
  {
   "cell_type": "code",
   "execution_count": null,
   "metadata": {},
   "outputs": [],
   "source": [
    "kaggle_xgboost_GS2_submit = {'id': kaggleId, 'target': xgboost_GS2_predict}\n",
    "kaggle_xgboost_GS2_submit_DF = pd.DataFrame(data=kaggle_xgboost_GS2_submit)"
   ]
  },
  {
   "cell_type": "code",
   "execution_count": null,
   "metadata": {},
   "outputs": [],
   "source": [
    "kaggle_xgboost_GS2_submit_DF.to_csv('setSubmitXgboost.csv', index=False)"
   ]
  },
  {
   "cell_type": "markdown",
   "metadata": {},
   "source": [
    "# Light GBM"
   ]
  },
  {
   "cell_type": "markdown",
   "metadata": {},
   "source": [
    "## Sin la columna Text"
   ]
  },
  {
   "cell_type": "code",
   "execution_count": null,
   "metadata": {},
   "outputs": [],
   "source": [
    "#gbm_param = {'n_estimators': [100, 400],\n",
    "#               'max_depth':  [-1, 4, 10],\n",
    "#               'num_leaves': [15, 31, 63, 127],\n",
    "#               'subsample': [0.6, 0.7, 0.8],\n",
    "#               'colsample_bytree': [0.6, 0.7, 0.8]}\n",
    "#tuned hpyerparameters :(best parameters)  {'colsample_bytree': 0.6, 'max_depth': 10, 'n_estimators': 400, \n",
    "#'num_leaves': 15, 'subsample': 0.6}\n",
    "#accuracy : 0.6008785161044997\n",
    "\n",
    "#gbm_param = {'n_estimators': [400, 600, 1000],\n",
    "#               'max_depth':  [-1, 10, 30],\n",
    "#               'num_leaves': [3,6,9,12,15],\n",
    "#               'subsample': [0.5,0.6, 0.7],\n",
    "#               'colsample_bytree': [0.5,0.6, 0.7]}\n",
    "#tuned hpyerparameters :(best parameters)  {'colsample_bytree': 0.6, 'max_depth': -1, 'n_estimators': 1000, 'num_leaves': 15, 'subsample': 0.5}\n",
    "#accuracy : 0.6040637466465371\n",
    "\n",
    "gbm_param = {'n_estimators': [1000,1500,2000],\n",
    "               'max_depth':  [-1, 10, 30, 50],\n",
    "               'num_leaves': [9,12,15,17,20],\n",
    "               'subsample': [0.3,0.4,0.5,0.6],\n",
    "               'colsample_bytree': [0.5,0.6, 0.7]}\n",
    "#tuned hpyerparameters :(best parameters)  {'colsample_bytree': 0.6, 'max_depth': -1, 'n_estimators': 1000, 'num_leaves': 15, 'subsample': 0.3}\n",
    "#accuracy : 0.6040637466465371"
   ]
  },
  {
   "cell_type": "code",
   "execution_count": null,
   "metadata": {},
   "outputs": [],
   "source": [
    "gbm = LGBMClassifier()"
   ]
  },
  {
   "cell_type": "code",
   "execution_count": null,
   "metadata": {},
   "outputs": [],
   "source": [
    "gbm_GS = GridSearchCV(estimator=gbm, param_grid=gbm_param, scoring='f1', verbose=1, cv=5, n_jobs=-1)\n",
    "gbm_GS.fit(x_train, y_train)\n",
    "print(\"tuned hpyerparameters :(best parameters) \",gbm_GS.best_params_)\n",
    "print(\"accuracy :\",gbm_GS.best_score_)"
   ]
  },
  {
   "cell_type": "markdown",
   "metadata": {},
   "source": [
    "## Con la columna Text"
   ]
  },
  {
   "cell_type": "code",
   "execution_count": null,
   "metadata": {},
   "outputs": [],
   "source": [
    "#gbm_param2 = {'n_estimators': [100, 200],\n",
    "#               'max_depth':  [-1, 4, 10],\n",
    "#               'num_leaves': [15, 31, 63, 127],\n",
    "#               'subsample': [0.6, 0.7, 0.8],\n",
    "#               'colsample_bytree': [0.6, 0.7, 0.8]}\n",
    "#tuned hpyerparameters :(best parameters)  {'colsample_bytree': 0.7, 'max_depth': -1, 'n_estimators': 100, \n",
    "#'num_leaves': 63, 'subsample': 0.6}\n",
    "#accuracy : 0.6962262268218196\n",
    "\n",
    "gbm_param2 = {'n_estimators': [50,75,100],\n",
    "               'max_depth':  [-1,2,3],\n",
    "               'num_leaves': [50,60,70],\n",
    "               'subsample': [0.5,0.6,0.7],\n",
    "               'colsample_bytree': [0.6,0.7,0.8]}\n",
    "#tuned hpyerparameters :(best parameters)  {'colsample_bytree': 0.8, 'max_depth': -1, 'n_estimators': 75, \n",
    "#'num_leaves': 70, 'subsample': 0.5}\n",
    "#accuracy : 0.6953875796154907\n",
    "\n",
    "#gbm_param = {'n_estimators': [1000,1500,2000],\n",
    "#               'max_depth':  [-1, 10, 30, 50],\n",
    "#               'num_leaves': [9,12,15,17,20],\n",
    "#               'subsample': [0.3,0.4,0.5,0.6],\n",
    "#               'colsample_bytree': [0.5,0.6, 0.7]}\n",
    "#tuned hpyerparameters :(best parameters)  {'colsample_bytree': 0.6, 'max_depth': -1, 'n_estimators': 1000, 'num_leaves': 15, 'subsample': 0.3}\n",
    "#accuracy : 0.6040637466465371"
   ]
  },
  {
   "cell_type": "code",
   "execution_count": null,
   "metadata": {},
   "outputs": [],
   "source": [
    "gbm2 = LGBMClassifier()"
   ]
  },
  {
   "cell_type": "code",
   "execution_count": null,
   "metadata": {},
   "outputs": [],
   "source": [
    "gbm_GS2 = GridSearchCV(estimator=gbm2, param_grid=gbm_param2, scoring='f1', verbose=1, cv=5, n_jobs=-1)\n",
    "gbm_GS2.fit(x_train2, y_train2)\n",
    "print(\"tuned hpyerparameters :(best parameters) \",gbm_GS2.best_params_)\n",
    "print(\"accuracy :\",gbm_GS2.best_score_)"
   ]
  },
  {
   "cell_type": "code",
   "execution_count": null,
   "metadata": {},
   "outputs": [],
   "source": [
    "gbm_GS2_predict = gbm_GS2.predict(data_test)"
   ]
  },
  {
   "cell_type": "code",
   "execution_count": null,
   "metadata": {},
   "outputs": [],
   "source": [
    "kaggle_gbm_GS2_submit = {'id': kaggleId, 'target': gbm_GS2_predict}\n",
    "kaggle_gbm_GS2_submit_DF = pd.DataFrame(data=kaggle_gbm_GS2_submit)"
   ]
  },
  {
   "cell_type": "code",
   "execution_count": null,
   "metadata": {},
   "outputs": [],
   "source": [
    "kaggle_gbm_GS2_submit_DF.to_csv('setSubmitGBM.csv', index=False)"
   ]
  }
 ],
 "metadata": {
  "kernelspec": {
   "display_name": "Python 3",
   "language": "python",
   "name": "python3"
  },
  "language_info": {
   "codemirror_mode": {
    "name": "ipython",
    "version": 3
   },
   "file_extension": ".py",
   "mimetype": "text/x-python",
   "name": "python",
   "nbconvert_exporter": "python",
   "pygments_lexer": "ipython3",
   "version": "3.7.3"
  }
 },
 "nbformat": 4,
 "nbformat_minor": 2
}
