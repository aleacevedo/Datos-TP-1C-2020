{
 "cells": [
  {
   "cell_type": "code",
   "execution_count": 4,
   "metadata": {},
   "outputs": [],
   "source": [
    "import datetime as datetime\n",
    "import datetime \n",
    "import pandas as pd\n",
    "import matplotlib.pyplot as plt\n",
    "import numpy as np\n",
    "import re\n",
    "import string\n",
    "import unidecode\n",
    "\n",
    "\n",
    "import sklearn as sk\n",
    "import xgboost \n",
    "from xgboost import XGBClassifier\n",
    "\n",
    "from matplotlib import pyplot\n",
    "from sklearn.utils import shuffle\n",
    "from numpy import sort\n",
    "from matplotlib import pyplot\n",
    "from xgboost import plot_importance\n",
    "\n",
    "from sklearn.feature_selection import SelectFromModel\n",
    "from sklearn.feature_selection import SelectKBest\n",
    "from sklearn.feature_selection import chi2\n",
    "from sklearn.feature_selection import mutual_info_classif\n",
    "\n",
    "from sklearn.model_selection import RandomizedSearchCV, GridSearchCV\n",
    "from sklearn.model_selection import train_test_split\n",
    "from sklearn.model_selection import cross_val_score, KFold\n",
    "\n",
    "from sklearn.metrics import accuracy_score, r2_score, classification_report, mean_squared_error, mean_absolute_error\n",
    "from sklearn.linear_model import LogisticRegression\n",
    "\n",
    "from sklearn.neighbors import KNeighborsClassifier\n",
    "from sklearn.tree import DecisionTreeClassifier\n",
    "\n",
    "from sklearn.ensemble import RandomForestClassifier\n",
    "from sklearn.ensemble import AdaBoostClassifier\n",
    "from sklearn.ensemble import BaggingClassifier\n",
    "\n",
    "from sklearn.preprocessing import StandardScaler\n",
    "from lightgbm.sklearn import LGBMClassifier"
   ]
  },
  {
   "cell_type": "code",
   "execution_count": 5,
   "metadata": {},
   "outputs": [],
   "source": [
    "train = pd.read_csv('../../train.csv', low_memory=False)"
   ]
  },
  {
   "cell_type": "code",
   "execution_count": 6,
   "metadata": {},
   "outputs": [],
   "source": [
    "train[\"text\"] = train[\"text\"].str.lower()\n",
    "train[\"text\"] = train[\"text\"].apply(lambda x: re.sub('(?P<url>https?://[^\\s]+)', ' ', x))\n",
    "train[\"text\"] = train[\"text\"].apply(lambda x: re.sub(r'[^\\w]', ' ', x))\n",
    "train[\"text\"] = train[\"text\"].apply(lambda x: re.sub(r'_', ' ', x))\n",
    "train[\"text\"] = train[\"text\"].apply(lambda x: re.sub(r'[0-9]',' ', x))\n",
    "train[\"text\"] = train[\"text\"].apply(lambda x: re.sub(' +',' ', x))\n",
    "train[\"text\"] = train[\"text\"].apply(lambda x: unidecode.unidecode(x))\n",
    "train[\"text\"] = train[\"text\"].str.strip()\n",
    "train[\"text_length\"] = train[\"text\"].str.len()\n",
    "train[\"text\"] = train[\"text\"].apply(lambda x: re.sub(r'\\b\\w{1}\\b', '', x))\n",
    "train[\"words_count\"] = train[\"text\"].str.split(' ').apply(lambda x: len(x))\n",
    "\n",
    "train[\"keyword\"] = train[\"keyword\"].str.replace('%20',' ')"
   ]
  },
  {
   "cell_type": "code",
   "execution_count": null,
   "metadata": {},
   "outputs": [],
   "source": [
    "#TENGO QUE PROBAR CON ONE HOT, BINARY, HASHING\n",
    "#https://kiwidamien.github.io/encoding-categorical-variables.html\n",
    "#https://towardsdatascience.com/all-about-categorical-variable-encoding-305f3361fd02"
   ]
  },
  {
   "cell_type": "markdown",
   "metadata": {},
   "source": [
    "## One Hot Encoding"
   ]
  },
  {
   "cell_type": "code",
   "execution_count": 7,
   "metadata": {
    "scrolled": true
   },
   "outputs": [
    {
     "data": {
      "text/html": [
       "<div>\n",
       "<style scoped>\n",
       "    .dataframe tbody tr th:only-of-type {\n",
       "        vertical-align: middle;\n",
       "    }\n",
       "\n",
       "    .dataframe tbody tr th {\n",
       "        vertical-align: top;\n",
       "    }\n",
       "\n",
       "    .dataframe thead th {\n",
       "        text-align: right;\n",
       "    }\n",
       "</style>\n",
       "<table border=\"1\" class=\"dataframe\">\n",
       "  <thead>\n",
       "    <tr style=\"text-align: right;\">\n",
       "      <th></th>\n",
       "      <th>id</th>\n",
       "      <th>location</th>\n",
       "      <th>text</th>\n",
       "      <th>target</th>\n",
       "      <th>text_length</th>\n",
       "      <th>words_count</th>\n",
       "      <th>keyword_ablaze</th>\n",
       "      <th>keyword_accident</th>\n",
       "      <th>keyword_aftershock</th>\n",
       "      <th>keyword_airplane accident</th>\n",
       "      <th>...</th>\n",
       "      <th>keyword_weapons</th>\n",
       "      <th>keyword_whirlwind</th>\n",
       "      <th>keyword_wild fires</th>\n",
       "      <th>keyword_wildfire</th>\n",
       "      <th>keyword_windstorm</th>\n",
       "      <th>keyword_wounded</th>\n",
       "      <th>keyword_wounds</th>\n",
       "      <th>keyword_wreck</th>\n",
       "      <th>keyword_wreckage</th>\n",
       "      <th>keyword_wrecked</th>\n",
       "    </tr>\n",
       "  </thead>\n",
       "  <tbody>\n",
       "    <tr>\n",
       "      <th>0</th>\n",
       "      <td>1</td>\n",
       "      <td>NaN</td>\n",
       "      <td>our deeds are the reason of this earthquake ma...</td>\n",
       "      <td>1</td>\n",
       "      <td>68</td>\n",
       "      <td>13</td>\n",
       "      <td>0</td>\n",
       "      <td>0</td>\n",
       "      <td>0</td>\n",
       "      <td>0</td>\n",
       "      <td>...</td>\n",
       "      <td>0</td>\n",
       "      <td>0</td>\n",
       "      <td>0</td>\n",
       "      <td>0</td>\n",
       "      <td>0</td>\n",
       "      <td>0</td>\n",
       "      <td>0</td>\n",
       "      <td>0</td>\n",
       "      <td>0</td>\n",
       "      <td>0</td>\n",
       "    </tr>\n",
       "    <tr>\n",
       "      <th>1</th>\n",
       "      <td>4</td>\n",
       "      <td>NaN</td>\n",
       "      <td>forest fire near la ronge sask canada</td>\n",
       "      <td>1</td>\n",
       "      <td>37</td>\n",
       "      <td>7</td>\n",
       "      <td>0</td>\n",
       "      <td>0</td>\n",
       "      <td>0</td>\n",
       "      <td>0</td>\n",
       "      <td>...</td>\n",
       "      <td>0</td>\n",
       "      <td>0</td>\n",
       "      <td>0</td>\n",
       "      <td>0</td>\n",
       "      <td>0</td>\n",
       "      <td>0</td>\n",
       "      <td>0</td>\n",
       "      <td>0</td>\n",
       "      <td>0</td>\n",
       "      <td>0</td>\n",
       "    </tr>\n",
       "    <tr>\n",
       "      <th>2</th>\n",
       "      <td>5</td>\n",
       "      <td>NaN</td>\n",
       "      <td>all residents asked to shelter in place are be...</td>\n",
       "      <td>1</td>\n",
       "      <td>130</td>\n",
       "      <td>22</td>\n",
       "      <td>0</td>\n",
       "      <td>0</td>\n",
       "      <td>0</td>\n",
       "      <td>0</td>\n",
       "      <td>...</td>\n",
       "      <td>0</td>\n",
       "      <td>0</td>\n",
       "      <td>0</td>\n",
       "      <td>0</td>\n",
       "      <td>0</td>\n",
       "      <td>0</td>\n",
       "      <td>0</td>\n",
       "      <td>0</td>\n",
       "      <td>0</td>\n",
       "      <td>0</td>\n",
       "    </tr>\n",
       "    <tr>\n",
       "      <th>3</th>\n",
       "      <td>6</td>\n",
       "      <td>NaN</td>\n",
       "      <td>people receive wildfires evacuation orders in ...</td>\n",
       "      <td>1</td>\n",
       "      <td>56</td>\n",
       "      <td>7</td>\n",
       "      <td>0</td>\n",
       "      <td>0</td>\n",
       "      <td>0</td>\n",
       "      <td>0</td>\n",
       "      <td>...</td>\n",
       "      <td>0</td>\n",
       "      <td>0</td>\n",
       "      <td>0</td>\n",
       "      <td>0</td>\n",
       "      <td>0</td>\n",
       "      <td>0</td>\n",
       "      <td>0</td>\n",
       "      <td>0</td>\n",
       "      <td>0</td>\n",
       "      <td>0</td>\n",
       "    </tr>\n",
       "    <tr>\n",
       "      <th>4</th>\n",
       "      <td>7</td>\n",
       "      <td>NaN</td>\n",
       "      <td>just got sent this photo from ruby alaska as s...</td>\n",
       "      <td>1</td>\n",
       "      <td>85</td>\n",
       "      <td>16</td>\n",
       "      <td>0</td>\n",
       "      <td>0</td>\n",
       "      <td>0</td>\n",
       "      <td>0</td>\n",
       "      <td>...</td>\n",
       "      <td>0</td>\n",
       "      <td>0</td>\n",
       "      <td>0</td>\n",
       "      <td>0</td>\n",
       "      <td>0</td>\n",
       "      <td>0</td>\n",
       "      <td>0</td>\n",
       "      <td>0</td>\n",
       "      <td>0</td>\n",
       "      <td>0</td>\n",
       "    </tr>\n",
       "    <tr>\n",
       "      <th>...</th>\n",
       "      <td>...</td>\n",
       "      <td>...</td>\n",
       "      <td>...</td>\n",
       "      <td>...</td>\n",
       "      <td>...</td>\n",
       "      <td>...</td>\n",
       "      <td>...</td>\n",
       "      <td>...</td>\n",
       "      <td>...</td>\n",
       "      <td>...</td>\n",
       "      <td>...</td>\n",
       "      <td>...</td>\n",
       "      <td>...</td>\n",
       "      <td>...</td>\n",
       "      <td>...</td>\n",
       "      <td>...</td>\n",
       "      <td>...</td>\n",
       "      <td>...</td>\n",
       "      <td>...</td>\n",
       "      <td>...</td>\n",
       "      <td>...</td>\n",
       "    </tr>\n",
       "    <tr>\n",
       "      <th>7608</th>\n",
       "      <td>10869</td>\n",
       "      <td>NaN</td>\n",
       "      <td>two giant cranes holding  bridge collapse into...</td>\n",
       "      <td>1</td>\n",
       "      <td>60</td>\n",
       "      <td>10</td>\n",
       "      <td>0</td>\n",
       "      <td>0</td>\n",
       "      <td>0</td>\n",
       "      <td>0</td>\n",
       "      <td>...</td>\n",
       "      <td>0</td>\n",
       "      <td>0</td>\n",
       "      <td>0</td>\n",
       "      <td>0</td>\n",
       "      <td>0</td>\n",
       "      <td>0</td>\n",
       "      <td>0</td>\n",
       "      <td>0</td>\n",
       "      <td>0</td>\n",
       "      <td>0</td>\n",
       "    </tr>\n",
       "    <tr>\n",
       "      <th>7609</th>\n",
       "      <td>10870</td>\n",
       "      <td>NaN</td>\n",
       "      <td>aria ahrary thetawniest the out of control wil...</td>\n",
       "      <td>1</td>\n",
       "      <td>121</td>\n",
       "      <td>21</td>\n",
       "      <td>0</td>\n",
       "      <td>0</td>\n",
       "      <td>0</td>\n",
       "      <td>0</td>\n",
       "      <td>...</td>\n",
       "      <td>0</td>\n",
       "      <td>0</td>\n",
       "      <td>0</td>\n",
       "      <td>0</td>\n",
       "      <td>0</td>\n",
       "      <td>0</td>\n",
       "      <td>0</td>\n",
       "      <td>0</td>\n",
       "      <td>0</td>\n",
       "      <td>0</td>\n",
       "    </tr>\n",
       "    <tr>\n",
       "      <th>7610</th>\n",
       "      <td>10871</td>\n",
       "      <td>NaN</td>\n",
       "      <td>utc km  of volcano hawaii</td>\n",
       "      <td>1</td>\n",
       "      <td>28</td>\n",
       "      <td>7</td>\n",
       "      <td>0</td>\n",
       "      <td>0</td>\n",
       "      <td>0</td>\n",
       "      <td>0</td>\n",
       "      <td>...</td>\n",
       "      <td>0</td>\n",
       "      <td>0</td>\n",
       "      <td>0</td>\n",
       "      <td>0</td>\n",
       "      <td>0</td>\n",
       "      <td>0</td>\n",
       "      <td>0</td>\n",
       "      <td>0</td>\n",
       "      <td>0</td>\n",
       "      <td>0</td>\n",
       "    </tr>\n",
       "    <tr>\n",
       "      <th>7611</th>\n",
       "      <td>10872</td>\n",
       "      <td>NaN</td>\n",
       "      <td>police investigating after an  bike collided w...</td>\n",
       "      <td>1</td>\n",
       "      <td>135</td>\n",
       "      <td>22</td>\n",
       "      <td>0</td>\n",
       "      <td>0</td>\n",
       "      <td>0</td>\n",
       "      <td>0</td>\n",
       "      <td>...</td>\n",
       "      <td>0</td>\n",
       "      <td>0</td>\n",
       "      <td>0</td>\n",
       "      <td>0</td>\n",
       "      <td>0</td>\n",
       "      <td>0</td>\n",
       "      <td>0</td>\n",
       "      <td>0</td>\n",
       "      <td>0</td>\n",
       "      <td>0</td>\n",
       "    </tr>\n",
       "    <tr>\n",
       "      <th>7612</th>\n",
       "      <td>10873</td>\n",
       "      <td>NaN</td>\n",
       "      <td>the latest more homes razed by northern califo...</td>\n",
       "      <td>1</td>\n",
       "      <td>68</td>\n",
       "      <td>11</td>\n",
       "      <td>0</td>\n",
       "      <td>0</td>\n",
       "      <td>0</td>\n",
       "      <td>0</td>\n",
       "      <td>...</td>\n",
       "      <td>0</td>\n",
       "      <td>0</td>\n",
       "      <td>0</td>\n",
       "      <td>0</td>\n",
       "      <td>0</td>\n",
       "      <td>0</td>\n",
       "      <td>0</td>\n",
       "      <td>0</td>\n",
       "      <td>0</td>\n",
       "      <td>0</td>\n",
       "    </tr>\n",
       "  </tbody>\n",
       "</table>\n",
       "<p>7613 rows × 227 columns</p>\n",
       "</div>"
      ],
      "text/plain": [
       "         id location                                               text  \\\n",
       "0         1      NaN  our deeds are the reason of this earthquake ma...   \n",
       "1         4      NaN              forest fire near la ronge sask canada   \n",
       "2         5      NaN  all residents asked to shelter in place are be...   \n",
       "3         6      NaN  people receive wildfires evacuation orders in ...   \n",
       "4         7      NaN  just got sent this photo from ruby alaska as s...   \n",
       "...     ...      ...                                                ...   \n",
       "7608  10869      NaN  two giant cranes holding  bridge collapse into...   \n",
       "7609  10870      NaN  aria ahrary thetawniest the out of control wil...   \n",
       "7610  10871      NaN                          utc km  of volcano hawaii   \n",
       "7611  10872      NaN  police investigating after an  bike collided w...   \n",
       "7612  10873      NaN  the latest more homes razed by northern califo...   \n",
       "\n",
       "      target  text_length  words_count  keyword_ablaze  keyword_accident  \\\n",
       "0          1           68           13               0                 0   \n",
       "1          1           37            7               0                 0   \n",
       "2          1          130           22               0                 0   \n",
       "3          1           56            7               0                 0   \n",
       "4          1           85           16               0                 0   \n",
       "...      ...          ...          ...             ...               ...   \n",
       "7608       1           60           10               0                 0   \n",
       "7609       1          121           21               0                 0   \n",
       "7610       1           28            7               0                 0   \n",
       "7611       1          135           22               0                 0   \n",
       "7612       1           68           11               0                 0   \n",
       "\n",
       "      keyword_aftershock  keyword_airplane accident  ...  keyword_weapons  \\\n",
       "0                      0                          0  ...                0   \n",
       "1                      0                          0  ...                0   \n",
       "2                      0                          0  ...                0   \n",
       "3                      0                          0  ...                0   \n",
       "4                      0                          0  ...                0   \n",
       "...                  ...                        ...  ...              ...   \n",
       "7608                   0                          0  ...                0   \n",
       "7609                   0                          0  ...                0   \n",
       "7610                   0                          0  ...                0   \n",
       "7611                   0                          0  ...                0   \n",
       "7612                   0                          0  ...                0   \n",
       "\n",
       "      keyword_whirlwind  keyword_wild fires  keyword_wildfire  \\\n",
       "0                     0                   0                 0   \n",
       "1                     0                   0                 0   \n",
       "2                     0                   0                 0   \n",
       "3                     0                   0                 0   \n",
       "4                     0                   0                 0   \n",
       "...                 ...                 ...               ...   \n",
       "7608                  0                   0                 0   \n",
       "7609                  0                   0                 0   \n",
       "7610                  0                   0                 0   \n",
       "7611                  0                   0                 0   \n",
       "7612                  0                   0                 0   \n",
       "\n",
       "      keyword_windstorm  keyword_wounded  keyword_wounds  keyword_wreck  \\\n",
       "0                     0                0               0              0   \n",
       "1                     0                0               0              0   \n",
       "2                     0                0               0              0   \n",
       "3                     0                0               0              0   \n",
       "4                     0                0               0              0   \n",
       "...                 ...              ...             ...            ...   \n",
       "7608                  0                0               0              0   \n",
       "7609                  0                0               0              0   \n",
       "7610                  0                0               0              0   \n",
       "7611                  0                0               0              0   \n",
       "7612                  0                0               0              0   \n",
       "\n",
       "      keyword_wreckage  keyword_wrecked  \n",
       "0                    0                0  \n",
       "1                    0                0  \n",
       "2                    0                0  \n",
       "3                    0                0  \n",
       "4                    0                0  \n",
       "...                ...              ...  \n",
       "7608                 0                0  \n",
       "7609                 0                0  \n",
       "7610                 0                0  \n",
       "7611                 0                0  \n",
       "7612                 0                0  \n",
       "\n",
       "[7613 rows x 227 columns]"
      ]
     },
     "execution_count": 7,
     "metadata": {},
     "output_type": "execute_result"
    }
   ],
   "source": [
    "OHE = pd.get_dummies(train, prefix=['keyword'], columns=['keyword'])\n",
    "OHE"
   ]
  },
  {
   "cell_type": "code",
   "execution_count": 9,
   "metadata": {},
   "outputs": [],
   "source": [
    "data = OHE.drop([\"id\",\"location\",\"text\",\"target\"], axis=1)\n",
    "target = OHE[\"target\"]"
   ]
  },
  {
   "cell_type": "code",
   "execution_count": 10,
   "metadata": {},
   "outputs": [],
   "source": [
    "x_train, x_test, y_train, y_test = train_test_split(data, target, test_size = 0.25)"
   ]
  },
  {
   "cell_type": "code",
   "execution_count": 68,
   "metadata": {},
   "outputs": [],
   "source": [
    "# feature selection\n",
    "def select_features(x_train, y_train, x_test):\n",
    "    fs = SelectKBest(score_func=chi2, k=100)\n",
    "    fs.fit(x_train, y_train)\n",
    "    x_train_fs = fs.transform(x_train)\n",
    "    x_test_fs = fs.transform(x_test)\n",
    "    return x_train_fs, x_test_fs"
   ]
  },
  {
   "cell_type": "code",
   "execution_count": 125,
   "metadata": {},
   "outputs": [],
   "source": [
    "x_train_fs, x_test_fs = select_features(x_train, y_train, x_test)"
   ]
  },
  {
   "cell_type": "code",
   "execution_count": 126,
   "metadata": {
    "scrolled": true
   },
   "outputs": [
    {
     "name": "stdout",
     "output_type": "stream",
     "text": [
      "Feature 0: 459.556255\n",
      "Feature 1: 1.072001\n",
      "Feature 2: 0.073017\n",
      "Feature 3: 9.242362\n",
      "Feature 4: 19.869592\n",
      "Feature 5: 21.726208\n",
      "Feature 6: 2.203909\n",
      "Feature 7: 0.073017\n",
      "Feature 8: 0.249703\n",
      "Feature 9: 4.338200\n",
      "Feature 10: 15.208132\n",
      "Feature 11: 11.228390\n",
      "Feature 12: 5.328916\n",
      "Feature 13: 2.388950\n",
      "Feature 14: 11.446758\n",
      "Feature 15: 2.794602\n",
      "Feature 16: 7.604066\n",
      "Feature 17: 5.037842\n",
      "Feature 18: 3.360389\n",
      "Feature 19: 3.829424\n",
      "Feature 20: 8.031076\n",
      "Feature 21: 11.959509\n",
      "Feature 22: 8.933566\n",
      "Feature 23: 14.982430\n",
      "Feature 24: 11.228390\n",
      "Feature 25: 12.840903\n",
      "Feature 26: 9.986276\n",
      "Feature 27: 13.562986\n",
      "Feature 28: 7.598215\n",
      "Feature 29: 16.812732\n",
      "Feature 30: 8.262177\n",
      "Feature 31: 18.015047\n",
      "Feature 32: 0.044372\n",
      "Feature 33: 0.026931\n",
      "Feature 34: 20.294078\n",
      "Feature 35: 16.851605\n",
      "Feature 36: 9.011522\n",
      "Feature 37: 17.867556\n",
      "Feature 38: 1.770314\n",
      "Feature 39: 2.479717\n",
      "Feature 40: 2.177271\n",
      "Feature 41: 8.705541\n",
      "Feature 42: 13.058312\n",
      "Feature 43: 0.010799\n",
      "Feature 44: 3.826319\n",
      "Feature 45: 9.242362\n",
      "Feature 46: 0.472857\n",
      "Feature 47: 7.866142\n",
      "Feature 48: 0.110369\n",
      "Feature 49: 0.921892\n",
      "Feature 50: 13.439308\n",
      "Feature 51: 0.868794\n",
      "Feature 52: 9.999050\n",
      "Feature 53: 0.974380\n",
      "Feature 54: 3.515605\n",
      "Feature 55: 10.295550\n",
      "Feature 56: 10.453705\n",
      "Feature 57: 7.598215\n",
      "Feature 58: 4.243974\n",
      "Feature 59: 0.042918\n",
      "Feature 60: 2.781101\n",
      "Feature 61: 3.836048\n",
      "Feature 62: 3.826319\n",
      "Feature 63: 4.355426\n",
      "Feature 64: 36.638900\n",
      "Feature 65: 8.678258\n",
      "Feature 66: 1.859788\n",
      "Feature 67: 8.933566\n",
      "Feature 68: 3.799552\n",
      "Feature 69: 2.060285\n",
      "Feature 70: 0.002417\n",
      "Feature 71: 6.661146\n",
      "Feature 72: 35.330368\n",
      "Feature 73: 2.236814\n",
      "Feature 74: 3.799552\n",
      "Feature 75: 3.387539\n",
      "Feature 76: 3.254874\n",
      "Feature 77: 10.295550\n",
      "Feature 78: 0.433755\n",
      "Feature 79: 3.798703\n",
      "Feature 80: 2.833650\n",
      "Feature 81: 13.082009\n",
      "Feature 82: 0.324477\n",
      "Feature 83: 16.016109\n",
      "Feature 84: 11.958639\n",
      "Feature 85: 9.986276\n",
      "Feature 86: 0.134477\n",
      "Feature 87: 4.338200\n",
      "Feature 88: 6.867197\n",
      "Feature 89: 13.082009\n",
      "Feature 90: 16.812732\n",
      "Feature 91: 0.682367\n",
      "Feature 92: 0.545207\n",
      "Feature 93: 2.266920\n",
      "Feature 94: 1.667375\n",
      "Feature 95: 1.282455\n",
      "Feature 96: 7.642151\n",
      "Feature 97: 3.451279\n",
      "Feature 98: 22.836758\n",
      "Feature 99: 16.016109\n",
      "Feature 100: 14.287787\n",
      "Feature 101: 3.326078\n",
      "Feature 102: 4.078293\n",
      "Feature 103: 0.545207\n",
      "Feature 104: 4.078293\n",
      "Feature 105: 8.429721\n",
      "Feature 106: 3.967110\n",
      "Feature 107: 6.762719\n",
      "Feature 108: 18.655904\n",
      "Feature 109: 3.326078\n",
      "Feature 110: 5.156431\n",
      "Feature 111: 0.051975\n",
      "Feature 112: 1.781970\n",
      "Feature 113: 11.963093\n",
      "Feature 114: 0.852582\n",
      "Feature 115: 11.958639\n",
      "Feature 116: 11.007977\n",
      "Feature 117: 11.479920\n",
      "Feature 118: 11.437817\n",
      "Feature 119: 0.158249\n",
      "Feature 120: 11.958639\n",
      "Feature 121: 13.080042\n",
      "Feature 122: 2.306646\n",
      "Feature 123: 0.612840\n",
      "Feature 124: 10.402200\n",
      "Feature 125: 5.992266\n",
      "Feature 126: 0.013964\n",
      "Feature 127: 0.767556\n",
      "Feature 128: 0.040918\n",
      "Feature 129: 0.085184\n",
      "Feature 130: 7.110545\n",
      "Feature 131: 1.253568\n",
      "Feature 132: 7.400514\n",
      "Feature 133: 2.846143\n",
      "Feature 134: 2.166998\n",
      "Feature 135: 6.643168\n",
      "Feature 136: 0.619929\n",
      "Feature 137: 0.061864\n",
      "Feature 138: 6.762719\n",
      "Feature 139: 1.646915\n",
      "Feature 140: 8.262177\n",
      "Feature 141: 17.189960\n",
      "Feature 142: 2.833650\n",
      "Feature 143: 6.203022\n",
      "Feature 144: 9.986276\n",
      "Feature 145: 8.262177\n",
      "Feature 146: 2.479717\n",
      "Feature 147: 1.781970\n",
      "Feature 148: 0.767556\n",
      "Feature 149: 20.328300\n",
      "Feature 150: 0.767556\n",
      "Feature 151: 7.208689\n",
      "Feature 152: 9.283152\n",
      "Feature 153: 11.963093\n",
      "Feature 154: 30.864146\n",
      "Feature 155: 37.383238\n",
      "Feature 156: 3.326078\n",
      "Feature 157: 12.700156\n",
      "Feature 158: 13.469426\n",
      "Feature 159: 2.765957\n",
      "Feature 160: 5.863992\n",
      "Feature 161: 0.342692\n",
      "Feature 162: 0.145494\n",
      "Feature 163: 0.026640\n",
      "Feature 164: 21.570415\n",
      "Feature 165: 2.745702\n",
      "Feature 166: 2.731915\n",
      "Feature 167: 2.179686\n",
      "Feature 168: 26.699609\n",
      "Feature 169: 4.893556\n",
      "Feature 170: 4.795620\n",
      "Feature 171: 0.330812\n",
      "Feature 172: 21.398022\n",
      "Feature 173: 11.958639\n",
      "Feature 174: 13.562986\n",
      "Feature 175: 13.439308\n",
      "Feature 176: 10.694099\n",
      "Feature 177: 0.001813\n",
      "Feature 178: 7.769458\n",
      "Feature 179: 8.678258\n",
      "Feature 180: 9.332990\n",
      "Feature 181: 3.798703\n",
      "Feature 182: 7.208689\n",
      "Feature 183: 0.061864\n",
      "Feature 184: 0.734724\n",
      "Feature 185: 11.406099\n",
      "Feature 186: 4.152912\n",
      "Feature 187: 32.713304\n",
      "Feature 188: 30.096239\n",
      "Feature 189: 31.404772\n",
      "Feature 190: 6.047481\n",
      "Feature 191: 7.598215\n",
      "Feature 192: 0.682367\n",
      "Feature 193: 4.876509\n",
      "Feature 194: 8.376438\n",
      "Feature 195: 10.330508\n",
      "Feature 196: 1.735652\n",
      "Feature 197: 1.957343\n",
      "Feature 198: 6.453512\n",
      "Feature 199: 1.199003\n",
      "Feature 200: 2.833650\n",
      "Feature 201: 2.781101\n",
      "Feature 202: 0.233257\n",
      "Feature 203: 14.922983\n",
      "Feature 204: 9.283152\n",
      "Feature 205: 1.957343\n",
      "Feature 206: 10.662361\n",
      "Feature 207: 29.561416\n",
      "Feature 208: 9.611586\n",
      "Feature 209: 10.875674\n",
      "Feature 210: 5.539376\n",
      "Feature 211: 2.186468\n",
      "Feature 212: 0.044372\n",
      "Feature 213: 1.225680\n",
      "Feature 214: 1.667375\n",
      "Feature 215: 20.497927\n",
      "Feature 216: 16.851605\n",
      "Feature 217: 0.290369\n",
      "Feature 218: 10.628591\n",
      "Feature 219: 1.957343\n",
      "Feature 220: 3.799552\n",
      "Feature 221: 32.713304\n",
      "Feature 222: 14.922983\n"
     ]
    }
   ],
   "source": [
    "for i in range(len(fs.scores_)):\n",
    "    print('Feature %d: %f' % (i, fs.scores_[i]))"
   ]
  },
  {
   "cell_type": "code",
   "execution_count": 127,
   "metadata": {},
   "outputs": [
    {
     "data": {
      "image/png": "[encoded data removed]",
      "text/plain": [
       "<Figure size 432x288 with 1 Axes>"
      ]
     },
     "metadata": {
      "needs_background": "light"
     },
     "output_type": "display_data"
    }
   ],
   "source": [
    "# plot the scores\n",
    "pyplot.bar([i for i in range(len(fs.scores_))], fs.scores_)\n",
    "pyplot.show()"
   ]
  },
  {
   "cell_type": "code",
   "execution_count": 128,
   "metadata": {},
   "outputs": [],
   "source": [
    "# feature selection\n",
    "def select_features2(x_train, y_train, x_test):\n",
    "    fs2 = SelectKBest(score_func=mutual_info_classif, k=100)\n",
    "    fs2.fit(x_train, y_train)\n",
    "    x_train_fs2 = fs2.transform(x_train)\n",
    "    x_test_fs2 = fs2.transform(x_test)\n",
    "    return x_train_fs2, x_test_fs2, fs2"
   ]
  },
  {
   "cell_type": "code",
   "execution_count": 129,
   "metadata": {},
   "outputs": [],
   "source": [
    "x_train_fs2, x_test_fs2, fs2 = select_features2(x_train, y_train, x_test)"
   ]
  },
  {
   "cell_type": "code",
   "execution_count": 130,
   "metadata": {},
   "outputs": [
    {
     "name": "stdout",
     "output_type": "stream",
     "text": [
      "Feature 0: 0.024161\n",
      "Feature 1: 0.022467\n",
      "Feature 2: 0.013428\n",
      "Feature 3: 0.008017\n",
      "Feature 4: 0.000000\n",
      "Feature 5: 0.001545\n",
      "Feature 6: 0.003808\n",
      "Feature 7: 0.000000\n",
      "Feature 8: 0.000000\n",
      "Feature 9: 0.003130\n",
      "Feature 10: 0.010335\n",
      "Feature 11: 0.000000\n",
      "Feature 12: 0.010731\n",
      "Feature 13: 0.000000\n",
      "Feature 14: 0.000000\n",
      "Feature 15: 0.008241\n",
      "Feature 16: 0.010332\n",
      "Feature 17: 0.013086\n",
      "Feature 18: 0.007646\n",
      "Feature 19: 0.004078\n",
      "Feature 20: 0.000000\n",
      "Feature 21: 0.001351\n",
      "Feature 22: 0.000000\n",
      "Feature 23: 0.000000\n",
      "Feature 24: 0.009378\n",
      "Feature 25: 0.006218\n",
      "Feature 26: 0.007545\n",
      "Feature 27: 0.000000\n",
      "Feature 28: 0.004073\n",
      "Feature 29: 0.008326\n",
      "Feature 30: 0.000000\n",
      "Feature 31: 0.002657\n",
      "Feature 32: 0.004906\n",
      "Feature 33: 0.000000\n",
      "Feature 34: 0.007939\n",
      "Feature 35: 0.000000\n",
      "Feature 36: 0.001717\n",
      "Feature 37: 0.000000\n",
      "Feature 38: 0.000000\n",
      "Feature 39: 0.000000\n",
      "Feature 40: 0.000000\n",
      "Feature 41: 0.004731\n",
      "Feature 42: 0.006864\n",
      "Feature 43: 0.010430\n",
      "Feature 44: 0.008303\n",
      "Feature 45: 0.009028\n",
      "Feature 46: 0.001362\n",
      "Feature 47: 0.000000\n",
      "Feature 48: 0.005523\n",
      "Feature 49: 0.008227\n",
      "Feature 50: 0.005126\n",
      "Feature 51: 0.000000\n",
      "Feature 52: 0.000000\n",
      "Feature 53: 0.000000\n",
      "Feature 54: 0.006884\n",
      "Feature 55: 0.011584\n",
      "Feature 56: 0.001058\n",
      "Feature 57: 0.008180\n",
      "Feature 58: 0.000000\n",
      "Feature 59: 0.007869\n",
      "Feature 60: 0.007050\n",
      "Feature 61: 0.000000\n",
      "Feature 62: 0.000000\n",
      "Feature 63: 0.008378\n",
      "Feature 64: 0.010130\n",
      "Feature 65: 0.000000\n",
      "Feature 66: 0.005376\n",
      "Feature 67: 0.000000\n",
      "Feature 68: 0.005716\n",
      "Feature 69: 0.004425\n",
      "Feature 70: 0.001329\n",
      "Feature 71: 0.011413\n",
      "Feature 72: 0.000000\n",
      "Feature 73: 0.002387\n",
      "Feature 74: 0.000000\n",
      "Feature 75: 0.000000\n",
      "Feature 76: 0.000000\n",
      "Feature 77: 0.000000\n",
      "Feature 78: 0.000000\n",
      "Feature 79: 0.000943\n",
      "Feature 80: 0.002212\n",
      "Feature 81: 0.000661\n",
      "Feature 82: 0.000889\n",
      "Feature 83: 0.004042\n",
      "Feature 84: 0.000000\n",
      "Feature 85: 0.000590\n",
      "Feature 86: 0.000000\n",
      "Feature 87: 0.011713\n",
      "Feature 88: 0.005333\n",
      "Feature 89: 0.000000\n",
      "Feature 90: 0.000000\n",
      "Feature 91: 0.000530\n",
      "Feature 92: 0.000000\n",
      "Feature 93: 0.000000\n",
      "Feature 94: 0.000908\n",
      "Feature 95: 0.005484\n",
      "Feature 96: 0.000000\n",
      "Feature 97: 0.000000\n",
      "Feature 98: 0.000000\n",
      "Feature 99: 0.008744\n",
      "Feature 100: 0.000000\n",
      "Feature 101: 0.000000\n",
      "Feature 102: 0.003698\n",
      "Feature 103: 0.000000\n",
      "Feature 104: 0.000000\n",
      "Feature 105: 0.001439\n",
      "Feature 106: 0.005313\n",
      "Feature 107: 0.000000\n",
      "Feature 108: 0.000000\n",
      "Feature 109: 0.001032\n",
      "Feature 110: 0.013010\n",
      "Feature 111: 0.006299\n",
      "Feature 112: 0.006016\n",
      "Feature 113: 0.000000\n",
      "Feature 114: 0.000000\n",
      "Feature 115: 0.000000\n",
      "Feature 116: 0.000000\n",
      "Feature 117: 0.000000\n",
      "Feature 118: 0.005437\n",
      "Feature 119: 0.005366\n",
      "Feature 120: 0.003601\n",
      "Feature 121: 0.005075\n",
      "Feature 122: 0.003009\n",
      "Feature 123: 0.000000\n",
      "Feature 124: 0.001633\n",
      "Feature 125: 0.000534\n",
      "Feature 126: 0.000000\n",
      "Feature 127: 0.000000\n",
      "Feature 128: 0.000000\n",
      "Feature 129: 0.001042\n",
      "Feature 130: 0.003744\n",
      "Feature 131: 0.000000\n",
      "Feature 132: 0.000431\n",
      "Feature 133: 0.001027\n",
      "Feature 134: 0.000000\n",
      "Feature 135: 0.008934\n",
      "Feature 136: 0.000928\n",
      "Feature 137: 0.000000\n",
      "Feature 138: 0.006630\n",
      "Feature 139: 0.001107\n",
      "Feature 140: 0.000000\n",
      "Feature 141: 0.000000\n",
      "Feature 142: 0.001090\n",
      "Feature 143: 0.000000\n",
      "Feature 144: 0.000941\n",
      "Feature 145: 0.007082\n",
      "Feature 146: 0.013387\n",
      "Feature 147: 0.000000\n",
      "Feature 148: 0.001524\n",
      "Feature 149: 0.000000\n",
      "Feature 150: 0.000000\n",
      "Feature 151: 0.007167\n",
      "Feature 152: 0.000000\n",
      "Feature 153: 0.006227\n",
      "Feature 154: 0.000000\n",
      "Feature 155: 0.000000\n",
      "Feature 156: 0.000000\n",
      "Feature 157: 0.002651\n",
      "Feature 158: 0.000000\n",
      "Feature 159: 0.000000\n",
      "Feature 160: 0.000000\n",
      "Feature 161: 0.001099\n",
      "Feature 162: 0.000000\n",
      "Feature 163: 0.001849\n",
      "Feature 164: 0.013946\n",
      "Feature 165: 0.000000\n",
      "Feature 166: 0.008670\n",
      "Feature 167: 0.000000\n",
      "Feature 168: 0.007851\n",
      "Feature 169: 0.000079\n",
      "Feature 170: 0.000000\n",
      "Feature 171: 0.000000\n",
      "Feature 172: 0.000000\n",
      "Feature 173: 0.001256\n",
      "Feature 174: 0.000000\n",
      "Feature 175: 0.001615\n",
      "Feature 176: 0.000355\n",
      "Feature 177: 0.003067\n",
      "Feature 178: 0.009987\n",
      "Feature 179: 0.000000\n",
      "Feature 180: 0.000000\n",
      "Feature 181: 0.001974\n",
      "Feature 182: 0.015755\n",
      "Feature 183: 0.000000\n",
      "Feature 184: 0.000000\n",
      "Feature 185: 0.008755\n",
      "Feature 186: 0.000000\n",
      "Feature 187: 0.000000\n",
      "Feature 188: 0.013509\n",
      "Feature 189: 0.001409\n",
      "Feature 190: 0.011159\n",
      "Feature 191: 0.003555\n",
      "Feature 192: 0.005287\n",
      "Feature 193: 0.002191\n",
      "Feature 194: 0.002482\n",
      "Feature 195: 0.000000\n",
      "Feature 196: 0.000000\n",
      "Feature 197: 0.000324\n",
      "Feature 198: 0.000405\n",
      "Feature 199: 0.000000\n",
      "Feature 200: 0.011144\n",
      "Feature 201: 0.007851\n",
      "Feature 202: 0.007504\n",
      "Feature 203: 0.001920\n",
      "Feature 204: 0.007762\n",
      "Feature 205: 0.000000\n",
      "Feature 206: 0.000000\n",
      "Feature 207: 0.003788\n",
      "Feature 208: 0.000000\n",
      "Feature 209: 0.000770\n",
      "Feature 210: 0.001398\n",
      "Feature 211: 0.000000\n",
      "Feature 212: 0.000000\n",
      "Feature 213: 0.000000\n",
      "Feature 214: 0.003875\n",
      "Feature 215: 0.000000\n",
      "Feature 216: 0.000000\n",
      "Feature 217: 0.000000\n",
      "Feature 218: 0.000000\n",
      "Feature 219: 0.000510\n",
      "Feature 220: 0.004437\n",
      "Feature 221: 0.000000\n",
      "Feature 222: 0.000000\n"
     ]
    }
   ],
   "source": [
    "# what are scores for the features\n",
    "for i in range(len(fs2.scores_)):\n",
    "    print('Feature %d: %f' % (i, fs2.scores_[i]))"
   ]
  },
  {
   "cell_type": "code",
   "execution_count": 131,
   "metadata": {},
   "outputs": [
    {
     "data": {
      "image/png": "[encoded data removed]",
      "text/plain": [
       "<Figure size 432x288 with 1 Axes>"
      ]
     },
     "metadata": {
      "needs_background": "light"
     },
     "output_type": "display_data"
    }
   ],
   "source": [
    "# plot the scores\n",
    "pyplot.bar([i for i in range(len(fs2.scores_))], fs2.scores_)\n",
    "pyplot.show()"
   ]
  },
  {
   "cell_type": "code",
   "execution_count": 132,
   "metadata": {},
   "outputs": [
    {
     "name": "stdout",
     "output_type": "stream",
     "text": [
      "Accuracy: 73.21\n"
     ]
    },
    {
     "name": "stderr",
     "output_type": "stream",
     "text": [
      "/home/martin/miniconda3/lib/python3.7/site-packages/sklearn/linear_model/logistic.py:947: ConvergenceWarning: lbfgs failed to converge. Increase the number of iterations.\n",
      "  \"of iterations.\", ConvergenceWarning)\n"
     ]
    }
   ],
   "source": [
    "# fit the model\n",
    "model = LogisticRegression(solver='lbfgs')\n",
    "model.fit(x_train, y_train)\n",
    "# evaluate the model\n",
    "yhat = model.predict(x_test)\n",
    "# evaluate predictions\n",
    "accuracy = accuracy_score(y_test, yhat)\n",
    "print('Accuracy: %.2f' % (accuracy*100))"
   ]
  },
  {
   "cell_type": "code",
   "execution_count": 133,
   "metadata": {},
   "outputs": [
    {
     "name": "stdout",
     "output_type": "stream",
     "text": [
      "Accuracy: 68.70\n"
     ]
    }
   ],
   "source": [
    "# fit the model\n",
    "model = LogisticRegression(solver='lbfgs')\n",
    "model.fit(x_train_fs, y_train)\n",
    "# evaluate the model\n",
    "yhat = model.predict(x_test_fs)\n",
    "# evaluate predictions\n",
    "accuracy = accuracy_score(y_test, yhat)\n",
    "print('Accuracy: %.2f' % (accuracy*100))"
   ]
  },
  {
   "cell_type": "code",
   "execution_count": 134,
   "metadata": {},
   "outputs": [
    {
     "name": "stdout",
     "output_type": "stream",
     "text": [
      "Accuracy: 66.39\n"
     ]
    }
   ],
   "source": [
    "# fit the model\n",
    "model = LogisticRegression(solver='lbfgs')\n",
    "model.fit(x_train_fs2, y_train)\n",
    "# evaluate the model\n",
    "yhat = model.predict(x_test_fs2)\n",
    "# evaluate predictions\n",
    "accuracy = accuracy_score(y_test, yhat)\n",
    "print('Accuracy: %.2f' % (accuracy*100))"
   ]
  },
  {
   "cell_type": "markdown",
   "metadata": {},
   "source": [
    "# Logistic Regression"
   ]
  },
  {
   "cell_type": "code",
   "execution_count": 75,
   "metadata": {},
   "outputs": [],
   "source": [
    "log_reg_grid_param = {'solver': ['liblinear'],\n",
    "               'penalty': ['l1', 'l2'],\n",
    "                \"C\": np.logspace(-4, 4, 20)}\n",
    "# tuned hpyerparameters :(best parameters)  {'C': 11.288378916846883, 'penalty': 'l1', 'solver': 'liblinear'}\n",
    "# accuracy : 0.6773280120566767\n",
    "\n",
    "\n",
    "#log_reg_grid_param = {'solver': ['liblinear', 'lbfgs', 'newton-cg'],\n",
    "#                \"C\": np.logspace(-4, 4, 20)}\n",
    "# tuned hpyerparameters :(best parameters)  {'C': 206.913808111479, 'solver': 'liblinear'}\n",
    "# accuracy : 0.6762867722923174\n",
    "\n",
    "#log_reg_grid_param = {'penalty': ['l1', 'l2'],\n",
    "#                \"C\": np.logspace(-4, 4, 20)}\n",
    "# tuned hpyerparameters :(best parameters)  {'C': 11.288378916846883, 'penalty': 'l1'}\n",
    "# accuracy : 0.6773280120566767"
   ]
  },
  {
   "cell_type": "code",
   "execution_count": 38,
   "metadata": {},
   "outputs": [],
   "source": [
    "def logisticReg(x_train, x_test, y_train, y_test, solver, penalty):\n",
    "    logReg = LogisticRegression(solver=solver, penalty=penalty)\n",
    "    logReg.fit(x_train, y_train)\n",
    "    y_pred = logReg.predict(x_test)\n",
    "    return mean_absolute_error(y_test, y_pred)"
   ]
  },
  {
   "cell_type": "code",
   "execution_count": 70,
   "metadata": {},
   "outputs": [],
   "source": [
    "logisticReggesion = LogisticRegression()"
   ]
  },
  {
   "cell_type": "code",
   "execution_count": 76,
   "metadata": {
    "scrolled": true
   },
   "outputs": [
    {
     "name": "stdout",
     "output_type": "stream",
     "text": [
      "Fitting 5 folds for each of 40 candidates, totalling 200 fits\n"
     ]
    },
    {
     "name": "stderr",
     "output_type": "stream",
     "text": [
      "[Parallel(n_jobs=-1)]: Using backend LokyBackend with 8 concurrent workers.\n",
      "[Parallel(n_jobs=-1)]: Done  34 tasks      | elapsed:    1.6s\n",
      "[Parallel(n_jobs=-1)]: Done 185 out of 200 | elapsed:    3.4s remaining:    0.3s\n",
      "[Parallel(n_jobs=-1)]: Done 200 out of 200 | elapsed:    3.5s finished\n",
      "/home/martin/miniconda3/lib/python3.7/site-packages/sklearn/linear_model/logistic.py:432: FutureWarning: Default solver will be changed to 'lbfgs' in 0.22. Specify a solver to silence this warning.\n",
      "  FutureWarning)\n"
     ]
    },
    {
     "name": "stdout",
     "output_type": "stream",
     "text": [
      "tuned hpyerparameters :(best parameters)  {'C': 11.288378916846883, 'penalty': 'l1'}\n",
      "accuracy : 0.6773280120566767\n"
     ]
    }
   ],
   "source": [
    "logistic_GS = GridSearchCV(estimator=logisticReggesion, param_grid=log_reg_grid_param, verbose=1, scoring=\"f1\", cv=5, n_jobs=-1)\n",
    "logistic_GS.fit(x_train, y_train)\n",
    "print(\"tuned hpyerparameters :(best parameters) \",logistic_GS.best_params_)\n",
    "print(\"accuracy :\",logistic_GS.best_score_)"
   ]
  },
  {
   "cell_type": "markdown",
   "metadata": {},
   "source": [
    "# KNN"
   ]
  },
  {
   "cell_type": "code",
   "execution_count": 86,
   "metadata": {},
   "outputs": [],
   "source": [
    "#knn_grid_param = {'n_neighbors': [3,5,11,19],\n",
    "#               'algorithm': ['auto'],\n",
    "#               'metric': ['manhattan', 'euclidean'],\n",
    "#                'weights': ['uniform', 'distance']}\n",
    "# tuned hpyerparameters :(best parameters)  {'algorithm': 'auto', 'metric': 'manhattan', 'n_neighbors': 19, 'weights': 'distance'}\n",
    "# accuracy : 0.5584487464918637\n",
    "\n",
    "#knn_grid_param = {'n_neighbors': [11,19,25,30],\n",
    "#               'algorithm': ['auto'],\n",
    "#               'metric': ['manhattan', 'euclidean'],\n",
    "#                'weights': ['uniform', 'distance']}\n",
    "# tuned hpyerparameters :(best parameters)  {'algorithm': 'auto', 'metric': 'manhattan', 'n_neighbors': 19, 'weights': 'distance'}\n",
    "# accuracy : 0.5584487464918637\n",
    "\n",
    "#knn_grid_param = {'n_neighbors': [14,15,16,17,18,19,20],\n",
    "#               'algorithm': ['auto'],\n",
    "#               'metric': ['manhattan', 'euclidean'],\n",
    "#                'weights': ['uniform', 'distance']}\n",
    "# tuned hpyerparameters :(best parameters)  {'algorithm': 'auto', 'metric': 'manhattan', 'n_neighbors': 17, 'weights': 'distance'}\n",
    "# accuracy : 0.5602674085086873\n",
    "\n",
    "knn_grid_param = {'n_neighbors': [17,50,100,150,200],\n",
    "               'algorithm': ['auto'],\n",
    "               'metric': ['manhattan', 'euclidean'],\n",
    "                'weights': ['uniform', 'distance']}\n",
    "# tuned hpyerparameters :(best parameters)  {'algorithm': 'auto', 'metric': 'manhattan', 'n_neighbors': 17, 'weights': 'distance'}\n",
    "# accuracy : 0.5602674085086873"
   ]
  },
  {
   "cell_type": "code",
   "execution_count": 47,
   "metadata": {},
   "outputs": [],
   "source": [
    "knnClassifier = KNeighborsClassifier()"
   ]
  },
  {
   "cell_type": "code",
   "execution_count": 87,
   "metadata": {},
   "outputs": [
    {
     "name": "stdout",
     "output_type": "stream",
     "text": [
      "Fitting 5 folds for each of 20 candidates, totalling 100 fits\n"
     ]
    },
    {
     "name": "stderr",
     "output_type": "stream",
     "text": [
      "[Parallel(n_jobs=-1)]: Using backend LokyBackend with 8 concurrent workers.\n",
      "[Parallel(n_jobs=-1)]: Done  34 tasks      | elapsed:    4.3s\n"
     ]
    },
    {
     "name": "stdout",
     "output_type": "stream",
     "text": [
      "tuned hpyerparameters :(best parameters)  {'algorithm': 'auto', 'metric': 'manhattan', 'n_neighbors': 17, 'weights': 'distance'}\n",
      "accuracy : 0.5602674085086873\n"
     ]
    },
    {
     "name": "stderr",
     "output_type": "stream",
     "text": [
      "[Parallel(n_jobs=-1)]: Done 100 out of 100 | elapsed:    9.1s finished\n"
     ]
    }
   ],
   "source": [
    "knn_GS = GridSearchCV(estimator=knnClassifier, param_grid=knn_grid_param, verbose=1, scoring=\"f1\", cv=5, n_jobs=-1)\n",
    "knn_GS.fit(x_train, y_train)\n",
    "print(\"tuned hpyerparameters :(best parameters) \",knn_GS.best_params_)\n",
    "print(\"accuracy :\",knn_GS.best_score_)"
   ]
  },
  {
   "cell_type": "markdown",
   "metadata": {},
   "source": [
    "# Decision Tree"
   ]
  },
  {
   "cell_type": "code",
   "execution_count": 94,
   "metadata": {},
   "outputs": [],
   "source": [
    "decision_tree_grid = {'max_depth': [20,40,60,80,100],\n",
    "                     'min_samples_split': [2,4,6,8,10],\n",
    "                     'min_samples_leaf': [1,2,5,10]}\n",
    "# tuned hpyerparameters :(best parameters)  {'max_depth': 80, 'min_samples_leaf': 1, 'min_samples_split': 2}\n",
    "# accuracy : 0.5733099080349381"
   ]
  },
  {
   "cell_type": "code",
   "execution_count": 89,
   "metadata": {},
   "outputs": [],
   "source": [
    "decisionClassifier = DecisionTreeClassifier()"
   ]
  },
  {
   "cell_type": "code",
   "execution_count": 95,
   "metadata": {},
   "outputs": [
    {
     "name": "stdout",
     "output_type": "stream",
     "text": [
      "Fitting 5 folds for each of 100 candidates, totalling 500 fits\n"
     ]
    },
    {
     "name": "stderr",
     "output_type": "stream",
     "text": [
      "[Parallel(n_jobs=-1)]: Using backend LokyBackend with 8 concurrent workers.\n",
      "[Parallel(n_jobs=-1)]: Done  34 tasks      | elapsed:    2.2s\n",
      "[Parallel(n_jobs=-1)]: Done 184 tasks      | elapsed:    5.7s\n",
      "[Parallel(n_jobs=-1)]: Done 434 tasks      | elapsed:   13.0s\n"
     ]
    },
    {
     "name": "stdout",
     "output_type": "stream",
     "text": [
      "tuned hpyerparameters :(best parameters)  {'max_depth': 80, 'min_samples_leaf': 1, 'min_samples_split': 2}\n",
      "accuracy : 0.5733099080349381\n"
     ]
    },
    {
     "name": "stderr",
     "output_type": "stream",
     "text": [
      "[Parallel(n_jobs=-1)]: Done 500 out of 500 | elapsed:   14.4s finished\n"
     ]
    }
   ],
   "source": [
    "decision_GS = GridSearchCV(estimator=decisionClassifier, param_grid=decision_tree_grid, scoring='f1', verbose=1, cv=5, n_jobs=-1)\n",
    "decision_GS.fit(x_train, y_train)\n",
    "print(\"tuned hpyerparameters :(best parameters) \",decision_GS.best_params_)\n",
    "print(\"accuracy :\",decision_GS.best_score_)"
   ]
  },
  {
   "cell_type": "markdown",
   "metadata": {},
   "source": [
    "# Random Forest"
   ]
  },
  {
   "cell_type": "code",
   "execution_count": 18,
   "metadata": {},
   "outputs": [],
   "source": [
    "#random_forest_grid_param = {'bootstrap': [True, False],\n",
    "#                            'max_depth': [10, 20, 30, 40, 50, 60, 70, 80, 90, 100, None],\n",
    "#                            'max_features': ['auto', 'sqrt'],\n",
    "#                            'min_samples_leaf': [1, 2, 4],\n",
    "#                            'min_samples_split': [2, 5, 10],\n",
    "#                            'n_estimators': [200, 400, 600, 800, 1000, 1200, 1400, 1600, 1800, 2000]}\n",
    "\n",
    "#random_forest_grid_param = {'bootstrap': [True, False],\n",
    "#                            'max_depth': [10, 20, 30, None],\n",
    "#                            'max_features': ['auto', 'sqrt'],\n",
    "#                            'min_samples_leaf': [1, 2, 4],\n",
    "#                            'min_samples_split': [2, 5, 10],\n",
    "#                            'n_estimators': [200, 400, 600]}\n",
    "#tuned hpyerparameters :(best parameters)  {'bootstrap': True, 'max_depth': None, 'max_features': 'sqrt', 'min_samples_leaf': 1, 'min_samples_split': 10, 'n_estimators': 200}\n",
    "#accuracy : 0.653347094748209\n",
    "\n",
    "#random_forest_grid_param = {'bootstrap': [True],\n",
    "#                            'max_depth': [2, 4, 6, None],\n",
    "#                            'max_features': ['sqrt'],\n",
    "#                            'min_samples_leaf': [1, 5, 7],\n",
    "#                            'min_samples_split': [9, 10, 11],\n",
    "#                            'n_estimators': [50,100,200]}\n",
    "#tuned hpyerparameters :(best parameters)  {'bootstrap': True, 'max_depth': None, 'max_features': 'sqrt', 'min_samples_leaf': 1, 'min_samples_split': 10, 'n_estimators': 50}\n",
    "#accuracy : 0.6534201199529246\n",
    "\n",
    "random_forest_grid_param = {'bootstrap': [True],\n",
    "                            'max_depth': [2, 4, 6, None],\n",
    "                            'max_features': ['sqrt'],\n",
    "                            'min_samples_leaf': [1,10,15],\n",
    "                            'min_samples_split': [9, 10, 11],\n",
    "                            'n_estimators': [20,30,50,75]}\n",
    "#tuned hpyerparameters :(best parameters)  {'bootstrap': True, 'max_depth': None, 'max_features': 'sqrt', 'min_samples_leaf': 1, 'min_samples_split': 9, 'n_estimators': 20}\n",
    "#accuracy : 0.6541641584525214\n",
    "\n",
    "#random_forest_grid_param = {'bootstrap': [True],\n",
    "#                            'max_depth': [50, 60, 70, None],\n",
    "#                            'max_features': ['sqrt'],\n",
    "#                            'min_samples_leaf': [1,2,3],\n",
    "#                            'min_samples_split': [9, 10, 11],\n",
    "#                            'n_estimators': [5,9,12,15,20]}\n",
    "#tuned hpyerparameters :(best parameters)  {'bootstrap': True, 'max_depth': None, 'max_features': 'sqrt', 'min_samples_leaf': 1, 'min_samples_split': 11, 'n_estimators': 15}\n",
    "#accuracy : 0.6492213934204937"
   ]
  },
  {
   "cell_type": "code",
   "execution_count": 14,
   "metadata": {},
   "outputs": [],
   "source": [
    "rfClassifier = RandomForestClassifier()"
   ]
  },
  {
   "cell_type": "code",
   "execution_count": 19,
   "metadata": {},
   "outputs": [
    {
     "name": "stdout",
     "output_type": "stream",
     "text": [
      "Fitting 5 folds for each of 180 candidates, totalling 900 fits\n"
     ]
    },
    {
     "name": "stderr",
     "output_type": "stream",
     "text": [
      "[Parallel(n_jobs=-1)]: Using backend LokyBackend with 8 concurrent workers.\n",
      "[Parallel(n_jobs=-1)]: Done  34 tasks      | elapsed:    2.4s\n",
      "[Parallel(n_jobs=-1)]: Done 184 tasks      | elapsed:    6.9s\n",
      "[Parallel(n_jobs=-1)]: Done 434 tasks      | elapsed:   15.2s\n",
      "[Parallel(n_jobs=-1)]: Done 784 tasks      | elapsed:   28.8s\n",
      "[Parallel(n_jobs=-1)]: Done 900 out of 900 | elapsed:   33.4s finished\n"
     ]
    },
    {
     "name": "stdout",
     "output_type": "stream",
     "text": [
      "tuned hpyerparameters :(best parameters)  {'bootstrap': True, 'max_depth': None, 'max_features': 'sqrt', 'min_samples_leaf': 1, 'min_samples_split': 11, 'n_estimators': 15}\n",
      "accuracy : 0.6492213934204937\n"
     ]
    }
   ],
   "source": [
    "rf_GS = GridSearchCV(estimator=rfClassifier, param_grid=random_forest_grid_param, scoring='f1', verbose=1, cv=5, n_jobs=-1)\n",
    "rf_GS.fit(x_train, y_train)\n",
    "print(\"tuned hpyerparameters :(best parameters) \",rf_GS.best_params_)\n",
    "print(\"accuracy :\",rf_GS.best_score_)"
   ]
  },
  {
   "cell_type": "markdown",
   "metadata": {},
   "source": [
    "# Ada Boost"
   ]
  },
  {
   "cell_type": "code",
   "execution_count": 31,
   "metadata": {},
   "outputs": [],
   "source": [
    "ada_grid = {'n_estimators': np.arange(280,400,10),\n",
    "            'learning_rate' : [0.01,0.05,0.1,0.3,0.7,1]}\n",
    "#tuned hpyerparameters :(best parameters)  {'learning_rate': 1, 'n_estimators': 350}\n",
    "#accuracy : 0.6775816558491128"
   ]
  },
  {
   "cell_type": "code",
   "execution_count": 24,
   "metadata": {},
   "outputs": [],
   "source": [
    "ada = AdaBoostClassifier()"
   ]
  },
  {
   "cell_type": "code",
   "execution_count": 32,
   "metadata": {},
   "outputs": [
    {
     "name": "stdout",
     "output_type": "stream",
     "text": [
      "Fitting 5 folds for each of 72 candidates, totalling 360 fits\n"
     ]
    },
    {
     "name": "stderr",
     "output_type": "stream",
     "text": [
      "[Parallel(n_jobs=-1)]: Using backend LokyBackend with 8 concurrent workers.\n",
      "[Parallel(n_jobs=-1)]: Done  34 tasks      | elapsed:   34.2s\n",
      "[Parallel(n_jobs=-1)]: Done 184 tasks      | elapsed:  2.9min\n",
      "[Parallel(n_jobs=-1)]: Done 360 out of 360 | elapsed:  5.6min finished\n"
     ]
    },
    {
     "name": "stdout",
     "output_type": "stream",
     "text": [
      "tuned hpyerparameters :(best parameters)  {'learning_rate': 1, 'n_estimators': 350}\n",
      "accuracy : 0.6775816558491128\n"
     ]
    }
   ],
   "source": [
    "ada_GS = GridSearchCV(estimator=ada, param_grid=ada_grid, scoring='f1', verbose=1, cv=5, n_jobs=-1)\n",
    "ada_GS.fit(x_train, y_train)\n",
    "print(\"tuned hpyerparameters :(best parameters) \",ada_GS.best_params_)\n",
    "print(\"accuracy :\",ada_GS.best_score_)"
   ]
  },
  {
   "cell_type": "markdown",
   "metadata": {},
   "source": [
    "# XGBoost"
   ]
  },
  {
   "cell_type": "code",
   "execution_count": 11,
   "metadata": {},
   "outputs": [],
   "source": [
    "#xgb_grid_param = {\n",
    "#    'max_depth': [5,7,9],\n",
    "#    'gamma': [0.5, 1, 1.5],\n",
    "#    'subsample': [0.4,0.5,0.6], #[0.4,0.5,0.6,0.7,0.8,0.9,1.0],\n",
    "#    'min_child_weight': [1,3,4],\n",
    "#    'colsample_bytree': [0.5,0.6,0.7], #[0.5,0.6,0.7,0.8],\n",
    "#    'n_estimators': [100, 200], #[1000,2000,3000]\n",
    "#    'learning_rate': [0.1, 1]}\n",
    "#tuned hpyerparameters :(best parameters)  {'colsample_bytree': 0.7, 'gamma': 1, 'learning_rate': 0.1, \n",
    "#    'max_depth': 9, 'min_child_weight': 1, 'n_estimators': 200, 'subsample': 0.5}\n",
    "#accuracy : 0.670547740462945\n",
    "\n",
    "#xgb_grid_param = {\n",
    "#    'max_depth': [9,12],\n",
    "#    'gamma': [0.9,1,1.2],\n",
    "#    'subsample': [0.5,0.8], #[0.4,0.5,0.6,0.7,0.8,0.9,1.0],\n",
    "#    'min_child_weight': [1,3,4],\n",
    "#    'colsample_bytree': [0.7,0.9], #[0.5,0.6,0.7,0.8],\n",
    "#    'n_estimators': [200,350], #[1000,2000,3000]\n",
    "#    'learning_rate': [0.1, 0.5]}\n",
    "#tuned hpyerparameters :(best parameters)  {'colsample_bytree': 0.9, 'gamma': 1.2, 'learning_rate': 0.1, 'max_depth': 9, 'min_child_weight': 1, 'n_estimators': 350, 'subsample': 0.8}\n",
    "#accuracy : 0.6696604992524797\n",
    "\n",
    "xgb_grid_param = {\n",
    "    'max_depth': [9],\n",
    "    'gamma': [1,1.2],\n",
    "    'subsample': [0.8,1], #[0.4,0.5,0.6,0.7,0.8,0.9,1.0],\n",
    "    'min_child_weight': [1,2],\n",
    "    'colsample_bytree': [0.7,0.9], #[0.5,0.6,0.7,0.8],\n",
    "    'n_estimators': [600], #[1000,2000,3000]\n",
    "    'learning_rate': [0.1]}\n",
    "#tuned hpyerparameters :(best parameters)  {'colsample_bytree': 0.9, 'gamma': 1.2, 'learning_rate': 0.1, 'max_depth': 9, 'min_child_weight': 1, 'n_estimators': 600, 'subsample': 0.8}\n",
    "#accuracy : 0.6681432627951468"
   ]
  },
  {
   "cell_type": "code",
   "execution_count": 9,
   "metadata": {},
   "outputs": [],
   "source": [
    "xgboost = XGBClassifier()"
   ]
  },
  {
   "cell_type": "code",
   "execution_count": 12,
   "metadata": {},
   "outputs": [
    {
     "name": "stdout",
     "output_type": "stream",
     "text": [
      "Fitting 5 folds for each of 16 candidates, totalling 80 fits\n"
     ]
    },
    {
     "name": "stderr",
     "output_type": "stream",
     "text": [
      "[Parallel(n_jobs=-1)]: Using backend LokyBackend with 8 concurrent workers.\n",
      "[Parallel(n_jobs=-1)]: Done  34 tasks      | elapsed:  3.7min\n",
      "[Parallel(n_jobs=-1)]: Done  80 out of  80 | elapsed:  8.9min finished\n"
     ]
    },
    {
     "name": "stdout",
     "output_type": "stream",
     "text": [
      "tuned hpyerparameters :(best parameters)  {'colsample_bytree': 0.9, 'gamma': 1.2, 'learning_rate': 0.1, 'max_depth': 9, 'min_child_weight': 1, 'n_estimators': 600, 'subsample': 0.8}\n",
      "accuracy : 0.6681432627951468\n"
     ]
    }
   ],
   "source": [
    "xgboost_GS = GridSearchCV(estimator=xgboost, param_grid=xgb_grid_param, scoring='f1', verbose=1, cv=5, n_jobs=-1)\n",
    "xgboost_GS.fit(x_train, y_train)\n",
    "print(\"tuned hpyerparameters :(best parameters) \",xgboost_GS.best_params_)\n",
    "print(\"accuracy :\",xgboost_GS.best_score_)"
   ]
  },
  {
   "cell_type": "markdown",
   "metadata": {},
   "source": [
    "# Light GBM"
   ]
  },
  {
   "cell_type": "code",
   "execution_count": 19,
   "metadata": {},
   "outputs": [],
   "source": [
    "#gbm_param = {'n_estimators': [100, 400],\n",
    "#               'max_depth':  [-1, 4, 10],\n",
    "#               'num_leaves': [15, 31, 63, 127],\n",
    "#               'subsample': [0.6, 0.7, 0.8],\n",
    "#               'colsample_bytree': [0.6, 0.7, 0.8]}\n",
    "#tuned hpyerparameters :(best parameters)  {'colsample_bytree': 0.6, 'max_depth': 10, 'n_estimators': 400, \n",
    "#'num_leaves': 15, 'subsample': 0.6}\n",
    "#accuracy : 0.6008785161044997\n",
    "\n",
    "#gbm_param = {'n_estimators': [400, 600, 1000],\n",
    "#               'max_depth':  [-1, 10, 30],\n",
    "#               'num_leaves': [3,6,9,12,15],\n",
    "#               'subsample': [0.5,0.6, 0.7],\n",
    "#               'colsample_bytree': [0.5,0.6, 0.7]}\n",
    "#tuned hpyerparameters :(best parameters)  {'colsample_bytree': 0.6, 'max_depth': -1, 'n_estimators': 1000, 'num_leaves': 15, 'subsample': 0.5}\n",
    "#accuracy : 0.6040637466465371\n",
    "\n",
    "gbm_param = {'n_estimators': [1000,1500,2000],\n",
    "               'max_depth':  [-1, 10, 30, 50],\n",
    "               'num_leaves': [9,12,15,17,20],\n",
    "               'subsample': [0.3,0.4,0.5,0.6],\n",
    "               'colsample_bytree': [0.5,0.6, 0.7]}\n",
    "#tuned hpyerparameters :(best parameters)  {'colsample_bytree': 0.6, 'max_depth': -1, 'n_estimators': 1000, 'num_leaves': 15, 'subsample': 0.3}\n",
    "#accuracy : 0.6040637466465371"
   ]
  },
  {
   "cell_type": "code",
   "execution_count": 14,
   "metadata": {},
   "outputs": [],
   "source": [
    "gbm = LGBMClassifier()"
   ]
  },
  {
   "cell_type": "code",
   "execution_count": 20,
   "metadata": {},
   "outputs": [
    {
     "name": "stdout",
     "output_type": "stream",
     "text": [
      "Fitting 5 folds for each of 720 candidates, totalling 3600 fits\n"
     ]
    },
    {
     "name": "stderr",
     "output_type": "stream",
     "text": [
      "[Parallel(n_jobs=-1)]: Using backend LokyBackend with 8 concurrent workers.\n",
      "[Parallel(n_jobs=-1)]: Done  34 tasks      | elapsed:    8.0s\n",
      "[Parallel(n_jobs=-1)]: Done 184 tasks      | elapsed:   44.1s\n",
      "[Parallel(n_jobs=-1)]: Done 434 tasks      | elapsed:  1.9min\n",
      "[Parallel(n_jobs=-1)]: Done 784 tasks      | elapsed:  3.4min\n",
      "[Parallel(n_jobs=-1)]: Done 1234 tasks      | elapsed:  5.6min\n",
      "[Parallel(n_jobs=-1)]: Done 1784 tasks      | elapsed:  8.2min\n",
      "[Parallel(n_jobs=-1)]: Done 2434 tasks      | elapsed: 11.3min\n",
      "[Parallel(n_jobs=-1)]: Done 3184 tasks      | elapsed: 15.0min\n",
      "[Parallel(n_jobs=-1)]: Done 3600 out of 3600 | elapsed: 17.3min finished\n"
     ]
    },
    {
     "name": "stdout",
     "output_type": "stream",
     "text": [
      "tuned hpyerparameters :(best parameters)  {'colsample_bytree': 0.6, 'max_depth': -1, 'n_estimators': 1000, 'num_leaves': 15, 'subsample': 0.3}\n",
      "accuracy : 0.6040637466465371\n"
     ]
    }
   ],
   "source": [
    "gbm_GS = GridSearchCV(estimator=gbm, param_grid=gbm_param, scoring='f1', verbose=1, cv=5, n_jobs=-1)\n",
    "gbm_GS.fit(x_train, y_train)\n",
    "print(\"tuned hpyerparameters :(best parameters) \",gbm_GS.best_params_)\n",
    "print(\"accuracy :\",gbm_GS.best_score_)"
   ]
  }
 ],
 "metadata": {
  "kernelspec": {
   "display_name": "Python 3",
   "language": "python",
   "name": "python3"
  },
  "language_info": {
   "codemirror_mode": {
    "name": "ipython",
    "version": 3
   },
   "file_extension": ".py",
   "mimetype": "text/x-python",
   "name": "python",
   "nbconvert_exporter": "python",
   "pygments_lexer": "ipython3",
   "version": "3.7.3"
  }
 },
 "nbformat": 4,
 "nbformat_minor": 2
}
