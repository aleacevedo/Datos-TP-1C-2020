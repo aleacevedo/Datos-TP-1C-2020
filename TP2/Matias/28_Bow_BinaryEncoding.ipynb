{
 "cells": [
  {
   "cell_type": "code",
   "execution_count": 2,
   "metadata": {
    "colab": {
     "base_uri": "https://localhost:8080/",
     "height": 368
    },
    "colab_type": "code",
    "executionInfo": {
     "elapsed": 16409,
     "status": "ok",
     "timestamp": 1595283504964,
     "user": {
      "displayName": "Matias Priano",
      "photoUrl": "",
      "userId": "15562786802230056350"
     },
     "user_tz": 180
    },
    "id": "NVAvDNi_290r",
    "outputId": "e67ad702-8bd5-4930-feef-27b1ee05724a"
   },
   "outputs": [
    {
     "name": "stdout",
     "output_type": "stream",
     "text": [
      "Collecting catboost\n",
      "\u001b[?25l  Downloading https://files.pythonhosted.org/packages/b2/aa/e61819d04ef2bbee778bf4b3a748db1f3ad23512377e43ecfdc3211437a0/catboost-0.23.2-cp36-none-manylinux1_x86_64.whl (64.8MB)\n",
      "\u001b[K     |████████████████████████████████| 64.8MB 65kB/s \n",
      "\u001b[?25hRequirement already satisfied: six in /usr/local/lib/python3.6/dist-packages (from catboost) (1.12.0)\n",
      "Requirement already satisfied: scipy in /usr/local/lib/python3.6/dist-packages (from catboost) (1.4.1)\n",
      "Requirement already satisfied: graphviz in /usr/local/lib/python3.6/dist-packages (from catboost) (0.10.1)\n",
      "Requirement already satisfied: pandas>=0.24.0 in /usr/local/lib/python3.6/dist-packages (from catboost) (1.0.5)\n",
      "Requirement already satisfied: matplotlib in /usr/local/lib/python3.6/dist-packages (from catboost) (3.2.2)\n",
      "Requirement already satisfied: plotly in /usr/local/lib/python3.6/dist-packages (from catboost) (4.4.1)\n",
      "Requirement already satisfied: numpy>=1.16.0 in /usr/local/lib/python3.6/dist-packages (from catboost) (1.18.5)\n",
      "Requirement already satisfied: python-dateutil>=2.6.1 in /usr/local/lib/python3.6/dist-packages (from pandas>=0.24.0->catboost) (2.8.1)\n",
      "Requirement already satisfied: pytz>=2017.2 in /usr/local/lib/python3.6/dist-packages (from pandas>=0.24.0->catboost) (2018.9)\n",
      "Requirement already satisfied: pyparsing!=2.0.4,!=2.1.2,!=2.1.6,>=2.0.1 in /usr/local/lib/python3.6/dist-packages (from matplotlib->catboost) (2.4.7)\n",
      "Requirement already satisfied: cycler>=0.10 in /usr/local/lib/python3.6/dist-packages (from matplotlib->catboost) (0.10.0)\n",
      "Requirement already satisfied: kiwisolver>=1.0.1 in /usr/local/lib/python3.6/dist-packages (from matplotlib->catboost) (1.2.0)\n",
      "Requirement already satisfied: retrying>=1.3.3 in /usr/local/lib/python3.6/dist-packages (from plotly->catboost) (1.3.3)\n",
      "Installing collected packages: catboost\n",
      "Successfully installed catboost-0.23.2\n"
     ]
    }
   ],
   "source": [
    "!pip install catboost"
   ]
  },
  {
   "cell_type": "code",
   "execution_count": 3,
   "metadata": {
    "colab": {
     "base_uri": "https://localhost:8080/",
     "height": 129
    },
    "colab_type": "code",
    "executionInfo": {
     "elapsed": 8197,
     "status": "ok",
     "timestamp": 1595283517446,
     "user": {
      "displayName": "Matias Priano",
      "photoUrl": "",
      "userId": "15562786802230056350"
     },
     "user_tz": 180
    },
    "id": "4Ts3iCHt3TvI",
    "outputId": "1d89b9de-7305-4143-bd9e-6db5e03df7d4"
   },
   "outputs": [
    {
     "name": "stdout",
     "output_type": "stream",
     "text": [
      "Collecting unidecode\n",
      "\u001b[?25l  Downloading https://files.pythonhosted.org/packages/d0/42/d9edfed04228bacea2d824904cae367ee9efd05e6cce7ceaaedd0b0ad964/Unidecode-1.1.1-py2.py3-none-any.whl (238kB)\n",
      "\r",
      "\u001b[K     |█▍                              | 10kB 10.3MB/s eta 0:00:01\r",
      "\u001b[K     |██▊                             | 20kB 1.8MB/s eta 0:00:01\r",
      "\u001b[K     |████▏                           | 30kB 2.3MB/s eta 0:00:01\r",
      "\u001b[K     |█████▌                          | 40kB 2.6MB/s eta 0:00:01\r",
      "\u001b[K     |██████▉                         | 51kB 2.1MB/s eta 0:00:01\r",
      "\u001b[K     |████████▎                       | 61kB 2.5MB/s eta 0:00:01\r",
      "\u001b[K     |█████████▋                      | 71kB 2.9MB/s eta 0:00:01\r",
      "\u001b[K     |███████████                     | 81kB 3.0MB/s eta 0:00:01\r",
      "\u001b[K     |████████████▍                   | 92kB 3.1MB/s eta 0:00:01\r",
      "\u001b[K     |█████████████▊                  | 102kB 2.8MB/s eta 0:00:01\r",
      "\u001b[K     |███████████████▏                | 112kB 2.8MB/s eta 0:00:01\r",
      "\u001b[K     |████████████████▌               | 122kB 2.8MB/s eta 0:00:01\r",
      "\u001b[K     |█████████████████▉              | 133kB 2.8MB/s eta 0:00:01\r",
      "\u001b[K     |███████████████████▎            | 143kB 2.8MB/s eta 0:00:01\r",
      "\u001b[K     |████████████████████▋           | 153kB 2.8MB/s eta 0:00:01\r",
      "\u001b[K     |██████████████████████          | 163kB 2.8MB/s eta 0:00:01\r",
      "\u001b[K     |███████████████████████▍        | 174kB 2.8MB/s eta 0:00:01\r",
      "\u001b[K     |████████████████████████▊       | 184kB 2.8MB/s eta 0:00:01\r",
      "\u001b[K     |██████████████████████████▏     | 194kB 2.8MB/s eta 0:00:01\r",
      "\u001b[K     |███████████████████████████▌    | 204kB 2.8MB/s eta 0:00:01\r",
      "\u001b[K     |████████████████████████████▉   | 215kB 2.8MB/s eta 0:00:01\r",
      "\u001b[K     |██████████████████████████████▎ | 225kB 2.8MB/s eta 0:00:01\r",
      "\u001b[K     |███████████████████████████████▋| 235kB 2.8MB/s eta 0:00:01\r",
      "\u001b[K     |████████████████████████████████| 245kB 2.8MB/s \n",
      "\u001b[?25hInstalling collected packages: unidecode\n",
      "Successfully installed unidecode-1.1.1\n"
     ]
    }
   ],
   "source": [
    "!pip install unidecode"
   ]
  },
  {
   "cell_type": "code",
   "execution_count": 4,
   "metadata": {
    "colab": {
     "base_uri": "https://localhost:8080/",
     "height": 313
    },
    "colab_type": "code",
    "executionInfo": {
     "elapsed": 6866,
     "status": "ok",
     "timestamp": 1595283527238,
     "user": {
      "displayName": "Matias Priano",
      "photoUrl": "",
      "userId": "15562786802230056350"
     },
     "user_tz": 180
    },
    "id": "Ku-AcIzP3yuX",
    "outputId": "5cdf5e83-2fa5-457d-8a0e-02bb027f719c"
   },
   "outputs": [
    {
     "name": "stdout",
     "output_type": "stream",
     "text": [
      "Collecting category_encoders\n",
      "\u001b[?25l  Downloading https://files.pythonhosted.org/packages/44/57/fcef41c248701ee62e8325026b90c432adea35555cbc870aff9cfba23727/category_encoders-2.2.2-py2.py3-none-any.whl (80kB)\n",
      "\r",
      "\u001b[K     |████                            | 10kB 15.3MB/s eta 0:00:01\r",
      "\u001b[K     |████████▏                       | 20kB 1.8MB/s eta 0:00:01\r",
      "\u001b[K     |████████████▏                   | 30kB 2.3MB/s eta 0:00:01\r",
      "\u001b[K     |████████████████▎               | 40kB 2.6MB/s eta 0:00:01\r",
      "\u001b[K     |████████████████████▎           | 51kB 2.1MB/s eta 0:00:01\r",
      "\u001b[K     |████████████████████████▍       | 61kB 2.3MB/s eta 0:00:01\r",
      "\u001b[K     |████████████████████████████▍   | 71kB 2.5MB/s eta 0:00:01\r",
      "\u001b[K     |████████████████████████████████| 81kB 2.2MB/s \n",
      "\u001b[?25hRequirement already satisfied: statsmodels>=0.9.0 in /usr/local/lib/python3.6/dist-packages (from category_encoders) (0.10.2)\n",
      "Requirement already satisfied: scikit-learn>=0.20.0 in /usr/local/lib/python3.6/dist-packages (from category_encoders) (0.22.2.post1)\n",
      "Requirement already satisfied: patsy>=0.5.1 in /usr/local/lib/python3.6/dist-packages (from category_encoders) (0.5.1)\n",
      "Requirement already satisfied: pandas>=0.21.1 in /usr/local/lib/python3.6/dist-packages (from category_encoders) (1.0.5)\n",
      "Requirement already satisfied: numpy>=1.14.0 in /usr/local/lib/python3.6/dist-packages (from category_encoders) (1.18.5)\n",
      "Requirement already satisfied: scipy>=1.0.0 in /usr/local/lib/python3.6/dist-packages (from category_encoders) (1.4.1)\n",
      "Requirement already satisfied: joblib>=0.11 in /usr/local/lib/python3.6/dist-packages (from scikit-learn>=0.20.0->category_encoders) (0.16.0)\n",
      "Requirement already satisfied: six in /usr/local/lib/python3.6/dist-packages (from patsy>=0.5.1->category_encoders) (1.12.0)\n",
      "Requirement already satisfied: pytz>=2017.2 in /usr/local/lib/python3.6/dist-packages (from pandas>=0.21.1->category_encoders) (2018.9)\n",
      "Requirement already satisfied: python-dateutil>=2.6.1 in /usr/local/lib/python3.6/dist-packages (from pandas>=0.21.1->category_encoders) (2.8.1)\n",
      "Installing collected packages: category-encoders\n",
      "Successfully installed category-encoders-2.2.2\n"
     ]
    }
   ],
   "source": [
    "!pip install category_encoders"
   ]
  },
  {
   "cell_type": "code",
   "execution_count": 5,
   "metadata": {
    "colab": {
     "base_uri": "https://localhost:8080/",
     "height": 110
    },
    "colab_type": "code",
    "executionInfo": {
     "elapsed": 1890,
     "status": "ok",
     "timestamp": 1595283532848,
     "user": {
      "displayName": "Matias Priano",
      "photoUrl": "",
      "userId": "15562786802230056350"
     },
     "user_tz": 180
    },
    "id": "ZWYJhSFv2R4T",
    "outputId": "4fd19f5e-14fa-4fe3-9549-73832f18e0f4"
   },
   "outputs": [
    {
     "name": "stdout",
     "output_type": "stream",
     "text": [
      "[nltk_data] Downloading package stopwords to /root/nltk_data...\n",
      "[nltk_data]   Unzipping corpora/stopwords.zip.\n"
     ]
    },
    {
     "name": "stderr",
     "output_type": "stream",
     "text": [
      "/usr/local/lib/python3.6/dist-packages/statsmodels/tools/_testing.py:19: FutureWarning: pandas.util.testing is deprecated. Use the functions in the public API at pandas.testing instead.\n",
      "  import pandas.util.testing as tm\n"
     ]
    }
   ],
   "source": [
    "import pandas as pd\n",
    "import numpy as np\n",
    "from sklearn.feature_extraction.text import CountVectorizer\n",
    "from sklearn.model_selection import train_test_split\n",
    "from sklearn.model_selection import GridSearchCV\n",
    "from sklearn.model_selection import KFold\n",
    "from sklearn.model_selection import cross_val_score\n",
    "from sklearn.model_selection import StratifiedKFold\n",
    "from sklearn.metrics import accuracy_score\n",
    "from sklearn.feature_selection import SelectKBest\n",
    "from sklearn.feature_selection import chi2\n",
    "from sklearn.feature_selection import mutual_info_classif\n",
    "import xgboost as xgb\n",
    "import catboost as cb\n",
    "import lightgbm as lgb\n",
    "import re\n",
    "import unidecode\n",
    "import nltk\n",
    "from nltk.tokenize import TweetTokenizer\n",
    "import string\n",
    "nltk.download('stopwords')\n",
    "stopwords = nltk.corpus.stopwords.words('english')\n",
    "import category_encoders as ce\n",
    "\n",
    "import warnings\n",
    "warnings.filterwarnings('ignore')"
   ]
  },
  {
   "cell_type": "code",
   "execution_count": 6,
   "metadata": {
    "colab": {},
    "colab_type": "code",
    "executionInfo": {
     "elapsed": 28900,
     "status": "ok",
     "timestamp": 1595283567270,
     "user": {
      "displayName": "Matias Priano",
      "photoUrl": "",
      "userId": "15562786802230056350"
     },
     "user_tz": 180
    },
    "id": "Q5gBxLS36nNM"
   },
   "outputs": [],
   "source": [
    "from pydrive.auth import GoogleAuth\n",
    "from pydrive.drive import GoogleDrive\n",
    "from google.colab import auth\n",
    "from oauth2client.client import GoogleCredentials\n",
    "\n",
    "# Authenticate and create the PyDrive client\n",
    "auth.authenticate_user()\n",
    "gauth = GoogleAuth()\n",
    "gauth.credentials = GoogleCredentials.get_application_default()\n",
    "drive = GoogleDrive(gauth)"
   ]
  },
  {
   "cell_type": "code",
   "execution_count": 7,
   "metadata": {
    "colab": {},
    "colab_type": "code",
    "executionInfo": {
     "elapsed": 2155,
     "status": "ok",
     "timestamp": 1595283580182,
     "user": {
      "displayName": "Matias Priano",
      "photoUrl": "",
      "userId": "15562786802230056350"
     },
     "user_tz": 180
    },
    "id": "RIZFcLKu6Fns"
   },
   "outputs": [],
   "source": [
    "id='1cQhZ_2NeVAXqkXpmaCQbJVxLP4b1lNAf'\n",
    "downloaded = drive.CreateFile({'id': id})\n",
    "downloaded.GetContentFile('train.csv')"
   ]
  },
  {
   "cell_type": "code",
   "execution_count": 8,
   "metadata": {
    "colab": {},
    "colab_type": "code",
    "executionInfo": {
     "elapsed": 1439,
     "status": "ok",
     "timestamp": 1595283582603,
     "user": {
      "displayName": "Matias Priano",
      "photoUrl": "",
      "userId": "15562786802230056350"
     },
     "user_tz": 180
    },
    "id": "V-3TQY5p-knH"
   },
   "outputs": [],
   "source": [
    "id='12nWwwnj9jbtAsk0VENlQaV3d6jclQ-1S'\n",
    "downloaded = drive.CreateFile({'id': id})\n",
    "downloaded.GetContentFile('test.csv')"
   ]
  },
  {
   "cell_type": "code",
   "execution_count": 9,
   "metadata": {
    "colab": {},
    "colab_type": "code",
    "executionInfo": {
     "elapsed": 843,
     "status": "ok",
     "timestamp": 1595283599030,
     "user": {
      "displayName": "Matias Priano",
      "photoUrl": "",
      "userId": "15562786802230056350"
     },
     "user_tz": 180
    },
    "id": "S5uuWWLp4RPH"
   },
   "outputs": [],
   "source": [
    "train = pd.read_csv(\"train.csv\")\n",
    "test = pd.read_csv(\"test.csv\")"
   ]
  },
  {
   "cell_type": "code",
   "execution_count": 11,
   "metadata": {
    "colab": {},
    "colab_type": "code",
    "executionInfo": {
     "elapsed": 946,
     "status": "ok",
     "timestamp": 1595283617620,
     "user": {
      "displayName": "Matias Priano",
      "photoUrl": "",
      "userId": "15562786802230056350"
     },
     "user_tz": 180
    },
    "id": "-21R132-DiXz"
   },
   "outputs": [],
   "source": [
    "def remove_punctuation(word):        \n",
    "    clean_word = ''.join([char for char in word if char not in string.punctuation])\n",
    "    return clean_word\n",
    "\n",
    "def cleaning_text(text):\n",
    "    tokenizer = TweetTokenizer(strip_handles=True, reduce_len=True)\n",
    "    text_tokenize = tokenizer.tokenize(text)\n",
    "    wordlist = []\n",
    "    for word in text_tokenize:\n",
    "        word = word.lower()\n",
    "        word = re.sub('(?P<url>https?://[^\\s]+)', ' ', word)\n",
    "        word = remove_punctuation(word)\n",
    "        word = re.sub(r'[^\\w]', ' ', word)\n",
    "        word = unidecode.unidecode(word)\n",
    "        word = re.sub(r'[0-9]','', word)\n",
    "        if((word != '')&(word != ' ')&(word not in stopwords)):\n",
    "            wordlist.append(word)\n",
    "    clean_text = ' '.join(wordlist)\n",
    "    return clean_text"
   ]
  },
  {
   "cell_type": "code",
   "execution_count": 12,
   "metadata": {
    "colab": {},
    "colab_type": "code",
    "executionInfo": {
     "elapsed": 2740,
     "status": "ok",
     "timestamp": 1595283622106,
     "user": {
      "displayName": "Matias Priano",
      "photoUrl": "",
      "userId": "15562786802230056350"
     },
     "user_tz": 180
    },
    "id": "cTuNVTlaDlV8"
   },
   "outputs": [],
   "source": [
    "train[\"clean_text\"] = train[\"text\"].apply(lambda x: cleaning_text(x))\n",
    "test[\"clean_text\"] = test[\"text\"].apply(lambda x: cleaning_text(x))"
   ]
  },
  {
   "cell_type": "code",
   "execution_count": 13,
   "metadata": {
    "colab": {},
    "colab_type": "code",
    "executionInfo": {
     "elapsed": 900,
     "status": "ok",
     "timestamp": 1595283625776,
     "user": {
      "displayName": "Matias Priano",
      "photoUrl": "",
      "userId": "15562786802230056350"
     },
     "user_tz": 180
    },
    "id": "n-YUMuxfDrRY"
   },
   "outputs": [],
   "source": [
    "train[\"keyword\"] = train[\"keyword\"].str.replace('%20',' ')\n",
    "train[\"keyword\"] = train[\"keyword\"].astype('category')\n",
    "test[\"keyword\"] = test[\"keyword\"].str.replace('%20',' ')\n",
    "test[\"keyword\"] = test[\"keyword\"].astype('category')"
   ]
  },
  {
   "cell_type": "code",
   "execution_count": 14,
   "metadata": {
    "colab": {
     "base_uri": "https://localhost:8080/",
     "height": 206
    },
    "colab_type": "code",
    "executionInfo": {
     "elapsed": 879,
     "status": "ok",
     "timestamp": 1595283628509,
     "user": {
      "displayName": "Matias Priano",
      "photoUrl": "",
      "userId": "15562786802230056350"
     },
     "user_tz": 180
    },
    "id": "oLUO50jTDz1g",
    "outputId": "6894077f-0d79-42eb-bb24-8ad93e67c36b"
   },
   "outputs": [
    {
     "data": {
      "text/html": [
       "<div>\n",
       "<style scoped>\n",
       "    .dataframe tbody tr th:only-of-type {\n",
       "        vertical-align: middle;\n",
       "    }\n",
       "\n",
       "    .dataframe tbody tr th {\n",
       "        vertical-align: top;\n",
       "    }\n",
       "\n",
       "    .dataframe thead th {\n",
       "        text-align: right;\n",
       "    }\n",
       "</style>\n",
       "<table border=\"1\" class=\"dataframe\">\n",
       "  <thead>\n",
       "    <tr style=\"text-align: right;\">\n",
       "      <th></th>\n",
       "      <th>id_original</th>\n",
       "      <th>keyword_original</th>\n",
       "      <th>location_original</th>\n",
       "      <th>text_original</th>\n",
       "      <th>target_label</th>\n",
       "      <th>clean_text</th>\n",
       "    </tr>\n",
       "  </thead>\n",
       "  <tbody>\n",
       "    <tr>\n",
       "      <th>0</th>\n",
       "      <td>1</td>\n",
       "      <td>NaN</td>\n",
       "      <td>NaN</td>\n",
       "      <td>Our Deeds are the Reason of this #earthquake M...</td>\n",
       "      <td>1</td>\n",
       "      <td>deeds reason earthquake may allah forgive us</td>\n",
       "    </tr>\n",
       "    <tr>\n",
       "      <th>1</th>\n",
       "      <td>4</td>\n",
       "      <td>NaN</td>\n",
       "      <td>NaN</td>\n",
       "      <td>Forest fire near La Ronge Sask. Canada</td>\n",
       "      <td>1</td>\n",
       "      <td>forest fire near la ronge sask canada</td>\n",
       "    </tr>\n",
       "    <tr>\n",
       "      <th>2</th>\n",
       "      <td>5</td>\n",
       "      <td>NaN</td>\n",
       "      <td>NaN</td>\n",
       "      <td>All residents asked to 'shelter in place' are ...</td>\n",
       "      <td>1</td>\n",
       "      <td>residents asked shelter place notified officer...</td>\n",
       "    </tr>\n",
       "    <tr>\n",
       "      <th>3</th>\n",
       "      <td>6</td>\n",
       "      <td>NaN</td>\n",
       "      <td>NaN</td>\n",
       "      <td>13,000 people receive #wildfires evacuation or...</td>\n",
       "      <td>1</td>\n",
       "      <td>people receive wildfires evacuation orders cal...</td>\n",
       "    </tr>\n",
       "    <tr>\n",
       "      <th>4</th>\n",
       "      <td>7</td>\n",
       "      <td>NaN</td>\n",
       "      <td>NaN</td>\n",
       "      <td>Just got sent this photo from Ruby #Alaska as ...</td>\n",
       "      <td>1</td>\n",
       "      <td>got sent photo ruby alaska smoke wildfires pou...</td>\n",
       "    </tr>\n",
       "  </tbody>\n",
       "</table>\n",
       "</div>"
      ],
      "text/plain": [
       "   id_original  ...                                         clean_text\n",
       "0            1  ...       deeds reason earthquake may allah forgive us\n",
       "1            4  ...              forest fire near la ronge sask canada\n",
       "2            5  ...  residents asked shelter place notified officer...\n",
       "3            6  ...  people receive wildfires evacuation orders cal...\n",
       "4            7  ...  got sent photo ruby alaska smoke wildfires pou...\n",
       "\n",
       "[5 rows x 6 columns]"
      ]
     },
     "execution_count": 14,
     "metadata": {
      "tags": []
     },
     "output_type": "execute_result"
    }
   ],
   "source": [
    "train.rename(columns={\"target\":\"target_label\"}, inplace=True)\n",
    "train.rename(columns={\"location\":\"location_original\"}, inplace=True)\n",
    "train.rename(columns={\"id\":\"id_original\"}, inplace=True)\n",
    "train.rename(columns={\"text\":\"text_original\"}, inplace=True)\n",
    "train.rename(columns={\"keyword\":\"keyword_original\"}, inplace=True)\n",
    "train.head()"
   ]
  },
  {
   "cell_type": "code",
   "execution_count": 15,
   "metadata": {
    "colab": {
     "base_uri": "https://localhost:8080/",
     "height": 206
    },
    "colab_type": "code",
    "executionInfo": {
     "elapsed": 922,
     "status": "ok",
     "timestamp": 1595283636183,
     "user": {
      "displayName": "Matias Priano",
      "photoUrl": "",
      "userId": "15562786802230056350"
     },
     "user_tz": 180
    },
    "id": "Uj40612qD3Rd",
    "outputId": "1729c28a-f8d5-45f1-dae7-f7c3671a59cf"
   },
   "outputs": [
    {
     "data": {
      "text/html": [
       "<div>\n",
       "<style scoped>\n",
       "    .dataframe tbody tr th:only-of-type {\n",
       "        vertical-align: middle;\n",
       "    }\n",
       "\n",
       "    .dataframe tbody tr th {\n",
       "        vertical-align: top;\n",
       "    }\n",
       "\n",
       "    .dataframe thead th {\n",
       "        text-align: right;\n",
       "    }\n",
       "</style>\n",
       "<table border=\"1\" class=\"dataframe\">\n",
       "  <thead>\n",
       "    <tr style=\"text-align: right;\">\n",
       "      <th></th>\n",
       "      <th>id_original</th>\n",
       "      <th>keyword_original</th>\n",
       "      <th>location_original</th>\n",
       "      <th>text_original</th>\n",
       "      <th>clean_text</th>\n",
       "    </tr>\n",
       "  </thead>\n",
       "  <tbody>\n",
       "    <tr>\n",
       "      <th>0</th>\n",
       "      <td>0</td>\n",
       "      <td>NaN</td>\n",
       "      <td>NaN</td>\n",
       "      <td>Just happened a terrible car crash</td>\n",
       "      <td>happened terrible car crash</td>\n",
       "    </tr>\n",
       "    <tr>\n",
       "      <th>1</th>\n",
       "      <td>2</td>\n",
       "      <td>NaN</td>\n",
       "      <td>NaN</td>\n",
       "      <td>Heard about #earthquake is different cities, s...</td>\n",
       "      <td>heard earthquake different cities stay safe ev...</td>\n",
       "    </tr>\n",
       "    <tr>\n",
       "      <th>2</th>\n",
       "      <td>3</td>\n",
       "      <td>NaN</td>\n",
       "      <td>NaN</td>\n",
       "      <td>there is a forest fire at spot pond, geese are...</td>\n",
       "      <td>forest fire spot pond geese fleeing across str...</td>\n",
       "    </tr>\n",
       "    <tr>\n",
       "      <th>3</th>\n",
       "      <td>9</td>\n",
       "      <td>NaN</td>\n",
       "      <td>NaN</td>\n",
       "      <td>Apocalypse lighting. #Spokane #wildfires</td>\n",
       "      <td>apocalypse lighting spokane wildfires</td>\n",
       "    </tr>\n",
       "    <tr>\n",
       "      <th>4</th>\n",
       "      <td>11</td>\n",
       "      <td>NaN</td>\n",
       "      <td>NaN</td>\n",
       "      <td>Typhoon Soudelor kills 28 in China and Taiwan</td>\n",
       "      <td>typhoon soudelor kills china taiwan</td>\n",
       "    </tr>\n",
       "  </tbody>\n",
       "</table>\n",
       "</div>"
      ],
      "text/plain": [
       "   id_original  ...                                         clean_text\n",
       "0            0  ...                        happened terrible car crash\n",
       "1            2  ...  heard earthquake different cities stay safe ev...\n",
       "2            3  ...  forest fire spot pond geese fleeing across str...\n",
       "3            9  ...              apocalypse lighting spokane wildfires\n",
       "4           11  ...                typhoon soudelor kills china taiwan\n",
       "\n",
       "[5 rows x 5 columns]"
      ]
     },
     "execution_count": 15,
     "metadata": {
      "tags": []
     },
     "output_type": "execute_result"
    }
   ],
   "source": [
    "test.rename(columns={\"target\":\"target_label\"}, inplace=True)\n",
    "test.rename(columns={\"location\":\"location_original\"}, inplace=True)\n",
    "test.rename(columns={\"id\":\"id_original\"}, inplace=True)\n",
    "test.rename(columns={\"text\":\"text_original\"}, inplace=True)\n",
    "test.rename(columns={\"keyword\":\"keyword_original\"}, inplace=True)\n",
    "test.head()"
   ]
  },
  {
   "cell_type": "code",
   "execution_count": 16,
   "metadata": {
    "colab": {
     "base_uri": "https://localhost:8080/",
     "height": 591
    },
    "colab_type": "code",
    "executionInfo": {
     "elapsed": 1025,
     "status": "ok",
     "timestamp": 1595283639435,
     "user": {
      "displayName": "Matias Priano",
      "photoUrl": "",
      "userId": "15562786802230056350"
     },
     "user_tz": 180
    },
    "id": "W5wSPqzHD73c",
    "outputId": "be0a74ee-2e78-46d0-8907-69424b4761a2"
   },
   "outputs": [
    {
     "data": {
      "text/html": [
       "<div>\n",
       "<style scoped>\n",
       "    .dataframe tbody tr th:only-of-type {\n",
       "        vertical-align: middle;\n",
       "    }\n",
       "\n",
       "    .dataframe tbody tr th {\n",
       "        vertical-align: top;\n",
       "    }\n",
       "\n",
       "    .dataframe thead th {\n",
       "        text-align: right;\n",
       "    }\n",
       "</style>\n",
       "<table border=\"1\" class=\"dataframe\">\n",
       "  <thead>\n",
       "    <tr style=\"text-align: right;\">\n",
       "      <th></th>\n",
       "      <th>id_original</th>\n",
       "      <th>keyword_original</th>\n",
       "      <th>location_original</th>\n",
       "      <th>text_original</th>\n",
       "      <th>target_label</th>\n",
       "      <th>clean_text</th>\n",
       "      <th>keyword_original_0</th>\n",
       "      <th>keyword_original_1</th>\n",
       "      <th>keyword_original_2</th>\n",
       "      <th>keyword_original_3</th>\n",
       "      <th>keyword_original_4</th>\n",
       "      <th>keyword_original_5</th>\n",
       "      <th>keyword_original_6</th>\n",
       "      <th>keyword_original_7</th>\n",
       "      <th>keyword_original_8</th>\n",
       "    </tr>\n",
       "  </thead>\n",
       "  <tbody>\n",
       "    <tr>\n",
       "      <th>0</th>\n",
       "      <td>1</td>\n",
       "      <td>NaN</td>\n",
       "      <td>NaN</td>\n",
       "      <td>Our Deeds are the Reason of this #earthquake M...</td>\n",
       "      <td>1</td>\n",
       "      <td>deeds reason earthquake may allah forgive us</td>\n",
       "      <td>0</td>\n",
       "      <td>0</td>\n",
       "      <td>0</td>\n",
       "      <td>0</td>\n",
       "      <td>0</td>\n",
       "      <td>0</td>\n",
       "      <td>0</td>\n",
       "      <td>0</td>\n",
       "      <td>1</td>\n",
       "    </tr>\n",
       "    <tr>\n",
       "      <th>1</th>\n",
       "      <td>4</td>\n",
       "      <td>NaN</td>\n",
       "      <td>NaN</td>\n",
       "      <td>Forest fire near La Ronge Sask. Canada</td>\n",
       "      <td>1</td>\n",
       "      <td>forest fire near la ronge sask canada</td>\n",
       "      <td>0</td>\n",
       "      <td>0</td>\n",
       "      <td>0</td>\n",
       "      <td>0</td>\n",
       "      <td>0</td>\n",
       "      <td>0</td>\n",
       "      <td>0</td>\n",
       "      <td>0</td>\n",
       "      <td>1</td>\n",
       "    </tr>\n",
       "    <tr>\n",
       "      <th>2</th>\n",
       "      <td>5</td>\n",
       "      <td>NaN</td>\n",
       "      <td>NaN</td>\n",
       "      <td>All residents asked to 'shelter in place' are ...</td>\n",
       "      <td>1</td>\n",
       "      <td>residents asked shelter place notified officer...</td>\n",
       "      <td>0</td>\n",
       "      <td>0</td>\n",
       "      <td>0</td>\n",
       "      <td>0</td>\n",
       "      <td>0</td>\n",
       "      <td>0</td>\n",
       "      <td>0</td>\n",
       "      <td>0</td>\n",
       "      <td>1</td>\n",
       "    </tr>\n",
       "    <tr>\n",
       "      <th>3</th>\n",
       "      <td>6</td>\n",
       "      <td>NaN</td>\n",
       "      <td>NaN</td>\n",
       "      <td>13,000 people receive #wildfires evacuation or...</td>\n",
       "      <td>1</td>\n",
       "      <td>people receive wildfires evacuation orders cal...</td>\n",
       "      <td>0</td>\n",
       "      <td>0</td>\n",
       "      <td>0</td>\n",
       "      <td>0</td>\n",
       "      <td>0</td>\n",
       "      <td>0</td>\n",
       "      <td>0</td>\n",
       "      <td>0</td>\n",
       "      <td>1</td>\n",
       "    </tr>\n",
       "    <tr>\n",
       "      <th>4</th>\n",
       "      <td>7</td>\n",
       "      <td>NaN</td>\n",
       "      <td>NaN</td>\n",
       "      <td>Just got sent this photo from Ruby #Alaska as ...</td>\n",
       "      <td>1</td>\n",
       "      <td>got sent photo ruby alaska smoke wildfires pou...</td>\n",
       "      <td>0</td>\n",
       "      <td>0</td>\n",
       "      <td>0</td>\n",
       "      <td>0</td>\n",
       "      <td>0</td>\n",
       "      <td>0</td>\n",
       "      <td>0</td>\n",
       "      <td>0</td>\n",
       "      <td>1</td>\n",
       "    </tr>\n",
       "  </tbody>\n",
       "</table>\n",
       "</div>"
      ],
      "text/plain": [
       "   id_original keyword_original  ... keyword_original_7 keyword_original_8\n",
       "0            1              NaN  ...                  0                  1\n",
       "1            4              NaN  ...                  0                  1\n",
       "2            5              NaN  ...                  0                  1\n",
       "3            6              NaN  ...                  0                  1\n",
       "4            7              NaN  ...                  0                  1\n",
       "\n",
       "[5 rows x 15 columns]"
      ]
     },
     "execution_count": 16,
     "metadata": {
      "tags": []
     },
     "output_type": "execute_result"
    }
   ],
   "source": [
    "binary_encoder = ce.BinaryEncoder(cols=['keyword_original'])\n",
    "binary = binary_encoder.fit_transform(train['keyword_original'])\n",
    "train_bin = pd.concat([train, binary], axis=1)\n",
    "train_bin.head()"
   ]
  },
  {
   "cell_type": "code",
   "execution_count": null,
   "metadata": {
    "colab": {},
    "colab_type": "code",
    "id": "Jfm1SXXKEu_a"
   },
   "outputs": [],
   "source": [
    "# binary_encoder = ce.BinaryEncoder(cols=['keyword_original'])\n",
    "# binary = binary_encoder.fit_transform(test['keyword_original'])\n",
    "# test_bin = pd.concat([test, binary], axis=1)\n",
    "# test_bin.head()"
   ]
  },
  {
   "cell_type": "code",
   "execution_count": 17,
   "metadata": {
    "colab": {
     "base_uri": "https://localhost:8080/",
     "height": 274
    },
    "colab_type": "code",
    "executionInfo": {
     "elapsed": 1891,
     "status": "ok",
     "timestamp": 1595283646819,
     "user": {
      "displayName": "Matias Priano",
      "photoUrl": "",
      "userId": "15562786802230056350"
     },
     "user_tz": 180
    },
    "id": "xDu90HqNEzq5",
    "outputId": "a65e5a43-4d4a-49d5-b589-08959c4f2ac7"
   },
   "outputs": [
    {
     "name": "stdout",
     "output_type": "stream",
     "text": [
      "14190\n"
     ]
    },
    {
     "data": {
      "text/html": [
       "<div>\n",
       "<style scoped>\n",
       "    .dataframe tbody tr th:only-of-type {\n",
       "        vertical-align: middle;\n",
       "    }\n",
       "\n",
       "    .dataframe tbody tr th {\n",
       "        vertical-align: top;\n",
       "    }\n",
       "\n",
       "    .dataframe thead th {\n",
       "        text-align: right;\n",
       "    }\n",
       "</style>\n",
       "<table border=\"1\" class=\"dataframe\">\n",
       "  <thead>\n",
       "    <tr style=\"text-align: right;\">\n",
       "      <th></th>\n",
       "      <th>aa</th>\n",
       "      <th>aaa</th>\n",
       "      <th>aaaand</th>\n",
       "      <th>aaalll</th>\n",
       "      <th>aaarrrgghhh</th>\n",
       "      <th>aaemiddleaged</th>\n",
       "      <th>aal</th>\n",
       "      <th>aan</th>\n",
       "      <th>aannnd</th>\n",
       "      <th>aar</th>\n",
       "      <th>aashiqui</th>\n",
       "      <th>ab</th>\n",
       "      <th>aba</th>\n",
       "      <th>abandon</th>\n",
       "      <th>abandoned</th>\n",
       "      <th>abandoning</th>\n",
       "      <th>abbandoned</th>\n",
       "      <th>abbott</th>\n",
       "      <th>abbruchsimulator</th>\n",
       "      <th>abbswinston</th>\n",
       "      <th>abc</th>\n",
       "      <th>abceyewitness</th>\n",
       "      <th>abcnews</th>\n",
       "      <th>abcs</th>\n",
       "      <th>abe</th>\n",
       "      <th>aberdeen</th>\n",
       "      <th>aberystwythshrewsbury</th>\n",
       "      <th>abes</th>\n",
       "      <th>abha</th>\n",
       "      <th>abia</th>\n",
       "      <th>ability</th>\n",
       "      <th>abject</th>\n",
       "      <th>ablaze</th>\n",
       "      <th>able</th>\n",
       "      <th>ableg</th>\n",
       "      <th>aboard</th>\n",
       "      <th>abomb</th>\n",
       "      <th>abombed</th>\n",
       "      <th>abomination</th>\n",
       "      <th>abortion</th>\n",
       "      <th>...</th>\n",
       "      <th>zayn</th>\n",
       "      <th>zeal</th>\n",
       "      <th>zehrs</th>\n",
       "      <th>zenit</th>\n",
       "      <th>zergele</th>\n",
       "      <th>zero</th>\n",
       "      <th>zeros</th>\n",
       "      <th>zhejiang</th>\n",
       "      <th>zicac</th>\n",
       "      <th>zimbabwe</th>\n",
       "      <th>zimmer</th>\n",
       "      <th>zimmerman</th>\n",
       "      <th>zimpapersviews</th>\n",
       "      <th>zionism</th>\n",
       "      <th>zionist</th>\n",
       "      <th>zionists</th>\n",
       "      <th>zip</th>\n",
       "      <th>ziphimup</th>\n",
       "      <th>zipped</th>\n",
       "      <th>zippednews</th>\n",
       "      <th>zipper</th>\n",
       "      <th>zippers</th>\n",
       "      <th>zippoline</th>\n",
       "      <th>ziuw</th>\n",
       "      <th>zmne</th>\n",
       "      <th>zodiac</th>\n",
       "      <th>zombie</th>\n",
       "      <th>zombiefunrun</th>\n",
       "      <th>zombies</th>\n",
       "      <th>zone</th>\n",
       "      <th>zones</th>\n",
       "      <th>zonewolf</th>\n",
       "      <th>zoom</th>\n",
       "      <th>zotar</th>\n",
       "      <th>zouma</th>\n",
       "      <th>zrnf</th>\n",
       "      <th>zss</th>\n",
       "      <th>zumiez</th>\n",
       "      <th>zurich</th>\n",
       "      <th>zzz</th>\n",
       "    </tr>\n",
       "  </thead>\n",
       "  <tbody>\n",
       "    <tr>\n",
       "      <th>0</th>\n",
       "      <td>0</td>\n",
       "      <td>0</td>\n",
       "      <td>0</td>\n",
       "      <td>0</td>\n",
       "      <td>0</td>\n",
       "      <td>0</td>\n",
       "      <td>0</td>\n",
       "      <td>0</td>\n",
       "      <td>0</td>\n",
       "      <td>0</td>\n",
       "      <td>0</td>\n",
       "      <td>0</td>\n",
       "      <td>0</td>\n",
       "      <td>0</td>\n",
       "      <td>0</td>\n",
       "      <td>0</td>\n",
       "      <td>0</td>\n",
       "      <td>0</td>\n",
       "      <td>0</td>\n",
       "      <td>0</td>\n",
       "      <td>0</td>\n",
       "      <td>0</td>\n",
       "      <td>0</td>\n",
       "      <td>0</td>\n",
       "      <td>0</td>\n",
       "      <td>0</td>\n",
       "      <td>0</td>\n",
       "      <td>0</td>\n",
       "      <td>0</td>\n",
       "      <td>0</td>\n",
       "      <td>0</td>\n",
       "      <td>0</td>\n",
       "      <td>0</td>\n",
       "      <td>0</td>\n",
       "      <td>0</td>\n",
       "      <td>0</td>\n",
       "      <td>0</td>\n",
       "      <td>0</td>\n",
       "      <td>0</td>\n",
       "      <td>0</td>\n",
       "      <td>...</td>\n",
       "      <td>0</td>\n",
       "      <td>0</td>\n",
       "      <td>0</td>\n",
       "      <td>0</td>\n",
       "      <td>0</td>\n",
       "      <td>0</td>\n",
       "      <td>0</td>\n",
       "      <td>0</td>\n",
       "      <td>0</td>\n",
       "      <td>0</td>\n",
       "      <td>0</td>\n",
       "      <td>0</td>\n",
       "      <td>0</td>\n",
       "      <td>0</td>\n",
       "      <td>0</td>\n",
       "      <td>0</td>\n",
       "      <td>0</td>\n",
       "      <td>0</td>\n",
       "      <td>0</td>\n",
       "      <td>0</td>\n",
       "      <td>0</td>\n",
       "      <td>0</td>\n",
       "      <td>0</td>\n",
       "      <td>0</td>\n",
       "      <td>0</td>\n",
       "      <td>0</td>\n",
       "      <td>0</td>\n",
       "      <td>0</td>\n",
       "      <td>0</td>\n",
       "      <td>0</td>\n",
       "      <td>0</td>\n",
       "      <td>0</td>\n",
       "      <td>0</td>\n",
       "      <td>0</td>\n",
       "      <td>0</td>\n",
       "      <td>0</td>\n",
       "      <td>0</td>\n",
       "      <td>0</td>\n",
       "      <td>0</td>\n",
       "      <td>0</td>\n",
       "    </tr>\n",
       "    <tr>\n",
       "      <th>1</th>\n",
       "      <td>0</td>\n",
       "      <td>0</td>\n",
       "      <td>0</td>\n",
       "      <td>0</td>\n",
       "      <td>0</td>\n",
       "      <td>0</td>\n",
       "      <td>0</td>\n",
       "      <td>0</td>\n",
       "      <td>0</td>\n",
       "      <td>0</td>\n",
       "      <td>0</td>\n",
       "      <td>0</td>\n",
       "      <td>0</td>\n",
       "      <td>0</td>\n",
       "      <td>0</td>\n",
       "      <td>0</td>\n",
       "      <td>0</td>\n",
       "      <td>0</td>\n",
       "      <td>0</td>\n",
       "      <td>0</td>\n",
       "      <td>0</td>\n",
       "      <td>0</td>\n",
       "      <td>0</td>\n",
       "      <td>0</td>\n",
       "      <td>0</td>\n",
       "      <td>0</td>\n",
       "      <td>0</td>\n",
       "      <td>0</td>\n",
       "      <td>0</td>\n",
       "      <td>0</td>\n",
       "      <td>0</td>\n",
       "      <td>0</td>\n",
       "      <td>0</td>\n",
       "      <td>0</td>\n",
       "      <td>0</td>\n",
       "      <td>0</td>\n",
       "      <td>0</td>\n",
       "      <td>0</td>\n",
       "      <td>0</td>\n",
       "      <td>0</td>\n",
       "      <td>...</td>\n",
       "      <td>0</td>\n",
       "      <td>0</td>\n",
       "      <td>0</td>\n",
       "      <td>0</td>\n",
       "      <td>0</td>\n",
       "      <td>0</td>\n",
       "      <td>0</td>\n",
       "      <td>0</td>\n",
       "      <td>0</td>\n",
       "      <td>0</td>\n",
       "      <td>0</td>\n",
       "      <td>0</td>\n",
       "      <td>0</td>\n",
       "      <td>0</td>\n",
       "      <td>0</td>\n",
       "      <td>0</td>\n",
       "      <td>0</td>\n",
       "      <td>0</td>\n",
       "      <td>0</td>\n",
       "      <td>0</td>\n",
       "      <td>0</td>\n",
       "      <td>0</td>\n",
       "      <td>0</td>\n",
       "      <td>0</td>\n",
       "      <td>0</td>\n",
       "      <td>0</td>\n",
       "      <td>0</td>\n",
       "      <td>0</td>\n",
       "      <td>0</td>\n",
       "      <td>0</td>\n",
       "      <td>0</td>\n",
       "      <td>0</td>\n",
       "      <td>0</td>\n",
       "      <td>0</td>\n",
       "      <td>0</td>\n",
       "      <td>0</td>\n",
       "      <td>0</td>\n",
       "      <td>0</td>\n",
       "      <td>0</td>\n",
       "      <td>0</td>\n",
       "    </tr>\n",
       "    <tr>\n",
       "      <th>2</th>\n",
       "      <td>0</td>\n",
       "      <td>0</td>\n",
       "      <td>0</td>\n",
       "      <td>0</td>\n",
       "      <td>0</td>\n",
       "      <td>0</td>\n",
       "      <td>0</td>\n",
       "      <td>0</td>\n",
       "      <td>0</td>\n",
       "      <td>0</td>\n",
       "      <td>0</td>\n",
       "      <td>0</td>\n",
       "      <td>0</td>\n",
       "      <td>0</td>\n",
       "      <td>0</td>\n",
       "      <td>0</td>\n",
       "      <td>0</td>\n",
       "      <td>0</td>\n",
       "      <td>0</td>\n",
       "      <td>0</td>\n",
       "      <td>0</td>\n",
       "      <td>0</td>\n",
       "      <td>0</td>\n",
       "      <td>0</td>\n",
       "      <td>0</td>\n",
       "      <td>0</td>\n",
       "      <td>0</td>\n",
       "      <td>0</td>\n",
       "      <td>0</td>\n",
       "      <td>0</td>\n",
       "      <td>0</td>\n",
       "      <td>0</td>\n",
       "      <td>0</td>\n",
       "      <td>0</td>\n",
       "      <td>0</td>\n",
       "      <td>0</td>\n",
       "      <td>0</td>\n",
       "      <td>0</td>\n",
       "      <td>0</td>\n",
       "      <td>0</td>\n",
       "      <td>...</td>\n",
       "      <td>0</td>\n",
       "      <td>0</td>\n",
       "      <td>0</td>\n",
       "      <td>0</td>\n",
       "      <td>0</td>\n",
       "      <td>0</td>\n",
       "      <td>0</td>\n",
       "      <td>0</td>\n",
       "      <td>0</td>\n",
       "      <td>0</td>\n",
       "      <td>0</td>\n",
       "      <td>0</td>\n",
       "      <td>0</td>\n",
       "      <td>0</td>\n",
       "      <td>0</td>\n",
       "      <td>0</td>\n",
       "      <td>0</td>\n",
       "      <td>0</td>\n",
       "      <td>0</td>\n",
       "      <td>0</td>\n",
       "      <td>0</td>\n",
       "      <td>0</td>\n",
       "      <td>0</td>\n",
       "      <td>0</td>\n",
       "      <td>0</td>\n",
       "      <td>0</td>\n",
       "      <td>0</td>\n",
       "      <td>0</td>\n",
       "      <td>0</td>\n",
       "      <td>0</td>\n",
       "      <td>0</td>\n",
       "      <td>0</td>\n",
       "      <td>0</td>\n",
       "      <td>0</td>\n",
       "      <td>0</td>\n",
       "      <td>0</td>\n",
       "      <td>0</td>\n",
       "      <td>0</td>\n",
       "      <td>0</td>\n",
       "      <td>0</td>\n",
       "    </tr>\n",
       "    <tr>\n",
       "      <th>3</th>\n",
       "      <td>0</td>\n",
       "      <td>0</td>\n",
       "      <td>0</td>\n",
       "      <td>0</td>\n",
       "      <td>0</td>\n",
       "      <td>0</td>\n",
       "      <td>0</td>\n",
       "      <td>0</td>\n",
       "      <td>0</td>\n",
       "      <td>0</td>\n",
       "      <td>0</td>\n",
       "      <td>0</td>\n",
       "      <td>0</td>\n",
       "      <td>0</td>\n",
       "      <td>0</td>\n",
       "      <td>0</td>\n",
       "      <td>0</td>\n",
       "      <td>0</td>\n",
       "      <td>0</td>\n",
       "      <td>0</td>\n",
       "      <td>0</td>\n",
       "      <td>0</td>\n",
       "      <td>0</td>\n",
       "      <td>0</td>\n",
       "      <td>0</td>\n",
       "      <td>0</td>\n",
       "      <td>0</td>\n",
       "      <td>0</td>\n",
       "      <td>0</td>\n",
       "      <td>0</td>\n",
       "      <td>0</td>\n",
       "      <td>0</td>\n",
       "      <td>0</td>\n",
       "      <td>0</td>\n",
       "      <td>0</td>\n",
       "      <td>0</td>\n",
       "      <td>0</td>\n",
       "      <td>0</td>\n",
       "      <td>0</td>\n",
       "      <td>0</td>\n",
       "      <td>...</td>\n",
       "      <td>0</td>\n",
       "      <td>0</td>\n",
       "      <td>0</td>\n",
       "      <td>0</td>\n",
       "      <td>0</td>\n",
       "      <td>0</td>\n",
       "      <td>0</td>\n",
       "      <td>0</td>\n",
       "      <td>0</td>\n",
       "      <td>0</td>\n",
       "      <td>0</td>\n",
       "      <td>0</td>\n",
       "      <td>0</td>\n",
       "      <td>0</td>\n",
       "      <td>0</td>\n",
       "      <td>0</td>\n",
       "      <td>0</td>\n",
       "      <td>0</td>\n",
       "      <td>0</td>\n",
       "      <td>0</td>\n",
       "      <td>0</td>\n",
       "      <td>0</td>\n",
       "      <td>0</td>\n",
       "      <td>0</td>\n",
       "      <td>0</td>\n",
       "      <td>0</td>\n",
       "      <td>0</td>\n",
       "      <td>0</td>\n",
       "      <td>0</td>\n",
       "      <td>0</td>\n",
       "      <td>0</td>\n",
       "      <td>0</td>\n",
       "      <td>0</td>\n",
       "      <td>0</td>\n",
       "      <td>0</td>\n",
       "      <td>0</td>\n",
       "      <td>0</td>\n",
       "      <td>0</td>\n",
       "      <td>0</td>\n",
       "      <td>0</td>\n",
       "    </tr>\n",
       "    <tr>\n",
       "      <th>4</th>\n",
       "      <td>0</td>\n",
       "      <td>0</td>\n",
       "      <td>0</td>\n",
       "      <td>0</td>\n",
       "      <td>0</td>\n",
       "      <td>0</td>\n",
       "      <td>0</td>\n",
       "      <td>0</td>\n",
       "      <td>0</td>\n",
       "      <td>0</td>\n",
       "      <td>0</td>\n",
       "      <td>0</td>\n",
       "      <td>0</td>\n",
       "      <td>0</td>\n",
       "      <td>0</td>\n",
       "      <td>0</td>\n",
       "      <td>0</td>\n",
       "      <td>0</td>\n",
       "      <td>0</td>\n",
       "      <td>0</td>\n",
       "      <td>0</td>\n",
       "      <td>0</td>\n",
       "      <td>0</td>\n",
       "      <td>0</td>\n",
       "      <td>0</td>\n",
       "      <td>0</td>\n",
       "      <td>0</td>\n",
       "      <td>0</td>\n",
       "      <td>0</td>\n",
       "      <td>0</td>\n",
       "      <td>0</td>\n",
       "      <td>0</td>\n",
       "      <td>0</td>\n",
       "      <td>0</td>\n",
       "      <td>0</td>\n",
       "      <td>0</td>\n",
       "      <td>0</td>\n",
       "      <td>0</td>\n",
       "      <td>0</td>\n",
       "      <td>0</td>\n",
       "      <td>...</td>\n",
       "      <td>0</td>\n",
       "      <td>0</td>\n",
       "      <td>0</td>\n",
       "      <td>0</td>\n",
       "      <td>0</td>\n",
       "      <td>0</td>\n",
       "      <td>0</td>\n",
       "      <td>0</td>\n",
       "      <td>0</td>\n",
       "      <td>0</td>\n",
       "      <td>0</td>\n",
       "      <td>0</td>\n",
       "      <td>0</td>\n",
       "      <td>0</td>\n",
       "      <td>0</td>\n",
       "      <td>0</td>\n",
       "      <td>0</td>\n",
       "      <td>0</td>\n",
       "      <td>0</td>\n",
       "      <td>0</td>\n",
       "      <td>0</td>\n",
       "      <td>0</td>\n",
       "      <td>0</td>\n",
       "      <td>0</td>\n",
       "      <td>0</td>\n",
       "      <td>0</td>\n",
       "      <td>0</td>\n",
       "      <td>0</td>\n",
       "      <td>0</td>\n",
       "      <td>0</td>\n",
       "      <td>0</td>\n",
       "      <td>0</td>\n",
       "      <td>0</td>\n",
       "      <td>0</td>\n",
       "      <td>0</td>\n",
       "      <td>0</td>\n",
       "      <td>0</td>\n",
       "      <td>0</td>\n",
       "      <td>0</td>\n",
       "      <td>0</td>\n",
       "    </tr>\n",
       "  </tbody>\n",
       "</table>\n",
       "<p>5 rows × 14190 columns</p>\n",
       "</div>"
      ],
      "text/plain": [
       "   aa  aaa  aaaand  aaalll  aaarrrgghhh  ...  zrnf  zss  zumiez  zurich  zzz\n",
       "0   0    0       0       0            0  ...     0    0       0       0    0\n",
       "1   0    0       0       0            0  ...     0    0       0       0    0\n",
       "2   0    0       0       0            0  ...     0    0       0       0    0\n",
       "3   0    0       0       0            0  ...     0    0       0       0    0\n",
       "4   0    0       0       0            0  ...     0    0       0       0    0\n",
       "\n",
       "[5 rows x 14190 columns]"
      ]
     },
     "execution_count": 17,
     "metadata": {
      "tags": []
     },
     "output_type": "execute_result"
    }
   ],
   "source": [
    "#BOW\n",
    "vectorizer = CountVectorizer(stop_words='english')\n",
    "vectorizer.fit(train[\"clean_text\"])\n",
    "\n",
    "vec_train = vectorizer.fit_transform(train[\"clean_text\"])\n",
    "feature_words = vectorizer.get_feature_names()\n",
    "print(len(feature_words))\n",
    "df_bow_train = pd.DataFrame(vec_train.toarray(), columns=feature_words)\n",
    "df_bow_train.head()"
   ]
  },
  {
   "cell_type": "code",
   "execution_count": 18,
   "metadata": {
    "colab": {
     "base_uri": "https://localhost:8080/",
     "height": 274
    },
    "colab_type": "code",
    "executionInfo": {
     "elapsed": 1044,
     "status": "ok",
     "timestamp": 1595283651545,
     "user": {
      "displayName": "Matias Priano",
      "photoUrl": "",
      "userId": "15562786802230056350"
     },
     "user_tz": 180
    },
    "id": "IL6FKZNNE_Xn",
    "outputId": "54546e7f-8ad8-4b68-ff76-4a263eeed438"
   },
   "outputs": [
    {
     "name": "stdout",
     "output_type": "stream",
     "text": [
      "8674\n"
     ]
    },
    {
     "data": {
      "text/html": [
       "<div>\n",
       "<style scoped>\n",
       "    .dataframe tbody tr th:only-of-type {\n",
       "        vertical-align: middle;\n",
       "    }\n",
       "\n",
       "    .dataframe tbody tr th {\n",
       "        vertical-align: top;\n",
       "    }\n",
       "\n",
       "    .dataframe thead th {\n",
       "        text-align: right;\n",
       "    }\n",
       "</style>\n",
       "<table border=\"1\" class=\"dataframe\">\n",
       "  <thead>\n",
       "    <tr style=\"text-align: right;\">\n",
       "      <th></th>\n",
       "      <th>aa</th>\n",
       "      <th>aaaaaa</th>\n",
       "      <th>aabn</th>\n",
       "      <th>aapatwork</th>\n",
       "      <th>aaron</th>\n",
       "      <th>aba</th>\n",
       "      <th>abandoned</th>\n",
       "      <th>abandons</th>\n",
       "      <th>abba</th>\n",
       "      <th>abbog</th>\n",
       "      <th>abbott</th>\n",
       "      <th>abbswinston</th>\n",
       "      <th>abc</th>\n",
       "      <th>abcnews</th>\n",
       "      <th>abdulrasheed</th>\n",
       "      <th>abe</th>\n",
       "      <th>abella</th>\n",
       "      <th>abh</th>\n",
       "      <th>abide</th>\n",
       "      <th>ability</th>\n",
       "      <th>ablaze</th>\n",
       "      <th>able</th>\n",
       "      <th>abnormally</th>\n",
       "      <th>abolishing</th>\n",
       "      <th>abomb</th>\n",
       "      <th>abombs</th>\n",
       "      <th>abomination</th>\n",
       "      <th>abooortiooonnns</th>\n",
       "      <th>aboriginal</th>\n",
       "      <th>aborted</th>\n",
       "      <th>abortions</th>\n",
       "      <th>abounds</th>\n",
       "      <th>abrianna</th>\n",
       "      <th>abs</th>\n",
       "      <th>absol</th>\n",
       "      <th>absolute</th>\n",
       "      <th>absolutely</th>\n",
       "      <th>abstorm</th>\n",
       "      <th>abt</th>\n",
       "      <th>abuse</th>\n",
       "      <th>...</th>\n",
       "      <th>youcantsitwithus</th>\n",
       "      <th>youd</th>\n",
       "      <th>yougslavia</th>\n",
       "      <th>youku</th>\n",
       "      <th>youll</th>\n",
       "      <th>young</th>\n",
       "      <th>youre</th>\n",
       "      <th>yoursstand</th>\n",
       "      <th>youth</th>\n",
       "      <th>youtube</th>\n",
       "      <th>youve</th>\n",
       "      <th>ypg</th>\n",
       "      <th>yr</th>\n",
       "      <th>yrs</th>\n",
       "      <th>yup</th>\n",
       "      <th>yyc</th>\n",
       "      <th>yychail</th>\n",
       "      <th>yycstorm</th>\n",
       "      <th>yyctraffic</th>\n",
       "      <th>yycweather</th>\n",
       "      <th>zack</th>\n",
       "      <th>zayn</th>\n",
       "      <th>zealand</th>\n",
       "      <th>zero</th>\n",
       "      <th>zeroedgea</th>\n",
       "      <th>zeroes</th>\n",
       "      <th>zerohedge</th>\n",
       "      <th>zion</th>\n",
       "      <th>zionist</th>\n",
       "      <th>zippers</th>\n",
       "      <th>zirngast</th>\n",
       "      <th>zix</th>\n",
       "      <th>zombie</th>\n",
       "      <th>zombies</th>\n",
       "      <th>zone</th>\n",
       "      <th>zones</th>\n",
       "      <th>zouis</th>\n",
       "      <th>zouma</th>\n",
       "      <th>zuma</th>\n",
       "      <th>zx</th>\n",
       "    </tr>\n",
       "  </thead>\n",
       "  <tbody>\n",
       "    <tr>\n",
       "      <th>0</th>\n",
       "      <td>0</td>\n",
       "      <td>0</td>\n",
       "      <td>0</td>\n",
       "      <td>0</td>\n",
       "      <td>0</td>\n",
       "      <td>0</td>\n",
       "      <td>0</td>\n",
       "      <td>0</td>\n",
       "      <td>0</td>\n",
       "      <td>0</td>\n",
       "      <td>0</td>\n",
       "      <td>0</td>\n",
       "      <td>0</td>\n",
       "      <td>0</td>\n",
       "      <td>0</td>\n",
       "      <td>0</td>\n",
       "      <td>0</td>\n",
       "      <td>0</td>\n",
       "      <td>0</td>\n",
       "      <td>0</td>\n",
       "      <td>0</td>\n",
       "      <td>0</td>\n",
       "      <td>0</td>\n",
       "      <td>0</td>\n",
       "      <td>0</td>\n",
       "      <td>0</td>\n",
       "      <td>0</td>\n",
       "      <td>0</td>\n",
       "      <td>0</td>\n",
       "      <td>0</td>\n",
       "      <td>0</td>\n",
       "      <td>0</td>\n",
       "      <td>0</td>\n",
       "      <td>0</td>\n",
       "      <td>0</td>\n",
       "      <td>0</td>\n",
       "      <td>0</td>\n",
       "      <td>0</td>\n",
       "      <td>0</td>\n",
       "      <td>0</td>\n",
       "      <td>...</td>\n",
       "      <td>0</td>\n",
       "      <td>0</td>\n",
       "      <td>0</td>\n",
       "      <td>0</td>\n",
       "      <td>0</td>\n",
       "      <td>0</td>\n",
       "      <td>0</td>\n",
       "      <td>0</td>\n",
       "      <td>0</td>\n",
       "      <td>0</td>\n",
       "      <td>0</td>\n",
       "      <td>0</td>\n",
       "      <td>0</td>\n",
       "      <td>0</td>\n",
       "      <td>0</td>\n",
       "      <td>0</td>\n",
       "      <td>0</td>\n",
       "      <td>0</td>\n",
       "      <td>0</td>\n",
       "      <td>0</td>\n",
       "      <td>0</td>\n",
       "      <td>0</td>\n",
       "      <td>0</td>\n",
       "      <td>0</td>\n",
       "      <td>0</td>\n",
       "      <td>0</td>\n",
       "      <td>0</td>\n",
       "      <td>0</td>\n",
       "      <td>0</td>\n",
       "      <td>0</td>\n",
       "      <td>0</td>\n",
       "      <td>0</td>\n",
       "      <td>0</td>\n",
       "      <td>0</td>\n",
       "      <td>0</td>\n",
       "      <td>0</td>\n",
       "      <td>0</td>\n",
       "      <td>0</td>\n",
       "      <td>0</td>\n",
       "      <td>0</td>\n",
       "    </tr>\n",
       "    <tr>\n",
       "      <th>1</th>\n",
       "      <td>0</td>\n",
       "      <td>0</td>\n",
       "      <td>0</td>\n",
       "      <td>0</td>\n",
       "      <td>0</td>\n",
       "      <td>0</td>\n",
       "      <td>0</td>\n",
       "      <td>0</td>\n",
       "      <td>0</td>\n",
       "      <td>0</td>\n",
       "      <td>0</td>\n",
       "      <td>0</td>\n",
       "      <td>0</td>\n",
       "      <td>0</td>\n",
       "      <td>0</td>\n",
       "      <td>0</td>\n",
       "      <td>0</td>\n",
       "      <td>0</td>\n",
       "      <td>0</td>\n",
       "      <td>0</td>\n",
       "      <td>0</td>\n",
       "      <td>0</td>\n",
       "      <td>0</td>\n",
       "      <td>0</td>\n",
       "      <td>0</td>\n",
       "      <td>0</td>\n",
       "      <td>0</td>\n",
       "      <td>0</td>\n",
       "      <td>0</td>\n",
       "      <td>0</td>\n",
       "      <td>0</td>\n",
       "      <td>0</td>\n",
       "      <td>0</td>\n",
       "      <td>0</td>\n",
       "      <td>0</td>\n",
       "      <td>0</td>\n",
       "      <td>0</td>\n",
       "      <td>0</td>\n",
       "      <td>0</td>\n",
       "      <td>0</td>\n",
       "      <td>...</td>\n",
       "      <td>0</td>\n",
       "      <td>0</td>\n",
       "      <td>0</td>\n",
       "      <td>0</td>\n",
       "      <td>0</td>\n",
       "      <td>0</td>\n",
       "      <td>0</td>\n",
       "      <td>0</td>\n",
       "      <td>0</td>\n",
       "      <td>0</td>\n",
       "      <td>0</td>\n",
       "      <td>0</td>\n",
       "      <td>0</td>\n",
       "      <td>0</td>\n",
       "      <td>0</td>\n",
       "      <td>0</td>\n",
       "      <td>0</td>\n",
       "      <td>0</td>\n",
       "      <td>0</td>\n",
       "      <td>0</td>\n",
       "      <td>0</td>\n",
       "      <td>0</td>\n",
       "      <td>0</td>\n",
       "      <td>0</td>\n",
       "      <td>0</td>\n",
       "      <td>0</td>\n",
       "      <td>0</td>\n",
       "      <td>0</td>\n",
       "      <td>0</td>\n",
       "      <td>0</td>\n",
       "      <td>0</td>\n",
       "      <td>0</td>\n",
       "      <td>0</td>\n",
       "      <td>0</td>\n",
       "      <td>0</td>\n",
       "      <td>0</td>\n",
       "      <td>0</td>\n",
       "      <td>0</td>\n",
       "      <td>0</td>\n",
       "      <td>0</td>\n",
       "    </tr>\n",
       "    <tr>\n",
       "      <th>2</th>\n",
       "      <td>0</td>\n",
       "      <td>0</td>\n",
       "      <td>0</td>\n",
       "      <td>0</td>\n",
       "      <td>0</td>\n",
       "      <td>0</td>\n",
       "      <td>0</td>\n",
       "      <td>0</td>\n",
       "      <td>0</td>\n",
       "      <td>0</td>\n",
       "      <td>0</td>\n",
       "      <td>0</td>\n",
       "      <td>0</td>\n",
       "      <td>0</td>\n",
       "      <td>0</td>\n",
       "      <td>0</td>\n",
       "      <td>0</td>\n",
       "      <td>0</td>\n",
       "      <td>0</td>\n",
       "      <td>0</td>\n",
       "      <td>0</td>\n",
       "      <td>0</td>\n",
       "      <td>0</td>\n",
       "      <td>0</td>\n",
       "      <td>0</td>\n",
       "      <td>0</td>\n",
       "      <td>0</td>\n",
       "      <td>0</td>\n",
       "      <td>0</td>\n",
       "      <td>0</td>\n",
       "      <td>0</td>\n",
       "      <td>0</td>\n",
       "      <td>0</td>\n",
       "      <td>0</td>\n",
       "      <td>0</td>\n",
       "      <td>0</td>\n",
       "      <td>0</td>\n",
       "      <td>0</td>\n",
       "      <td>0</td>\n",
       "      <td>0</td>\n",
       "      <td>...</td>\n",
       "      <td>0</td>\n",
       "      <td>0</td>\n",
       "      <td>0</td>\n",
       "      <td>0</td>\n",
       "      <td>0</td>\n",
       "      <td>0</td>\n",
       "      <td>0</td>\n",
       "      <td>0</td>\n",
       "      <td>0</td>\n",
       "      <td>0</td>\n",
       "      <td>0</td>\n",
       "      <td>0</td>\n",
       "      <td>0</td>\n",
       "      <td>0</td>\n",
       "      <td>0</td>\n",
       "      <td>0</td>\n",
       "      <td>0</td>\n",
       "      <td>0</td>\n",
       "      <td>0</td>\n",
       "      <td>0</td>\n",
       "      <td>0</td>\n",
       "      <td>0</td>\n",
       "      <td>0</td>\n",
       "      <td>0</td>\n",
       "      <td>0</td>\n",
       "      <td>0</td>\n",
       "      <td>0</td>\n",
       "      <td>0</td>\n",
       "      <td>0</td>\n",
       "      <td>0</td>\n",
       "      <td>0</td>\n",
       "      <td>0</td>\n",
       "      <td>0</td>\n",
       "      <td>0</td>\n",
       "      <td>0</td>\n",
       "      <td>0</td>\n",
       "      <td>0</td>\n",
       "      <td>0</td>\n",
       "      <td>0</td>\n",
       "      <td>0</td>\n",
       "    </tr>\n",
       "    <tr>\n",
       "      <th>3</th>\n",
       "      <td>0</td>\n",
       "      <td>0</td>\n",
       "      <td>0</td>\n",
       "      <td>0</td>\n",
       "      <td>0</td>\n",
       "      <td>0</td>\n",
       "      <td>0</td>\n",
       "      <td>0</td>\n",
       "      <td>0</td>\n",
       "      <td>0</td>\n",
       "      <td>0</td>\n",
       "      <td>0</td>\n",
       "      <td>0</td>\n",
       "      <td>0</td>\n",
       "      <td>0</td>\n",
       "      <td>0</td>\n",
       "      <td>0</td>\n",
       "      <td>0</td>\n",
       "      <td>0</td>\n",
       "      <td>0</td>\n",
       "      <td>0</td>\n",
       "      <td>0</td>\n",
       "      <td>0</td>\n",
       "      <td>0</td>\n",
       "      <td>0</td>\n",
       "      <td>0</td>\n",
       "      <td>0</td>\n",
       "      <td>0</td>\n",
       "      <td>0</td>\n",
       "      <td>0</td>\n",
       "      <td>0</td>\n",
       "      <td>0</td>\n",
       "      <td>0</td>\n",
       "      <td>0</td>\n",
       "      <td>0</td>\n",
       "      <td>0</td>\n",
       "      <td>0</td>\n",
       "      <td>0</td>\n",
       "      <td>0</td>\n",
       "      <td>0</td>\n",
       "      <td>...</td>\n",
       "      <td>0</td>\n",
       "      <td>0</td>\n",
       "      <td>0</td>\n",
       "      <td>0</td>\n",
       "      <td>0</td>\n",
       "      <td>0</td>\n",
       "      <td>0</td>\n",
       "      <td>0</td>\n",
       "      <td>0</td>\n",
       "      <td>0</td>\n",
       "      <td>0</td>\n",
       "      <td>0</td>\n",
       "      <td>0</td>\n",
       "      <td>0</td>\n",
       "      <td>0</td>\n",
       "      <td>0</td>\n",
       "      <td>0</td>\n",
       "      <td>0</td>\n",
       "      <td>0</td>\n",
       "      <td>0</td>\n",
       "      <td>0</td>\n",
       "      <td>0</td>\n",
       "      <td>0</td>\n",
       "      <td>0</td>\n",
       "      <td>0</td>\n",
       "      <td>0</td>\n",
       "      <td>0</td>\n",
       "      <td>0</td>\n",
       "      <td>0</td>\n",
       "      <td>0</td>\n",
       "      <td>0</td>\n",
       "      <td>0</td>\n",
       "      <td>0</td>\n",
       "      <td>0</td>\n",
       "      <td>0</td>\n",
       "      <td>0</td>\n",
       "      <td>0</td>\n",
       "      <td>0</td>\n",
       "      <td>0</td>\n",
       "      <td>0</td>\n",
       "    </tr>\n",
       "    <tr>\n",
       "      <th>4</th>\n",
       "      <td>0</td>\n",
       "      <td>0</td>\n",
       "      <td>0</td>\n",
       "      <td>0</td>\n",
       "      <td>0</td>\n",
       "      <td>0</td>\n",
       "      <td>0</td>\n",
       "      <td>0</td>\n",
       "      <td>0</td>\n",
       "      <td>0</td>\n",
       "      <td>0</td>\n",
       "      <td>0</td>\n",
       "      <td>0</td>\n",
       "      <td>0</td>\n",
       "      <td>0</td>\n",
       "      <td>0</td>\n",
       "      <td>0</td>\n",
       "      <td>0</td>\n",
       "      <td>0</td>\n",
       "      <td>0</td>\n",
       "      <td>0</td>\n",
       "      <td>0</td>\n",
       "      <td>0</td>\n",
       "      <td>0</td>\n",
       "      <td>0</td>\n",
       "      <td>0</td>\n",
       "      <td>0</td>\n",
       "      <td>0</td>\n",
       "      <td>0</td>\n",
       "      <td>0</td>\n",
       "      <td>0</td>\n",
       "      <td>0</td>\n",
       "      <td>0</td>\n",
       "      <td>0</td>\n",
       "      <td>0</td>\n",
       "      <td>0</td>\n",
       "      <td>0</td>\n",
       "      <td>0</td>\n",
       "      <td>0</td>\n",
       "      <td>0</td>\n",
       "      <td>...</td>\n",
       "      <td>0</td>\n",
       "      <td>0</td>\n",
       "      <td>0</td>\n",
       "      <td>0</td>\n",
       "      <td>0</td>\n",
       "      <td>0</td>\n",
       "      <td>0</td>\n",
       "      <td>0</td>\n",
       "      <td>0</td>\n",
       "      <td>0</td>\n",
       "      <td>0</td>\n",
       "      <td>0</td>\n",
       "      <td>0</td>\n",
       "      <td>0</td>\n",
       "      <td>0</td>\n",
       "      <td>0</td>\n",
       "      <td>0</td>\n",
       "      <td>0</td>\n",
       "      <td>0</td>\n",
       "      <td>0</td>\n",
       "      <td>0</td>\n",
       "      <td>0</td>\n",
       "      <td>0</td>\n",
       "      <td>0</td>\n",
       "      <td>0</td>\n",
       "      <td>0</td>\n",
       "      <td>0</td>\n",
       "      <td>0</td>\n",
       "      <td>0</td>\n",
       "      <td>0</td>\n",
       "      <td>0</td>\n",
       "      <td>0</td>\n",
       "      <td>0</td>\n",
       "      <td>0</td>\n",
       "      <td>0</td>\n",
       "      <td>0</td>\n",
       "      <td>0</td>\n",
       "      <td>0</td>\n",
       "      <td>0</td>\n",
       "      <td>0</td>\n",
       "    </tr>\n",
       "  </tbody>\n",
       "</table>\n",
       "<p>5 rows × 8674 columns</p>\n",
       "</div>"
      ],
      "text/plain": [
       "   aa  aaaaaa  aabn  aapatwork  aaron  aba  ...  zone  zones  zouis  zouma  zuma  zx\n",
       "0   0       0     0          0      0    0  ...     0      0      0      0     0   0\n",
       "1   0       0     0          0      0    0  ...     0      0      0      0     0   0\n",
       "2   0       0     0          0      0    0  ...     0      0      0      0     0   0\n",
       "3   0       0     0          0      0    0  ...     0      0      0      0     0   0\n",
       "4   0       0     0          0      0    0  ...     0      0      0      0     0   0\n",
       "\n",
       "[5 rows x 8674 columns]"
      ]
     },
     "execution_count": 18,
     "metadata": {
      "tags": []
     },
     "output_type": "execute_result"
    }
   ],
   "source": [
    "vec_test = vectorizer.fit_transform(test[\"clean_text\"])\n",
    "feature_words = vectorizer.get_feature_names()\n",
    "print(len(feature_words))\n",
    "df_bow_test = pd.DataFrame(vec_test.toarray(), columns=feature_words)\n",
    "df_bow_test.head()"
   ]
  },
  {
   "cell_type": "code",
   "execution_count": 24,
   "metadata": {
    "colab": {
     "base_uri": "https://localhost:8080/",
     "height": 54
    },
    "colab_type": "code",
    "executionInfo": {
     "elapsed": 939,
     "status": "ok",
     "timestamp": 1595262930668,
     "user": {
      "displayName": "Matias Priano",
      "photoUrl": "",
      "userId": "15562786802230056350"
     },
     "user_tz": 180
    },
    "id": "Zff1Y32HFB1w",
    "outputId": "f9907f7e-ec03-4a55-a363-27f413c6bde8"
   },
   "outputs": [
    {
     "name": "stdout",
     "output_type": "stream",
     "text": [
      "(7613, 14190)\n",
      "(3263, 8674)\n"
     ]
    }
   ],
   "source": [
    "print(df_bow_train.shape)\n",
    "print(df_bow_test.shape)"
   ]
  },
  {
   "cell_type": "code",
   "execution_count": 19,
   "metadata": {
    "colab": {
     "base_uri": "https://localhost:8080/",
     "height": 72
    },
    "colab_type": "code",
    "executionInfo": {
     "elapsed": 2329,
     "status": "ok",
     "timestamp": 1595283659872,
     "user": {
      "displayName": "Matias Priano",
      "photoUrl": "",
      "userId": "15562786802230056350"
     },
     "user_tz": 180
    },
    "id": "XwmG1ZeFFNZS",
    "outputId": "2714ca22-83f0-481e-b8ef-24ba62e672be"
   },
   "outputs": [
    {
     "name": "stdout",
     "output_type": "stream",
     "text": [
      "(7613, 6064)\n",
      "(7613, 2506)\n",
      "(7613, 1338)\n"
     ]
    }
   ],
   "source": [
    "filter_train = df_bow_train.loc[:,(df_bow_train.sum()>1)]\n",
    "train_final = pd.concat([train_bin,filter_train], axis=\"columns\")\n",
    "print(train_final.shape)\n",
    "filter_train = df_bow_train.loc[:,(df_bow_train.sum()>=5)]\n",
    "train_final_2 = pd.concat([train_bin,filter_train], axis=\"columns\")\n",
    "print(train_final_2.shape)\n",
    "filter_train = df_bow_train.loc[:,(df_bow_train.sum()>=10)]\n",
    "train_final_3 = pd.concat([train_bin,filter_train], axis=\"columns\")\n",
    "print(train_final_3.shape)"
   ]
  },
  {
   "cell_type": "code",
   "execution_count": null,
   "metadata": {
    "colab": {},
    "colab_type": "code",
    "id": "vNnFj_ihFUZc"
   },
   "outputs": [],
   "source": [
    "# filter_test = df_bow_test.loc[:,(df_bow_test.sum()>1)]\n",
    "# test_final = pd.concat([test_bin,filter_test], axis=\"columns\")\n",
    "# print(test_final.shape)\n",
    "# filter_test = df_bow_test.loc[:,(df_bow_test.sum()>=5)]\n",
    "# test_final_2 = pd.concat([test_bin,filter_test], axis=\"columns\")\n",
    "# print(test_final_2.shape)\n",
    "# filter_test = df_bow_test.loc[:,(df_bow_test.sum()>=10)]\n",
    "# test_final_3 = pd.concat([test_bin,filter_test], axis=\"columns\")\n",
    "# print(test_final_3.shape)"
   ]
  },
  {
   "cell_type": "code",
   "execution_count": 20,
   "metadata": {
    "colab": {},
    "colab_type": "code",
    "executionInfo": {
     "elapsed": 964,
     "status": "ok",
     "timestamp": 1595283670108,
     "user": {
      "displayName": "Matias Priano",
      "photoUrl": "",
      "userId": "15562786802230056350"
     },
     "user_tz": 180
    },
    "id": "tpbGmaV2FcKl"
   },
   "outputs": [],
   "source": [
    "X = train_final_2.drop([\"id_original\",\"keyword_original\",\"location_original\",\"text_original\",\"target_label\",\n",
    "                      \"clean_text\"], axis=1)\n",
    "y = train_final_2[\"target_label\"]"
   ]
  },
  {
   "cell_type": "code",
   "execution_count": 21,
   "metadata": {
    "colab": {},
    "colab_type": "code",
    "executionInfo": {
     "elapsed": 837,
     "status": "ok",
     "timestamp": 1595283673153,
     "user": {
      "displayName": "Matias Priano",
      "photoUrl": "",
      "userId": "15562786802230056350"
     },
     "user_tz": 180
    },
    "id": "7f1yxPSHFtDH"
   },
   "outputs": [],
   "source": [
    "X_train, X_test, y_train, y_test = train_test_split(X, y, test_size=0.25, random_state=100)"
   ]
  },
  {
   "cell_type": "code",
   "execution_count": 28,
   "metadata": {
    "colab": {
     "base_uri": "https://localhost:8080/",
     "height": 90
    },
    "colab_type": "code",
    "executionInfo": {
     "elapsed": 4781,
     "status": "ok",
     "timestamp": 1595263100094,
     "user": {
      "displayName": "Matias Priano",
      "photoUrl": "",
      "userId": "15562786802230056350"
     },
     "user_tz": 180
    },
    "id": "VHW33zXyFwg6",
    "outputId": "bb07cc2d-a11b-4de9-daba-548a8684e484"
   },
   "outputs": [
    {
     "name": "stdout",
     "output_type": "stream",
     "text": [
      "(5709, 2500)\n",
      "(5709,)\n",
      "(1904, 2500)\n",
      "(1904,)\n"
     ]
    }
   ],
   "source": [
    "print(X_train.shape)\n",
    "print(y_train.shape)\n",
    "print(X_test.shape)\n",
    "print(y_test.shape)"
   ]
  },
  {
   "cell_type": "code",
   "execution_count": 22,
   "metadata": {
    "colab": {},
    "colab_type": "code",
    "executionInfo": {
     "elapsed": 1087,
     "status": "ok",
     "timestamp": 1595283680413,
     "user": {
      "displayName": "Matias Priano",
      "photoUrl": "",
      "userId": "15562786802230056350"
     },
     "user_tz": 180
    },
    "id": "nSjVqLSHGH4l"
   },
   "outputs": [],
   "source": [
    "# feature selection\n",
    "def select_features(X_train, y_train, X_test, function, k):\n",
    "    fs = SelectKBest(score_func=function, k=k)\n",
    "    fs.fit(X_train, y_train)\n",
    "    X_train_fs = fs.transform(X_train)\n",
    "    X_test_fs = fs.transform(X_test)\n",
    "    return X_train_fs, X_test_fs, fs"
   ]
  },
  {
   "cell_type": "markdown",
   "metadata": {
    "colab_type": "text",
    "id": "VjoT9nztF8_k"
   },
   "source": [
    "## XGBoost"
   ]
  },
  {
   "cell_type": "code",
   "execution_count": 31,
   "metadata": {
    "colab": {},
    "colab_type": "code",
    "executionInfo": {
     "elapsed": 123110,
     "status": "ok",
     "timestamp": 1595263420067,
     "user": {
      "displayName": "Matias Priano",
      "photoUrl": "",
      "userId": "15562786802230056350"
     },
     "user_tz": 180
    },
    "id": "6dIqmdiNFxb7"
   },
   "outputs": [],
   "source": [
    "# seleccionando las 100 features mas relevantes\n",
    "X_train_fs, X_test_fs, fs = select_features(X_train, y_train, X_test, chi2, 100)\n",
    "X_train_fs2, X_test_fs2, fs2 = select_features(X_train, y_train, X_test, mutual_info_classif, 100)"
   ]
  },
  {
   "cell_type": "code",
   "execution_count": 42,
   "metadata": {
    "colab": {
     "base_uri": "https://localhost:8080/",
     "height": 146
    },
    "colab_type": "code",
    "executionInfo": {
     "elapsed": 4671,
     "status": "ok",
     "timestamp": 1595263673629,
     "user": {
      "displayName": "Matias Priano",
      "photoUrl": "",
      "userId": "15562786802230056350"
     },
     "user_tz": 180
    },
    "id": "l713YS87HPsh",
    "outputId": "b37a7463-48dc-47ec-95c9-51b06e149428"
   },
   "outputs": [
    {
     "data": {
      "text/plain": [
       "XGBClassifier(base_score=0.5, booster='gbtree', colsample_bylevel=1,\n",
       "              colsample_bynode=1, colsample_bytree=0.5, gamma=0,\n",
       "              learning_rate=0.1, max_delta_step=0, max_depth=7,\n",
       "              min_child_weight=1, missing=None, n_estimators=250, n_jobs=1,\n",
       "              nthread=None, objective='binary:logistic', random_state=0,\n",
       "              reg_alpha=0, reg_lambda=1, scale_pos_weight=1, seed=None,\n",
       "              silent=None, subsample=1, verbosity=1)"
      ]
     },
     "execution_count": 42,
     "metadata": {
      "tags": []
     },
     "output_type": "execute_result"
    }
   ],
   "source": [
    "model = xgb.XGBClassifier(n_estimators=250, objective='binary:logistic', max_depth=7, learning_rate=0.1,\n",
    "                          subsample=1, colsample_bytree=0.5, n_jobs=1)\n",
    "model.fit(X_train_fs, y_train)"
   ]
  },
  {
   "cell_type": "code",
   "execution_count": 43,
   "metadata": {
    "colab": {
     "base_uri": "https://localhost:8080/",
     "height": 35
    },
    "colab_type": "code",
    "executionInfo": {
     "elapsed": 3378,
     "status": "ok",
     "timestamp": 1595263732382,
     "user": {
      "displayName": "Matias Priano",
      "photoUrl": "",
      "userId": "15562786802230056350"
     },
     "user_tz": 180
    },
    "id": "m8Abu1_AHTDd",
    "outputId": "b6147abf-8fa9-458f-8675-d74c8d375eb7"
   },
   "outputs": [
    {
     "name": "stdout",
     "output_type": "stream",
     "text": [
      "Accuracy score: 0.744748\n"
     ]
    }
   ],
   "source": [
    "y_test_hat = model.predict(X_test_fs)\n",
    "print(\"Accuracy score: %f\" % (accuracy_score(y_test, y_test_hat)))"
   ]
  },
  {
   "cell_type": "code",
   "execution_count": 44,
   "metadata": {
    "colab": {
     "base_uri": "https://localhost:8080/",
     "height": 146
    },
    "colab_type": "code",
    "executionInfo": {
     "elapsed": 8592,
     "status": "ok",
     "timestamp": 1595263847346,
     "user": {
      "displayName": "Matias Priano",
      "photoUrl": "",
      "userId": "15562786802230056350"
     },
     "user_tz": 180
    },
    "id": "bThe9xDgIbwQ",
    "outputId": "bc18fdc2-1a95-49c5-da9a-670be25ef306"
   },
   "outputs": [
    {
     "data": {
      "text/plain": [
       "XGBClassifier(base_score=0.5, booster='gbtree', colsample_bylevel=1,\n",
       "              colsample_bynode=1, colsample_bytree=0.5, gamma=0,\n",
       "              learning_rate=0.1, max_delta_step=0, max_depth=7,\n",
       "              min_child_weight=1, missing=None, n_estimators=250, n_jobs=1,\n",
       "              nthread=None, objective='binary:logistic', random_state=0,\n",
       "              reg_alpha=0, reg_lambda=1, scale_pos_weight=1, seed=None,\n",
       "              silent=None, subsample=1, verbosity=1)"
      ]
     },
     "execution_count": 44,
     "metadata": {
      "tags": []
     },
     "output_type": "execute_result"
    }
   ],
   "source": [
    "model = xgb.XGBClassifier(n_estimators=250, objective='binary:logistic', max_depth=7, learning_rate=0.1,\n",
    "                          subsample=1, colsample_bytree=0.5, n_jobs=1)\n",
    "model.fit(X_train_fs2, y_train)"
   ]
  },
  {
   "cell_type": "code",
   "execution_count": 45,
   "metadata": {
    "colab": {
     "base_uri": "https://localhost:8080/",
     "height": 35
    },
    "colab_type": "code",
    "executionInfo": {
     "elapsed": 6256,
     "status": "ok",
     "timestamp": 1595263878598,
     "user": {
      "displayName": "Matias Priano",
      "photoUrl": "",
      "userId": "15562786802230056350"
     },
     "user_tz": 180
    },
    "id": "NQmydh_6IcCF",
    "outputId": "72d4d6a1-77d6-4309-eedb-c55c6c5e2686"
   },
   "outputs": [
    {
     "name": "stdout",
     "output_type": "stream",
     "text": [
      "Accuracy score: 0.664916\n"
     ]
    }
   ],
   "source": [
    "y_test_hat = model.predict(X_test_fs2)\n",
    "print(\"Accuracy score: %f\" % (accuracy_score(y_test, y_test_hat)))"
   ]
  },
  {
   "cell_type": "code",
   "execution_count": 46,
   "metadata": {
    "colab": {},
    "colab_type": "code",
    "executionInfo": {
     "elapsed": 116409,
     "status": "ok",
     "timestamp": 1595264054524,
     "user": {
      "displayName": "Matias Priano",
      "photoUrl": "",
      "userId": "15562786802230056350"
     },
     "user_tz": 180
    },
    "id": "jaUk_W6jI6DE"
   },
   "outputs": [],
   "source": [
    "# 300 features\n",
    "X_train_fs, X_test_fs, fs = select_features(X_train, y_train, X_test, chi2, 300)\n",
    "X_train_fs2, X_test_fs2, fs2 = select_features(X_train, y_train, X_test, mutual_info_classif, 300)"
   ]
  },
  {
   "cell_type": "code",
   "execution_count": 57,
   "metadata": {
    "colab": {
     "base_uri": "https://localhost:8080/",
     "height": 146
    },
    "colab_type": "code",
    "executionInfo": {
     "elapsed": 14665,
     "status": "ok",
     "timestamp": 1595264411870,
     "user": {
      "displayName": "Matias Priano",
      "photoUrl": "",
      "userId": "15562786802230056350"
     },
     "user_tz": 180
    },
    "id": "uRsMwFLyJmlB",
    "outputId": "ab1fc144-de33-4e46-cafe-34f149bd2414"
   },
   "outputs": [
    {
     "data": {
      "text/plain": [
       "XGBClassifier(base_score=0.5, booster='gbtree', colsample_bylevel=1,\n",
       "              colsample_bynode=1, colsample_bytree=0.5, gamma=0,\n",
       "              learning_rate=0.1, max_delta_step=0, max_depth=13,\n",
       "              min_child_weight=1, missing=None, n_estimators=200, n_jobs=1,\n",
       "              nthread=None, objective='binary:logistic', random_state=0,\n",
       "              reg_alpha=0, reg_lambda=1, scale_pos_weight=1, seed=None,\n",
       "              silent=None, subsample=1, verbosity=1)"
      ]
     },
     "execution_count": 57,
     "metadata": {
      "tags": []
     },
     "output_type": "execute_result"
    }
   ],
   "source": [
    "model = xgb.XGBClassifier(n_estimators=200, objective='binary:logistic', max_depth=13, learning_rate=0.1,\n",
    "                          subsample=1, colsample_bytree=0.5, n_jobs=1)\n",
    "model.fit(X_train_fs, y_train)"
   ]
  },
  {
   "cell_type": "code",
   "execution_count": 58,
   "metadata": {
    "colab": {
     "base_uri": "https://localhost:8080/",
     "height": 35
    },
    "colab_type": "code",
    "executionInfo": {
     "elapsed": 13071,
     "status": "ok",
     "timestamp": 1595264411887,
     "user": {
      "displayName": "Matias Priano",
      "photoUrl": "",
      "userId": "15562786802230056350"
     },
     "user_tz": 180
    },
    "id": "TjYSISPEJoqs",
    "outputId": "18758dde-19e7-4200-f4ce-1c8b7a121668"
   },
   "outputs": [
    {
     "name": "stdout",
     "output_type": "stream",
     "text": [
      "Accuracy score: 0.780462\n"
     ]
    }
   ],
   "source": [
    "y_test_hat = model.predict(X_test_fs)\n",
    "print(\"Accuracy score: %f\" % (accuracy_score(y_test, y_test_hat)))"
   ]
  },
  {
   "cell_type": "code",
   "execution_count": 62,
   "metadata": {
    "colab": {
     "base_uri": "https://localhost:8080/",
     "height": 146
    },
    "colab_type": "code",
    "executionInfo": {
     "elapsed": 14588,
     "status": "ok",
     "timestamp": 1595264544238,
     "user": {
      "displayName": "Matias Priano",
      "photoUrl": "",
      "userId": "15562786802230056350"
     },
     "user_tz": 180
    },
    "id": "BJdlWrdxJo7b",
    "outputId": "adaf10b5-969a-4ded-952b-241d50bd8e65"
   },
   "outputs": [
    {
     "data": {
      "text/plain": [
       "XGBClassifier(base_score=0.5, booster='gbtree', colsample_bylevel=1,\n",
       "              colsample_bynode=1, colsample_bytree=0.5, gamma=0,\n",
       "              learning_rate=0.1, max_delta_step=0, max_depth=13,\n",
       "              min_child_weight=1, missing=None, n_estimators=200, n_jobs=1,\n",
       "              nthread=None, objective='binary:logistic', random_state=0,\n",
       "              reg_alpha=0, reg_lambda=1, scale_pos_weight=1, seed=None,\n",
       "              silent=None, subsample=1, verbosity=1)"
      ]
     },
     "execution_count": 62,
     "metadata": {
      "tags": []
     },
     "output_type": "execute_result"
    }
   ],
   "source": [
    "model = xgb.XGBClassifier(n_estimators=200, objective='binary:logistic', max_depth=13, learning_rate=0.1,\n",
    "                          subsample=1, colsample_bytree=0.5, n_jobs=1)\n",
    "model.fit(X_train_fs2, y_train)"
   ]
  },
  {
   "cell_type": "code",
   "execution_count": 63,
   "metadata": {
    "colab": {
     "base_uri": "https://localhost:8080/",
     "height": 35
    },
    "colab_type": "code",
    "executionInfo": {
     "elapsed": 13476,
     "status": "ok",
     "timestamp": 1595264544259,
     "user": {
      "displayName": "Matias Priano",
      "photoUrl": "",
      "userId": "15562786802230056350"
     },
     "user_tz": 180
    },
    "id": "OdjDlNA7JpLH",
    "outputId": "8682f708-b416-473c-94dd-27e26017af97"
   },
   "outputs": [
    {
     "name": "stdout",
     "output_type": "stream",
     "text": [
      "Accuracy score: 0.699055\n"
     ]
    }
   ],
   "source": [
    "y_test_hat = model.predict(X_test_fs2)\n",
    "print(\"Accuracy score: %f\" % (accuracy_score(y_test, y_test_hat)))"
   ]
  },
  {
   "cell_type": "code",
   "execution_count": 64,
   "metadata": {
    "colab": {},
    "colab_type": "code",
    "executionInfo": {
     "elapsed": 116758,
     "status": "ok",
     "timestamp": 1595264699544,
     "user": {
      "displayName": "Matias Priano",
      "photoUrl": "",
      "userId": "15562786802230056350"
     },
     "user_tz": 180
    },
    "id": "G01AajAMLZjG"
   },
   "outputs": [],
   "source": [
    "# 500 features\n",
    "X_train_fs, X_test_fs, fs = select_features(X_train, y_train, X_test, chi2, 500)\n",
    "X_train_fs2, X_test_fs2, fs2 = select_features(X_train, y_train, X_test, mutual_info_classif, 500)"
   ]
  },
  {
   "cell_type": "code",
   "execution_count": 71,
   "metadata": {
    "colab": {
     "base_uri": "https://localhost:8080/",
     "height": 146
    },
    "colab_type": "code",
    "executionInfo": {
     "elapsed": 26687,
     "status": "ok",
     "timestamp": 1595264872555,
     "user": {
      "displayName": "Matias Priano",
      "photoUrl": "",
      "userId": "15562786802230056350"
     },
     "user_tz": 180
    },
    "id": "66DbnmAdL6Bs",
    "outputId": "5916e490-2425-4cea-e211-4b97674b84f1"
   },
   "outputs": [
    {
     "data": {
      "text/plain": [
       "XGBClassifier(base_score=0.5, booster='gbtree', colsample_bylevel=1,\n",
       "              colsample_bynode=1, colsample_bytree=0.5, gamma=0,\n",
       "              learning_rate=0.1, max_delta_step=0, max_depth=15,\n",
       "              min_child_weight=1, missing=None, n_estimators=200, n_jobs=1,\n",
       "              nthread=None, objective='binary:logistic', random_state=0,\n",
       "              reg_alpha=0, reg_lambda=1, scale_pos_weight=1, seed=None,\n",
       "              silent=None, subsample=1, verbosity=1)"
      ]
     },
     "execution_count": 71,
     "metadata": {
      "tags": []
     },
     "output_type": "execute_result"
    }
   ],
   "source": [
    "model = xgb.XGBClassifier(n_estimators=200, objective='binary:logistic', max_depth=15, learning_rate=0.1,\n",
    "                          subsample=1, colsample_bytree=0.5, n_jobs=1)\n",
    "model.fit(X_train_fs, y_train)"
   ]
  },
  {
   "cell_type": "code",
   "execution_count": 72,
   "metadata": {
    "colab": {
     "base_uri": "https://localhost:8080/",
     "height": 35
    },
    "colab_type": "code",
    "executionInfo": {
     "elapsed": 25639,
     "status": "ok",
     "timestamp": 1595264872579,
     "user": {
      "displayName": "Matias Priano",
      "photoUrl": "",
      "userId": "15562786802230056350"
     },
     "user_tz": 180
    },
    "id": "8OmDS_guL7JV",
    "outputId": "c01892fe-d9d3-4b4a-e4e6-1907eb8290e3"
   },
   "outputs": [
    {
     "name": "stdout",
     "output_type": "stream",
     "text": [
      "Accuracy score: 0.794118\n"
     ]
    }
   ],
   "source": [
    "y_test_hat = model.predict(X_test_fs)\n",
    "print(\"Accuracy score: %f\" % (accuracy_score(y_test, y_test_hat)))"
   ]
  },
  {
   "cell_type": "code",
   "execution_count": 73,
   "metadata": {
    "colab": {
     "base_uri": "https://localhost:8080/",
     "height": 146
    },
    "colab_type": "code",
    "executionInfo": {
     "elapsed": 26501,
     "status": "ok",
     "timestamp": 1595264998636,
     "user": {
      "displayName": "Matias Priano",
      "photoUrl": "",
      "userId": "15562786802230056350"
     },
     "user_tz": 180
    },
    "id": "OiFGA5hhL7WN",
    "outputId": "f46833d9-5c96-48c4-a1ca-6b89d24ed726"
   },
   "outputs": [
    {
     "data": {
      "text/plain": [
       "XGBClassifier(base_score=0.5, booster='gbtree', colsample_bylevel=1,\n",
       "              colsample_bynode=1, colsample_bytree=0.5, gamma=0,\n",
       "              learning_rate=0.1, max_delta_step=0, max_depth=15,\n",
       "              min_child_weight=1, missing=None, n_estimators=200, n_jobs=1,\n",
       "              nthread=None, objective='binary:logistic', random_state=0,\n",
       "              reg_alpha=0, reg_lambda=1, scale_pos_weight=1, seed=None,\n",
       "              silent=None, subsample=1, verbosity=1)"
      ]
     },
     "execution_count": 73,
     "metadata": {
      "tags": []
     },
     "output_type": "execute_result"
    }
   ],
   "source": [
    "model = xgb.XGBClassifier(n_estimators=200, objective='binary:logistic', max_depth=15, learning_rate=0.1,\n",
    "                          subsample=1, colsample_bytree=0.5, n_jobs=1)\n",
    "model.fit(X_train_fs2, y_train)"
   ]
  },
  {
   "cell_type": "code",
   "execution_count": 74,
   "metadata": {
    "colab": {
     "base_uri": "https://localhost:8080/",
     "height": 35
    },
    "colab_type": "code",
    "executionInfo": {
     "elapsed": 25568,
     "status": "ok",
     "timestamp": 1595264998655,
     "user": {
      "displayName": "Matias Priano",
      "photoUrl": "",
      "userId": "15562786802230056350"
     },
     "user_tz": 180
    },
    "id": "wMTF7WlxL7q-",
    "outputId": "e2f0f731-32ef-4c69-c25e-d805c0deb198"
   },
   "outputs": [
    {
     "name": "stdout",
     "output_type": "stream",
     "text": [
      "Accuracy score: 0.717962\n"
     ]
    }
   ],
   "source": [
    "y_test_hat = model.predict(X_test_fs2)\n",
    "print(\"Accuracy score: %f\" % (accuracy_score(y_test, y_test_hat)))"
   ]
  },
  {
   "cell_type": "code",
   "execution_count": 75,
   "metadata": {
    "colab": {},
    "colab_type": "code",
    "executionInfo": {
     "elapsed": 116689,
     "status": "ok",
     "timestamp": 1595265313585,
     "user": {
      "displayName": "Matias Priano",
      "photoUrl": "",
      "userId": "15562786802230056350"
     },
     "user_tz": 180
    },
    "id": "RCc0YJ9qNuuZ"
   },
   "outputs": [],
   "source": [
    "# 1000 features\n",
    "X_train_fs, X_test_fs, fs = select_features(X_train, y_train, X_test, chi2, 1000)\n",
    "X_train_fs2, X_test_fs2, fs2 = select_features(X_train, y_train, X_test, mutual_info_classif, 1000)"
   ]
  },
  {
   "cell_type": "code",
   "execution_count": 84,
   "metadata": {
    "colab": {
     "base_uri": "https://localhost:8080/",
     "height": 146
    },
    "colab_type": "code",
    "executionInfo": {
     "elapsed": 77633,
     "status": "ok",
     "timestamp": 1595265868611,
     "user": {
      "displayName": "Matias Priano",
      "photoUrl": "",
      "userId": "15562786802230056350"
     },
     "user_tz": 180
    },
    "id": "d4dwDU-CORbx",
    "outputId": "aa3e4fa9-117f-4ac6-9a74-18922b8545c9"
   },
   "outputs": [
    {
     "data": {
      "text/plain": [
       "XGBClassifier(base_score=0.5, booster='gbtree', colsample_bylevel=1,\n",
       "              colsample_bynode=1, colsample_bytree=0.5, gamma=0,\n",
       "              learning_rate=0.1, max_delta_step=0, max_depth=15,\n",
       "              min_child_weight=1, missing=None, n_estimators=300, n_jobs=1,\n",
       "              nthread=None, objective='binary:logistic', random_state=0,\n",
       "              reg_alpha=0, reg_lambda=1, scale_pos_weight=1, seed=None,\n",
       "              silent=None, subsample=1, verbosity=1)"
      ]
     },
     "execution_count": 84,
     "metadata": {
      "tags": []
     },
     "output_type": "execute_result"
    }
   ],
   "source": [
    "model = xgb.XGBClassifier(n_estimators=300, objective='binary:logistic', max_depth=15, learning_rate=0.1,\n",
    "                          subsample=1, colsample_bytree=0.5, n_jobs=1)\n",
    "model.fit(X_train_fs, y_train)"
   ]
  },
  {
   "cell_type": "code",
   "execution_count": 85,
   "metadata": {
    "colab": {
     "base_uri": "https://localhost:8080/",
     "height": 35
    },
    "colab_type": "code",
    "executionInfo": {
     "elapsed": 76664,
     "status": "ok",
     "timestamp": 1595265868629,
     "user": {
      "displayName": "Matias Priano",
      "photoUrl": "",
      "userId": "15562786802230056350"
     },
     "user_tz": 180
    },
    "id": "qnkuGT0oORoj",
    "outputId": "c5ce3cde-e856-4a9b-f34a-15f059dfa5fa"
   },
   "outputs": [
    {
     "name": "stdout",
     "output_type": "stream",
     "text": [
      "Accuracy score: 0.803571\n"
     ]
    }
   ],
   "source": [
    "y_test_hat = model.predict(X_test_fs)\n",
    "print(\"Accuracy score: %f\" % (accuracy_score(y_test, y_test_hat)))"
   ]
  },
  {
   "cell_type": "code",
   "execution_count": 86,
   "metadata": {
    "colab": {
     "base_uri": "https://localhost:8080/",
     "height": 146
    },
    "colab_type": "code",
    "executionInfo": {
     "elapsed": 77348,
     "status": "ok",
     "timestamp": 1595265972110,
     "user": {
      "displayName": "Matias Priano",
      "photoUrl": "",
      "userId": "15562786802230056350"
     },
     "user_tz": 180
    },
    "id": "rGmS3NNROR_T",
    "outputId": "3b37940b-5124-4ee0-e547-b83de73d5802"
   },
   "outputs": [
    {
     "data": {
      "text/plain": [
       "XGBClassifier(base_score=0.5, booster='gbtree', colsample_bylevel=1,\n",
       "              colsample_bynode=1, colsample_bytree=0.5, gamma=0,\n",
       "              learning_rate=0.1, max_delta_step=0, max_depth=15,\n",
       "              min_child_weight=1, missing=None, n_estimators=300, n_jobs=1,\n",
       "              nthread=None, objective='binary:logistic', random_state=0,\n",
       "              reg_alpha=0, reg_lambda=1, scale_pos_weight=1, seed=None,\n",
       "              silent=None, subsample=1, verbosity=1)"
      ]
     },
     "execution_count": 86,
     "metadata": {
      "tags": []
     },
     "output_type": "execute_result"
    }
   ],
   "source": [
    "model = xgb.XGBClassifier(n_estimators=300, objective='binary:logistic', max_depth=15, learning_rate=0.1,\n",
    "                          subsample=1, colsample_bytree=0.5, n_jobs=1)\n",
    "model.fit(X_train_fs2, y_train)"
   ]
  },
  {
   "cell_type": "code",
   "execution_count": 87,
   "metadata": {
    "colab": {
     "base_uri": "https://localhost:8080/",
     "height": 35
    },
    "colab_type": "code",
    "executionInfo": {
     "elapsed": 76496,
     "status": "ok",
     "timestamp": 1595265972130,
     "user": {
      "displayName": "Matias Priano",
      "photoUrl": "",
      "userId": "15562786802230056350"
     },
     "user_tz": 180
    },
    "id": "WklhogjSOSP7",
    "outputId": "a766bbfb-3bf7-40d9-f729-6916e48fae4d"
   },
   "outputs": [
    {
     "name": "stdout",
     "output_type": "stream",
     "text": [
      "Accuracy score: 0.759454\n"
     ]
    }
   ],
   "source": [
    "y_test_hat = model.predict(X_test_fs2)\n",
    "print(\"Accuracy score: %f\" % (accuracy_score(y_test, y_test_hat)))"
   ]
  },
  {
   "cell_type": "code",
   "execution_count": 88,
   "metadata": {
    "colab": {
     "base_uri": "https://localhost:8080/",
     "height": 35
    },
    "colab_type": "code",
    "executionInfo": {
     "elapsed": 234262,
     "status": "ok",
     "timestamp": 1595266225710,
     "user": {
      "displayName": "Matias Priano",
      "photoUrl": "",
      "userId": "15562786802230056350"
     },
     "user_tz": 180
    },
    "id": "LwH-QsxYQoWc",
    "outputId": "e82a6aa9-4f65-417c-875d-082b13d34eea"
   },
   "outputs": [
    {
     "name": "stdout",
     "output_type": "stream",
     "text": [
      "Accuracy: 0.792606\n"
     ]
    }
   ],
   "source": [
    "kfold = KFold(n_splits=4)\n",
    "resultados = cross_val_score(model, X_train_fs, y_train, cv=kfold)\n",
    "print(\"Accuracy: %f\" % (resultados.mean()))"
   ]
  },
  {
   "cell_type": "code",
   "execution_count": 89,
   "metadata": {
    "colab": {},
    "colab_type": "code",
    "executionInfo": {
     "elapsed": 1642,
     "status": "ok",
     "timestamp": 1595266285247,
     "user": {
      "displayName": "Matias Priano",
      "photoUrl": "",
      "userId": "15562786802230056350"
     },
     "user_tz": 180
    },
    "id": "vqkCSocoR5fL"
   },
   "outputs": [],
   "source": [
    "X = train_final_3.drop([\"id_original\",\"keyword_original\",\"location_original\",\"text_original\",\"target_label\",\n",
    "                      \"clean_text\"], axis=1)\n",
    "y = train_final_3[\"target_label\"]"
   ]
  },
  {
   "cell_type": "code",
   "execution_count": 90,
   "metadata": {
    "colab": {
     "base_uri": "https://localhost:8080/",
     "height": 90
    },
    "colab_type": "code",
    "executionInfo": {
     "elapsed": 1533,
     "status": "ok",
     "timestamp": 1595266342471,
     "user": {
      "displayName": "Matias Priano",
      "photoUrl": "",
      "userId": "15562786802230056350"
     },
     "user_tz": 180
    },
    "id": "uIlqHgKER7Ej",
    "outputId": "ad9518a4-9c58-4190-89d7-66659cae396c"
   },
   "outputs": [
    {
     "name": "stdout",
     "output_type": "stream",
     "text": [
      "(5709, 1332)\n",
      "(5709,)\n",
      "(1904, 1332)\n",
      "(1904,)\n"
     ]
    }
   ],
   "source": [
    "X_train, X_test, y_train, y_test = train_test_split(X, y, test_size=0.25, random_state=100)\n",
    "print(X_train.shape)\n",
    "print(y_train.shape)\n",
    "print(X_test.shape)\n",
    "print(y_test.shape)"
   ]
  },
  {
   "cell_type": "code",
   "execution_count": 91,
   "metadata": {
    "colab": {},
    "colab_type": "code",
    "executionInfo": {
     "elapsed": 62486,
     "status": "ok",
     "timestamp": 1595266463642,
     "user": {
      "displayName": "Matias Priano",
      "photoUrl": "",
      "userId": "15562786802230056350"
     },
     "user_tz": 180
    },
    "id": "6zG9gcPkSTqO"
   },
   "outputs": [],
   "source": [
    "# 100 features\n",
    "X_train_fs, X_test_fs, fs = select_features(X_train, y_train, X_test, chi2, 100)\n",
    "X_train_fs2, X_test_fs2, fs2 = select_features(X_train, y_train, X_test, mutual_info_classif, 100)"
   ]
  },
  {
   "cell_type": "code",
   "execution_count": 92,
   "metadata": {
    "colab": {
     "base_uri": "https://localhost:8080/",
     "height": 146
    },
    "colab_type": "code",
    "executionInfo": {
     "elapsed": 4547,
     "status": "ok",
     "timestamp": 1595267587540,
     "user": {
      "displayName": "Matias Priano",
      "photoUrl": "",
      "userId": "15562786802230056350"
     },
     "user_tz": 180
    },
    "id": "sVsTwlzLSZkI",
    "outputId": "a345f162-5a29-433f-d466-fff2bc0d6089"
   },
   "outputs": [
    {
     "data": {
      "text/plain": [
       "XGBClassifier(base_score=0.5, booster='gbtree', colsample_bylevel=1,\n",
       "              colsample_bynode=1, colsample_bytree=0.5, gamma=0,\n",
       "              learning_rate=0.1, max_delta_step=0, max_depth=7,\n",
       "              min_child_weight=1, missing=None, n_estimators=250, n_jobs=1,\n",
       "              nthread=None, objective='binary:logistic', random_state=0,\n",
       "              reg_alpha=0, reg_lambda=1, scale_pos_weight=1, seed=None,\n",
       "              silent=None, subsample=1, verbosity=1)"
      ]
     },
     "execution_count": 92,
     "metadata": {
      "tags": []
     },
     "output_type": "execute_result"
    }
   ],
   "source": [
    "model = xgb.XGBClassifier(n_estimators=250, objective='binary:logistic', max_depth=7, learning_rate=0.1,\n",
    "                          subsample=1, colsample_bytree=0.5, n_jobs=1)\n",
    "model.fit(X_train_fs, y_train)"
   ]
  },
  {
   "cell_type": "code",
   "execution_count": 93,
   "metadata": {
    "colab": {
     "base_uri": "https://localhost:8080/",
     "height": 35
    },
    "colab_type": "code",
    "executionInfo": {
     "elapsed": 3836,
     "status": "ok",
     "timestamp": 1595267587554,
     "user": {
      "displayName": "Matias Priano",
      "photoUrl": "",
      "userId": "15562786802230056350"
     },
     "user_tz": 180
    },
    "id": "bWoj1GcQSjB4",
    "outputId": "04947635-a189-4b19-cdd6-7cbad0345acd"
   },
   "outputs": [
    {
     "name": "stdout",
     "output_type": "stream",
     "text": [
      "Accuracy score: 0.744748\n"
     ]
    }
   ],
   "source": [
    "y_test_hat = model.predict(X_test_fs)\n",
    "print(\"Accuracy score: %f\" % (accuracy_score(y_test, y_test_hat)))"
   ]
  },
  {
   "cell_type": "code",
   "execution_count": 94,
   "metadata": {
    "colab": {
     "base_uri": "https://localhost:8080/",
     "height": 146
    },
    "colab_type": "code",
    "executionInfo": {
     "elapsed": 4560,
     "status": "ok",
     "timestamp": 1595267610662,
     "user": {
      "displayName": "Matias Priano",
      "photoUrl": "",
      "userId": "15562786802230056350"
     },
     "user_tz": 180
    },
    "id": "lSMVvFFNSjQl",
    "outputId": "50bee8ed-6cb3-487e-bb73-1f2c6d4ee672"
   },
   "outputs": [
    {
     "data": {
      "text/plain": [
       "XGBClassifier(base_score=0.5, booster='gbtree', colsample_bylevel=1,\n",
       "              colsample_bynode=1, colsample_bytree=0.5, gamma=0,\n",
       "              learning_rate=0.1, max_delta_step=0, max_depth=7,\n",
       "              min_child_weight=1, missing=None, n_estimators=250, n_jobs=1,\n",
       "              nthread=None, objective='binary:logistic', random_state=0,\n",
       "              reg_alpha=0, reg_lambda=1, scale_pos_weight=1, seed=None,\n",
       "              silent=None, subsample=1, verbosity=1)"
      ]
     },
     "execution_count": 94,
     "metadata": {
      "tags": []
     },
     "output_type": "execute_result"
    }
   ],
   "source": [
    "model = xgb.XGBClassifier(n_estimators=250, objective='binary:logistic', max_depth=7, learning_rate=0.1,\n",
    "                          subsample=1, colsample_bytree=0.5, n_jobs=1)\n",
    "model.fit(X_train_fs2, y_train)"
   ]
  },
  {
   "cell_type": "code",
   "execution_count": 95,
   "metadata": {
    "colab": {
     "base_uri": "https://localhost:8080/",
     "height": 35
    },
    "colab_type": "code",
    "executionInfo": {
     "elapsed": 3710,
     "status": "ok",
     "timestamp": 1595267610675,
     "user": {
      "displayName": "Matias Priano",
      "photoUrl": "",
      "userId": "15562786802230056350"
     },
     "user_tz": 180
    },
    "id": "bddlAAxTSkEZ",
    "outputId": "b0fa820b-0ec1-4dbd-f75a-8f9e95a86ac0"
   },
   "outputs": [
    {
     "name": "stdout",
     "output_type": "stream",
     "text": [
      "Accuracy score: 0.675420\n"
     ]
    }
   ],
   "source": [
    "y_test_hat = model.predict(X_test_fs2)\n",
    "print(\"Accuracy score: %f\" % (accuracy_score(y_test, y_test_hat)))"
   ]
  },
  {
   "cell_type": "code",
   "execution_count": 96,
   "metadata": {
    "colab": {},
    "colab_type": "code",
    "executionInfo": {
     "elapsed": 64114,
     "status": "ok",
     "timestamp": 1595267793771,
     "user": {
      "displayName": "Matias Priano",
      "photoUrl": "",
      "userId": "15562786802230056350"
     },
     "user_tz": 180
    },
    "id": "QrbkBOalXaTr"
   },
   "outputs": [],
   "source": [
    "# 300 features\n",
    "X_train_fs, X_test_fs, fs = select_features(X_train, y_train, X_test, chi2, 300)\n",
    "X_train_fs2, X_test_fs2, fs2 = select_features(X_train, y_train, X_test, mutual_info_classif, 300)"
   ]
  },
  {
   "cell_type": "code",
   "execution_count": 97,
   "metadata": {
    "colab": {
     "base_uri": "https://localhost:8080/",
     "height": 146
    },
    "colab_type": "code",
    "executionInfo": {
     "elapsed": 15280,
     "status": "ok",
     "timestamp": 1595267941342,
     "user": {
      "displayName": "Matias Priano",
      "photoUrl": "",
      "userId": "15562786802230056350"
     },
     "user_tz": 180
    },
    "id": "Sci3U3QdYEIQ",
    "outputId": "c72b215b-e3a5-4e99-ea60-d080bf8931e5"
   },
   "outputs": [
    {
     "data": {
      "text/plain": [
       "XGBClassifier(base_score=0.5, booster='gbtree', colsample_bylevel=1,\n",
       "              colsample_bynode=1, colsample_bytree=0.5, gamma=0,\n",
       "              learning_rate=0.1, max_delta_step=0, max_depth=13,\n",
       "              min_child_weight=1, missing=None, n_estimators=200, n_jobs=1,\n",
       "              nthread=None, objective='binary:logistic', random_state=0,\n",
       "              reg_alpha=0, reg_lambda=1, scale_pos_weight=1, seed=None,\n",
       "              silent=None, subsample=1, verbosity=1)"
      ]
     },
     "execution_count": 97,
     "metadata": {
      "tags": []
     },
     "output_type": "execute_result"
    }
   ],
   "source": [
    "model = xgb.XGBClassifier(n_estimators=200, objective='binary:logistic', max_depth=13, learning_rate=0.1,\n",
    "                          subsample=1, colsample_bytree=0.5, n_jobs=1)\n",
    "model.fit(X_train_fs, y_train)"
   ]
  },
  {
   "cell_type": "code",
   "execution_count": 98,
   "metadata": {
    "colab": {
     "base_uri": "https://localhost:8080/",
     "height": 35
    },
    "colab_type": "code",
    "executionInfo": {
     "elapsed": 14310,
     "status": "ok",
     "timestamp": 1595267941360,
     "user": {
      "displayName": "Matias Priano",
      "photoUrl": "",
      "userId": "15562786802230056350"
     },
     "user_tz": 180
    },
    "id": "Pw3giqpZYEWN",
    "outputId": "2cc06f87-2ed0-45ca-d19c-2e374b86fff4"
   },
   "outputs": [
    {
     "name": "stdout",
     "output_type": "stream",
     "text": [
      "Accuracy score: 0.777311\n"
     ]
    }
   ],
   "source": [
    "y_test_hat = model.predict(X_test_fs)\n",
    "print(\"Accuracy score: %f\" % (accuracy_score(y_test, y_test_hat)))"
   ]
  },
  {
   "cell_type": "code",
   "execution_count": 99,
   "metadata": {
    "colab": {
     "base_uri": "https://localhost:8080/",
     "height": 146
    },
    "colab_type": "code",
    "executionInfo": {
     "elapsed": 14539,
     "status": "ok",
     "timestamp": 1595268111243,
     "user": {
      "displayName": "Matias Priano",
      "photoUrl": "",
      "userId": "15562786802230056350"
     },
     "user_tz": 180
    },
    "id": "gjOWpZdrYEye",
    "outputId": "4e6e2d92-f051-40fa-cc63-6ef7b23f73fc"
   },
   "outputs": [
    {
     "data": {
      "text/plain": [
       "XGBClassifier(base_score=0.5, booster='gbtree', colsample_bylevel=1,\n",
       "              colsample_bynode=1, colsample_bytree=0.5, gamma=0,\n",
       "              learning_rate=0.1, max_delta_step=0, max_depth=13,\n",
       "              min_child_weight=1, missing=None, n_estimators=200, n_jobs=1,\n",
       "              nthread=None, objective='binary:logistic', random_state=0,\n",
       "              reg_alpha=0, reg_lambda=1, scale_pos_weight=1, seed=None,\n",
       "              silent=None, subsample=1, verbosity=1)"
      ]
     },
     "execution_count": 99,
     "metadata": {
      "tags": []
     },
     "output_type": "execute_result"
    }
   ],
   "source": [
    "model = xgb.XGBClassifier(n_estimators=200, objective='binary:logistic', max_depth=13, learning_rate=0.1,\n",
    "                          subsample=1, colsample_bytree=0.5, n_jobs=1)\n",
    "model.fit(X_train_fs2, y_train)"
   ]
  },
  {
   "cell_type": "code",
   "execution_count": 100,
   "metadata": {
    "colab": {
     "base_uri": "https://localhost:8080/",
     "height": 35
    },
    "colab_type": "code",
    "executionInfo": {
     "elapsed": 13243,
     "status": "ok",
     "timestamp": 1595268111262,
     "user": {
      "displayName": "Matias Priano",
      "photoUrl": "",
      "userId": "15562786802230056350"
     },
     "user_tz": 180
    },
    "id": "rJI-Hy1GYEoP",
    "outputId": "4756eed9-7608-4f39-bf26-211c7458ffa2"
   },
   "outputs": [
    {
     "name": "stdout",
     "output_type": "stream",
     "text": [
      "Accuracy score: 0.734244\n"
     ]
    }
   ],
   "source": [
    "y_test_hat = model.predict(X_test_fs2)\n",
    "print(\"Accuracy score: %f\" % (accuracy_score(y_test, y_test_hat)))"
   ]
  },
  {
   "cell_type": "code",
   "execution_count": 101,
   "metadata": {
    "colab": {},
    "colab_type": "code",
    "executionInfo": {
     "elapsed": 65643,
     "status": "ok",
     "timestamp": 1595268249570,
     "user": {
      "displayName": "Matias Priano",
      "photoUrl": "",
      "userId": "15562786802230056350"
     },
     "user_tz": 180
    },
    "id": "5B0pp97XZGVk"
   },
   "outputs": [],
   "source": [
    "# 500 features\n",
    "X_train_fs, X_test_fs, fs = select_features(X_train, y_train, X_test, chi2, 500)\n",
    "X_train_fs2, X_test_fs2, fs2 = select_features(X_train, y_train, X_test, mutual_info_classif, 500)"
   ]
  },
  {
   "cell_type": "code",
   "execution_count": 102,
   "metadata": {
    "colab": {
     "base_uri": "https://localhost:8080/",
     "height": 146
    },
    "colab_type": "code",
    "executionInfo": {
     "elapsed": 26934,
     "status": "ok",
     "timestamp": 1595268943045,
     "user": {
      "displayName": "Matias Priano",
      "photoUrl": "",
      "userId": "15562786802230056350"
     },
     "user_tz": 180
    },
    "id": "v6bPs6ojZQn7",
    "outputId": "711e3dad-79d4-4c0a-c320-8f2e6d0ded26"
   },
   "outputs": [
    {
     "data": {
      "text/plain": [
       "XGBClassifier(base_score=0.5, booster='gbtree', colsample_bylevel=1,\n",
       "              colsample_bynode=1, colsample_bytree=0.5, gamma=0,\n",
       "              learning_rate=0.1, max_delta_step=0, max_depth=15,\n",
       "              min_child_weight=1, missing=None, n_estimators=200, n_jobs=1,\n",
       "              nthread=None, objective='binary:logistic', random_state=0,\n",
       "              reg_alpha=0, reg_lambda=1, scale_pos_weight=1, seed=None,\n",
       "              silent=None, subsample=1, verbosity=1)"
      ]
     },
     "execution_count": 102,
     "metadata": {
      "tags": []
     },
     "output_type": "execute_result"
    }
   ],
   "source": [
    "model = xgb.XGBClassifier(n_estimators=200, objective='binary:logistic', max_depth=15, learning_rate=0.1,\n",
    "                          subsample=1, colsample_bytree=0.5, n_jobs=1)\n",
    "model.fit(X_train_fs, y_train)"
   ]
  },
  {
   "cell_type": "code",
   "execution_count": 103,
   "metadata": {
    "colab": {
     "base_uri": "https://localhost:8080/",
     "height": 35
    },
    "colab_type": "code",
    "executionInfo": {
     "elapsed": 25914,
     "status": "ok",
     "timestamp": 1595268943061,
     "user": {
      "displayName": "Matias Priano",
      "photoUrl": "",
      "userId": "15562786802230056350"
     },
     "user_tz": 180
    },
    "id": "4gReRfGIZRg9",
    "outputId": "b4419e31-3959-40c3-ef2f-0b123c43a24a"
   },
   "outputs": [
    {
     "name": "stdout",
     "output_type": "stream",
     "text": [
      "Accuracy score: 0.794118\n"
     ]
    }
   ],
   "source": [
    "y_test_hat = model.predict(X_test_fs)\n",
    "print(\"Accuracy score: %f\" % (accuracy_score(y_test, y_test_hat)))"
   ]
  },
  {
   "cell_type": "code",
   "execution_count": 104,
   "metadata": {
    "colab": {
     "base_uri": "https://localhost:8080/",
     "height": 146
    },
    "colab_type": "code",
    "executionInfo": {
     "elapsed": 27411,
     "status": "ok",
     "timestamp": 1595269021651,
     "user": {
      "displayName": "Matias Priano",
      "photoUrl": "",
      "userId": "15562786802230056350"
     },
     "user_tz": 180
    },
    "id": "odA5U5bCZRxS",
    "outputId": "2727b922-4b24-4086-9e2c-ab1cabe40a34"
   },
   "outputs": [
    {
     "data": {
      "text/plain": [
       "XGBClassifier(base_score=0.5, booster='gbtree', colsample_bylevel=1,\n",
       "              colsample_bynode=1, colsample_bytree=0.5, gamma=0,\n",
       "              learning_rate=0.1, max_delta_step=0, max_depth=15,\n",
       "              min_child_weight=1, missing=None, n_estimators=200, n_jobs=1,\n",
       "              nthread=None, objective='binary:logistic', random_state=0,\n",
       "              reg_alpha=0, reg_lambda=1, scale_pos_weight=1, seed=None,\n",
       "              silent=None, subsample=1, verbosity=1)"
      ]
     },
     "execution_count": 104,
     "metadata": {
      "tags": []
     },
     "output_type": "execute_result"
    }
   ],
   "source": [
    "model = xgb.XGBClassifier(n_estimators=200, objective='binary:logistic', max_depth=15, learning_rate=0.1,\n",
    "                          subsample=1, colsample_bytree=0.5, n_jobs=1)\n",
    "model.fit(X_train_fs2, y_train)"
   ]
  },
  {
   "cell_type": "code",
   "execution_count": 105,
   "metadata": {
    "colab": {
     "base_uri": "https://localhost:8080/",
     "height": 35
    },
    "colab_type": "code",
    "executionInfo": {
     "elapsed": 26485,
     "status": "ok",
     "timestamp": 1595269021670,
     "user": {
      "displayName": "Matias Priano",
      "photoUrl": "",
      "userId": "15562786802230056350"
     },
     "user_tz": 180
    },
    "id": "N1vHXolkZTFQ",
    "outputId": "affaa046-091e-4ce4-97e7-840133c6a375"
   },
   "outputs": [
    {
     "name": "stdout",
     "output_type": "stream",
     "text": [
      "Accuracy score: 0.765756\n"
     ]
    }
   ],
   "source": [
    "y_test_hat = model.predict(X_test_fs2)\n",
    "print(\"Accuracy score: %f\" % (accuracy_score(y_test, y_test_hat)))"
   ]
  },
  {
   "cell_type": "code",
   "execution_count": 106,
   "metadata": {
    "colab": {},
    "colab_type": "code",
    "executionInfo": {
     "elapsed": 63603,
     "status": "ok",
     "timestamp": 1595269390189,
     "user": {
      "displayName": "Matias Priano",
      "photoUrl": "",
      "userId": "15562786802230056350"
     },
     "user_tz": 180
    },
    "id": "5TA4-maJdfCx"
   },
   "outputs": [],
   "source": [
    "# 1000 features\n",
    "X_train_fs, X_test_fs, fs = select_features(X_train, y_train, X_test, chi2, 1000)\n",
    "X_train_fs2, X_test_fs2, fs2 = select_features(X_train, y_train, X_test, mutual_info_classif, 1000)"
   ]
  },
  {
   "cell_type": "code",
   "execution_count": 107,
   "metadata": {
    "colab": {
     "base_uri": "https://localhost:8080/",
     "height": 146
    },
    "colab_type": "code",
    "executionInfo": {
     "elapsed": 78722,
     "status": "ok",
     "timestamp": 1595269477312,
     "user": {
      "displayName": "Matias Priano",
      "photoUrl": "",
      "userId": "15562786802230056350"
     },
     "user_tz": 180
    },
    "id": "X3JG78HMdmFm",
    "outputId": "aaa99d36-b341-42aa-cac4-247592ad5dba"
   },
   "outputs": [
    {
     "data": {
      "text/plain": [
       "XGBClassifier(base_score=0.5, booster='gbtree', colsample_bylevel=1,\n",
       "              colsample_bynode=1, colsample_bytree=0.5, gamma=0,\n",
       "              learning_rate=0.1, max_delta_step=0, max_depth=15,\n",
       "              min_child_weight=1, missing=None, n_estimators=300, n_jobs=1,\n",
       "              nthread=None, objective='binary:logistic', random_state=0,\n",
       "              reg_alpha=0, reg_lambda=1, scale_pos_weight=1, seed=None,\n",
       "              silent=None, subsample=1, verbosity=1)"
      ]
     },
     "execution_count": 107,
     "metadata": {
      "tags": []
     },
     "output_type": "execute_result"
    }
   ],
   "source": [
    "model = xgb.XGBClassifier(n_estimators=300, objective='binary:logistic', max_depth=15, learning_rate=0.1,\n",
    "                          subsample=1, colsample_bytree=0.5, n_jobs=1)\n",
    "model.fit(X_train_fs, y_train)"
   ]
  },
  {
   "cell_type": "code",
   "execution_count": 108,
   "metadata": {
    "colab": {
     "base_uri": "https://localhost:8080/",
     "height": 35
    },
    "colab_type": "code",
    "executionInfo": {
     "elapsed": 77760,
     "status": "ok",
     "timestamp": 1595269477332,
     "user": {
      "displayName": "Matias Priano",
      "photoUrl": "",
      "userId": "15562786802230056350"
     },
     "user_tz": 180
    },
    "id": "gcArWF_OdnX3",
    "outputId": "a8fae8aa-694f-4e94-f837-b02579d37623"
   },
   "outputs": [
    {
     "name": "stdout",
     "output_type": "stream",
     "text": [
      "Accuracy score: 0.797269\n"
     ]
    }
   ],
   "source": [
    "y_test_hat = model.predict(X_test_fs)\n",
    "print(\"Accuracy score: %f\" % (accuracy_score(y_test, y_test_hat)))"
   ]
  },
  {
   "cell_type": "code",
   "execution_count": 109,
   "metadata": {
    "colab": {
     "base_uri": "https://localhost:8080/",
     "height": 146
    },
    "colab_type": "code",
    "executionInfo": {
     "elapsed": 78158,
     "status": "ok",
     "timestamp": 1595269587455,
     "user": {
      "displayName": "Matias Priano",
      "photoUrl": "",
      "userId": "15562786802230056350"
     },
     "user_tz": 180
    },
    "id": "eshq7KqwdntS",
    "outputId": "a392d310-87f1-4c16-bf2a-ca0217bc763a"
   },
   "outputs": [
    {
     "data": {
      "text/plain": [
       "XGBClassifier(base_score=0.5, booster='gbtree', colsample_bylevel=1,\n",
       "              colsample_bynode=1, colsample_bytree=0.5, gamma=0,\n",
       "              learning_rate=0.1, max_delta_step=0, max_depth=15,\n",
       "              min_child_weight=1, missing=None, n_estimators=300, n_jobs=1,\n",
       "              nthread=None, objective='binary:logistic', random_state=0,\n",
       "              reg_alpha=0, reg_lambda=1, scale_pos_weight=1, seed=None,\n",
       "              silent=None, subsample=1, verbosity=1)"
      ]
     },
     "execution_count": 109,
     "metadata": {
      "tags": []
     },
     "output_type": "execute_result"
    }
   ],
   "source": [
    "model = xgb.XGBClassifier(n_estimators=300, objective='binary:logistic', max_depth=15, learning_rate=0.1,\n",
    "                          subsample=1, colsample_bytree=0.5, n_jobs=1)\n",
    "model.fit(X_train_fs2, y_train)"
   ]
  },
  {
   "cell_type": "code",
   "execution_count": 110,
   "metadata": {
    "colab": {
     "base_uri": "https://localhost:8080/",
     "height": 35
    },
    "colab_type": "code",
    "executionInfo": {
     "elapsed": 77570,
     "status": "ok",
     "timestamp": 1595269587476,
     "user": {
      "displayName": "Matias Priano",
      "photoUrl": "",
      "userId": "15562786802230056350"
     },
     "user_tz": 180
    },
    "id": "ryLPMVssdoFd",
    "outputId": "6d995741-963b-47ee-b202-fd0a5ab96107"
   },
   "outputs": [
    {
     "name": "stdout",
     "output_type": "stream",
     "text": [
      "Accuracy score: 0.782038\n"
     ]
    }
   ],
   "source": [
    "y_test_hat = model.predict(X_test_fs2)\n",
    "print(\"Accuracy score: %f\" % (accuracy_score(y_test, y_test_hat)))"
   ]
  },
  {
   "cell_type": "code",
   "execution_count": 111,
   "metadata": {
    "colab": {
     "base_uri": "https://localhost:8080/",
     "height": 35
    },
    "colab_type": "code",
    "executionInfo": {
     "elapsed": 235667,
     "status": "ok",
     "timestamp": 1595269879245,
     "user": {
      "displayName": "Matias Priano",
      "photoUrl": "",
      "userId": "15562786802230056350"
     },
     "user_tz": 180
    },
    "id": "aIxd134cenyu",
    "outputId": "8ef31d23-de3c-4981-eaa1-91ba43c02f61"
   },
   "outputs": [
    {
     "name": "stdout",
     "output_type": "stream",
     "text": [
      "Accuracy: 0.782798\n"
     ]
    }
   ],
   "source": [
    "kfold = KFold(n_splits=4)\n",
    "resultados = cross_val_score(model, X_train_fs, y_train, cv=kfold)\n",
    "print(\"Accuracy: %f\" % (resultados.mean()))"
   ]
  },
  {
   "cell_type": "markdown",
   "metadata": {
    "colab_type": "text",
    "id": "ra6UnQfMgkgX"
   },
   "source": [
    "## LightGBM\n",
    "\n"
   ]
  },
  {
   "cell_type": "code",
   "execution_count": 113,
   "metadata": {
    "colab": {
     "base_uri": "https://localhost:8080/",
     "height": 90
    },
    "colab_type": "code",
    "executionInfo": {
     "elapsed": 1985,
     "status": "ok",
     "timestamp": 1595270155614,
     "user": {
      "displayName": "Matias Priano",
      "photoUrl": "",
      "userId": "15562786802230056350"
     },
     "user_tz": 180
    },
    "id": "-sR4Y-digjBa",
    "outputId": "387e69a3-6f44-403c-be7a-eff98042b445"
   },
   "outputs": [
    {
     "name": "stdout",
     "output_type": "stream",
     "text": [
      "(5709, 2500)\n",
      "(5709,)\n",
      "(1904, 2500)\n",
      "(1904,)\n"
     ]
    }
   ],
   "source": [
    "X = train_final_2.drop([\"id_original\",\"keyword_original\",\"location_original\",\"text_original\",\"target_label\",\n",
    "                      \"clean_text\"], axis=1)\n",
    "y = train_final_2[\"target_label\"]\n",
    "\n",
    "X_train, X_test, y_train, y_test = train_test_split(X, y, test_size=0.25, random_state=100)\n",
    "print(X_train.shape)\n",
    "print(y_train.shape)\n",
    "print(X_test.shape)\n",
    "print(y_test.shape)"
   ]
  },
  {
   "cell_type": "code",
   "execution_count": 114,
   "metadata": {
    "colab": {},
    "colab_type": "code",
    "executionInfo": {
     "elapsed": 119183,
     "status": "ok",
     "timestamp": 1595271086784,
     "user": {
      "displayName": "Matias Priano",
      "photoUrl": "",
      "userId": "15562786802230056350"
     },
     "user_tz": 180
    },
    "id": "Q4krLIQ_gvc5"
   },
   "outputs": [],
   "source": [
    "#con 100 features\n",
    "X_train_fs, X_test_fs, fs = select_features(X_train, y_train, X_test, chi2, 100)\n",
    "X_train_fs2, X_test_fs2, fs2 = select_features(X_train, y_train, X_test, mutual_info_classif, 100)"
   ]
  },
  {
   "cell_type": "code",
   "execution_count": 115,
   "metadata": {
    "colab": {
     "base_uri": "https://localhost:8080/",
     "height": 127
    },
    "colab_type": "code",
    "executionInfo": {
     "elapsed": 1804,
     "status": "ok",
     "timestamp": 1595271169138,
     "user": {
      "displayName": "Matias Priano",
      "photoUrl": "",
      "userId": "15562786802230056350"
     },
     "user_tz": 180
    },
    "id": "zkxeHos9jxNO",
    "outputId": "0944cc72-ba8b-47dc-f024-dcd8cb920d3f"
   },
   "outputs": [
    {
     "data": {
      "text/plain": [
       "LGBMClassifier(boosting_type='gbdt', class_weight=None, colsample_bytree=0.5,\n",
       "               importance_type='split', learning_rate=0.1, max_depth=4,\n",
       "               min_child_samples=20, min_child_weight=0.001, min_split_gain=0.0,\n",
       "               n_estimators=250, n_jobs=1, num_leaves=7, objective='binary',\n",
       "               random_state=None, reg_alpha=0.0, reg_lambda=0.0, silent=True,\n",
       "               subsample=1, subsample_for_bin=200000, subsample_freq=0)"
      ]
     },
     "execution_count": 115,
     "metadata": {
      "tags": []
     },
     "output_type": "execute_result"
    }
   ],
   "source": [
    "model = lgb.LGBMClassifier(num_leaves=7, objective=\"binary\", colsample_bytree=0.5, subsample=1, max_depth=4, n_jobs=1,\n",
    "                              n_estimators=250, min_child_samples=20, learning_rate=0.1)\n",
    "model.fit(X_train_fs, y_train)"
   ]
  },
  {
   "cell_type": "code",
   "execution_count": 116,
   "metadata": {
    "colab": {
     "base_uri": "https://localhost:8080/",
     "height": 35
    },
    "colab_type": "code",
    "executionInfo": {
     "elapsed": 970,
     "status": "ok",
     "timestamp": 1595271169156,
     "user": {
      "displayName": "Matias Priano",
      "photoUrl": "",
      "userId": "15562786802230056350"
     },
     "user_tz": 180
    },
    "id": "FSgyb1odkDil",
    "outputId": "9139c852-43ea-4a67-d532-09b8709ff33d"
   },
   "outputs": [
    {
     "name": "stdout",
     "output_type": "stream",
     "text": [
      "Accuracy score: 0.745273\n"
     ]
    }
   ],
   "source": [
    "y_test_hat = model.predict(X_test_fs)\n",
    "print(\"Accuracy score: %f\" % (accuracy_score(y_test, y_test_hat)))"
   ]
  },
  {
   "cell_type": "code",
   "execution_count": 117,
   "metadata": {
    "colab": {
     "base_uri": "https://localhost:8080/",
     "height": 127
    },
    "colab_type": "code",
    "executionInfo": {
     "elapsed": 23503,
     "status": "ok",
     "timestamp": 1595271309529,
     "user": {
      "displayName": "Matias Priano",
      "photoUrl": "",
      "userId": "15562786802230056350"
     },
     "user_tz": 180
    },
    "id": "KGvFQzdDjx0I",
    "outputId": "149df8f4-d767-436e-bad1-d95cebbee389"
   },
   "outputs": [
    {
     "data": {
      "text/plain": [
       "LGBMClassifier(boosting_type='gbdt', class_weight=None, colsample_bytree=0.5,\n",
       "               importance_type='split', learning_rate=0.1, max_depth=4,\n",
       "               min_child_samples=20, min_child_weight=0.001, min_split_gain=0.0,\n",
       "               n_estimators=250, n_jobs=1, num_leaves=7, objective='binary',\n",
       "               random_state=None, reg_alpha=0.0, reg_lambda=0.0, silent=True,\n",
       "               subsample=1, subsample_for_bin=200000, subsample_freq=0)"
      ]
     },
     "execution_count": 117,
     "metadata": {
      "tags": []
     },
     "output_type": "execute_result"
    }
   ],
   "source": [
    "model = lgb.LGBMClassifier(num_leaves=7, objective=\"binary\", colsample_bytree=0.5, subsample=1, max_depth=4, n_jobs=1,\n",
    "                              n_estimators=250, min_child_samples=20, learning_rate=0.1)\n",
    "model.fit(X_train_fs2, y_train)"
   ]
  },
  {
   "cell_type": "code",
   "execution_count": 118,
   "metadata": {
    "colab": {
     "base_uri": "https://localhost:8080/",
     "height": 35
    },
    "colab_type": "code",
    "executionInfo": {
     "elapsed": 22645,
     "status": "ok",
     "timestamp": 1595271309546,
     "user": {
      "displayName": "Matias Priano",
      "photoUrl": "",
      "userId": "15562786802230056350"
     },
     "user_tz": 180
    },
    "id": "5fq5fQr9kFba",
    "outputId": "53ce9fce-fec6-4a06-9da2-8911bf613f26"
   },
   "outputs": [
    {
     "name": "stdout",
     "output_type": "stream",
     "text": [
      "Accuracy score: 0.633403\n"
     ]
    }
   ],
   "source": [
    "y_test_hat = model.predict(X_test_fs2)\n",
    "print(\"Accuracy score: %f\" % (accuracy_score(y_test, y_test_hat)))"
   ]
  },
  {
   "cell_type": "code",
   "execution_count": 119,
   "metadata": {
    "colab": {},
    "colab_type": "code",
    "executionInfo": {
     "elapsed": 116492,
     "status": "ok",
     "timestamp": 1595271549147,
     "user": {
      "displayName": "Matias Priano",
      "photoUrl": "",
      "userId": "15562786802230056350"
     },
     "user_tz": 180
    },
    "id": "Wvr8GOYTlhi3"
   },
   "outputs": [],
   "source": [
    "#con 300 features\n",
    "X_train_fs, X_test_fs, fs = select_features(X_train, y_train, X_test, chi2, 300)\n",
    "X_train_fs2, X_test_fs2, fs2 = select_features(X_train, y_train, X_test, mutual_info_classif, 300)"
   ]
  },
  {
   "cell_type": "code",
   "execution_count": 142,
   "metadata": {
    "colab": {
     "base_uri": "https://localhost:8080/",
     "height": 127
    },
    "colab_type": "code",
    "executionInfo": {
     "elapsed": 1512,
     "status": "ok",
     "timestamp": 1595271686917,
     "user": {
      "displayName": "Matias Priano",
      "photoUrl": "",
      "userId": "15562786802230056350"
     },
     "user_tz": 180
    },
    "id": "kafLovIallEk",
    "outputId": "9700a1d2-020d-43db-ff99-50725c909281"
   },
   "outputs": [
    {
     "data": {
      "text/plain": [
       "LGBMClassifier(boosting_type='gbdt', class_weight=None, colsample_bytree=0.7,\n",
       "               importance_type='split', learning_rate=0.1, max_depth=9,\n",
       "               min_child_samples=20, min_child_weight=0.001, min_split_gain=0.0,\n",
       "               n_estimators=250, n_jobs=1, num_leaves=21, objective='binary',\n",
       "               random_state=None, reg_alpha=0.0, reg_lambda=0.0, silent=True,\n",
       "               subsample=1, subsample_for_bin=200000, subsample_freq=0)"
      ]
     },
     "execution_count": 142,
     "metadata": {
      "tags": []
     },
     "output_type": "execute_result"
    }
   ],
   "source": [
    "model = lgb.LGBMClassifier(num_leaves=21, objective=\"binary\", colsample_bytree=0.7, subsample=1, max_depth=9, n_jobs=1,\n",
    "                              n_estimators=250, min_child_samples=20, learning_rate=0.1)\n",
    "model.fit(X_train_fs, y_train)"
   ]
  },
  {
   "cell_type": "code",
   "execution_count": 143,
   "metadata": {
    "colab": {
     "base_uri": "https://localhost:8080/",
     "height": 35
    },
    "colab_type": "code",
    "executionInfo": {
     "elapsed": 897,
     "status": "ok",
     "timestamp": 1595271688251,
     "user": {
      "displayName": "Matias Priano",
      "photoUrl": "",
      "userId": "15562786802230056350"
     },
     "user_tz": 180
    },
    "id": "tgDPnilplmxS",
    "outputId": "e145b283-0a1a-45c0-93dc-44e059b54730"
   },
   "outputs": [
    {
     "name": "stdout",
     "output_type": "stream",
     "text": [
      "Accuracy score: 0.771008\n"
     ]
    }
   ],
   "source": [
    "y_test_hat = model.predict(X_test_fs)\n",
    "print(\"Accuracy score: %f\" % (accuracy_score(y_test, y_test_hat)))"
   ]
  },
  {
   "cell_type": "code",
   "execution_count": 144,
   "metadata": {
    "colab": {
     "base_uri": "https://localhost:8080/",
     "height": 127
    },
    "colab_type": "code",
    "executionInfo": {
     "elapsed": 1569,
     "status": "ok",
     "timestamp": 1595271733392,
     "user": {
      "displayName": "Matias Priano",
      "photoUrl": "",
      "userId": "15562786802230056350"
     },
     "user_tz": 180
    },
    "id": "6P9SVYvGlngf",
    "outputId": "55506fb3-5d96-4d47-ed8b-b268f83a5da7"
   },
   "outputs": [
    {
     "data": {
      "text/plain": [
       "LGBMClassifier(boosting_type='gbdt', class_weight=None, colsample_bytree=0.7,\n",
       "               importance_type='split', learning_rate=0.1, max_depth=9,\n",
       "               min_child_samples=20, min_child_weight=0.001, min_split_gain=0.0,\n",
       "               n_estimators=250, n_jobs=1, num_leaves=21, objective='binary',\n",
       "               random_state=None, reg_alpha=0.0, reg_lambda=0.0, silent=True,\n",
       "               subsample=1, subsample_for_bin=200000, subsample_freq=0)"
      ]
     },
     "execution_count": 144,
     "metadata": {
      "tags": []
     },
     "output_type": "execute_result"
    }
   ],
   "source": [
    "model = lgb.LGBMClassifier(num_leaves=21, objective=\"binary\", colsample_bytree=0.7, subsample=1, max_depth=9, n_jobs=1,\n",
    "                              n_estimators=250, min_child_samples=20, learning_rate=0.1)\n",
    "model.fit(X_train_fs2, y_train)"
   ]
  },
  {
   "cell_type": "code",
   "execution_count": 145,
   "metadata": {
    "colab": {
     "base_uri": "https://localhost:8080/",
     "height": 35
    },
    "colab_type": "code",
    "executionInfo": {
     "elapsed": 1100,
     "status": "ok",
     "timestamp": 1595271733729,
     "user": {
      "displayName": "Matias Priano",
      "photoUrl": "",
      "userId": "15562786802230056350"
     },
     "user_tz": 180
    },
    "id": "oIXd9TcJlnxM",
    "outputId": "5bcc5a84-4a56-4ae3-9d3d-a9ab0fb16691"
   },
   "outputs": [
    {
     "name": "stdout",
     "output_type": "stream",
     "text": [
      "Accuracy score: 0.667542\n"
     ]
    }
   ],
   "source": [
    "y_test_hat = model.predict(X_test_fs2)\n",
    "print(\"Accuracy score: %f\" % (accuracy_score(y_test, y_test_hat)))"
   ]
  },
  {
   "cell_type": "code",
   "execution_count": 146,
   "metadata": {
    "colab": {},
    "colab_type": "code",
    "executionInfo": {
     "elapsed": 119787,
     "status": "ok",
     "timestamp": 1595271882703,
     "user": {
      "displayName": "Matias Priano",
      "photoUrl": "",
      "userId": "15562786802230056350"
     },
     "user_tz": 180
    },
    "id": "hT22xsfhm0Km"
   },
   "outputs": [],
   "source": [
    "#con 500 features\n",
    "X_train_fs, X_test_fs, fs = select_features(X_train, y_train, X_test, chi2, 500)\n",
    "X_train_fs2, X_test_fs2, fs2 = select_features(X_train, y_train, X_test, mutual_info_classif, 500)"
   ]
  },
  {
   "cell_type": "code",
   "execution_count": 169,
   "metadata": {
    "colab": {
     "base_uri": "https://localhost:8080/",
     "height": 127
    },
    "colab_type": "code",
    "executionInfo": {
     "elapsed": 1695,
     "status": "ok",
     "timestamp": 1595272406459,
     "user": {
      "displayName": "Matias Priano",
      "photoUrl": "",
      "userId": "15562786802230056350"
     },
     "user_tz": 180
    },
    "id": "XT16ppINm3Ve",
    "outputId": "a501c54b-2e7f-4f27-cf18-749df28011c4"
   },
   "outputs": [
    {
     "data": {
      "text/plain": [
       "LGBMClassifier(boosting_type='gbdt', class_weight=None, colsample_bytree=0.7,\n",
       "               importance_type='split', learning_rate=0.1, max_depth=7,\n",
       "               min_child_samples=10, min_child_weight=0.001, min_split_gain=0.0,\n",
       "               n_estimators=350, n_jobs=1, num_leaves=7, objective='binary',\n",
       "               random_state=None, reg_alpha=0.0, reg_lambda=0.0, silent=True,\n",
       "               subsample=1, subsample_for_bin=200000, subsample_freq=0)"
      ]
     },
     "execution_count": 169,
     "metadata": {
      "tags": []
     },
     "output_type": "execute_result"
    }
   ],
   "source": [
    "model = lgb.LGBMClassifier(num_leaves=7, objective=\"binary\", colsample_bytree=0.7, subsample=1, max_depth=7, n_jobs=1,\n",
    "                              n_estimators=350, min_child_samples=10, learning_rate=0.1)\n",
    "model.fit(X_train_fs, y_train)"
   ]
  },
  {
   "cell_type": "code",
   "execution_count": 170,
   "metadata": {
    "colab": {
     "base_uri": "https://localhost:8080/",
     "height": 35
    },
    "colab_type": "code",
    "executionInfo": {
     "elapsed": 658,
     "status": "ok",
     "timestamp": 1595272406924,
     "user": {
      "displayName": "Matias Priano",
      "photoUrl": "",
      "userId": "15562786802230056350"
     },
     "user_tz": 180
    },
    "id": "rSh0E5iGm4bI",
    "outputId": "15fd88ac-0ec7-490a-ab67-aa53e307ad4c"
   },
   "outputs": [
    {
     "name": "stdout",
     "output_type": "stream",
     "text": [
      "Accuracy score: 0.789391\n"
     ]
    }
   ],
   "source": [
    "y_test_hat = model.predict(X_test_fs)\n",
    "print(\"Accuracy score: %f\" % (accuracy_score(y_test, y_test_hat)))"
   ]
  },
  {
   "cell_type": "code",
   "execution_count": 171,
   "metadata": {
    "colab": {
     "base_uri": "https://localhost:8080/",
     "height": 127
    },
    "colab_type": "code",
    "executionInfo": {
     "elapsed": 930,
     "status": "ok",
     "timestamp": 1595272436813,
     "user": {
      "displayName": "Matias Priano",
      "photoUrl": "",
      "userId": "15562786802230056350"
     },
     "user_tz": 180
    },
    "id": "VLjti4fim45_",
    "outputId": "5e82b9dc-d6dc-46ce-c3a7-60639d824172"
   },
   "outputs": [
    {
     "data": {
      "text/plain": [
       "LGBMClassifier(boosting_type='gbdt', class_weight=None, colsample_bytree=0.7,\n",
       "               importance_type='split', learning_rate=0.1, max_depth=7,\n",
       "               min_child_samples=10, min_child_weight=0.001, min_split_gain=0.0,\n",
       "               n_estimators=350, n_jobs=1, num_leaves=7, objective='binary',\n",
       "               random_state=None, reg_alpha=0.0, reg_lambda=0.0, silent=True,\n",
       "               subsample=1, subsample_for_bin=200000, subsample_freq=0)"
      ]
     },
     "execution_count": 171,
     "metadata": {
      "tags": []
     },
     "output_type": "execute_result"
    }
   ],
   "source": [
    "model = lgb.LGBMClassifier(num_leaves=7, objective=\"binary\", colsample_bytree=0.7, subsample=1, max_depth=7, n_jobs=1,\n",
    "                              n_estimators=350, min_child_samples=10, learning_rate=0.1)\n",
    "model.fit(X_train_fs2, y_train)"
   ]
  },
  {
   "cell_type": "code",
   "execution_count": 172,
   "metadata": {
    "colab": {
     "base_uri": "https://localhost:8080/",
     "height": 35
    },
    "colab_type": "code",
    "executionInfo": {
     "elapsed": 1152,
     "status": "ok",
     "timestamp": 1595272442065,
     "user": {
      "displayName": "Matias Priano",
      "photoUrl": "",
      "userId": "15562786802230056350"
     },
     "user_tz": 180
    },
    "id": "KD7TbQzSm5Jk",
    "outputId": "a169018a-b52b-4595-e8e0-d734bc432a96"
   },
   "outputs": [
    {
     "name": "stdout",
     "output_type": "stream",
     "text": [
      "Accuracy score: 0.738971\n"
     ]
    }
   ],
   "source": [
    "y_test_hat = model.predict(X_test_fs2)\n",
    "print(\"Accuracy score: %f\" % (accuracy_score(y_test, y_test_hat)))"
   ]
  },
  {
   "cell_type": "code",
   "execution_count": 173,
   "metadata": {
    "colab": {},
    "colab_type": "code",
    "executionInfo": {
     "elapsed": 116334,
     "status": "ok",
     "timestamp": 1595272678949,
     "user": {
      "displayName": "Matias Priano",
      "photoUrl": "",
      "userId": "15562786802230056350"
     },
     "user_tz": 180
    },
    "id": "RMOBpCJxpxpJ"
   },
   "outputs": [],
   "source": [
    "#con 1000 features\n",
    "X_train_fs, X_test_fs, fs = select_features(X_train, y_train, X_test, chi2, 1000)\n",
    "X_train_fs2, X_test_fs2, fs2 = select_features(X_train, y_train, X_test, mutual_info_classif, 1000)"
   ]
  },
  {
   "cell_type": "code",
   "execution_count": 208,
   "metadata": {
    "colab": {
     "base_uri": "https://localhost:8080/",
     "height": 127
    },
    "colab_type": "code",
    "executionInfo": {
     "elapsed": 1402,
     "status": "ok",
     "timestamp": 1595272880208,
     "user": {
      "displayName": "Matias Priano",
      "photoUrl": "",
      "userId": "15562786802230056350"
     },
     "user_tz": 180
    },
    "id": "i-FAx6Exp3Ch",
    "outputId": "ca03a204-c7bf-4841-8de2-bf3115b26276"
   },
   "outputs": [
    {
     "data": {
      "text/plain": [
       "LGBMClassifier(boosting_type='gbdt', class_weight=None, colsample_bytree=0.5,\n",
       "               importance_type='split', learning_rate=0.1, max_depth=9,\n",
       "               min_child_samples=10, min_child_weight=0.001, min_split_gain=0.0,\n",
       "               n_estimators=500, n_jobs=1, num_leaves=21, objective='binary',\n",
       "               random_state=None, reg_alpha=0.0, reg_lambda=0.0, silent=True,\n",
       "               subsample=1, subsample_for_bin=200000, subsample_freq=0)"
      ]
     },
     "execution_count": 208,
     "metadata": {
      "tags": []
     },
     "output_type": "execute_result"
    }
   ],
   "source": [
    "model = lgb.LGBMClassifier(num_leaves=21, objective=\"binary\", colsample_bytree=0.5, subsample=1, max_depth=9, n_jobs=1,\n",
    "                              n_estimators=500, min_child_samples=10, learning_rate=0.1)\n",
    "model.fit(X_train_fs, y_train)"
   ]
  },
  {
   "cell_type": "code",
   "execution_count": 209,
   "metadata": {
    "colab": {
     "base_uri": "https://localhost:8080/",
     "height": 35
    },
    "colab_type": "code",
    "executionInfo": {
     "elapsed": 878,
     "status": "ok",
     "timestamp": 1595272883168,
     "user": {
      "displayName": "Matias Priano",
      "photoUrl": "",
      "userId": "15562786802230056350"
     },
     "user_tz": 180
    },
    "id": "ArNL4LUXp3ba",
    "outputId": "f514adbe-add6-4ec8-fbd7-798eb44116e5"
   },
   "outputs": [
    {
     "name": "stdout",
     "output_type": "stream",
     "text": [
      "Accuracy score: 0.804622\n"
     ]
    }
   ],
   "source": [
    "y_test_hat = model.predict(X_test_fs)\n",
    "print(\"Accuracy score: %f\" % (accuracy_score(y_test, y_test_hat)))"
   ]
  },
  {
   "cell_type": "code",
   "execution_count": 206,
   "metadata": {
    "colab": {
     "base_uri": "https://localhost:8080/",
     "height": 127
    },
    "colab_type": "code",
    "executionInfo": {
     "elapsed": 1403,
     "status": "ok",
     "timestamp": 1595272840074,
     "user": {
      "displayName": "Matias Priano",
      "photoUrl": "",
      "userId": "15562786802230056350"
     },
     "user_tz": 180
    },
    "id": "rc3RVCoRp3ri",
    "outputId": "af3b66c4-155e-40dc-f812-fd8ac70c4800"
   },
   "outputs": [
    {
     "data": {
      "text/plain": [
       "LGBMClassifier(boosting_type='gbdt', class_weight=None, colsample_bytree=0.5,\n",
       "               importance_type='split', learning_rate=0.1, max_depth=9,\n",
       "               min_child_samples=10, min_child_weight=0.001, min_split_gain=0.0,\n",
       "               n_estimators=500, n_jobs=1, num_leaves=21, objective='binary',\n",
       "               random_state=None, reg_alpha=0.0, reg_lambda=0.0, silent=True,\n",
       "               subsample=1, subsample_for_bin=200000, subsample_freq=0)"
      ]
     },
     "execution_count": 206,
     "metadata": {
      "tags": []
     },
     "output_type": "execute_result"
    }
   ],
   "source": [
    "model = lgb.LGBMClassifier(num_leaves=21, objective=\"binary\", colsample_bytree=0.5, subsample=1, max_depth=9, n_jobs=1,\n",
    "                              n_estimators=500, min_child_samples=10, learning_rate=0.1)\n",
    "model.fit(X_train_fs2, y_train)"
   ]
  },
  {
   "cell_type": "code",
   "execution_count": 207,
   "metadata": {
    "colab": {
     "base_uri": "https://localhost:8080/",
     "height": 35
    },
    "colab_type": "code",
    "executionInfo": {
     "elapsed": 1639,
     "status": "ok",
     "timestamp": 1595272840713,
     "user": {
      "displayName": "Matias Priano",
      "photoUrl": "",
      "userId": "15562786802230056350"
     },
     "user_tz": 180
    },
    "id": "j-ktHC03p3-x",
    "outputId": "5442643d-df32-4591-fc30-aaa7f95ed92d"
   },
   "outputs": [
    {
     "name": "stdout",
     "output_type": "stream",
     "text": [
      "Accuracy score: 0.751050\n"
     ]
    }
   ],
   "source": [
    "y_test_hat = model.predict(X_test_fs2)\n",
    "print(\"Accuracy score: %f\" % (accuracy_score(y_test, y_test_hat)))"
   ]
  },
  {
   "cell_type": "code",
   "execution_count": 210,
   "metadata": {
    "colab": {
     "base_uri": "https://localhost:8080/",
     "height": 35
    },
    "colab_type": "code",
    "executionInfo": {
     "elapsed": 7622,
     "status": "ok",
     "timestamp": 1595272893914,
     "user": {
      "displayName": "Matias Priano",
      "photoUrl": "",
      "userId": "15562786802230056350"
     },
     "user_tz": 180
    },
    "id": "jDsLdveoqI1Y",
    "outputId": "c3317cd3-fb5d-45a8-a935-517c9eacf051"
   },
   "outputs": [
    {
     "name": "stdout",
     "output_type": "stream",
     "text": [
      "Accuracy: 0.787528\n"
     ]
    }
   ],
   "source": [
    "kfold = KFold(n_splits=8)\n",
    "resultados = cross_val_score(model, X_train_fs, y_train, cv=kfold)\n",
    "print(\"Accuracy: %f\" % (resultados.mean()))"
   ]
  },
  {
   "cell_type": "code",
   "execution_count": 211,
   "metadata": {
    "colab": {
     "base_uri": "https://localhost:8080/",
     "height": 90
    },
    "colab_type": "code",
    "executionInfo": {
     "elapsed": 2278,
     "status": "ok",
     "timestamp": 1595273247094,
     "user": {
      "displayName": "Matias Priano",
      "photoUrl": "",
      "userId": "15562786802230056350"
     },
     "user_tz": 180
    },
    "id": "yGedkoogqQWH",
    "outputId": "ff758114-c145-408a-81c3-63427509e37c"
   },
   "outputs": [
    {
     "name": "stdout",
     "output_type": "stream",
     "text": [
      "(5709, 6058)\n",
      "(5709,)\n",
      "(1904, 6058)\n",
      "(1904,)\n"
     ]
    }
   ],
   "source": [
    "X = train_final.drop([\"id_original\",\"keyword_original\",\"location_original\",\"text_original\",\"target_label\",\n",
    "                      \"clean_text\"], axis=1)\n",
    "y = train_final[\"target_label\"]\n",
    "\n",
    "X_train, X_test, y_train, y_test = train_test_split(X, y, test_size=0.25, random_state=100)\n",
    "print(X_train.shape)\n",
    "print(y_train.shape)\n",
    "print(X_test.shape)\n",
    "print(y_test.shape)"
   ]
  },
  {
   "cell_type": "code",
   "execution_count": 212,
   "metadata": {
    "colab": {},
    "colab_type": "code",
    "executionInfo": {
     "elapsed": 287064,
     "status": "ok",
     "timestamp": 1595273551183,
     "user": {
      "displayName": "Matias Priano",
      "photoUrl": "",
      "userId": "15562786802230056350"
     },
     "user_tz": 180
    },
    "id": "ut3LTf67sgGw"
   },
   "outputs": [],
   "source": [
    "#con 300 features\n",
    "X_train_fs, X_test_fs, fs = select_features(X_train, y_train, X_test, chi2, 300)\n",
    "X_train_fs2, X_test_fs2, fs2 = select_features(X_train, y_train, X_test, mutual_info_classif, 300)"
   ]
  },
  {
   "cell_type": "code",
   "execution_count": 213,
   "metadata": {
    "colab": {
     "base_uri": "https://localhost:8080/",
     "height": 127
    },
    "colab_type": "code",
    "executionInfo": {
     "elapsed": 2406,
     "status": "ok",
     "timestamp": 1595273711711,
     "user": {
      "displayName": "Matias Priano",
      "photoUrl": "",
      "userId": "15562786802230056350"
     },
     "user_tz": 180
    },
    "id": "XEHoHvpgskQj",
    "outputId": "f34254ae-a742-45f7-c3f0-2622df38bd31"
   },
   "outputs": [
    {
     "data": {
      "text/plain": [
       "LGBMClassifier(boosting_type='gbdt', class_weight=None, colsample_bytree=0.7,\n",
       "               importance_type='split', learning_rate=0.1, max_depth=9,\n",
       "               min_child_samples=20, min_child_weight=0.001, min_split_gain=0.0,\n",
       "               n_estimators=250, n_jobs=1, num_leaves=21, objective='binary',\n",
       "               random_state=None, reg_alpha=0.0, reg_lambda=0.0, silent=True,\n",
       "               subsample=1, subsample_for_bin=200000, subsample_freq=0)"
      ]
     },
     "execution_count": 213,
     "metadata": {
      "tags": []
     },
     "output_type": "execute_result"
    }
   ],
   "source": [
    "model = lgb.LGBMClassifier(num_leaves=21, objective=\"binary\", colsample_bytree=0.7, subsample=1, max_depth=9, n_jobs=1,\n",
    "                              n_estimators=250, min_child_samples=20, learning_rate=0.1)\n",
    "model.fit(X_train_fs, y_train)"
   ]
  },
  {
   "cell_type": "code",
   "execution_count": 214,
   "metadata": {
    "colab": {
     "base_uri": "https://localhost:8080/",
     "height": 35
    },
    "colab_type": "code",
    "executionInfo": {
     "elapsed": 1631,
     "status": "ok",
     "timestamp": 1595273711720,
     "user": {
      "displayName": "Matias Priano",
      "photoUrl": "",
      "userId": "15562786802230056350"
     },
     "user_tz": 180
    },
    "id": "ihyU2fh0qKP6",
    "outputId": "6ebaed3f-5faa-4391-a079-0aeb0e7ebee5"
   },
   "outputs": [
    {
     "name": "stdout",
     "output_type": "stream",
     "text": [
      "Accuracy score: 0.771008\n"
     ]
    }
   ],
   "source": [
    "y_test_hat = model.predict(X_test_fs)\n",
    "print(\"Accuracy score: %f\" % (accuracy_score(y_test, y_test_hat)))"
   ]
  },
  {
   "cell_type": "code",
   "execution_count": 215,
   "metadata": {
    "colab": {
     "base_uri": "https://localhost:8080/",
     "height": 127
    },
    "colab_type": "code",
    "executionInfo": {
     "elapsed": 2102,
     "status": "ok",
     "timestamp": 1595273732576,
     "user": {
      "displayName": "Matias Priano",
      "photoUrl": "",
      "userId": "15562786802230056350"
     },
     "user_tz": 180
    },
    "id": "NlIZlM-GslOY",
    "outputId": "72cbd536-e976-45ad-9c6d-fa8a999afe0b"
   },
   "outputs": [
    {
     "data": {
      "text/plain": [
       "LGBMClassifier(boosting_type='gbdt', class_weight=None, colsample_bytree=0.7,\n",
       "               importance_type='split', learning_rate=0.1, max_depth=9,\n",
       "               min_child_samples=20, min_child_weight=0.001, min_split_gain=0.0,\n",
       "               n_estimators=250, n_jobs=1, num_leaves=21, objective='binary',\n",
       "               random_state=None, reg_alpha=0.0, reg_lambda=0.0, silent=True,\n",
       "               subsample=1, subsample_for_bin=200000, subsample_freq=0)"
      ]
     },
     "execution_count": 215,
     "metadata": {
      "tags": []
     },
     "output_type": "execute_result"
    }
   ],
   "source": [
    "model = lgb.LGBMClassifier(num_leaves=21, objective=\"binary\", colsample_bytree=0.7, subsample=1, max_depth=9, n_jobs=1,\n",
    "                              n_estimators=250, min_child_samples=20, learning_rate=0.1)\n",
    "model.fit(X_train_fs2, y_train)"
   ]
  },
  {
   "cell_type": "code",
   "execution_count": 216,
   "metadata": {
    "colab": {
     "base_uri": "https://localhost:8080/",
     "height": 35
    },
    "colab_type": "code",
    "executionInfo": {
     "elapsed": 1179,
     "status": "ok",
     "timestamp": 1595273732599,
     "user": {
      "displayName": "Matias Priano",
      "photoUrl": "",
      "userId": "15562786802230056350"
     },
     "user_tz": 180
    },
    "id": "nUM5zdAHqOI0",
    "outputId": "d61708e8-4a25-4e3d-fc99-517f3dee9f41"
   },
   "outputs": [
    {
     "name": "stdout",
     "output_type": "stream",
     "text": [
      "Accuracy score: 0.655987\n"
     ]
    }
   ],
   "source": [
    "y_test_hat = model.predict(X_test_fs2)\n",
    "print(\"Accuracy score: %f\" % (accuracy_score(y_test, y_test_hat)))"
   ]
  },
  {
   "cell_type": "code",
   "execution_count": 217,
   "metadata": {
    "colab": {},
    "colab_type": "code",
    "executionInfo": {
     "elapsed": 285345,
     "status": "ok",
     "timestamp": 1595274111886,
     "user": {
      "displayName": "Matias Priano",
      "photoUrl": "",
      "userId": "15562786802230056350"
     },
     "user_tz": 180
    },
    "id": "OUi63LoXum8m"
   },
   "outputs": [],
   "source": [
    "#con 500 features\n",
    "X_train_fs, X_test_fs, fs = select_features(X_train, y_train, X_test, chi2, 500)\n",
    "X_train_fs2, X_test_fs2, fs2 = select_features(X_train, y_train, X_test, mutual_info_classif, 500)"
   ]
  },
  {
   "cell_type": "code",
   "execution_count": 218,
   "metadata": {
    "colab": {
     "base_uri": "https://localhost:8080/",
     "height": 127
    },
    "colab_type": "code",
    "executionInfo": {
     "elapsed": 1353,
     "status": "ok",
     "timestamp": 1595274311449,
     "user": {
      "displayName": "Matias Priano",
      "photoUrl": "",
      "userId": "15562786802230056350"
     },
     "user_tz": 180
    },
    "id": "080O9CbjundY",
    "outputId": "7b7619dd-2934-4c46-e455-10fcc55e5677"
   },
   "outputs": [
    {
     "data": {
      "text/plain": [
       "LGBMClassifier(boosting_type='gbdt', class_weight=None, colsample_bytree=0.7,\n",
       "               importance_type='split', learning_rate=0.1, max_depth=7,\n",
       "               min_child_samples=10, min_child_weight=0.001, min_split_gain=0.0,\n",
       "               n_estimators=350, n_jobs=1, num_leaves=7, objective='binary',\n",
       "               random_state=None, reg_alpha=0.0, reg_lambda=0.0, silent=True,\n",
       "               subsample=1, subsample_for_bin=200000, subsample_freq=0)"
      ]
     },
     "execution_count": 218,
     "metadata": {
      "tags": []
     },
     "output_type": "execute_result"
    }
   ],
   "source": [
    "model = lgb.LGBMClassifier(num_leaves=7, objective=\"binary\", colsample_bytree=0.7, subsample=1, max_depth=7, n_jobs=1,\n",
    "                              n_estimators=350, min_child_samples=10, learning_rate=0.1)\n",
    "model.fit(X_train_fs, y_train)"
   ]
  },
  {
   "cell_type": "code",
   "execution_count": 219,
   "metadata": {
    "colab": {
     "base_uri": "https://localhost:8080/",
     "height": 35
    },
    "colab_type": "code",
    "executionInfo": {
     "elapsed": 682,
     "status": "ok",
     "timestamp": 1595274311456,
     "user": {
      "displayName": "Matias Priano",
      "photoUrl": "",
      "userId": "15562786802230056350"
     },
     "user_tz": 180
    },
    "id": "DFjcNZ3PuoC7",
    "outputId": "1afb92fd-0cb5-4ce1-ca3d-31a115f8780f"
   },
   "outputs": [
    {
     "name": "stdout",
     "output_type": "stream",
     "text": [
      "Accuracy score: 0.789391\n"
     ]
    }
   ],
   "source": [
    "y_test_hat = model.predict(X_test_fs)\n",
    "print(\"Accuracy score: %f\" % (accuracy_score(y_test, y_test_hat)))"
   ]
  },
  {
   "cell_type": "code",
   "execution_count": 220,
   "metadata": {
    "colab": {
     "base_uri": "https://localhost:8080/",
     "height": 127
    },
    "colab_type": "code",
    "executionInfo": {
     "elapsed": 1095,
     "status": "ok",
     "timestamp": 1595274360201,
     "user": {
      "displayName": "Matias Priano",
      "photoUrl": "",
      "userId": "15562786802230056350"
     },
     "user_tz": 180
    },
    "id": "nM0GaPxxuoex",
    "outputId": "b095489c-fb8f-43df-afd3-9906970a7096"
   },
   "outputs": [
    {
     "data": {
      "text/plain": [
       "LGBMClassifier(boosting_type='gbdt', class_weight=None, colsample_bytree=0.7,\n",
       "               importance_type='split', learning_rate=0.1, max_depth=7,\n",
       "               min_child_samples=10, min_child_weight=0.001, min_split_gain=0.0,\n",
       "               n_estimators=350, n_jobs=1, num_leaves=7, objective='binary',\n",
       "               random_state=None, reg_alpha=0.0, reg_lambda=0.0, silent=True,\n",
       "               subsample=1, subsample_for_bin=200000, subsample_freq=0)"
      ]
     },
     "execution_count": 220,
     "metadata": {
      "tags": []
     },
     "output_type": "execute_result"
    }
   ],
   "source": [
    "model = lgb.LGBMClassifier(num_leaves=7, objective=\"binary\", colsample_bytree=0.7, subsample=1, max_depth=7, n_jobs=1,\n",
    "                              n_estimators=350, min_child_samples=10, learning_rate=0.1)\n",
    "model.fit(X_train_fs2, y_train)"
   ]
  },
  {
   "cell_type": "code",
   "execution_count": 221,
   "metadata": {
    "colab": {
     "base_uri": "https://localhost:8080/",
     "height": 35
    },
    "colab_type": "code",
    "executionInfo": {
     "elapsed": 1186,
     "status": "ok",
     "timestamp": 1595274361223,
     "user": {
      "displayName": "Matias Priano",
      "photoUrl": "",
      "userId": "15562786802230056350"
     },
     "user_tz": 180
    },
    "id": "Drq_Tt_wupAO",
    "outputId": "682debc4-6a07-4012-b536-b1362aaf91fe"
   },
   "outputs": [
    {
     "name": "stdout",
     "output_type": "stream",
     "text": [
      "Accuracy score: 0.673845\n"
     ]
    }
   ],
   "source": [
    "y_test_hat = model.predict(X_test_fs2)\n",
    "print(\"Accuracy score: %f\" % (accuracy_score(y_test, y_test_hat)))"
   ]
  },
  {
   "cell_type": "code",
   "execution_count": 222,
   "metadata": {
    "colab": {},
    "colab_type": "code",
    "executionInfo": {
     "elapsed": 285318,
     "status": "ok",
     "timestamp": 1595274741011,
     "user": {
      "displayName": "Matias Priano",
      "photoUrl": "",
      "userId": "15562786802230056350"
     },
     "user_tz": 180
    },
    "id": "2K_1p1_0xAA3"
   },
   "outputs": [],
   "source": [
    "#con 1000 features\n",
    "X_train_fs, X_test_fs, fs = select_features(X_train, y_train, X_test, chi2, 1000)\n",
    "X_train_fs2, X_test_fs2, fs2 = select_features(X_train, y_train, X_test, mutual_info_classif, 1000)"
   ]
  },
  {
   "cell_type": "code",
   "execution_count": 223,
   "metadata": {
    "colab": {
     "base_uri": "https://localhost:8080/",
     "height": 127
    },
    "colab_type": "code",
    "executionInfo": {
     "elapsed": 1653,
     "status": "ok",
     "timestamp": 1595274759322,
     "user": {
      "displayName": "Matias Priano",
      "photoUrl": "",
      "userId": "15562786802230056350"
     },
     "user_tz": 180
    },
    "id": "yETUXsxTxHA2",
    "outputId": "48bfb240-2d1c-48aa-e1d4-8245f6bdeaae"
   },
   "outputs": [
    {
     "data": {
      "text/plain": [
       "LGBMClassifier(boosting_type='gbdt', class_weight=None, colsample_bytree=0.5,\n",
       "               importance_type='split', learning_rate=0.1, max_depth=9,\n",
       "               min_child_samples=10, min_child_weight=0.001, min_split_gain=0.0,\n",
       "               n_estimators=500, n_jobs=1, num_leaves=21, objective='binary',\n",
       "               random_state=None, reg_alpha=0.0, reg_lambda=0.0, silent=True,\n",
       "               subsample=1, subsample_for_bin=200000, subsample_freq=0)"
      ]
     },
     "execution_count": 223,
     "metadata": {
      "tags": []
     },
     "output_type": "execute_result"
    }
   ],
   "source": [
    "model = lgb.LGBMClassifier(num_leaves=21, objective=\"binary\", colsample_bytree=0.5, subsample=1, max_depth=9, n_jobs=1,\n",
    "                              n_estimators=500, min_child_samples=10, learning_rate=0.1)\n",
    "model.fit(X_train_fs, y_train)"
   ]
  },
  {
   "cell_type": "code",
   "execution_count": 224,
   "metadata": {
    "colab": {
     "base_uri": "https://localhost:8080/",
     "height": 35
    },
    "colab_type": "code",
    "executionInfo": {
     "elapsed": 748,
     "status": "ok",
     "timestamp": 1595274759338,
     "user": {
      "displayName": "Matias Priano",
      "photoUrl": "",
      "userId": "15562786802230056350"
     },
     "user_tz": 180
    },
    "id": "PA1mVrCexH5I",
    "outputId": "367e79b2-3552-4943-e012-f30a484b72f6"
   },
   "outputs": [
    {
     "name": "stdout",
     "output_type": "stream",
     "text": [
      "Accuracy score: 0.800420\n"
     ]
    }
   ],
   "source": [
    "y_test_hat = model.predict(X_test_fs)\n",
    "print(\"Accuracy score: %f\" % (accuracy_score(y_test, y_test_hat)))"
   ]
  },
  {
   "cell_type": "code",
   "execution_count": 225,
   "metadata": {
    "colab": {
     "base_uri": "https://localhost:8080/",
     "height": 127
    },
    "colab_type": "code",
    "executionInfo": {
     "elapsed": 2020,
     "status": "ok",
     "timestamp": 1595274782824,
     "user": {
      "displayName": "Matias Priano",
      "photoUrl": "",
      "userId": "15562786802230056350"
     },
     "user_tz": 180
    },
    "id": "G4wJmIqexJH0",
    "outputId": "9709aa58-6268-4c57-83e2-9da77b647f36"
   },
   "outputs": [
    {
     "data": {
      "text/plain": [
       "LGBMClassifier(boosting_type='gbdt', class_weight=None, colsample_bytree=0.5,\n",
       "               importance_type='split', learning_rate=0.1, max_depth=9,\n",
       "               min_child_samples=10, min_child_weight=0.001, min_split_gain=0.0,\n",
       "               n_estimators=500, n_jobs=1, num_leaves=21, objective='binary',\n",
       "               random_state=None, reg_alpha=0.0, reg_lambda=0.0, silent=True,\n",
       "               subsample=1, subsample_for_bin=200000, subsample_freq=0)"
      ]
     },
     "execution_count": 225,
     "metadata": {
      "tags": []
     },
     "output_type": "execute_result"
    }
   ],
   "source": [
    "model = lgb.LGBMClassifier(num_leaves=21, objective=\"binary\", colsample_bytree=0.5, subsample=1, max_depth=9, n_jobs=1,\n",
    "                              n_estimators=500, min_child_samples=10, learning_rate=0.1)\n",
    "model.fit(X_train_fs2, y_train)"
   ]
  },
  {
   "cell_type": "code",
   "execution_count": 226,
   "metadata": {
    "colab": {
     "base_uri": "https://localhost:8080/",
     "height": 35
    },
    "colab_type": "code",
    "executionInfo": {
     "elapsed": 2132,
     "status": "ok",
     "timestamp": 1595274783569,
     "user": {
      "displayName": "Matias Priano",
      "photoUrl": "",
      "userId": "15562786802230056350"
     },
     "user_tz": 180
    },
    "id": "gD7Agi8uxIz3",
    "outputId": "4255903b-8566-42db-8c23-b4ab670c5525"
   },
   "outputs": [
    {
     "name": "stdout",
     "output_type": "stream",
     "text": [
      "Accuracy score: 0.714286\n"
     ]
    }
   ],
   "source": [
    "y_test_hat = model.predict(X_test_fs2)\n",
    "print(\"Accuracy score: %f\" % (accuracy_score(y_test, y_test_hat)))"
   ]
  },
  {
   "cell_type": "code",
   "execution_count": 228,
   "metadata": {
    "colab": {
     "base_uri": "https://localhost:8080/",
     "height": 35
    },
    "colab_type": "code",
    "executionInfo": {
     "elapsed": 3332,
     "status": "ok",
     "timestamp": 1595274828677,
     "user": {
      "displayName": "Matias Priano",
      "photoUrl": "",
      "userId": "15562786802230056350"
     },
     "user_tz": 180
    },
    "id": "rQTvZWa2xIhE",
    "outputId": "62cd0450-7f76-4589-b63e-be487dd621f7"
   },
   "outputs": [
    {
     "name": "stdout",
     "output_type": "stream",
     "text": [
      "Accuracy: 0.786300\n"
     ]
    }
   ],
   "source": [
    "kfold = KFold(n_splits=4)\n",
    "resultados = cross_val_score(model, X_train_fs, y_train, cv=kfold)\n",
    "print(\"Accuracy: %f\" % (resultados.mean()))"
   ]
  },
  {
   "cell_type": "markdown",
   "metadata": {
    "colab_type": "text",
    "id": "-nuDCHQPUXS8"
   },
   "source": [
    "## CatBoost"
   ]
  },
  {
   "cell_type": "code",
   "execution_count": 24,
   "metadata": {
    "colab": {
     "base_uri": "https://localhost:8080/",
     "height": 90
    },
    "colab_type": "code",
    "executionInfo": {
     "elapsed": 1267,
     "status": "ok",
     "timestamp": 1595283755377,
     "user": {
      "displayName": "Matias Priano",
      "photoUrl": "",
      "userId": "15562786802230056350"
     },
     "user_tz": 180
    },
    "id": "o2VzzfsoysS8",
    "outputId": "299f0ecf-ef74-432f-e3e7-035e5b864ab3"
   },
   "outputs": [
    {
     "name": "stdout",
     "output_type": "stream",
     "text": [
      "(5709, 2500)\n",
      "(5709,)\n",
      "(1904, 2500)\n",
      "(1904,)\n"
     ]
    }
   ],
   "source": [
    "X = train_final_2.drop([\"id_original\",\"keyword_original\",\"location_original\",\"text_original\",\"target_label\",\n",
    "                      \"clean_text\"], axis=1)\n",
    "y = train_final_2[\"target_label\"]\n",
    "\n",
    "X_train, X_test, y_train, y_test = train_test_split(X, y, test_size=0.25, random_state=100)\n",
    "\n",
    "print(X_train.shape)\n",
    "print(y_train.shape)\n",
    "print(X_test.shape)\n",
    "print(y_test.shape)"
   ]
  },
  {
   "cell_type": "code",
   "execution_count": 25,
   "metadata": {
    "colab": {},
    "colab_type": "code",
    "executionInfo": {
     "elapsed": 120604,
     "status": "ok",
     "timestamp": 1595283902348,
     "user": {
      "displayName": "Matias Priano",
      "photoUrl": "",
      "userId": "15562786802230056350"
     },
     "user_tz": 180
    },
    "id": "gVK6hsxpUfUP"
   },
   "outputs": [],
   "source": [
    "#con 100 features\n",
    "X_train_fs, X_test_fs, fs = select_features(X_train, y_train, X_test, chi2, 100)\n",
    "X_train_fs2, X_test_fs2, fs2 = select_features(X_train, y_train, X_test, mutual_info_classif, 100)"
   ]
  },
  {
   "cell_type": "code",
   "execution_count": 38,
   "metadata": {
    "colab": {
     "base_uri": "https://localhost:8080/",
     "height": 35
    },
    "colab_type": "code",
    "executionInfo": {
     "elapsed": 3252,
     "status": "ok",
     "timestamp": 1595284015245,
     "user": {
      "displayName": "Matias Priano",
      "photoUrl": "",
      "userId": "15562786802230056350"
     },
     "user_tz": 180
    },
    "id": "KLn7gZjvUvNu",
    "outputId": "bf0b17d6-2f86-4f44-d5c3-25e0cd6db98f"
   },
   "outputs": [
    {
     "data": {
      "text/plain": [
       "<catboost.core.CatBoostClassifier at 0x7f5f401b9ef0>"
      ]
     },
     "execution_count": 38,
     "metadata": {
      "tags": []
     },
     "output_type": "execute_result"
    }
   ],
   "source": [
    "model = cb.CatBoostClassifier(iterations=200, depth=11, learning_rate=0.1)\n",
    "model.fit(X_train_fs, y_train, verbose=False)"
   ]
  },
  {
   "cell_type": "code",
   "execution_count": 39,
   "metadata": {
    "colab": {
     "base_uri": "https://localhost:8080/",
     "height": 35
    },
    "colab_type": "code",
    "executionInfo": {
     "elapsed": 2164,
     "status": "ok",
     "timestamp": 1595284015265,
     "user": {
      "displayName": "Matias Priano",
      "photoUrl": "",
      "userId": "15562786802230056350"
     },
     "user_tz": 180
    },
    "id": "GCle8XSdUvox",
    "outputId": "390eafc2-4537-4600-81f9-431d8ec15a44"
   },
   "outputs": [
    {
     "name": "stdout",
     "output_type": "stream",
     "text": [
      "Accuracy score: 0.742122\n"
     ]
    }
   ],
   "source": [
    "y_test_hat = model.predict(X_test_fs)\n",
    "print(\"Accuracy score: %f\" % (accuracy_score(y_test, y_test_hat)))"
   ]
  },
  {
   "cell_type": "code",
   "execution_count": 40,
   "metadata": {
    "colab": {
     "base_uri": "https://localhost:8080/",
     "height": 35
    },
    "colab_type": "code",
    "executionInfo": {
     "elapsed": 3036,
     "status": "ok",
     "timestamp": 1595284042907,
     "user": {
      "displayName": "Matias Priano",
      "photoUrl": "",
      "userId": "15562786802230056350"
     },
     "user_tz": 180
    },
    "id": "5Xir2zb8Uv-x",
    "outputId": "6b564d3d-fc44-4366-f210-fc61602dac47"
   },
   "outputs": [
    {
     "data": {
      "text/plain": [
       "<catboost.core.CatBoostClassifier at 0x7f5f3ffdb470>"
      ]
     },
     "execution_count": 40,
     "metadata": {
      "tags": []
     },
     "output_type": "execute_result"
    }
   ],
   "source": [
    "model = cb.CatBoostClassifier(iterations=200, depth=11, learning_rate=0.1)\n",
    "model.fit(X_train_fs2, y_train, verbose=False)"
   ]
  },
  {
   "cell_type": "code",
   "execution_count": 41,
   "metadata": {
    "colab": {
     "base_uri": "https://localhost:8080/",
     "height": 35
    },
    "colab_type": "code",
    "executionInfo": {
     "elapsed": 1919,
     "status": "ok",
     "timestamp": 1595284042914,
     "user": {
      "displayName": "Matias Priano",
      "photoUrl": "",
      "userId": "15562786802230056350"
     },
     "user_tz": 180
    },
    "id": "O3mQuZZdUxSH",
    "outputId": "77dbf642-96f0-4a19-b3b2-e287e857869e"
   },
   "outputs": [
    {
     "name": "stdout",
     "output_type": "stream",
     "text": [
      "Accuracy score: 0.632353\n"
     ]
    }
   ],
   "source": [
    "y_test_hat = model.predict(X_test_fs2)\n",
    "print(\"Accuracy score: %f\" % (accuracy_score(y_test, y_test_hat)))"
   ]
  },
  {
   "cell_type": "code",
   "execution_count": 42,
   "metadata": {
    "colab": {},
    "colab_type": "code",
    "executionInfo": {
     "elapsed": 117989,
     "status": "ok",
     "timestamp": 1595284216200,
     "user": {
      "displayName": "Matias Priano",
      "photoUrl": "",
      "userId": "15562786802230056350"
     },
     "user_tz": 180
    },
    "id": "E4prvdYtVtyH"
   },
   "outputs": [],
   "source": [
    "#con 300 features\n",
    "X_train_fs, X_test_fs, fs = select_features(X_train, y_train, X_test, chi2, 300)\n",
    "X_train_fs2, X_test_fs2, fs2 = select_features(X_train, y_train, X_test, mutual_info_classif, 300)"
   ]
  },
  {
   "cell_type": "code",
   "execution_count": 60,
   "metadata": {
    "colab": {
     "base_uri": "https://localhost:8080/",
     "height": 35
    },
    "colab_type": "code",
    "executionInfo": {
     "elapsed": 5724,
     "status": "ok",
     "timestamp": 1595284375218,
     "user": {
      "displayName": "Matias Priano",
      "photoUrl": "",
      "userId": "15562786802230056350"
     },
     "user_tz": 180
    },
    "id": "9N8q63tXV7yr",
    "outputId": "f10b8a14-a7c8-45fb-db2a-bcd67959f4f1"
   },
   "outputs": [
    {
     "data": {
      "text/plain": [
       "<catboost.core.CatBoostClassifier at 0x7f5f3ffe7898>"
      ]
     },
     "execution_count": 60,
     "metadata": {
      "tags": []
     },
     "output_type": "execute_result"
    }
   ],
   "source": [
    "model = cb.CatBoostClassifier(iterations=200, depth=11, learning_rate=0.1)\n",
    "model.fit(X_train_fs, y_train, verbose=False)"
   ]
  },
  {
   "cell_type": "code",
   "execution_count": 61,
   "metadata": {
    "colab": {
     "base_uri": "https://localhost:8080/",
     "height": 35
    },
    "colab_type": "code",
    "executionInfo": {
     "elapsed": 4106,
     "status": "ok",
     "timestamp": 1595284375235,
     "user": {
      "displayName": "Matias Priano",
      "photoUrl": "",
      "userId": "15562786802230056350"
     },
     "user_tz": 180
    },
    "id": "8uxl1KbdV88I",
    "outputId": "52ed488f-d562-4548-c10a-8975e387a83a"
   },
   "outputs": [
    {
     "name": "stdout",
     "output_type": "stream",
     "text": [
      "Accuracy score: 0.784139\n"
     ]
    }
   ],
   "source": [
    "y_test_hat = model.predict(X_test_fs)\n",
    "print(\"Accuracy score: %f\" % (accuracy_score(y_test, y_test_hat)))"
   ]
  },
  {
   "cell_type": "code",
   "execution_count": 62,
   "metadata": {
    "colab": {
     "base_uri": "https://localhost:8080/",
     "height": 35
    },
    "colab_type": "code",
    "executionInfo": {
     "elapsed": 6539,
     "status": "ok",
     "timestamp": 1595284383400,
     "user": {
      "displayName": "Matias Priano",
      "photoUrl": "",
      "userId": "15562786802230056350"
     },
     "user_tz": 180
    },
    "id": "Z3fyWAvmV9JM",
    "outputId": "e8131bac-0834-46fe-fd0c-ada641f75a0d"
   },
   "outputs": [
    {
     "data": {
      "text/plain": [
       "<catboost.core.CatBoostClassifier at 0x7f5f3ff00438>"
      ]
     },
     "execution_count": 62,
     "metadata": {
      "tags": []
     },
     "output_type": "execute_result"
    }
   ],
   "source": [
    "model = cb.CatBoostClassifier(iterations=200, depth=11, learning_rate=0.1)\n",
    "model.fit(X_train_fs2, y_train, verbose=False)"
   ]
  },
  {
   "cell_type": "code",
   "execution_count": 63,
   "metadata": {
    "colab": {
     "base_uri": "https://localhost:8080/",
     "height": 35
    },
    "colab_type": "code",
    "executionInfo": {
     "elapsed": 5389,
     "status": "ok",
     "timestamp": 1595284383415,
     "user": {
      "displayName": "Matias Priano",
      "photoUrl": "",
      "userId": "15562786802230056350"
     },
     "user_tz": 180
    },
    "id": "S5_Fxq9kV9ac",
    "outputId": "457c13dd-a539-4c93-de0b-d25f15b1b0a5"
   },
   "outputs": [
    {
     "name": "stdout",
     "output_type": "stream",
     "text": [
      "Accuracy score: 0.707458\n"
     ]
    }
   ],
   "source": [
    "y_test_hat = model.predict(X_test_fs2)\n",
    "print(\"Accuracy score: %f\" % (accuracy_score(y_test, y_test_hat)))"
   ]
  },
  {
   "cell_type": "code",
   "execution_count": 64,
   "metadata": {
    "colab": {},
    "colab_type": "code",
    "executionInfo": {
     "elapsed": 118813,
     "status": "ok",
     "timestamp": 1595284610597,
     "user": {
      "displayName": "Matias Priano",
      "photoUrl": "",
      "userId": "15562786802230056350"
     },
     "user_tz": 180
    },
    "id": "S7dRjPhoXDDz"
   },
   "outputs": [],
   "source": [
    "#con 500 features\n",
    "X_train_fs, X_test_fs, fs = select_features(X_train, y_train, X_test, chi2, 500)\n",
    "X_train_fs2, X_test_fs2, fs2 = select_features(X_train, y_train, X_test, mutual_info_classif, 500)"
   ]
  },
  {
   "cell_type": "code",
   "execution_count": 81,
   "metadata": {
    "colab": {
     "base_uri": "https://localhost:8080/",
     "height": 35
    },
    "colab_type": "code",
    "executionInfo": {
     "elapsed": 4995,
     "status": "ok",
     "timestamp": 1595284947172,
     "user": {
      "displayName": "Matias Priano",
      "photoUrl": "",
      "userId": "15562786802230056350"
     },
     "user_tz": 180
    },
    "id": "4dqTSSvhXDlu",
    "outputId": "12eecc6d-40d0-49f2-fe44-7a8bb687cbee"
   },
   "outputs": [
    {
     "data": {
      "text/plain": [
       "<catboost.core.CatBoostClassifier at 0x7f5f400288d0>"
      ]
     },
     "execution_count": 81,
     "metadata": {
      "tags": []
     },
     "output_type": "execute_result"
    }
   ],
   "source": [
    "model = cb.CatBoostClassifier(iterations=300, depth=9, learning_rate=0.1)\n",
    "model.fit(X_train_fs, y_train, verbose=False)"
   ]
  },
  {
   "cell_type": "code",
   "execution_count": 82,
   "metadata": {
    "colab": {
     "base_uri": "https://localhost:8080/",
     "height": 35
    },
    "colab_type": "code",
    "executionInfo": {
     "elapsed": 3268,
     "status": "ok",
     "timestamp": 1595284947190,
     "user": {
      "displayName": "Matias Priano",
      "photoUrl": "",
      "userId": "15562786802230056350"
     },
     "user_tz": 180
    },
    "id": "bdBfTHsQXD0g",
    "outputId": "975d8b5a-c48c-4116-dcf8-fa76800b647c"
   },
   "outputs": [
    {
     "name": "stdout",
     "output_type": "stream",
     "text": [
      "Accuracy score: 0.793067\n"
     ]
    }
   ],
   "source": [
    "y_test_hat = model.predict(X_test_fs)\n",
    "print(\"Accuracy score: %f\" % (accuracy_score(y_test, y_test_hat)))"
   ]
  },
  {
   "cell_type": "code",
   "execution_count": 83,
   "metadata": {
    "colab": {
     "base_uri": "https://localhost:8080/",
     "height": 35
    },
    "colab_type": "code",
    "executionInfo": {
     "elapsed": 7428,
     "status": "ok",
     "timestamp": 1595284977658,
     "user": {
      "displayName": "Matias Priano",
      "photoUrl": "",
      "userId": "15562786802230056350"
     },
     "user_tz": 180
    },
    "id": "EKeFCWK6XEC4",
    "outputId": "d874b966-1c5a-4d05-900a-aac7a8ba29e4"
   },
   "outputs": [
    {
     "data": {
      "text/plain": [
       "<catboost.core.CatBoostClassifier at 0x7f5f3ff35da0>"
      ]
     },
     "execution_count": 83,
     "metadata": {
      "tags": []
     },
     "output_type": "execute_result"
    }
   ],
   "source": [
    "model = cb.CatBoostClassifier(iterations=200, depth=11, learning_rate=0.1)\n",
    "model.fit(X_train_fs2, y_train, verbose=False)"
   ]
  },
  {
   "cell_type": "code",
   "execution_count": 84,
   "metadata": {
    "colab": {
     "base_uri": "https://localhost:8080/",
     "height": 35
    },
    "colab_type": "code",
    "executionInfo": {
     "elapsed": 6237,
     "status": "ok",
     "timestamp": 1595284977667,
     "user": {
      "displayName": "Matias Priano",
      "photoUrl": "",
      "userId": "15562786802230056350"
     },
     "user_tz": 180
    },
    "id": "KMbgOL_zXEQ1",
    "outputId": "9201131a-5857-4e05-d196-5a5b2211043f"
   },
   "outputs": [
    {
     "name": "stdout",
     "output_type": "stream",
     "text": [
      "Accuracy score: 0.727416\n"
     ]
    }
   ],
   "source": [
    "y_test_hat = model.predict(X_test_fs2)\n",
    "print(\"Accuracy score: %f\" % (accuracy_score(y_test, y_test_hat)))"
   ]
  },
  {
   "cell_type": "code",
   "execution_count": 85,
   "metadata": {
    "colab": {},
    "colab_type": "code",
    "executionInfo": {
     "elapsed": 121372,
     "status": "ok",
     "timestamp": 1595285122189,
     "user": {
      "displayName": "Matias Priano",
      "photoUrl": "",
      "userId": "15562786802230056350"
     },
     "user_tz": 180
    },
    "id": "HJQW2rkrZRtO"
   },
   "outputs": [],
   "source": [
    "#con 1000 features\n",
    "X_train_fs, X_test_fs, fs = select_features(X_train, y_train, X_test, chi2, 1000)\n",
    "X_train_fs2, X_test_fs2, fs2 = select_features(X_train, y_train, X_test, mutual_info_classif, 1000)"
   ]
  },
  {
   "cell_type": "code",
   "execution_count": 106,
   "metadata": {
    "colab": {
     "base_uri": "https://localhost:8080/",
     "height": 35
    },
    "colab_type": "code",
    "executionInfo": {
     "elapsed": 6129,
     "status": "ok",
     "timestamp": 1595285344250,
     "user": {
      "displayName": "Matias Priano",
      "photoUrl": "",
      "userId": "15562786802230056350"
     },
     "user_tz": 180
    },
    "id": "ItHHtslOZcSm",
    "outputId": "1c5eed78-c3ce-45bf-ae9d-1d7b5a3ec819"
   },
   "outputs": [
    {
     "data": {
      "text/plain": [
       "<catboost.core.CatBoostClassifier at 0x7f5f40038be0>"
      ]
     },
     "execution_count": 106,
     "metadata": {
      "tags": []
     },
     "output_type": "execute_result"
    }
   ],
   "source": [
    "model = cb.CatBoostClassifier(iterations=250, depth=9, learning_rate=0.1)\n",
    "model.fit(X_train_fs, y_train, verbose=False)"
   ]
  },
  {
   "cell_type": "code",
   "execution_count": 107,
   "metadata": {
    "colab": {
     "base_uri": "https://localhost:8080/",
     "height": 35
    },
    "colab_type": "code",
    "executionInfo": {
     "elapsed": 3863,
     "status": "ok",
     "timestamp": 1595285344268,
     "user": {
      "displayName": "Matias Priano",
      "photoUrl": "",
      "userId": "15562786802230056350"
     },
     "user_tz": 180
    },
    "id": "_7cN6hvUZctB",
    "outputId": "3b398fce-75dd-4dba-c1db-76cb2885a039"
   },
   "outputs": [
    {
     "name": "stdout",
     "output_type": "stream",
     "text": [
      "Accuracy score: 0.803571\n"
     ]
    }
   ],
   "source": [
    "y_test_hat = model.predict(X_test_fs)\n",
    "print(\"Accuracy score: %f\" % (accuracy_score(y_test, y_test_hat)))"
   ]
  },
  {
   "cell_type": "code",
   "execution_count": 108,
   "metadata": {
    "colab": {
     "base_uri": "https://localhost:8080/",
     "height": 35
    },
    "colab_type": "code",
    "executionInfo": {
     "elapsed": 5981,
     "status": "ok",
     "timestamp": 1595285365316,
     "user": {
      "displayName": "Matias Priano",
      "photoUrl": "",
      "userId": "15562786802230056350"
     },
     "user_tz": 180
    },
    "id": "K7SOg377Zc6a",
    "outputId": "80900778-ae0e-4306-b848-840f45281d7e"
   },
   "outputs": [
    {
     "data": {
      "text/plain": [
       "<catboost.core.CatBoostClassifier at 0x7f5f400380b8>"
      ]
     },
     "execution_count": 108,
     "metadata": {
      "tags": []
     },
     "output_type": "execute_result"
    }
   ],
   "source": [
    "model = cb.CatBoostClassifier(iterations=250, depth=9, learning_rate=0.1)\n",
    "model.fit(X_train_fs2, y_train, verbose=False)"
   ]
  },
  {
   "cell_type": "code",
   "execution_count": 109,
   "metadata": {
    "colab": {
     "base_uri": "https://localhost:8080/",
     "height": 35
    },
    "colab_type": "code",
    "executionInfo": {
     "elapsed": 4993,
     "status": "ok",
     "timestamp": 1595285365328,
     "user": {
      "displayName": "Matias Priano",
      "photoUrl": "",
      "userId": "15562786802230056350"
     },
     "user_tz": 180
    },
    "id": "JWwRxv-GZdVu",
    "outputId": "cb6dee96-66a2-4f0b-b4e2-2d7e61a7c478"
   },
   "outputs": [
    {
     "name": "stdout",
     "output_type": "stream",
     "text": [
      "Accuracy score: 0.778887\n"
     ]
    }
   ],
   "source": [
    "y_test_hat = model.predict(X_test_fs2)\n",
    "print(\"Accuracy score: %f\" % (accuracy_score(y_test, y_test_hat)))"
   ]
  },
  {
   "cell_type": "code",
   "execution_count": 110,
   "metadata": {
    "colab": {
     "base_uri": "https://localhost:8080/",
     "height": 90
    },
    "colab_type": "code",
    "executionInfo": {
     "elapsed": 1413,
     "status": "ok",
     "timestamp": 1595285417490,
     "user": {
      "displayName": "Matias Priano",
      "photoUrl": "",
      "userId": "15562786802230056350"
     },
     "user_tz": 180
    },
    "id": "m6sRX54na3E3",
    "outputId": "d72e60cb-47a0-41f3-d934-0aacd1a7a61c"
   },
   "outputs": [
    {
     "name": "stdout",
     "output_type": "stream",
     "text": [
      "(5709, 6058)\n",
      "(5709,)\n",
      "(1904, 6058)\n",
      "(1904,)\n"
     ]
    }
   ],
   "source": [
    "X = train_final.drop([\"id_original\",\"keyword_original\",\"location_original\",\"text_original\",\"target_label\",\n",
    "                      \"clean_text\"], axis=1)\n",
    "y = train_final[\"target_label\"]\n",
    "\n",
    "X_train, X_test, y_train, y_test = train_test_split(X, y, test_size=0.25, random_state=100)\n",
    "\n",
    "print(X_train.shape)\n",
    "print(y_train.shape)\n",
    "print(X_test.shape)\n",
    "print(y_test.shape)"
   ]
  },
  {
   "cell_type": "code",
   "execution_count": 111,
   "metadata": {
    "colab": {},
    "colab_type": "code",
    "executionInfo": {
     "elapsed": 287537,
     "status": "ok",
     "timestamp": 1595285725080,
     "user": {
      "displayName": "Matias Priano",
      "photoUrl": "",
      "userId": "15562786802230056350"
     },
     "user_tz": 180
    },
    "id": "4YJn9wL0a-fS"
   },
   "outputs": [],
   "source": [
    "#con 1000 features\n",
    "X_train_fs, X_test_fs, fs = select_features(X_train, y_train, X_test, chi2, 1000)\n",
    "X_train_fs2, X_test_fs2, fs2 = select_features(X_train, y_train, X_test, mutual_info_classif, 1000)"
   ]
  },
  {
   "cell_type": "code",
   "execution_count": 134,
   "metadata": {
    "colab": {
     "base_uri": "https://localhost:8080/",
     "height": 35
    },
    "colab_type": "code",
    "executionInfo": {
     "elapsed": 4012,
     "status": "ok",
     "timestamp": 1595285926361,
     "user": {
      "displayName": "Matias Priano",
      "photoUrl": "",
      "userId": "15562786802230056350"
     },
     "user_tz": 180
    },
    "id": "V9E4dUWpbALX",
    "outputId": "4e4fd9d8-3526-4ebb-ba38-75e1c96108c2"
   },
   "outputs": [
    {
     "data": {
      "text/plain": [
       "<catboost.core.CatBoostClassifier at 0x7f5f4019b400>"
      ]
     },
     "execution_count": 134,
     "metadata": {
      "tags": []
     },
     "output_type": "execute_result"
    }
   ],
   "source": [
    "model = cb.CatBoostClassifier(iterations=300, depth=7, learning_rate=0.1)\n",
    "model.fit(X_train_fs, y_train, verbose=False)"
   ]
  },
  {
   "cell_type": "code",
   "execution_count": 135,
   "metadata": {
    "colab": {
     "base_uri": "https://localhost:8080/",
     "height": 35
    },
    "colab_type": "code",
    "executionInfo": {
     "elapsed": 2968,
     "status": "ok",
     "timestamp": 1595285926368,
     "user": {
      "displayName": "Matias Priano",
      "photoUrl": "",
      "userId": "15562786802230056350"
     },
     "user_tz": 180
    },
    "id": "UCor7RsebDDH",
    "outputId": "17c92a72-46e3-4245-c7bc-b67c9942af23"
   },
   "outputs": [
    {
     "name": "stdout",
     "output_type": "stream",
     "text": [
      "Accuracy score: 0.798319\n"
     ]
    }
   ],
   "source": [
    "y_test_hat = model.predict(X_test_fs)\n",
    "print(\"Accuracy score: %f\" % (accuracy_score(y_test, y_test_hat)))"
   ]
  },
  {
   "cell_type": "code",
   "execution_count": 114,
   "metadata": {
    "colab": {
     "base_uri": "https://localhost:8080/",
     "height": 35
    },
    "colab_type": "code",
    "executionInfo": {
     "elapsed": 5556,
     "status": "ok",
     "timestamp": 1595285786453,
     "user": {
      "displayName": "Matias Priano",
      "photoUrl": "",
      "userId": "15562786802230056350"
     },
     "user_tz": 180
    },
    "id": "3cYlqAYjbDT-",
    "outputId": "fde28836-0dd2-4952-d801-eb9821e4dd17"
   },
   "outputs": [
    {
     "data": {
      "text/plain": [
       "<catboost.core.CatBoostClassifier at 0x7f5f3ff545c0>"
      ]
     },
     "execution_count": 114,
     "metadata": {
      "tags": []
     },
     "output_type": "execute_result"
    }
   ],
   "source": [
    "model = cb.CatBoostClassifier(iterations=250, depth=9, learning_rate=0.1)\n",
    "model.fit(X_train_fs2, y_train, verbose=False)"
   ]
  },
  {
   "cell_type": "code",
   "execution_count": 115,
   "metadata": {
    "colab": {
     "base_uri": "https://localhost:8080/",
     "height": 35
    },
    "colab_type": "code",
    "executionInfo": {
     "elapsed": 4401,
     "status": "ok",
     "timestamp": 1595285786462,
     "user": {
      "displayName": "Matias Priano",
      "photoUrl": "",
      "userId": "15562786802230056350"
     },
     "user_tz": 180
    },
    "id": "1Fnd8fc4bDrf",
    "outputId": "da5f994c-771b-4c0d-924b-ab76497f6e0b"
   },
   "outputs": [
    {
     "name": "stdout",
     "output_type": "stream",
     "text": [
      "Accuracy score: 0.731092\n"
     ]
    }
   ],
   "source": [
    "y_test_hat = model.predict(X_test_fs2)\n",
    "print(\"Accuracy score: %f\" % (accuracy_score(y_test, y_test_hat)))"
   ]
  },
  {
   "cell_type": "code",
   "execution_count": 136,
   "metadata": {
    "colab": {
     "base_uri": "https://localhost:8080/",
     "height": 1000
    },
    "colab_type": "code",
    "executionInfo": {
     "elapsed": 15991,
     "status": "ok",
     "timestamp": 1595285966461,
     "user": {
      "displayName": "Matias Priano",
      "photoUrl": "",
      "userId": "15562786802230056350"
     },
     "user_tz": 180
    },
    "id": "EDz029l2bMtJ",
    "outputId": "fe2998ff-e028-4f9d-b94a-ac29739265b1"
   },
   "outputs": [
    {
     "name": "stdout",
     "output_type": "stream",
     "text": [
      "0:\tlearn: 0.6831395\ttotal: 9.16ms\tremaining: 2.74s\n",
      "1:\tlearn: 0.6737147\ttotal: 18.5ms\tremaining: 2.76s\n",
      "2:\tlearn: 0.6670245\ttotal: 26.7ms\tremaining: 2.64s\n",
      "3:\tlearn: 0.6592938\ttotal: 35.4ms\tremaining: 2.62s\n",
      "4:\tlearn: 0.6540839\ttotal: 45.6ms\tremaining: 2.69s\n",
      "5:\tlearn: 0.6496927\ttotal: 54.2ms\tremaining: 2.66s\n",
      "6:\tlearn: 0.6456821\ttotal: 62.5ms\tremaining: 2.62s\n",
      "7:\tlearn: 0.6424131\ttotal: 70.6ms\tremaining: 2.58s\n",
      "8:\tlearn: 0.6388572\ttotal: 78.6ms\tremaining: 2.54s\n",
      "9:\tlearn: 0.6343544\ttotal: 87.2ms\tremaining: 2.53s\n",
      "10:\tlearn: 0.6311945\ttotal: 95.3ms\tremaining: 2.5s\n",
      "11:\tlearn: 0.6273949\ttotal: 104ms\tremaining: 2.49s\n",
      "12:\tlearn: 0.6237709\ttotal: 112ms\tremaining: 2.48s\n",
      "13:\tlearn: 0.6207113\ttotal: 121ms\tremaining: 2.46s\n",
      "14:\tlearn: 0.6174506\ttotal: 129ms\tremaining: 2.45s\n",
      "15:\tlearn: 0.6133254\ttotal: 137ms\tremaining: 2.44s\n",
      "16:\tlearn: 0.6107726\ttotal: 146ms\tremaining: 2.43s\n",
      "17:\tlearn: 0.6082913\ttotal: 154ms\tremaining: 2.42s\n",
      "18:\tlearn: 0.6049112\ttotal: 163ms\tremaining: 2.4s\n",
      "19:\tlearn: 0.6020700\ttotal: 171ms\tremaining: 2.39s\n",
      "20:\tlearn: 0.5998706\ttotal: 179ms\tremaining: 2.38s\n",
      "21:\tlearn: 0.5978484\ttotal: 188ms\tremaining: 2.38s\n",
      "22:\tlearn: 0.5959926\ttotal: 196ms\tremaining: 2.37s\n",
      "23:\tlearn: 0.5938205\ttotal: 207ms\tremaining: 2.38s\n",
      "24:\tlearn: 0.5918614\ttotal: 223ms\tremaining: 2.45s\n",
      "25:\tlearn: 0.5897064\ttotal: 236ms\tremaining: 2.48s\n",
      "26:\tlearn: 0.5878312\ttotal: 245ms\tremaining: 2.47s\n",
      "27:\tlearn: 0.5856134\ttotal: 257ms\tremaining: 2.5s\n",
      "28:\tlearn: 0.5838766\ttotal: 266ms\tremaining: 2.48s\n",
      "29:\tlearn: 0.5822644\ttotal: 275ms\tremaining: 2.47s\n",
      "30:\tlearn: 0.5803615\ttotal: 283ms\tremaining: 2.46s\n",
      "31:\tlearn: 0.5788572\ttotal: 292ms\tremaining: 2.44s\n",
      "32:\tlearn: 0.5772022\ttotal: 300ms\tremaining: 2.43s\n",
      "33:\tlearn: 0.5747866\ttotal: 309ms\tremaining: 2.42s\n",
      "34:\tlearn: 0.5727623\ttotal: 318ms\tremaining: 2.41s\n",
      "35:\tlearn: 0.5713080\ttotal: 327ms\tremaining: 2.4s\n",
      "36:\tlearn: 0.5700001\ttotal: 335ms\tremaining: 2.38s\n",
      "37:\tlearn: 0.5682099\ttotal: 344ms\tremaining: 2.37s\n",
      "38:\tlearn: 0.5653033\ttotal: 353ms\tremaining: 2.36s\n",
      "39:\tlearn: 0.5641205\ttotal: 361ms\tremaining: 2.35s\n",
      "40:\tlearn: 0.5620107\ttotal: 370ms\tremaining: 2.34s\n",
      "41:\tlearn: 0.5602137\ttotal: 383ms\tremaining: 2.35s\n",
      "42:\tlearn: 0.5585491\ttotal: 391ms\tremaining: 2.34s\n",
      "43:\tlearn: 0.5568365\ttotal: 400ms\tremaining: 2.33s\n",
      "44:\tlearn: 0.5555478\ttotal: 411ms\tremaining: 2.33s\n",
      "45:\tlearn: 0.5539578\ttotal: 420ms\tremaining: 2.32s\n",
      "46:\tlearn: 0.5528632\ttotal: 433ms\tremaining: 2.33s\n",
      "47:\tlearn: 0.5513916\ttotal: 444ms\tremaining: 2.33s\n",
      "48:\tlearn: 0.5505981\ttotal: 453ms\tremaining: 2.32s\n",
      "49:\tlearn: 0.5494342\ttotal: 461ms\tremaining: 2.31s\n",
      "50:\tlearn: 0.5477591\ttotal: 470ms\tremaining: 2.29s\n",
      "51:\tlearn: 0.5464042\ttotal: 478ms\tremaining: 2.28s\n",
      "52:\tlearn: 0.5451874\ttotal: 487ms\tremaining: 2.27s\n",
      "53:\tlearn: 0.5439845\ttotal: 495ms\tremaining: 2.25s\n",
      "54:\tlearn: 0.5432613\ttotal: 504ms\tremaining: 2.24s\n",
      "55:\tlearn: 0.5415865\ttotal: 512ms\tremaining: 2.23s\n",
      "56:\tlearn: 0.5403285\ttotal: 521ms\tremaining: 2.22s\n",
      "57:\tlearn: 0.5395867\ttotal: 529ms\tremaining: 2.21s\n",
      "58:\tlearn: 0.5385791\ttotal: 539ms\tremaining: 2.2s\n",
      "59:\tlearn: 0.5373067\ttotal: 551ms\tremaining: 2.2s\n",
      "60:\tlearn: 0.5360413\ttotal: 560ms\tremaining: 2.19s\n",
      "61:\tlearn: 0.5344845\ttotal: 568ms\tremaining: 2.18s\n",
      "62:\tlearn: 0.5334729\ttotal: 577ms\tremaining: 2.17s\n",
      "63:\tlearn: 0.5324315\ttotal: 586ms\tremaining: 2.16s\n",
      "64:\tlearn: 0.5312319\ttotal: 594ms\tremaining: 2.15s\n",
      "65:\tlearn: 0.5299980\ttotal: 602ms\tremaining: 2.14s\n",
      "66:\tlearn: 0.5281673\ttotal: 616ms\tremaining: 2.14s\n",
      "67:\tlearn: 0.5269445\ttotal: 624ms\tremaining: 2.13s\n",
      "68:\tlearn: 0.5256868\ttotal: 633ms\tremaining: 2.12s\n",
      "69:\tlearn: 0.5249634\ttotal: 642ms\tremaining: 2.11s\n",
      "70:\tlearn: 0.5239073\ttotal: 650ms\tremaining: 2.1s\n",
      "71:\tlearn: 0.5230003\ttotal: 660ms\tremaining: 2.09s\n",
      "72:\tlearn: 0.5222278\ttotal: 670ms\tremaining: 2.08s\n",
      "73:\tlearn: 0.5211274\ttotal: 680ms\tremaining: 2.08s\n",
      "74:\tlearn: 0.5203602\ttotal: 689ms\tremaining: 2.07s\n",
      "75:\tlearn: 0.5191810\ttotal: 698ms\tremaining: 2.06s\n",
      "76:\tlearn: 0.5177335\ttotal: 706ms\tremaining: 2.04s\n",
      "77:\tlearn: 0.5164432\ttotal: 715ms\tremaining: 2.03s\n",
      "78:\tlearn: 0.5152540\ttotal: 723ms\tremaining: 2.02s\n",
      "79:\tlearn: 0.5141275\ttotal: 732ms\tremaining: 2.01s\n",
      "80:\tlearn: 0.5129834\ttotal: 741ms\tremaining: 2s\n",
      "81:\tlearn: 0.5120271\ttotal: 749ms\tremaining: 1.99s\n",
      "82:\tlearn: 0.5110587\ttotal: 758ms\tremaining: 1.98s\n",
      "83:\tlearn: 0.5100645\ttotal: 767ms\tremaining: 1.97s\n",
      "84:\tlearn: 0.5092143\ttotal: 775ms\tremaining: 1.96s\n",
      "85:\tlearn: 0.5082416\ttotal: 784ms\tremaining: 1.95s\n",
      "86:\tlearn: 0.5069864\ttotal: 793ms\tremaining: 1.94s\n",
      "87:\tlearn: 0.5060961\ttotal: 803ms\tremaining: 1.93s\n",
      "88:\tlearn: 0.5050282\ttotal: 814ms\tremaining: 1.93s\n",
      "89:\tlearn: 0.5038340\ttotal: 824ms\tremaining: 1.92s\n",
      "90:\tlearn: 0.5025822\ttotal: 833ms\tremaining: 1.91s\n",
      "91:\tlearn: 0.5015750\ttotal: 842ms\tremaining: 1.9s\n",
      "92:\tlearn: 0.5004044\ttotal: 850ms\tremaining: 1.89s\n",
      "93:\tlearn: 0.4993329\ttotal: 859ms\tremaining: 1.88s\n",
      "94:\tlearn: 0.4982551\ttotal: 868ms\tremaining: 1.87s\n",
      "95:\tlearn: 0.4973447\ttotal: 877ms\tremaining: 1.86s\n",
      "96:\tlearn: 0.4960539\ttotal: 885ms\tremaining: 1.85s\n",
      "97:\tlearn: 0.4946405\ttotal: 894ms\tremaining: 1.84s\n",
      "98:\tlearn: 0.4937485\ttotal: 903ms\tremaining: 1.83s\n",
      "99:\tlearn: 0.4926644\ttotal: 911ms\tremaining: 1.82s\n",
      "100:\tlearn: 0.4916317\ttotal: 920ms\tremaining: 1.81s\n",
      "101:\tlearn: 0.4905411\ttotal: 928ms\tremaining: 1.8s\n",
      "102:\tlearn: 0.4894175\ttotal: 937ms\tremaining: 1.79s\n",
      "103:\tlearn: 0.4885465\ttotal: 946ms\tremaining: 1.78s\n",
      "104:\tlearn: 0.4873408\ttotal: 954ms\tremaining: 1.77s\n",
      "105:\tlearn: 0.4864586\ttotal: 963ms\tremaining: 1.76s\n",
      "106:\tlearn: 0.4854277\ttotal: 971ms\tremaining: 1.75s\n",
      "107:\tlearn: 0.4829532\ttotal: 980ms\tremaining: 1.74s\n",
      "108:\tlearn: 0.4816642\ttotal: 989ms\tremaining: 1.73s\n",
      "109:\tlearn: 0.4808495\ttotal: 998ms\tremaining: 1.72s\n",
      "110:\tlearn: 0.4794972\ttotal: 1.01s\tremaining: 1.71s\n",
      "111:\tlearn: 0.4783436\ttotal: 1.02s\tremaining: 1.71s\n",
      "112:\tlearn: 0.4770304\ttotal: 1.03s\tremaining: 1.7s\n",
      "113:\tlearn: 0.4758585\ttotal: 1.04s\tremaining: 1.69s\n",
      "114:\tlearn: 0.4749779\ttotal: 1.05s\tremaining: 1.68s\n",
      "115:\tlearn: 0.4739027\ttotal: 1.05s\tremaining: 1.67s\n",
      "116:\tlearn: 0.4726242\ttotal: 1.06s\tremaining: 1.66s\n",
      "117:\tlearn: 0.4718761\ttotal: 1.07s\tremaining: 1.65s\n",
      "118:\tlearn: 0.4710587\ttotal: 1.08s\tremaining: 1.64s\n",
      "119:\tlearn: 0.4695971\ttotal: 1.09s\tremaining: 1.64s\n",
      "120:\tlearn: 0.4687737\ttotal: 1.1s\tremaining: 1.62s\n",
      "121:\tlearn: 0.4673437\ttotal: 1.11s\tremaining: 1.61s\n",
      "122:\tlearn: 0.4663388\ttotal: 1.11s\tremaining: 1.6s\n",
      "123:\tlearn: 0.4653212\ttotal: 1.12s\tremaining: 1.59s\n",
      "124:\tlearn: 0.4642732\ttotal: 1.13s\tremaining: 1.59s\n",
      "125:\tlearn: 0.4628883\ttotal: 1.14s\tremaining: 1.58s\n",
      "126:\tlearn: 0.4619376\ttotal: 1.15s\tremaining: 1.57s\n",
      "127:\tlearn: 0.4607868\ttotal: 1.16s\tremaining: 1.56s\n",
      "128:\tlearn: 0.4599386\ttotal: 1.17s\tremaining: 1.55s\n",
      "129:\tlearn: 0.4591665\ttotal: 1.18s\tremaining: 1.55s\n",
      "130:\tlearn: 0.4578971\ttotal: 1.19s\tremaining: 1.54s\n",
      "131:\tlearn: 0.4563577\ttotal: 1.2s\tremaining: 1.53s\n",
      "132:\tlearn: 0.4556190\ttotal: 1.21s\tremaining: 1.52s\n",
      "133:\tlearn: 0.4548116\ttotal: 1.23s\tremaining: 1.53s\n",
      "134:\tlearn: 0.4543080\ttotal: 1.24s\tremaining: 1.52s\n",
      "135:\tlearn: 0.4535598\ttotal: 1.25s\tremaining: 1.51s\n",
      "136:\tlearn: 0.4527563\ttotal: 1.26s\tremaining: 1.5s\n",
      "137:\tlearn: 0.4517954\ttotal: 1.27s\tremaining: 1.49s\n",
      "138:\tlearn: 0.4510411\ttotal: 1.28s\tremaining: 1.48s\n",
      "139:\tlearn: 0.4501244\ttotal: 1.29s\tremaining: 1.47s\n",
      "140:\tlearn: 0.4496855\ttotal: 1.29s\tremaining: 1.46s\n",
      "141:\tlearn: 0.4492239\ttotal: 1.3s\tremaining: 1.45s\n",
      "142:\tlearn: 0.4483906\ttotal: 1.31s\tremaining: 1.44s\n",
      "143:\tlearn: 0.4475574\ttotal: 1.32s\tremaining: 1.43s\n",
      "144:\tlearn: 0.4466302\ttotal: 1.33s\tremaining: 1.42s\n",
      "145:\tlearn: 0.4455645\ttotal: 1.34s\tremaining: 1.41s\n",
      "146:\tlearn: 0.4442918\ttotal: 1.35s\tremaining: 1.4s\n",
      "147:\tlearn: 0.4436818\ttotal: 1.35s\tremaining: 1.39s\n",
      "148:\tlearn: 0.4430983\ttotal: 1.36s\tremaining: 1.38s\n",
      "149:\tlearn: 0.4426725\ttotal: 1.37s\tremaining: 1.37s\n",
      "150:\tlearn: 0.4419546\ttotal: 1.38s\tremaining: 1.36s\n",
      "151:\tlearn: 0.4410844\ttotal: 1.39s\tremaining: 1.35s\n",
      "152:\tlearn: 0.4404860\ttotal: 1.4s\tremaining: 1.34s\n",
      "153:\tlearn: 0.4397183\ttotal: 1.41s\tremaining: 1.33s\n",
      "154:\tlearn: 0.4388915\ttotal: 1.42s\tremaining: 1.33s\n",
      "155:\tlearn: 0.4382071\ttotal: 1.44s\tremaining: 1.33s\n",
      "156:\tlearn: 0.4375024\ttotal: 1.45s\tremaining: 1.32s\n",
      "157:\tlearn: 0.4368135\ttotal: 1.45s\tremaining: 1.31s\n",
      "158:\tlearn: 0.4360930\ttotal: 1.46s\tremaining: 1.3s\n",
      "159:\tlearn: 0.4356735\ttotal: 1.47s\tremaining: 1.29s\n",
      "160:\tlearn: 0.4349065\ttotal: 1.48s\tremaining: 1.28s\n",
      "161:\tlearn: 0.4344339\ttotal: 1.49s\tremaining: 1.27s\n",
      "162:\tlearn: 0.4336642\ttotal: 1.5s\tremaining: 1.26s\n",
      "163:\tlearn: 0.4332073\ttotal: 1.5s\tremaining: 1.25s\n",
      "164:\tlearn: 0.4324659\ttotal: 1.51s\tremaining: 1.24s\n",
      "165:\tlearn: 0.4317736\ttotal: 1.52s\tremaining: 1.23s\n",
      "166:\tlearn: 0.4314849\ttotal: 1.53s\tremaining: 1.22s\n",
      "167:\tlearn: 0.4305036\ttotal: 1.54s\tremaining: 1.21s\n",
      "168:\tlearn: 0.4298593\ttotal: 1.55s\tremaining: 1.2s\n",
      "169:\tlearn: 0.4288227\ttotal: 1.56s\tremaining: 1.19s\n",
      "170:\tlearn: 0.4279341\ttotal: 1.57s\tremaining: 1.18s\n",
      "171:\tlearn: 0.4269685\ttotal: 1.57s\tremaining: 1.17s\n",
      "172:\tlearn: 0.4265202\ttotal: 1.58s\tremaining: 1.16s\n",
      "173:\tlearn: 0.4258271\ttotal: 1.59s\tremaining: 1.15s\n",
      "174:\tlearn: 0.4253455\ttotal: 1.6s\tremaining: 1.14s\n",
      "175:\tlearn: 0.4245728\ttotal: 1.61s\tremaining: 1.14s\n",
      "176:\tlearn: 0.4239822\ttotal: 1.62s\tremaining: 1.13s\n",
      "177:\tlearn: 0.4232631\ttotal: 1.63s\tremaining: 1.12s\n",
      "178:\tlearn: 0.4226459\ttotal: 1.65s\tremaining: 1.11s\n",
      "179:\tlearn: 0.4220857\ttotal: 1.66s\tremaining: 1.1s\n",
      "180:\tlearn: 0.4213163\ttotal: 1.67s\tremaining: 1.09s\n",
      "181:\tlearn: 0.4210328\ttotal: 1.67s\tremaining: 1.08s\n",
      "182:\tlearn: 0.4205950\ttotal: 1.68s\tremaining: 1.07s\n",
      "183:\tlearn: 0.4201276\ttotal: 1.69s\tremaining: 1.06s\n",
      "184:\tlearn: 0.4194201\ttotal: 1.7s\tremaining: 1.06s\n",
      "185:\tlearn: 0.4190455\ttotal: 1.71s\tremaining: 1.05s\n",
      "186:\tlearn: 0.4183996\ttotal: 1.72s\tremaining: 1.04s\n",
      "187:\tlearn: 0.4180203\ttotal: 1.73s\tremaining: 1.03s\n",
      "188:\tlearn: 0.4171938\ttotal: 1.73s\tremaining: 1.02s\n",
      "189:\tlearn: 0.4164744\ttotal: 1.74s\tremaining: 1.01s\n",
      "190:\tlearn: 0.4158990\ttotal: 1.75s\tremaining: 999ms\n",
      "191:\tlearn: 0.4157082\ttotal: 1.76s\tremaining: 990ms\n",
      "192:\tlearn: 0.4149603\ttotal: 1.77s\tremaining: 980ms\n",
      "193:\tlearn: 0.4142486\ttotal: 1.78s\tremaining: 971ms\n",
      "194:\tlearn: 0.4134787\ttotal: 1.79s\tremaining: 962ms\n",
      "195:\tlearn: 0.4126830\ttotal: 1.79s\tremaining: 952ms\n",
      "196:\tlearn: 0.4119636\ttotal: 1.8s\tremaining: 943ms\n",
      "197:\tlearn: 0.4117120\ttotal: 1.81s\tremaining: 934ms\n",
      "198:\tlearn: 0.4114055\ttotal: 1.82s\tremaining: 924ms\n",
      "199:\tlearn: 0.4105284\ttotal: 1.83s\tremaining: 915ms\n",
      "200:\tlearn: 0.4100354\ttotal: 1.84s\tremaining: 905ms\n",
      "201:\tlearn: 0.4094317\ttotal: 1.85s\tremaining: 898ms\n",
      "202:\tlearn: 0.4089907\ttotal: 1.86s\tremaining: 889ms\n",
      "203:\tlearn: 0.4081196\ttotal: 1.87s\tremaining: 879ms\n",
      "204:\tlearn: 0.4076863\ttotal: 1.88s\tremaining: 870ms\n",
      "205:\tlearn: 0.4070247\ttotal: 1.89s\tremaining: 862ms\n",
      "206:\tlearn: 0.4064091\ttotal: 1.9s\tremaining: 853ms\n",
      "207:\tlearn: 0.4058325\ttotal: 1.91s\tremaining: 845ms\n",
      "208:\tlearn: 0.4052792\ttotal: 1.92s\tremaining: 836ms\n",
      "209:\tlearn: 0.4046834\ttotal: 1.93s\tremaining: 826ms\n",
      "210:\tlearn: 0.4042734\ttotal: 1.94s\tremaining: 817ms\n",
      "211:\tlearn: 0.4036533\ttotal: 1.94s\tremaining: 807ms\n",
      "212:\tlearn: 0.4030694\ttotal: 1.95s\tremaining: 798ms\n",
      "213:\tlearn: 0.4027692\ttotal: 1.96s\tremaining: 788ms\n",
      "214:\tlearn: 0.4022312\ttotal: 1.97s\tremaining: 779ms\n",
      "215:\tlearn: 0.4017838\ttotal: 1.98s\tremaining: 769ms\n",
      "216:\tlearn: 0.4011487\ttotal: 1.99s\tremaining: 760ms\n",
      "217:\tlearn: 0.4003390\ttotal: 2s\tremaining: 751ms\n",
      "218:\tlearn: 0.4000137\ttotal: 2s\tremaining: 742ms\n",
      "219:\tlearn: 0.3998206\ttotal: 2.01s\tremaining: 732ms\n",
      "220:\tlearn: 0.3994365\ttotal: 2.02s\tremaining: 723ms\n",
      "221:\tlearn: 0.3992437\ttotal: 2.03s\tremaining: 714ms\n",
      "222:\tlearn: 0.3987041\ttotal: 2.04s\tremaining: 704ms\n",
      "223:\tlearn: 0.3979187\ttotal: 2.05s\tremaining: 695ms\n",
      "224:\tlearn: 0.3972353\ttotal: 2.06s\tremaining: 687ms\n",
      "225:\tlearn: 0.3970637\ttotal: 2.07s\tremaining: 677ms\n",
      "226:\tlearn: 0.3967780\ttotal: 2.08s\tremaining: 668ms\n",
      "227:\tlearn: 0.3962433\ttotal: 2.09s\tremaining: 659ms\n",
      "228:\tlearn: 0.3958984\ttotal: 2.1s\tremaining: 650ms\n",
      "229:\tlearn: 0.3954840\ttotal: 2.1s\tremaining: 640ms\n",
      "230:\tlearn: 0.3950042\ttotal: 2.11s\tremaining: 631ms\n",
      "231:\tlearn: 0.3948270\ttotal: 2.12s\tremaining: 622ms\n",
      "232:\tlearn: 0.3943646\ttotal: 2.13s\tremaining: 613ms\n",
      "233:\tlearn: 0.3942447\ttotal: 2.14s\tremaining: 603ms\n",
      "234:\tlearn: 0.3939965\ttotal: 2.15s\tremaining: 594ms\n",
      "235:\tlearn: 0.3932844\ttotal: 2.16s\tremaining: 585ms\n",
      "236:\tlearn: 0.3928801\ttotal: 2.16s\tremaining: 575ms\n",
      "237:\tlearn: 0.3926009\ttotal: 2.17s\tremaining: 566ms\n",
      "238:\tlearn: 0.3921342\ttotal: 2.18s\tremaining: 557ms\n",
      "239:\tlearn: 0.3914383\ttotal: 2.19s\tremaining: 548ms\n",
      "240:\tlearn: 0.3908458\ttotal: 2.2s\tremaining: 538ms\n",
      "241:\tlearn: 0.3905154\ttotal: 2.21s\tremaining: 529ms\n",
      "242:\tlearn: 0.3897845\ttotal: 2.22s\tremaining: 520ms\n",
      "243:\tlearn: 0.3893105\ttotal: 2.23s\tremaining: 511ms\n",
      "244:\tlearn: 0.3890441\ttotal: 2.24s\tremaining: 502ms\n",
      "245:\tlearn: 0.3887897\ttotal: 2.25s\tremaining: 493ms\n",
      "246:\tlearn: 0.3880941\ttotal: 2.26s\tremaining: 484ms\n",
      "247:\tlearn: 0.3877149\ttotal: 2.27s\tremaining: 475ms\n",
      "248:\tlearn: 0.3871556\ttotal: 2.27s\tremaining: 466ms\n",
      "249:\tlearn: 0.3865045\ttotal: 2.28s\tremaining: 456ms\n",
      "250:\tlearn: 0.3862549\ttotal: 2.29s\tremaining: 447ms\n",
      "251:\tlearn: 0.3858491\ttotal: 2.3s\tremaining: 438ms\n",
      "252:\tlearn: 0.3856503\ttotal: 2.31s\tremaining: 429ms\n",
      "253:\tlearn: 0.3853390\ttotal: 2.32s\tremaining: 420ms\n",
      "254:\tlearn: 0.3848708\ttotal: 2.33s\tremaining: 410ms\n",
      "255:\tlearn: 0.3844252\ttotal: 2.33s\tremaining: 401ms\n",
      "256:\tlearn: 0.3841992\ttotal: 2.34s\tremaining: 392ms\n",
      "257:\tlearn: 0.3835670\ttotal: 2.35s\tremaining: 383ms\n",
      "258:\tlearn: 0.3831942\ttotal: 2.36s\tremaining: 374ms\n",
      "259:\tlearn: 0.3826797\ttotal: 2.37s\tremaining: 364ms\n",
      "260:\tlearn: 0.3825296\ttotal: 2.38s\tremaining: 355ms\n",
      "261:\tlearn: 0.3819125\ttotal: 2.39s\tremaining: 346ms\n",
      "262:\tlearn: 0.3817864\ttotal: 2.4s\tremaining: 337ms\n",
      "263:\tlearn: 0.3815412\ttotal: 2.41s\tremaining: 328ms\n",
      "264:\tlearn: 0.3811726\ttotal: 2.42s\tremaining: 319ms\n",
      "265:\tlearn: 0.3807716\ttotal: 2.43s\tremaining: 310ms\n",
      "266:\tlearn: 0.3803417\ttotal: 2.43s\tremaining: 301ms\n",
      "267:\tlearn: 0.3798689\ttotal: 2.44s\tremaining: 292ms\n",
      "268:\tlearn: 0.3792419\ttotal: 2.45s\tremaining: 283ms\n",
      "269:\tlearn: 0.3785111\ttotal: 2.46s\tremaining: 274ms\n",
      "270:\tlearn: 0.3781150\ttotal: 2.47s\tremaining: 264ms\n",
      "271:\tlearn: 0.3778297\ttotal: 2.48s\tremaining: 255ms\n",
      "272:\tlearn: 0.3773086\ttotal: 2.49s\tremaining: 246ms\n",
      "273:\tlearn: 0.3768796\ttotal: 2.5s\tremaining: 237ms\n",
      "274:\tlearn: 0.3763208\ttotal: 2.5s\tremaining: 228ms\n",
      "275:\tlearn: 0.3758553\ttotal: 2.51s\tremaining: 219ms\n",
      "276:\tlearn: 0.3757030\ttotal: 2.52s\tremaining: 209ms\n",
      "277:\tlearn: 0.3751308\ttotal: 2.53s\tremaining: 200ms\n",
      "278:\tlearn: 0.3746036\ttotal: 2.54s\tremaining: 191ms\n",
      "279:\tlearn: 0.3743757\ttotal: 2.55s\tremaining: 182ms\n",
      "280:\tlearn: 0.3738999\ttotal: 2.56s\tremaining: 173ms\n",
      "281:\tlearn: 0.3737475\ttotal: 2.56s\tremaining: 164ms\n",
      "282:\tlearn: 0.3731741\ttotal: 2.57s\tremaining: 155ms\n",
      "283:\tlearn: 0.3728600\ttotal: 2.59s\tremaining: 146ms\n",
      "284:\tlearn: 0.3726119\ttotal: 2.6s\tremaining: 137ms\n",
      "285:\tlearn: 0.3724266\ttotal: 2.61s\tremaining: 128ms\n",
      "286:\tlearn: 0.3721777\ttotal: 2.62s\tremaining: 119ms\n",
      "287:\tlearn: 0.3716476\ttotal: 2.63s\tremaining: 109ms\n",
      "288:\tlearn: 0.3713196\ttotal: 2.63s\tremaining: 100ms\n",
      "289:\tlearn: 0.3709895\ttotal: 2.64s\tremaining: 91.2ms\n",
      "290:\tlearn: 0.3705686\ttotal: 2.65s\tremaining: 82.1ms\n",
      "291:\tlearn: 0.3699238\ttotal: 2.66s\tremaining: 73ms\n",
      "292:\tlearn: 0.3693991\ttotal: 2.67s\tremaining: 63.8ms\n",
      "293:\tlearn: 0.3692578\ttotal: 2.68s\tremaining: 54.7ms\n",
      "294:\tlearn: 0.3688613\ttotal: 2.69s\tremaining: 45.6ms\n",
      "295:\tlearn: 0.3684651\ttotal: 2.7s\tremaining: 36.5ms\n",
      "296:\tlearn: 0.3681107\ttotal: 2.71s\tremaining: 27.4ms\n",
      "297:\tlearn: 0.3677777\ttotal: 2.72s\tremaining: 18.2ms\n",
      "298:\tlearn: 0.3676209\ttotal: 2.73s\tremaining: 9.11ms\n",
      "299:\tlearn: 0.3674214\ttotal: 2.73s\tremaining: 0us\n",
      "0:\tlearn: 0.6837521\ttotal: 8.91ms\tremaining: 2.67s\n",
      "1:\tlearn: 0.6760123\ttotal: 17.7ms\tremaining: 2.63s\n",
      "2:\tlearn: 0.6676496\ttotal: 26.5ms\tremaining: 2.63s\n",
      "3:\tlearn: 0.6625600\ttotal: 35.5ms\tremaining: 2.63s\n",
      "4:\tlearn: 0.6558724\ttotal: 44ms\tremaining: 2.59s\n",
      "5:\tlearn: 0.6497348\ttotal: 52.7ms\tremaining: 2.58s\n",
      "6:\tlearn: 0.6466379\ttotal: 61.3ms\tremaining: 2.56s\n",
      "7:\tlearn: 0.6428862\ttotal: 69.9ms\tremaining: 2.55s\n",
      "8:\tlearn: 0.6376189\ttotal: 79.5ms\tremaining: 2.57s\n",
      "9:\tlearn: 0.6345320\ttotal: 89ms\tremaining: 2.58s\n",
      "10:\tlearn: 0.6313099\ttotal: 98ms\tremaining: 2.58s\n",
      "11:\tlearn: 0.6277826\ttotal: 107ms\tremaining: 2.56s\n",
      "12:\tlearn: 0.6232370\ttotal: 116ms\tremaining: 2.55s\n",
      "13:\tlearn: 0.6189079\ttotal: 124ms\tremaining: 2.54s\n",
      "14:\tlearn: 0.6156799\ttotal: 133ms\tremaining: 2.53s\n",
      "15:\tlearn: 0.6126980\ttotal: 142ms\tremaining: 2.53s\n",
      "16:\tlearn: 0.6094303\ttotal: 151ms\tremaining: 2.52s\n",
      "17:\tlearn: 0.6057069\ttotal: 160ms\tremaining: 2.51s\n",
      "18:\tlearn: 0.6032355\ttotal: 169ms\tremaining: 2.5s\n",
      "19:\tlearn: 0.6010001\ttotal: 178ms\tremaining: 2.5s\n",
      "20:\tlearn: 0.5981702\ttotal: 187ms\tremaining: 2.48s\n",
      "21:\tlearn: 0.5956185\ttotal: 196ms\tremaining: 2.47s\n",
      "22:\tlearn: 0.5938459\ttotal: 205ms\tremaining: 2.47s\n",
      "23:\tlearn: 0.5916510\ttotal: 220ms\tremaining: 2.53s\n",
      "24:\tlearn: 0.5883947\ttotal: 229ms\tremaining: 2.52s\n",
      "25:\tlearn: 0.5860183\ttotal: 238ms\tremaining: 2.51s\n",
      "26:\tlearn: 0.5829859\ttotal: 247ms\tremaining: 2.49s\n",
      "27:\tlearn: 0.5811794\ttotal: 255ms\tremaining: 2.48s\n",
      "28:\tlearn: 0.5794879\ttotal: 264ms\tremaining: 2.47s\n",
      "29:\tlearn: 0.5773315\ttotal: 274ms\tremaining: 2.47s\n",
      "30:\tlearn: 0.5766683\ttotal: 278ms\tremaining: 2.41s\n",
      "31:\tlearn: 0.5744420\ttotal: 287ms\tremaining: 2.4s\n",
      "32:\tlearn: 0.5710526\ttotal: 296ms\tremaining: 2.39s\n",
      "33:\tlearn: 0.5689068\ttotal: 304ms\tremaining: 2.38s\n",
      "34:\tlearn: 0.5670949\ttotal: 313ms\tremaining: 2.37s\n",
      "35:\tlearn: 0.5645831\ttotal: 322ms\tremaining: 2.36s\n",
      "36:\tlearn: 0.5624215\ttotal: 331ms\tremaining: 2.35s\n",
      "37:\tlearn: 0.5605378\ttotal: 339ms\tremaining: 2.34s\n",
      "38:\tlearn: 0.5580905\ttotal: 348ms\tremaining: 2.33s\n",
      "39:\tlearn: 0.5564487\ttotal: 357ms\tremaining: 2.32s\n",
      "40:\tlearn: 0.5548631\ttotal: 366ms\tremaining: 2.31s\n",
      "41:\tlearn: 0.5533243\ttotal: 375ms\tremaining: 2.3s\n",
      "42:\tlearn: 0.5520146\ttotal: 383ms\tremaining: 2.29s\n",
      "43:\tlearn: 0.5502318\ttotal: 392ms\tremaining: 2.28s\n",
      "44:\tlearn: 0.5483702\ttotal: 401ms\tremaining: 2.27s\n",
      "45:\tlearn: 0.5470020\ttotal: 412ms\tremaining: 2.27s\n",
      "46:\tlearn: 0.5458214\ttotal: 421ms\tremaining: 2.27s\n",
      "47:\tlearn: 0.5446757\ttotal: 430ms\tremaining: 2.25s\n",
      "48:\tlearn: 0.5430933\ttotal: 438ms\tremaining: 2.25s\n",
      "49:\tlearn: 0.5415653\ttotal: 447ms\tremaining: 2.24s\n",
      "50:\tlearn: 0.5398955\ttotal: 456ms\tremaining: 2.23s\n",
      "51:\tlearn: 0.5383867\ttotal: 465ms\tremaining: 2.22s\n",
      "52:\tlearn: 0.5366205\ttotal: 474ms\tremaining: 2.21s\n",
      "53:\tlearn: 0.5353007\ttotal: 482ms\tremaining: 2.2s\n",
      "54:\tlearn: 0.5343352\ttotal: 491ms\tremaining: 2.19s\n",
      "55:\tlearn: 0.5328301\ttotal: 500ms\tremaining: 2.18s\n",
      "56:\tlearn: 0.5317297\ttotal: 508ms\tremaining: 2.17s\n",
      "57:\tlearn: 0.5303822\ttotal: 517ms\tremaining: 2.16s\n",
      "58:\tlearn: 0.5290851\ttotal: 526ms\tremaining: 2.15s\n",
      "59:\tlearn: 0.5281650\ttotal: 535ms\tremaining: 2.14s\n",
      "60:\tlearn: 0.5269316\ttotal: 543ms\tremaining: 2.13s\n",
      "61:\tlearn: 0.5253722\ttotal: 552ms\tremaining: 2.12s\n",
      "62:\tlearn: 0.5238386\ttotal: 563ms\tremaining: 2.12s\n",
      "63:\tlearn: 0.5224682\ttotal: 575ms\tremaining: 2.12s\n",
      "64:\tlearn: 0.5211771\ttotal: 584ms\tremaining: 2.11s\n",
      "65:\tlearn: 0.5201023\ttotal: 593ms\tremaining: 2.1s\n",
      "66:\tlearn: 0.5186515\ttotal: 602ms\tremaining: 2.09s\n",
      "67:\tlearn: 0.5170090\ttotal: 616ms\tremaining: 2.1s\n",
      "68:\tlearn: 0.5158691\ttotal: 625ms\tremaining: 2.09s\n",
      "69:\tlearn: 0.5151569\ttotal: 634ms\tremaining: 2.08s\n",
      "70:\tlearn: 0.5142427\ttotal: 643ms\tremaining: 2.07s\n",
      "71:\tlearn: 0.5132502\ttotal: 651ms\tremaining: 2.06s\n",
      "72:\tlearn: 0.5122236\ttotal: 660ms\tremaining: 2.05s\n",
      "73:\tlearn: 0.5112379\ttotal: 669ms\tremaining: 2.04s\n",
      "74:\tlearn: 0.5092575\ttotal: 678ms\tremaining: 2.03s\n",
      "75:\tlearn: 0.5078546\ttotal: 686ms\tremaining: 2.02s\n",
      "76:\tlearn: 0.5067338\ttotal: 695ms\tremaining: 2.01s\n",
      "77:\tlearn: 0.5054326\ttotal: 711ms\tremaining: 2.02s\n",
      "78:\tlearn: 0.5044085\ttotal: 719ms\tremaining: 2.01s\n",
      "79:\tlearn: 0.5030869\ttotal: 728ms\tremaining: 2s\n",
      "80:\tlearn: 0.5018553\ttotal: 737ms\tremaining: 1.99s\n",
      "81:\tlearn: 0.5005056\ttotal: 746ms\tremaining: 1.98s\n",
      "82:\tlearn: 0.4995097\ttotal: 755ms\tremaining: 1.97s\n",
      "83:\tlearn: 0.4985832\ttotal: 764ms\tremaining: 1.96s\n",
      "84:\tlearn: 0.4974570\ttotal: 772ms\tremaining: 1.95s\n",
      "85:\tlearn: 0.4959295\ttotal: 781ms\tremaining: 1.94s\n",
      "86:\tlearn: 0.4946705\ttotal: 790ms\tremaining: 1.93s\n",
      "87:\tlearn: 0.4937284\ttotal: 798ms\tremaining: 1.92s\n",
      "88:\tlearn: 0.4926000\ttotal: 807ms\tremaining: 1.91s\n",
      "89:\tlearn: 0.4917035\ttotal: 821ms\tremaining: 1.91s\n",
      "90:\tlearn: 0.4905967\ttotal: 830ms\tremaining: 1.91s\n",
      "91:\tlearn: 0.4895911\ttotal: 838ms\tremaining: 1.9s\n",
      "92:\tlearn: 0.4883519\ttotal: 847ms\tremaining: 1.88s\n",
      "93:\tlearn: 0.4866698\ttotal: 855ms\tremaining: 1.87s\n",
      "94:\tlearn: 0.4858343\ttotal: 864ms\tremaining: 1.86s\n",
      "95:\tlearn: 0.4848701\ttotal: 874ms\tremaining: 1.86s\n",
      "96:\tlearn: 0.4835787\ttotal: 883ms\tremaining: 1.85s\n",
      "97:\tlearn: 0.4823266\ttotal: 892ms\tremaining: 1.84s\n",
      "98:\tlearn: 0.4812228\ttotal: 901ms\tremaining: 1.83s\n",
      "99:\tlearn: 0.4798252\ttotal: 910ms\tremaining: 1.82s\n",
      "100:\tlearn: 0.4787022\ttotal: 919ms\tremaining: 1.81s\n",
      "101:\tlearn: 0.4773700\ttotal: 929ms\tremaining: 1.8s\n",
      "102:\tlearn: 0.4763706\ttotal: 938ms\tremaining: 1.79s\n",
      "103:\tlearn: 0.4751964\ttotal: 948ms\tremaining: 1.79s\n",
      "104:\tlearn: 0.4740722\ttotal: 960ms\tremaining: 1.78s\n",
      "105:\tlearn: 0.4730495\ttotal: 970ms\tremaining: 1.77s\n",
      "106:\tlearn: 0.4719640\ttotal: 979ms\tremaining: 1.76s\n",
      "107:\tlearn: 0.4705182\ttotal: 987ms\tremaining: 1.75s\n",
      "108:\tlearn: 0.4693649\ttotal: 996ms\tremaining: 1.74s\n",
      "109:\tlearn: 0.4679065\ttotal: 1s\tremaining: 1.73s\n",
      "110:\tlearn: 0.4669545\ttotal: 1.01s\tremaining: 1.72s\n",
      "111:\tlearn: 0.4655108\ttotal: 1.02s\tremaining: 1.72s\n",
      "112:\tlearn: 0.4643256\ttotal: 1.03s\tremaining: 1.71s\n",
      "113:\tlearn: 0.4632757\ttotal: 1.04s\tremaining: 1.7s\n",
      "114:\tlearn: 0.4622930\ttotal: 1.05s\tremaining: 1.69s\n",
      "115:\tlearn: 0.4614954\ttotal: 1.06s\tremaining: 1.68s\n",
      "116:\tlearn: 0.4605998\ttotal: 1.07s\tremaining: 1.67s\n",
      "117:\tlearn: 0.4595024\ttotal: 1.08s\tremaining: 1.66s\n",
      "118:\tlearn: 0.4583616\ttotal: 1.09s\tremaining: 1.65s\n",
      "119:\tlearn: 0.4570167\ttotal: 1.09s\tremaining: 1.64s\n",
      "120:\tlearn: 0.4558165\ttotal: 1.1s\tremaining: 1.63s\n",
      "121:\tlearn: 0.4544944\ttotal: 1.11s\tremaining: 1.62s\n",
      "122:\tlearn: 0.4532029\ttotal: 1.12s\tremaining: 1.61s\n",
      "123:\tlearn: 0.4524769\ttotal: 1.13s\tremaining: 1.6s\n",
      "124:\tlearn: 0.4515210\ttotal: 1.14s\tremaining: 1.59s\n",
      "125:\tlearn: 0.4504475\ttotal: 1.15s\tremaining: 1.59s\n",
      "126:\tlearn: 0.4493257\ttotal: 1.16s\tremaining: 1.58s\n",
      "127:\tlearn: 0.4484747\ttotal: 1.17s\tremaining: 1.57s\n",
      "128:\tlearn: 0.4477690\ttotal: 1.18s\tremaining: 1.56s\n",
      "129:\tlearn: 0.4468034\ttotal: 1.18s\tremaining: 1.55s\n",
      "130:\tlearn: 0.4458104\ttotal: 1.19s\tremaining: 1.54s\n",
      "131:\tlearn: 0.4451718\ttotal: 1.2s\tremaining: 1.53s\n",
      "132:\tlearn: 0.4443341\ttotal: 1.21s\tremaining: 1.52s\n",
      "133:\tlearn: 0.4433315\ttotal: 1.22s\tremaining: 1.51s\n",
      "134:\tlearn: 0.4425193\ttotal: 1.23s\tremaining: 1.5s\n",
      "135:\tlearn: 0.4417750\ttotal: 1.24s\tremaining: 1.5s\n",
      "136:\tlearn: 0.4405425\ttotal: 1.25s\tremaining: 1.49s\n",
      "137:\tlearn: 0.4397423\ttotal: 1.26s\tremaining: 1.48s\n",
      "138:\tlearn: 0.4390590\ttotal: 1.27s\tremaining: 1.47s\n",
      "139:\tlearn: 0.4382517\ttotal: 1.28s\tremaining: 1.46s\n",
      "140:\tlearn: 0.4372558\ttotal: 1.29s\tremaining: 1.45s\n",
      "141:\tlearn: 0.4361888\ttotal: 1.29s\tremaining: 1.44s\n",
      "142:\tlearn: 0.4352894\ttotal: 1.3s\tremaining: 1.43s\n",
      "143:\tlearn: 0.4342493\ttotal: 1.31s\tremaining: 1.42s\n",
      "144:\tlearn: 0.4332710\ttotal: 1.32s\tremaining: 1.41s\n",
      "145:\tlearn: 0.4327644\ttotal: 1.33s\tremaining: 1.4s\n",
      "146:\tlearn: 0.4318409\ttotal: 1.34s\tremaining: 1.39s\n",
      "147:\tlearn: 0.4305060\ttotal: 1.35s\tremaining: 1.39s\n",
      "148:\tlearn: 0.4297680\ttotal: 1.36s\tremaining: 1.38s\n",
      "149:\tlearn: 0.4290469\ttotal: 1.37s\tremaining: 1.37s\n",
      "150:\tlearn: 0.4280412\ttotal: 1.38s\tremaining: 1.36s\n",
      "151:\tlearn: 0.4270653\ttotal: 1.38s\tremaining: 1.35s\n",
      "152:\tlearn: 0.4262921\ttotal: 1.39s\tremaining: 1.34s\n",
      "153:\tlearn: 0.4257221\ttotal: 1.4s\tremaining: 1.33s\n",
      "154:\tlearn: 0.4250469\ttotal: 1.41s\tremaining: 1.32s\n",
      "155:\tlearn: 0.4241929\ttotal: 1.42s\tremaining: 1.31s\n",
      "156:\tlearn: 0.4234561\ttotal: 1.43s\tremaining: 1.3s\n",
      "157:\tlearn: 0.4229979\ttotal: 1.44s\tremaining: 1.29s\n",
      "158:\tlearn: 0.4221478\ttotal: 1.45s\tremaining: 1.28s\n",
      "159:\tlearn: 0.4213228\ttotal: 1.46s\tremaining: 1.27s\n",
      "160:\tlearn: 0.4207229\ttotal: 1.46s\tremaining: 1.26s\n",
      "161:\tlearn: 0.4200228\ttotal: 1.47s\tremaining: 1.25s\n",
      "162:\tlearn: 0.4192594\ttotal: 1.48s\tremaining: 1.25s\n",
      "163:\tlearn: 0.4183820\ttotal: 1.49s\tremaining: 1.24s\n",
      "164:\tlearn: 0.4178700\ttotal: 1.5s\tremaining: 1.23s\n",
      "165:\tlearn: 0.4173540\ttotal: 1.51s\tremaining: 1.22s\n",
      "166:\tlearn: 0.4166834\ttotal: 1.51s\tremaining: 1.21s\n",
      "167:\tlearn: 0.4160221\ttotal: 1.52s\tremaining: 1.2s\n",
      "168:\tlearn: 0.4149396\ttotal: 1.53s\tremaining: 1.19s\n",
      "169:\tlearn: 0.4143371\ttotal: 1.54s\tremaining: 1.18s\n",
      "170:\tlearn: 0.4135670\ttotal: 1.55s\tremaining: 1.17s\n",
      "171:\tlearn: 0.4130970\ttotal: 1.56s\tremaining: 1.16s\n",
      "172:\tlearn: 0.4124609\ttotal: 1.57s\tremaining: 1.15s\n",
      "173:\tlearn: 0.4117525\ttotal: 1.58s\tremaining: 1.14s\n",
      "174:\tlearn: 0.4109124\ttotal: 1.58s\tremaining: 1.13s\n",
      "175:\tlearn: 0.4099718\ttotal: 1.59s\tremaining: 1.12s\n",
      "176:\tlearn: 0.4092540\ttotal: 1.6s\tremaining: 1.11s\n",
      "177:\tlearn: 0.4087249\ttotal: 1.61s\tremaining: 1.1s\n",
      "178:\tlearn: 0.4078485\ttotal: 1.62s\tremaining: 1.09s\n",
      "179:\tlearn: 0.4072634\ttotal: 1.63s\tremaining: 1.08s\n",
      "180:\tlearn: 0.4064656\ttotal: 1.64s\tremaining: 1.08s\n",
      "181:\tlearn: 0.4057169\ttotal: 1.65s\tremaining: 1.07s\n",
      "182:\tlearn: 0.4053629\ttotal: 1.66s\tremaining: 1.06s\n",
      "183:\tlearn: 0.4044235\ttotal: 1.67s\tremaining: 1.05s\n",
      "184:\tlearn: 0.4036864\ttotal: 1.68s\tremaining: 1.04s\n",
      "185:\tlearn: 0.4034654\ttotal: 1.7s\tremaining: 1.04s\n",
      "186:\tlearn: 0.4030752\ttotal: 1.7s\tremaining: 1.03s\n",
      "187:\tlearn: 0.4023329\ttotal: 1.71s\tremaining: 1.02s\n",
      "188:\tlearn: 0.4017534\ttotal: 1.72s\tremaining: 1.01s\n",
      "189:\tlearn: 0.4011977\ttotal: 1.73s\tremaining: 1s\n",
      "190:\tlearn: 0.4006084\ttotal: 1.74s\tremaining: 993ms\n",
      "191:\tlearn: 0.3999256\ttotal: 1.75s\tremaining: 983ms\n",
      "192:\tlearn: 0.3994183\ttotal: 1.76s\tremaining: 974ms\n",
      "193:\tlearn: 0.3985927\ttotal: 1.76s\tremaining: 965ms\n",
      "194:\tlearn: 0.3977136\ttotal: 1.77s\tremaining: 956ms\n",
      "195:\tlearn: 0.3974307\ttotal: 1.78s\tremaining: 946ms\n",
      "196:\tlearn: 0.3970427\ttotal: 1.79s\tremaining: 937ms\n",
      "197:\tlearn: 0.3965598\ttotal: 1.8s\tremaining: 928ms\n",
      "198:\tlearn: 0.3960618\ttotal: 1.81s\tremaining: 918ms\n",
      "199:\tlearn: 0.3955410\ttotal: 1.82s\tremaining: 909ms\n",
      "200:\tlearn: 0.3949153\ttotal: 1.83s\tremaining: 900ms\n",
      "201:\tlearn: 0.3942572\ttotal: 1.84s\tremaining: 892ms\n",
      "202:\tlearn: 0.3937203\ttotal: 1.85s\tremaining: 883ms\n",
      "203:\tlearn: 0.3931457\ttotal: 1.86s\tremaining: 875ms\n",
      "204:\tlearn: 0.3924919\ttotal: 1.87s\tremaining: 866ms\n",
      "205:\tlearn: 0.3919572\ttotal: 1.88s\tremaining: 857ms\n",
      "206:\tlearn: 0.3911227\ttotal: 1.89s\tremaining: 848ms\n",
      "207:\tlearn: 0.3906482\ttotal: 1.9s\tremaining: 839ms\n",
      "208:\tlearn: 0.3901393\ttotal: 1.91s\tremaining: 830ms\n",
      "209:\tlearn: 0.3898358\ttotal: 1.91s\tremaining: 820ms\n",
      "210:\tlearn: 0.3892153\ttotal: 1.92s\tremaining: 811ms\n",
      "211:\tlearn: 0.3885058\ttotal: 1.93s\tremaining: 802ms\n",
      "212:\tlearn: 0.3883304\ttotal: 1.94s\tremaining: 793ms\n",
      "213:\tlearn: 0.3877659\ttotal: 1.95s\tremaining: 784ms\n",
      "214:\tlearn: 0.3871330\ttotal: 1.96s\tremaining: 775ms\n",
      "215:\tlearn: 0.3867826\ttotal: 1.97s\tremaining: 765ms\n",
      "216:\tlearn: 0.3864923\ttotal: 1.98s\tremaining: 756ms\n",
      "217:\tlearn: 0.3862996\ttotal: 1.99s\tremaining: 747ms\n",
      "218:\tlearn: 0.3860661\ttotal: 1.99s\tremaining: 738ms\n",
      "219:\tlearn: 0.3853329\ttotal: 2s\tremaining: 728ms\n",
      "220:\tlearn: 0.3849693\ttotal: 2.01s\tremaining: 719ms\n",
      "221:\tlearn: 0.3843058\ttotal: 2.02s\tremaining: 711ms\n",
      "222:\tlearn: 0.3839032\ttotal: 2.04s\tremaining: 703ms\n",
      "223:\tlearn: 0.3834891\ttotal: 2.04s\tremaining: 694ms\n",
      "224:\tlearn: 0.3828364\ttotal: 2.05s\tremaining: 685ms\n",
      "225:\tlearn: 0.3824215\ttotal: 2.06s\tremaining: 675ms\n",
      "226:\tlearn: 0.3815765\ttotal: 2.07s\tremaining: 666ms\n",
      "227:\tlearn: 0.3812973\ttotal: 2.08s\tremaining: 657ms\n",
      "228:\tlearn: 0.3806756\ttotal: 2.09s\tremaining: 648ms\n",
      "229:\tlearn: 0.3801482\ttotal: 2.1s\tremaining: 639ms\n",
      "230:\tlearn: 0.3795593\ttotal: 2.11s\tremaining: 630ms\n",
      "231:\tlearn: 0.3789262\ttotal: 2.12s\tremaining: 620ms\n",
      "232:\tlearn: 0.3783091\ttotal: 2.13s\tremaining: 611ms\n",
      "233:\tlearn: 0.3777576\ttotal: 2.13s\tremaining: 602ms\n",
      "234:\tlearn: 0.3769420\ttotal: 2.14s\tremaining: 593ms\n",
      "235:\tlearn: 0.3763944\ttotal: 2.15s\tremaining: 584ms\n",
      "236:\tlearn: 0.3759972\ttotal: 2.16s\tremaining: 574ms\n",
      "237:\tlearn: 0.3754928\ttotal: 2.17s\tremaining: 565ms\n",
      "238:\tlearn: 0.3752138\ttotal: 2.18s\tremaining: 556ms\n",
      "239:\tlearn: 0.3748687\ttotal: 2.19s\tremaining: 547ms\n",
      "240:\tlearn: 0.3742894\ttotal: 2.2s\tremaining: 538ms\n",
      "241:\tlearn: 0.3736629\ttotal: 2.2s\tremaining: 528ms\n",
      "242:\tlearn: 0.3730935\ttotal: 2.21s\tremaining: 519ms\n",
      "243:\tlearn: 0.3726553\ttotal: 2.22s\tremaining: 510ms\n",
      "244:\tlearn: 0.3724957\ttotal: 2.23s\tremaining: 501ms\n",
      "245:\tlearn: 0.3719272\ttotal: 2.24s\tremaining: 492ms\n",
      "246:\tlearn: 0.3714019\ttotal: 2.25s\tremaining: 483ms\n",
      "247:\tlearn: 0.3711977\ttotal: 2.26s\tremaining: 474ms\n",
      "248:\tlearn: 0.3709627\ttotal: 2.27s\tremaining: 465ms\n",
      "249:\tlearn: 0.3706879\ttotal: 2.28s\tremaining: 455ms\n",
      "250:\tlearn: 0.3703469\ttotal: 2.29s\tremaining: 446ms\n",
      "251:\tlearn: 0.3697798\ttotal: 2.29s\tremaining: 437ms\n",
      "252:\tlearn: 0.3692827\ttotal: 2.3s\tremaining: 428ms\n",
      "253:\tlearn: 0.3688525\ttotal: 2.31s\tremaining: 419ms\n",
      "254:\tlearn: 0.3687129\ttotal: 2.32s\tremaining: 410ms\n",
      "255:\tlearn: 0.3685324\ttotal: 2.33s\tremaining: 401ms\n",
      "256:\tlearn: 0.3678463\ttotal: 2.34s\tremaining: 391ms\n",
      "257:\tlearn: 0.3673778\ttotal: 2.35s\tremaining: 382ms\n",
      "258:\tlearn: 0.3669844\ttotal: 2.36s\tremaining: 374ms\n",
      "259:\tlearn: 0.3666763\ttotal: 2.37s\tremaining: 365ms\n",
      "260:\tlearn: 0.3659704\ttotal: 2.38s\tremaining: 356ms\n",
      "261:\tlearn: 0.3655618\ttotal: 2.39s\tremaining: 347ms\n",
      "262:\tlearn: 0.3654025\ttotal: 2.4s\tremaining: 338ms\n",
      "263:\tlearn: 0.3649614\ttotal: 2.41s\tremaining: 329ms\n",
      "264:\tlearn: 0.3644060\ttotal: 2.42s\tremaining: 320ms\n",
      "265:\tlearn: 0.3636850\ttotal: 2.43s\tremaining: 311ms\n",
      "266:\tlearn: 0.3631534\ttotal: 2.44s\tremaining: 302ms\n",
      "267:\tlearn: 0.3627278\ttotal: 2.45s\tremaining: 293ms\n",
      "268:\tlearn: 0.3624851\ttotal: 2.46s\tremaining: 284ms\n",
      "269:\tlearn: 0.3618691\ttotal: 2.47s\tremaining: 275ms\n",
      "270:\tlearn: 0.3615459\ttotal: 2.48s\tremaining: 266ms\n",
      "271:\tlearn: 0.3613938\ttotal: 2.49s\tremaining: 256ms\n",
      "272:\tlearn: 0.3610403\ttotal: 2.5s\tremaining: 247ms\n",
      "273:\tlearn: 0.3608308\ttotal: 2.51s\tremaining: 238ms\n",
      "274:\tlearn: 0.3603223\ttotal: 2.52s\tremaining: 229ms\n",
      "275:\tlearn: 0.3599744\ttotal: 2.52s\tremaining: 220ms\n",
      "276:\tlearn: 0.3593811\ttotal: 2.53s\tremaining: 210ms\n",
      "277:\tlearn: 0.3589341\ttotal: 2.54s\tremaining: 201ms\n",
      "278:\tlearn: 0.3585111\ttotal: 2.55s\tremaining: 192ms\n",
      "279:\tlearn: 0.3581699\ttotal: 2.56s\tremaining: 183ms\n",
      "280:\tlearn: 0.3577621\ttotal: 2.57s\tremaining: 174ms\n",
      "281:\tlearn: 0.3573160\ttotal: 2.58s\tremaining: 165ms\n",
      "282:\tlearn: 0.3568944\ttotal: 2.59s\tremaining: 155ms\n",
      "283:\tlearn: 0.3565368\ttotal: 2.6s\tremaining: 146ms\n",
      "284:\tlearn: 0.3562719\ttotal: 2.6s\tremaining: 137ms\n",
      "285:\tlearn: 0.3561307\ttotal: 2.61s\tremaining: 128ms\n",
      "286:\tlearn: 0.3556550\ttotal: 2.62s\tremaining: 119ms\n",
      "287:\tlearn: 0.3551913\ttotal: 2.63s\tremaining: 110ms\n",
      "288:\tlearn: 0.3547507\ttotal: 2.64s\tremaining: 100ms\n",
      "289:\tlearn: 0.3543320\ttotal: 2.65s\tremaining: 91.5ms\n",
      "290:\tlearn: 0.3541153\ttotal: 2.66s\tremaining: 82.3ms\n",
      "291:\tlearn: 0.3538373\ttotal: 2.68s\tremaining: 73.5ms\n",
      "292:\tlearn: 0.3536177\ttotal: 2.69s\tremaining: 64.3ms\n",
      "293:\tlearn: 0.3530856\ttotal: 2.7s\tremaining: 55.1ms\n",
      "294:\tlearn: 0.3528813\ttotal: 2.71s\tremaining: 45.9ms\n",
      "295:\tlearn: 0.3525418\ttotal: 2.72s\tremaining: 36.8ms\n",
      "296:\tlearn: 0.3522743\ttotal: 2.73s\tremaining: 27.6ms\n",
      "297:\tlearn: 0.3521252\ttotal: 2.74s\tremaining: 18.4ms\n",
      "298:\tlearn: 0.3519236\ttotal: 2.75s\tremaining: 9.18ms\n",
      "299:\tlearn: 0.3516291\ttotal: 2.75s\tremaining: 0us\n",
      "0:\tlearn: 0.6840507\ttotal: 9.28ms\tremaining: 2.77s\n",
      "1:\tlearn: 0.6765935\ttotal: 18.3ms\tremaining: 2.73s\n",
      "2:\tlearn: 0.6687532\ttotal: 27.5ms\tremaining: 2.72s\n",
      "3:\tlearn: 0.6635521\ttotal: 36.1ms\tremaining: 2.67s\n",
      "4:\tlearn: 0.6585901\ttotal: 44.9ms\tremaining: 2.65s\n",
      "5:\tlearn: 0.6542739\ttotal: 54.4ms\tremaining: 2.66s\n",
      "6:\tlearn: 0.6502687\ttotal: 63.9ms\tremaining: 2.67s\n",
      "7:\tlearn: 0.6463037\ttotal: 73.5ms\tremaining: 2.68s\n",
      "8:\tlearn: 0.6433306\ttotal: 83.5ms\tremaining: 2.7s\n",
      "9:\tlearn: 0.6398971\ttotal: 92.9ms\tremaining: 2.69s\n",
      "10:\tlearn: 0.6347425\ttotal: 102ms\tremaining: 2.67s\n",
      "11:\tlearn: 0.6307347\ttotal: 110ms\tremaining: 2.65s\n",
      "12:\tlearn: 0.6272042\ttotal: 119ms\tremaining: 2.63s\n",
      "13:\tlearn: 0.6228674\ttotal: 128ms\tremaining: 2.61s\n",
      "14:\tlearn: 0.6202966\ttotal: 137ms\tremaining: 2.6s\n",
      "15:\tlearn: 0.6175874\ttotal: 145ms\tremaining: 2.58s\n",
      "16:\tlearn: 0.6147640\ttotal: 154ms\tremaining: 2.56s\n",
      "17:\tlearn: 0.6126800\ttotal: 163ms\tremaining: 2.55s\n",
      "18:\tlearn: 0.6103820\ttotal: 171ms\tremaining: 2.53s\n",
      "19:\tlearn: 0.6087821\ttotal: 180ms\tremaining: 2.52s\n",
      "20:\tlearn: 0.6065236\ttotal: 189ms\tremaining: 2.52s\n",
      "21:\tlearn: 0.6048301\ttotal: 198ms\tremaining: 2.51s\n",
      "22:\tlearn: 0.6023996\ttotal: 214ms\tremaining: 2.58s\n",
      "23:\tlearn: 0.5997159\ttotal: 227ms\tremaining: 2.61s\n",
      "24:\tlearn: 0.5981636\ttotal: 235ms\tremaining: 2.59s\n",
      "25:\tlearn: 0.5960776\ttotal: 244ms\tremaining: 2.57s\n",
      "26:\tlearn: 0.5938020\ttotal: 253ms\tremaining: 2.56s\n",
      "27:\tlearn: 0.5918623\ttotal: 262ms\tremaining: 2.55s\n",
      "28:\tlearn: 0.5901364\ttotal: 271ms\tremaining: 2.53s\n",
      "29:\tlearn: 0.5882318\ttotal: 280ms\tremaining: 2.52s\n",
      "30:\tlearn: 0.5857688\ttotal: 288ms\tremaining: 2.5s\n",
      "31:\tlearn: 0.5839428\ttotal: 297ms\tremaining: 2.49s\n",
      "32:\tlearn: 0.5822616\ttotal: 306ms\tremaining: 2.47s\n",
      "33:\tlearn: 0.5801982\ttotal: 315ms\tremaining: 2.46s\n",
      "34:\tlearn: 0.5788472\ttotal: 323ms\tremaining: 2.45s\n",
      "35:\tlearn: 0.5767172\ttotal: 332ms\tremaining: 2.44s\n",
      "36:\tlearn: 0.5752182\ttotal: 341ms\tremaining: 2.42s\n",
      "37:\tlearn: 0.5739467\ttotal: 349ms\tremaining: 2.41s\n",
      "38:\tlearn: 0.5718301\ttotal: 358ms\tremaining: 2.4s\n",
      "39:\tlearn: 0.5708276\ttotal: 367ms\tremaining: 2.38s\n",
      "40:\tlearn: 0.5695249\ttotal: 375ms\tremaining: 2.37s\n",
      "41:\tlearn: 0.5677430\ttotal: 384ms\tremaining: 2.36s\n",
      "42:\tlearn: 0.5663086\ttotal: 392ms\tremaining: 2.35s\n",
      "43:\tlearn: 0.5654229\ttotal: 401ms\tremaining: 2.33s\n",
      "44:\tlearn: 0.5640376\ttotal: 410ms\tremaining: 2.32s\n",
      "45:\tlearn: 0.5629390\ttotal: 421ms\tremaining: 2.32s\n",
      "46:\tlearn: 0.5612536\ttotal: 430ms\tremaining: 2.31s\n",
      "47:\tlearn: 0.5602450\ttotal: 438ms\tremaining: 2.3s\n",
      "48:\tlearn: 0.5592291\ttotal: 448ms\tremaining: 2.3s\n",
      "49:\tlearn: 0.5579640\ttotal: 457ms\tremaining: 2.29s\n",
      "50:\tlearn: 0.5565305\ttotal: 466ms\tremaining: 2.28s\n",
      "51:\tlearn: 0.5551606\ttotal: 475ms\tremaining: 2.27s\n",
      "52:\tlearn: 0.5539311\ttotal: 484ms\tremaining: 2.26s\n",
      "53:\tlearn: 0.5519760\ttotal: 493ms\tremaining: 2.25s\n",
      "54:\tlearn: 0.5510578\ttotal: 502ms\tremaining: 2.23s\n",
      "55:\tlearn: 0.5496137\ttotal: 511ms\tremaining: 2.23s\n",
      "56:\tlearn: 0.5476508\ttotal: 520ms\tremaining: 2.21s\n",
      "57:\tlearn: 0.5464491\ttotal: 528ms\tremaining: 2.2s\n",
      "58:\tlearn: 0.5453903\ttotal: 537ms\tremaining: 2.19s\n",
      "59:\tlearn: 0.5442110\ttotal: 546ms\tremaining: 2.18s\n",
      "60:\tlearn: 0.5427641\ttotal: 555ms\tremaining: 2.17s\n",
      "61:\tlearn: 0.5411786\ttotal: 564ms\tremaining: 2.16s\n",
      "62:\tlearn: 0.5401126\ttotal: 573ms\tremaining: 2.15s\n",
      "63:\tlearn: 0.5390399\ttotal: 581ms\tremaining: 2.14s\n",
      "64:\tlearn: 0.5379599\ttotal: 590ms\tremaining: 2.13s\n",
      "65:\tlearn: 0.5369701\ttotal: 599ms\tremaining: 2.12s\n",
      "66:\tlearn: 0.5356019\ttotal: 607ms\tremaining: 2.11s\n",
      "67:\tlearn: 0.5345841\ttotal: 622ms\tremaining: 2.12s\n",
      "68:\tlearn: 0.5335312\ttotal: 632ms\tremaining: 2.12s\n",
      "69:\tlearn: 0.5323738\ttotal: 641ms\tremaining: 2.1s\n",
      "70:\tlearn: 0.5312702\ttotal: 650ms\tremaining: 2.1s\n",
      "71:\tlearn: 0.5301969\ttotal: 658ms\tremaining: 2.08s\n",
      "72:\tlearn: 0.5290214\ttotal: 667ms\tremaining: 2.08s\n",
      "73:\tlearn: 0.5276073\ttotal: 678ms\tremaining: 2.07s\n",
      "74:\tlearn: 0.5265166\ttotal: 686ms\tremaining: 2.06s\n",
      "75:\tlearn: 0.5254857\ttotal: 695ms\tremaining: 2.05s\n",
      "76:\tlearn: 0.5243576\ttotal: 704ms\tremaining: 2.04s\n",
      "77:\tlearn: 0.5232064\ttotal: 712ms\tremaining: 2.03s\n",
      "78:\tlearn: 0.5221641\ttotal: 721ms\tremaining: 2.02s\n",
      "79:\tlearn: 0.5204816\ttotal: 730ms\tremaining: 2.01s\n",
      "80:\tlearn: 0.5195703\ttotal: 739ms\tremaining: 2s\n",
      "81:\tlearn: 0.5181943\ttotal: 748ms\tremaining: 1.99s\n",
      "82:\tlearn: 0.5170609\ttotal: 756ms\tremaining: 1.98s\n",
      "83:\tlearn: 0.5157477\ttotal: 765ms\tremaining: 1.97s\n",
      "84:\tlearn: 0.5147694\ttotal: 773ms\tremaining: 1.96s\n",
      "85:\tlearn: 0.5137148\ttotal: 782ms\tremaining: 1.95s\n",
      "86:\tlearn: 0.5128898\ttotal: 791ms\tremaining: 1.94s\n",
      "87:\tlearn: 0.5118674\ttotal: 800ms\tremaining: 1.93s\n",
      "88:\tlearn: 0.5108588\ttotal: 809ms\tremaining: 1.92s\n",
      "89:\tlearn: 0.5096014\ttotal: 817ms\tremaining: 1.91s\n",
      "90:\tlearn: 0.5084502\ttotal: 828ms\tremaining: 1.9s\n",
      "91:\tlearn: 0.5073320\ttotal: 837ms\tremaining: 1.89s\n",
      "92:\tlearn: 0.5065553\ttotal: 845ms\tremaining: 1.88s\n",
      "93:\tlearn: 0.5054721\ttotal: 853ms\tremaining: 1.87s\n",
      "94:\tlearn: 0.5043751\ttotal: 862ms\tremaining: 1.86s\n",
      "95:\tlearn: 0.5034606\ttotal: 870ms\tremaining: 1.85s\n",
      "96:\tlearn: 0.5026795\ttotal: 879ms\tremaining: 1.84s\n",
      "97:\tlearn: 0.5015772\ttotal: 887ms\tremaining: 1.83s\n",
      "98:\tlearn: 0.5003494\ttotal: 895ms\tremaining: 1.82s\n",
      "99:\tlearn: 0.4992721\ttotal: 904ms\tremaining: 1.81s\n",
      "100:\tlearn: 0.4982176\ttotal: 913ms\tremaining: 1.8s\n",
      "101:\tlearn: 0.4967545\ttotal: 931ms\tremaining: 1.81s\n",
      "102:\tlearn: 0.4956282\ttotal: 940ms\tremaining: 1.8s\n",
      "103:\tlearn: 0.4943010\ttotal: 948ms\tremaining: 1.79s\n",
      "104:\tlearn: 0.4934051\ttotal: 956ms\tremaining: 1.77s\n",
      "105:\tlearn: 0.4921185\ttotal: 965ms\tremaining: 1.76s\n",
      "106:\tlearn: 0.4906140\ttotal: 973ms\tremaining: 1.75s\n",
      "107:\tlearn: 0.4894878\ttotal: 982ms\tremaining: 1.75s\n",
      "108:\tlearn: 0.4882480\ttotal: 990ms\tremaining: 1.74s\n",
      "109:\tlearn: 0.4871859\ttotal: 999ms\tremaining: 1.73s\n",
      "110:\tlearn: 0.4860488\ttotal: 1.01s\tremaining: 1.72s\n",
      "111:\tlearn: 0.4849181\ttotal: 1.02s\tremaining: 1.71s\n",
      "112:\tlearn: 0.4839650\ttotal: 1.03s\tremaining: 1.7s\n",
      "113:\tlearn: 0.4821736\ttotal: 1.04s\tremaining: 1.7s\n",
      "114:\tlearn: 0.4810133\ttotal: 1.05s\tremaining: 1.69s\n",
      "115:\tlearn: 0.4800727\ttotal: 1.06s\tremaining: 1.68s\n",
      "116:\tlearn: 0.4789988\ttotal: 1.07s\tremaining: 1.67s\n",
      "117:\tlearn: 0.4776076\ttotal: 1.08s\tremaining: 1.67s\n",
      "118:\tlearn: 0.4766302\ttotal: 1.09s\tremaining: 1.66s\n",
      "119:\tlearn: 0.4757203\ttotal: 1.1s\tremaining: 1.65s\n",
      "120:\tlearn: 0.4747995\ttotal: 1.1s\tremaining: 1.64s\n",
      "121:\tlearn: 0.4740385\ttotal: 1.11s\tremaining: 1.63s\n",
      "122:\tlearn: 0.4731218\ttotal: 1.12s\tremaining: 1.61s\n",
      "123:\tlearn: 0.4718536\ttotal: 1.13s\tremaining: 1.6s\n",
      "124:\tlearn: 0.4708543\ttotal: 1.14s\tremaining: 1.59s\n",
      "125:\tlearn: 0.4697049\ttotal: 1.15s\tremaining: 1.58s\n",
      "126:\tlearn: 0.4685796\ttotal: 1.16s\tremaining: 1.57s\n",
      "127:\tlearn: 0.4675930\ttotal: 1.17s\tremaining: 1.57s\n",
      "128:\tlearn: 0.4661868\ttotal: 1.17s\tremaining: 1.56s\n",
      "129:\tlearn: 0.4653897\ttotal: 1.18s\tremaining: 1.55s\n",
      "130:\tlearn: 0.4645027\ttotal: 1.19s\tremaining: 1.54s\n",
      "131:\tlearn: 0.4638098\ttotal: 1.2s\tremaining: 1.53s\n",
      "132:\tlearn: 0.4627624\ttotal: 1.21s\tremaining: 1.52s\n",
      "133:\tlearn: 0.4620349\ttotal: 1.22s\tremaining: 1.51s\n",
      "134:\tlearn: 0.4613827\ttotal: 1.23s\tremaining: 1.5s\n",
      "135:\tlearn: 0.4604455\ttotal: 1.24s\tremaining: 1.49s\n",
      "136:\tlearn: 0.4591995\ttotal: 1.25s\tremaining: 1.48s\n",
      "137:\tlearn: 0.4583478\ttotal: 1.25s\tremaining: 1.47s\n",
      "138:\tlearn: 0.4574213\ttotal: 1.26s\tremaining: 1.46s\n",
      "139:\tlearn: 0.4565099\ttotal: 1.27s\tremaining: 1.45s\n",
      "140:\tlearn: 0.4557237\ttotal: 1.28s\tremaining: 1.45s\n",
      "141:\tlearn: 0.4551495\ttotal: 1.29s\tremaining: 1.44s\n",
      "142:\tlearn: 0.4541232\ttotal: 1.3s\tremaining: 1.43s\n",
      "143:\tlearn: 0.4532618\ttotal: 1.31s\tremaining: 1.42s\n",
      "144:\tlearn: 0.4524114\ttotal: 1.32s\tremaining: 1.41s\n",
      "145:\tlearn: 0.4515714\ttotal: 1.32s\tremaining: 1.4s\n",
      "146:\tlearn: 0.4507845\ttotal: 1.33s\tremaining: 1.39s\n",
      "147:\tlearn: 0.4499079\ttotal: 1.34s\tremaining: 1.38s\n",
      "148:\tlearn: 0.4493587\ttotal: 1.35s\tremaining: 1.37s\n",
      "149:\tlearn: 0.4484269\ttotal: 1.36s\tremaining: 1.36s\n",
      "150:\tlearn: 0.4477463\ttotal: 1.37s\tremaining: 1.35s\n",
      "151:\tlearn: 0.4469603\ttotal: 1.38s\tremaining: 1.34s\n",
      "152:\tlearn: 0.4464391\ttotal: 1.39s\tremaining: 1.33s\n",
      "153:\tlearn: 0.4459500\ttotal: 1.4s\tremaining: 1.32s\n",
      "154:\tlearn: 0.4451971\ttotal: 1.4s\tremaining: 1.31s\n",
      "155:\tlearn: 0.4443703\ttotal: 1.41s\tremaining: 1.3s\n",
      "156:\tlearn: 0.4435804\ttotal: 1.42s\tremaining: 1.3s\n",
      "157:\tlearn: 0.4430543\ttotal: 1.44s\tremaining: 1.29s\n",
      "158:\tlearn: 0.4414131\ttotal: 1.45s\tremaining: 1.28s\n",
      "159:\tlearn: 0.4407598\ttotal: 1.45s\tremaining: 1.27s\n",
      "160:\tlearn: 0.4400795\ttotal: 1.46s\tremaining: 1.26s\n",
      "161:\tlearn: 0.4395061\ttotal: 1.47s\tremaining: 1.25s\n",
      "162:\tlearn: 0.4386222\ttotal: 1.48s\tremaining: 1.24s\n",
      "163:\tlearn: 0.4379999\ttotal: 1.49s\tremaining: 1.23s\n",
      "164:\tlearn: 0.4370458\ttotal: 1.5s\tremaining: 1.22s\n",
      "165:\tlearn: 0.4364930\ttotal: 1.5s\tremaining: 1.21s\n",
      "166:\tlearn: 0.4355997\ttotal: 1.51s\tremaining: 1.21s\n",
      "167:\tlearn: 0.4351696\ttotal: 1.52s\tremaining: 1.2s\n",
      "168:\tlearn: 0.4347794\ttotal: 1.53s\tremaining: 1.19s\n",
      "169:\tlearn: 0.4341647\ttotal: 1.54s\tremaining: 1.18s\n",
      "170:\tlearn: 0.4335690\ttotal: 1.55s\tremaining: 1.17s\n",
      "171:\tlearn: 0.4328264\ttotal: 1.56s\tremaining: 1.16s\n",
      "172:\tlearn: 0.4321281\ttotal: 1.56s\tremaining: 1.15s\n",
      "173:\tlearn: 0.4312675\ttotal: 1.57s\tremaining: 1.14s\n",
      "174:\tlearn: 0.4309187\ttotal: 1.58s\tremaining: 1.13s\n",
      "175:\tlearn: 0.4301638\ttotal: 1.59s\tremaining: 1.12s\n",
      "176:\tlearn: 0.4293113\ttotal: 1.6s\tremaining: 1.11s\n",
      "177:\tlearn: 0.4287446\ttotal: 1.61s\tremaining: 1.1s\n",
      "178:\tlearn: 0.4280911\ttotal: 1.62s\tremaining: 1.09s\n",
      "179:\tlearn: 0.4277691\ttotal: 1.62s\tremaining: 1.08s\n",
      "180:\tlearn: 0.4276227\ttotal: 1.63s\tremaining: 1.07s\n",
      "181:\tlearn: 0.4270680\ttotal: 1.64s\tremaining: 1.06s\n",
      "182:\tlearn: 0.4262963\ttotal: 1.65s\tremaining: 1.06s\n",
      "183:\tlearn: 0.4254732\ttotal: 1.66s\tremaining: 1.05s\n",
      "184:\tlearn: 0.4250294\ttotal: 1.67s\tremaining: 1.04s\n",
      "185:\tlearn: 0.4241221\ttotal: 1.68s\tremaining: 1.03s\n",
      "186:\tlearn: 0.4237944\ttotal: 1.69s\tremaining: 1.02s\n",
      "187:\tlearn: 0.4230320\ttotal: 1.7s\tremaining: 1.01s\n",
      "188:\tlearn: 0.4221423\ttotal: 1.71s\tremaining: 1s\n",
      "189:\tlearn: 0.4212251\ttotal: 1.72s\tremaining: 997ms\n",
      "190:\tlearn: 0.4205056\ttotal: 1.73s\tremaining: 988ms\n",
      "191:\tlearn: 0.4197351\ttotal: 1.74s\tremaining: 979ms\n",
      "192:\tlearn: 0.4192489\ttotal: 1.75s\tremaining: 970ms\n",
      "193:\tlearn: 0.4185292\ttotal: 1.76s\tremaining: 961ms\n",
      "194:\tlearn: 0.4180319\ttotal: 1.77s\tremaining: 952ms\n",
      "195:\tlearn: 0.4173086\ttotal: 1.78s\tremaining: 942ms\n",
      "196:\tlearn: 0.4170154\ttotal: 1.78s\tremaining: 933ms\n",
      "197:\tlearn: 0.4167744\ttotal: 1.79s\tremaining: 924ms\n",
      "198:\tlearn: 0.4163406\ttotal: 1.8s\tremaining: 914ms\n",
      "199:\tlearn: 0.4159327\ttotal: 1.81s\tremaining: 905ms\n",
      "200:\tlearn: 0.4150780\ttotal: 1.82s\tremaining: 896ms\n",
      "201:\tlearn: 0.4145666\ttotal: 1.83s\tremaining: 886ms\n",
      "202:\tlearn: 0.4139559\ttotal: 1.84s\tremaining: 879ms\n",
      "203:\tlearn: 0.4134686\ttotal: 1.85s\tremaining: 870ms\n",
      "204:\tlearn: 0.4128530\ttotal: 1.86s\tremaining: 861ms\n",
      "205:\tlearn: 0.4120960\ttotal: 1.86s\tremaining: 851ms\n",
      "206:\tlearn: 0.4118034\ttotal: 1.87s\tremaining: 842ms\n",
      "207:\tlearn: 0.4111504\ttotal: 1.88s\tremaining: 833ms\n",
      "208:\tlearn: 0.4101141\ttotal: 1.89s\tremaining: 823ms\n",
      "209:\tlearn: 0.4093004\ttotal: 1.9s\tremaining: 814ms\n",
      "210:\tlearn: 0.4085674\ttotal: 1.92s\tremaining: 808ms\n",
      "211:\tlearn: 0.4081593\ttotal: 1.93s\tremaining: 799ms\n",
      "212:\tlearn: 0.4076481\ttotal: 1.93s\tremaining: 790ms\n",
      "213:\tlearn: 0.4070155\ttotal: 1.94s\tremaining: 781ms\n",
      "214:\tlearn: 0.4063628\ttotal: 1.95s\tremaining: 771ms\n",
      "215:\tlearn: 0.4060244\ttotal: 1.96s\tremaining: 762ms\n",
      "216:\tlearn: 0.4054093\ttotal: 1.97s\tremaining: 753ms\n",
      "217:\tlearn: 0.4052666\ttotal: 1.98s\tremaining: 744ms\n",
      "218:\tlearn: 0.4044962\ttotal: 1.99s\tremaining: 734ms\n",
      "219:\tlearn: 0.4038338\ttotal: 1.99s\tremaining: 725ms\n",
      "220:\tlearn: 0.4031514\ttotal: 2s\tremaining: 716ms\n",
      "221:\tlearn: 0.4027235\ttotal: 2.02s\tremaining: 710ms\n",
      "222:\tlearn: 0.4021971\ttotal: 2.04s\tremaining: 705ms\n",
      "223:\tlearn: 0.4018149\ttotal: 2.06s\tremaining: 699ms\n",
      "224:\tlearn: 0.4011811\ttotal: 2.07s\tremaining: 690ms\n",
      "225:\tlearn: 0.4006557\ttotal: 2.08s\tremaining: 680ms\n",
      "226:\tlearn: 0.3998647\ttotal: 2.09s\tremaining: 671ms\n",
      "227:\tlearn: 0.3995033\ttotal: 2.1s\tremaining: 662ms\n",
      "228:\tlearn: 0.3992201\ttotal: 2.11s\tremaining: 653ms\n",
      "229:\tlearn: 0.3987709\ttotal: 2.12s\tremaining: 644ms\n",
      "230:\tlearn: 0.3985859\ttotal: 2.12s\tremaining: 634ms\n",
      "231:\tlearn: 0.3979892\ttotal: 2.13s\tremaining: 625ms\n",
      "232:\tlearn: 0.3972863\ttotal: 2.14s\tremaining: 616ms\n",
      "233:\tlearn: 0.3968320\ttotal: 2.15s\tremaining: 606ms\n",
      "234:\tlearn: 0.3961679\ttotal: 2.16s\tremaining: 597ms\n",
      "235:\tlearn: 0.3960475\ttotal: 2.17s\tremaining: 588ms\n",
      "236:\tlearn: 0.3955172\ttotal: 2.18s\tremaining: 578ms\n",
      "237:\tlearn: 0.3948093\ttotal: 2.19s\tremaining: 570ms\n",
      "238:\tlearn: 0.3941112\ttotal: 2.2s\tremaining: 562ms\n",
      "239:\tlearn: 0.3937880\ttotal: 2.21s\tremaining: 552ms\n",
      "240:\tlearn: 0.3933485\ttotal: 2.22s\tremaining: 543ms\n",
      "241:\tlearn: 0.3926059\ttotal: 2.23s\tremaining: 534ms\n",
      "242:\tlearn: 0.3923712\ttotal: 2.23s\tremaining: 524ms\n",
      "243:\tlearn: 0.3921725\ttotal: 2.25s\tremaining: 516ms\n",
      "244:\tlearn: 0.3918136\ttotal: 2.26s\tremaining: 507ms\n",
      "245:\tlearn: 0.3912329\ttotal: 2.27s\tremaining: 498ms\n",
      "246:\tlearn: 0.3906357\ttotal: 2.28s\tremaining: 488ms\n",
      "247:\tlearn: 0.3902765\ttotal: 2.29s\tremaining: 479ms\n",
      "248:\tlearn: 0.3901258\ttotal: 2.29s\tremaining: 470ms\n",
      "249:\tlearn: 0.3894898\ttotal: 2.3s\tremaining: 461ms\n",
      "250:\tlearn: 0.3890041\ttotal: 2.31s\tremaining: 451ms\n",
      "251:\tlearn: 0.3883810\ttotal: 2.32s\tremaining: 442ms\n",
      "252:\tlearn: 0.3877578\ttotal: 2.33s\tremaining: 433ms\n",
      "253:\tlearn: 0.3871656\ttotal: 2.34s\tremaining: 423ms\n",
      "254:\tlearn: 0.3867144\ttotal: 2.35s\tremaining: 414ms\n",
      "255:\tlearn: 0.3863025\ttotal: 2.35s\tremaining: 405ms\n",
      "256:\tlearn: 0.3856321\ttotal: 2.36s\tremaining: 396ms\n",
      "257:\tlearn: 0.3853954\ttotal: 2.37s\tremaining: 386ms\n",
      "258:\tlearn: 0.3848607\ttotal: 2.38s\tremaining: 377ms\n",
      "259:\tlearn: 0.3844293\ttotal: 2.39s\tremaining: 368ms\n",
      "260:\tlearn: 0.3840025\ttotal: 2.4s\tremaining: 359ms\n",
      "261:\tlearn: 0.3836766\ttotal: 2.41s\tremaining: 350ms\n",
      "262:\tlearn: 0.3833666\ttotal: 2.42s\tremaining: 340ms\n",
      "263:\tlearn: 0.3831455\ttotal: 2.43s\tremaining: 331ms\n",
      "264:\tlearn: 0.3830101\ttotal: 2.44s\tremaining: 322ms\n",
      "265:\tlearn: 0.3824462\ttotal: 2.45s\tremaining: 313ms\n",
      "266:\tlearn: 0.3821363\ttotal: 2.46s\tremaining: 304ms\n",
      "267:\tlearn: 0.3819859\ttotal: 2.46s\tremaining: 294ms\n",
      "268:\tlearn: 0.3813754\ttotal: 2.47s\tremaining: 285ms\n",
      "269:\tlearn: 0.3811749\ttotal: 2.48s\tremaining: 276ms\n",
      "270:\tlearn: 0.3807541\ttotal: 2.49s\tremaining: 267ms\n",
      "271:\tlearn: 0.3803277\ttotal: 2.5s\tremaining: 258ms\n",
      "272:\tlearn: 0.3801741\ttotal: 2.51s\tremaining: 248ms\n",
      "273:\tlearn: 0.3799212\ttotal: 2.52s\tremaining: 239ms\n",
      "274:\tlearn: 0.3797752\ttotal: 2.53s\tremaining: 230ms\n",
      "275:\tlearn: 0.3793816\ttotal: 2.54s\tremaining: 221ms\n",
      "276:\tlearn: 0.3788244\ttotal: 2.55s\tremaining: 211ms\n",
      "277:\tlearn: 0.3784347\ttotal: 2.56s\tremaining: 202ms\n",
      "278:\tlearn: 0.3779789\ttotal: 2.56s\tremaining: 193ms\n",
      "279:\tlearn: 0.3774754\ttotal: 2.57s\tremaining: 184ms\n",
      "280:\tlearn: 0.3770149\ttotal: 2.58s\tremaining: 175ms\n",
      "281:\tlearn: 0.3767074\ttotal: 2.59s\tremaining: 165ms\n",
      "282:\tlearn: 0.3763988\ttotal: 2.6s\tremaining: 156ms\n",
      "283:\tlearn: 0.3758604\ttotal: 2.61s\tremaining: 147ms\n",
      "284:\tlearn: 0.3757407\ttotal: 2.62s\tremaining: 138ms\n",
      "285:\tlearn: 0.3751038\ttotal: 2.63s\tremaining: 129ms\n",
      "286:\tlearn: 0.3745486\ttotal: 2.64s\tremaining: 119ms\n",
      "287:\tlearn: 0.3744315\ttotal: 2.64s\tremaining: 110ms\n",
      "288:\tlearn: 0.3741169\ttotal: 2.65s\tremaining: 101ms\n",
      "289:\tlearn: 0.3739748\ttotal: 2.66s\tremaining: 91.9ms\n",
      "290:\tlearn: 0.3734522\ttotal: 2.67s\tremaining: 82.7ms\n",
      "291:\tlearn: 0.3728743\ttotal: 2.68s\tremaining: 73.5ms\n",
      "292:\tlearn: 0.3724985\ttotal: 2.69s\tremaining: 64.3ms\n",
      "293:\tlearn: 0.3720743\ttotal: 2.7s\tremaining: 55.1ms\n",
      "294:\tlearn: 0.3717757\ttotal: 2.71s\tremaining: 45.9ms\n",
      "295:\tlearn: 0.3713394\ttotal: 2.72s\tremaining: 36.7ms\n",
      "296:\tlearn: 0.3712144\ttotal: 2.73s\tremaining: 27.5ms\n",
      "297:\tlearn: 0.3710093\ttotal: 2.74s\tremaining: 18.4ms\n",
      "298:\tlearn: 0.3707956\ttotal: 2.75s\tremaining: 9.18ms\n",
      "299:\tlearn: 0.3702999\ttotal: 2.75s\tremaining: 0us\n",
      "0:\tlearn: 0.6825179\ttotal: 8.54ms\tremaining: 2.55s\n",
      "1:\tlearn: 0.6765087\ttotal: 17.6ms\tremaining: 2.62s\n",
      "2:\tlearn: 0.6703993\ttotal: 26ms\tremaining: 2.57s\n",
      "3:\tlearn: 0.6658235\ttotal: 34.6ms\tremaining: 2.56s\n",
      "4:\tlearn: 0.6606183\ttotal: 43ms\tremaining: 2.54s\n",
      "5:\tlearn: 0.6550733\ttotal: 52ms\tremaining: 2.55s\n",
      "6:\tlearn: 0.6502805\ttotal: 60.8ms\tremaining: 2.54s\n",
      "7:\tlearn: 0.6465324\ttotal: 69.6ms\tremaining: 2.54s\n",
      "8:\tlearn: 0.6437409\ttotal: 78.6ms\tremaining: 2.54s\n",
      "9:\tlearn: 0.6392559\ttotal: 87.5ms\tremaining: 2.54s\n",
      "10:\tlearn: 0.6351749\ttotal: 96.1ms\tremaining: 2.52s\n",
      "11:\tlearn: 0.6314188\ttotal: 105ms\tremaining: 2.52s\n",
      "12:\tlearn: 0.6284213\ttotal: 114ms\tremaining: 2.51s\n",
      "13:\tlearn: 0.6254299\ttotal: 127ms\tremaining: 2.6s\n",
      "14:\tlearn: 0.6220415\ttotal: 139ms\tremaining: 2.64s\n",
      "15:\tlearn: 0.6195900\ttotal: 148ms\tremaining: 2.63s\n",
      "16:\tlearn: 0.6154409\ttotal: 157ms\tremaining: 2.61s\n",
      "17:\tlearn: 0.6124816\ttotal: 166ms\tremaining: 2.6s\n",
      "18:\tlearn: 0.6098914\ttotal: 175ms\tremaining: 2.58s\n",
      "19:\tlearn: 0.6063945\ttotal: 184ms\tremaining: 2.57s\n",
      "20:\tlearn: 0.6033807\ttotal: 192ms\tremaining: 2.56s\n",
      "21:\tlearn: 0.5991430\ttotal: 202ms\tremaining: 2.55s\n",
      "22:\tlearn: 0.5961874\ttotal: 220ms\tremaining: 2.65s\n",
      "23:\tlearn: 0.5934217\ttotal: 237ms\tremaining: 2.73s\n",
      "24:\tlearn: 0.5912263\ttotal: 247ms\tremaining: 2.72s\n",
      "25:\tlearn: 0.5888246\ttotal: 256ms\tremaining: 2.7s\n",
      "26:\tlearn: 0.5869917\ttotal: 266ms\tremaining: 2.69s\n",
      "27:\tlearn: 0.5848939\ttotal: 275ms\tremaining: 2.67s\n",
      "28:\tlearn: 0.5828728\ttotal: 285ms\tremaining: 2.66s\n",
      "29:\tlearn: 0.5810635\ttotal: 294ms\tremaining: 2.64s\n",
      "30:\tlearn: 0.5786331\ttotal: 303ms\tremaining: 2.63s\n",
      "31:\tlearn: 0.5767047\ttotal: 311ms\tremaining: 2.61s\n",
      "32:\tlearn: 0.5749658\ttotal: 320ms\tremaining: 2.59s\n",
      "33:\tlearn: 0.5731721\ttotal: 329ms\tremaining: 2.57s\n",
      "34:\tlearn: 0.5714497\ttotal: 337ms\tremaining: 2.55s\n",
      "35:\tlearn: 0.5699002\ttotal: 346ms\tremaining: 2.54s\n",
      "36:\tlearn: 0.5682081\ttotal: 355ms\tremaining: 2.52s\n",
      "37:\tlearn: 0.5664797\ttotal: 363ms\tremaining: 2.5s\n",
      "38:\tlearn: 0.5650670\ttotal: 372ms\tremaining: 2.49s\n",
      "39:\tlearn: 0.5634876\ttotal: 380ms\tremaining: 2.47s\n",
      "40:\tlearn: 0.5619498\ttotal: 389ms\tremaining: 2.46s\n",
      "41:\tlearn: 0.5604770\ttotal: 397ms\tremaining: 2.44s\n",
      "42:\tlearn: 0.5591235\ttotal: 403ms\tremaining: 2.41s\n",
      "43:\tlearn: 0.5580956\ttotal: 411ms\tremaining: 2.39s\n",
      "44:\tlearn: 0.5572168\ttotal: 420ms\tremaining: 2.38s\n",
      "45:\tlearn: 0.5553503\ttotal: 431ms\tremaining: 2.38s\n",
      "46:\tlearn: 0.5537685\ttotal: 440ms\tremaining: 2.37s\n",
      "47:\tlearn: 0.5522185\ttotal: 448ms\tremaining: 2.35s\n",
      "48:\tlearn: 0.5511542\ttotal: 457ms\tremaining: 2.34s\n",
      "49:\tlearn: 0.5499137\ttotal: 465ms\tremaining: 2.33s\n",
      "50:\tlearn: 0.5486307\ttotal: 474ms\tremaining: 2.31s\n",
      "51:\tlearn: 0.5472324\ttotal: 483ms\tremaining: 2.3s\n",
      "52:\tlearn: 0.5460740\ttotal: 492ms\tremaining: 2.29s\n",
      "53:\tlearn: 0.5447749\ttotal: 500ms\tremaining: 2.28s\n",
      "54:\tlearn: 0.5438282\ttotal: 509ms\tremaining: 2.27s\n",
      "55:\tlearn: 0.5424074\ttotal: 517ms\tremaining: 2.25s\n",
      "56:\tlearn: 0.5412780\ttotal: 526ms\tremaining: 2.24s\n",
      "57:\tlearn: 0.5402099\ttotal: 535ms\tremaining: 2.23s\n",
      "58:\tlearn: 0.5390743\ttotal: 545ms\tremaining: 2.22s\n",
      "59:\tlearn: 0.5378491\ttotal: 553ms\tremaining: 2.21s\n",
      "60:\tlearn: 0.5368800\ttotal: 562ms\tremaining: 2.2s\n",
      "61:\tlearn: 0.5358899\ttotal: 570ms\tremaining: 2.19s\n",
      "62:\tlearn: 0.5345668\ttotal: 582ms\tremaining: 2.19s\n",
      "63:\tlearn: 0.5333522\ttotal: 591ms\tremaining: 2.18s\n",
      "64:\tlearn: 0.5317804\ttotal: 600ms\tremaining: 2.17s\n",
      "65:\tlearn: 0.5307625\ttotal: 608ms\tremaining: 2.16s\n",
      "66:\tlearn: 0.5295511\ttotal: 617ms\tremaining: 2.15s\n",
      "67:\tlearn: 0.5285835\ttotal: 626ms\tremaining: 2.13s\n",
      "68:\tlearn: 0.5275634\ttotal: 637ms\tremaining: 2.13s\n",
      "69:\tlearn: 0.5254733\ttotal: 646ms\tremaining: 2.12s\n",
      "70:\tlearn: 0.5244880\ttotal: 655ms\tremaining: 2.11s\n",
      "71:\tlearn: 0.5232927\ttotal: 663ms\tremaining: 2.1s\n",
      "72:\tlearn: 0.5224739\ttotal: 672ms\tremaining: 2.09s\n",
      "73:\tlearn: 0.5214423\ttotal: 681ms\tremaining: 2.08s\n",
      "74:\tlearn: 0.5204497\ttotal: 689ms\tremaining: 2.07s\n",
      "75:\tlearn: 0.5191961\ttotal: 698ms\tremaining: 2.06s\n",
      "76:\tlearn: 0.5178655\ttotal: 707ms\tremaining: 2.05s\n",
      "77:\tlearn: 0.5169441\ttotal: 716ms\tremaining: 2.04s\n",
      "78:\tlearn: 0.5159380\ttotal: 725ms\tremaining: 2.03s\n",
      "79:\tlearn: 0.5148766\ttotal: 734ms\tremaining: 2.02s\n",
      "80:\tlearn: 0.5139598\ttotal: 742ms\tremaining: 2.01s\n",
      "81:\tlearn: 0.5129498\ttotal: 751ms\tremaining: 2s\n",
      "82:\tlearn: 0.5099653\ttotal: 760ms\tremaining: 1.99s\n",
      "83:\tlearn: 0.5086644\ttotal: 769ms\tremaining: 1.98s\n",
      "84:\tlearn: 0.5070106\ttotal: 778ms\tremaining: 1.97s\n",
      "85:\tlearn: 0.5058368\ttotal: 786ms\tremaining: 1.96s\n",
      "86:\tlearn: 0.5045991\ttotal: 795ms\tremaining: 1.95s\n",
      "87:\tlearn: 0.5035301\ttotal: 804ms\tremaining: 1.94s\n",
      "88:\tlearn: 0.5025275\ttotal: 812ms\tremaining: 1.93s\n",
      "89:\tlearn: 0.5016045\ttotal: 821ms\tremaining: 1.92s\n",
      "90:\tlearn: 0.5003140\ttotal: 830ms\tremaining: 1.91s\n",
      "91:\tlearn: 0.4991117\ttotal: 846ms\tremaining: 1.91s\n",
      "92:\tlearn: 0.4977496\ttotal: 855ms\tremaining: 1.9s\n",
      "93:\tlearn: 0.4966639\ttotal: 864ms\tremaining: 1.89s\n",
      "94:\tlearn: 0.4956443\ttotal: 877ms\tremaining: 1.89s\n",
      "95:\tlearn: 0.4946288\ttotal: 885ms\tremaining: 1.88s\n",
      "96:\tlearn: 0.4932947\ttotal: 894ms\tremaining: 1.87s\n",
      "97:\tlearn: 0.4918790\ttotal: 902ms\tremaining: 1.86s\n",
      "98:\tlearn: 0.4907403\ttotal: 911ms\tremaining: 1.85s\n",
      "99:\tlearn: 0.4897477\ttotal: 920ms\tremaining: 1.84s\n",
      "100:\tlearn: 0.4881753\ttotal: 928ms\tremaining: 1.83s\n",
      "101:\tlearn: 0.4870777\ttotal: 937ms\tremaining: 1.82s\n",
      "102:\tlearn: 0.4857329\ttotal: 946ms\tremaining: 1.81s\n",
      "103:\tlearn: 0.4846271\ttotal: 955ms\tremaining: 1.8s\n",
      "104:\tlearn: 0.4832946\ttotal: 963ms\tremaining: 1.79s\n",
      "105:\tlearn: 0.4823806\ttotal: 972ms\tremaining: 1.78s\n",
      "106:\tlearn: 0.4811952\ttotal: 981ms\tremaining: 1.77s\n",
      "107:\tlearn: 0.4797793\ttotal: 989ms\tremaining: 1.76s\n",
      "108:\tlearn: 0.4786524\ttotal: 997ms\tremaining: 1.75s\n",
      "109:\tlearn: 0.4777669\ttotal: 1s\tremaining: 1.74s\n",
      "110:\tlearn: 0.4763771\ttotal: 1.01s\tremaining: 1.73s\n",
      "111:\tlearn: 0.4754521\ttotal: 1.02s\tremaining: 1.72s\n",
      "112:\tlearn: 0.4740550\ttotal: 1.03s\tremaining: 1.71s\n",
      "113:\tlearn: 0.4726061\ttotal: 1.04s\tremaining: 1.7s\n",
      "114:\tlearn: 0.4715378\ttotal: 1.05s\tremaining: 1.69s\n",
      "115:\tlearn: 0.4704914\ttotal: 1.06s\tremaining: 1.68s\n",
      "116:\tlearn: 0.4693871\ttotal: 1.07s\tremaining: 1.67s\n",
      "117:\tlearn: 0.4680967\ttotal: 1.08s\tremaining: 1.66s\n",
      "118:\tlearn: 0.4673532\ttotal: 1.08s\tremaining: 1.65s\n",
      "119:\tlearn: 0.4663936\ttotal: 1.09s\tremaining: 1.64s\n",
      "120:\tlearn: 0.4653625\ttotal: 1.1s\tremaining: 1.63s\n",
      "121:\tlearn: 0.4644121\ttotal: 1.12s\tremaining: 1.63s\n",
      "122:\tlearn: 0.4632996\ttotal: 1.13s\tremaining: 1.62s\n",
      "123:\tlearn: 0.4622310\ttotal: 1.13s\tremaining: 1.61s\n",
      "124:\tlearn: 0.4611841\ttotal: 1.14s\tremaining: 1.6s\n",
      "125:\tlearn: 0.4603401\ttotal: 1.15s\tremaining: 1.59s\n",
      "126:\tlearn: 0.4592244\ttotal: 1.16s\tremaining: 1.58s\n",
      "127:\tlearn: 0.4585280\ttotal: 1.17s\tremaining: 1.58s\n",
      "128:\tlearn: 0.4575613\ttotal: 1.18s\tremaining: 1.57s\n",
      "129:\tlearn: 0.4565798\ttotal: 1.19s\tremaining: 1.56s\n",
      "130:\tlearn: 0.4559441\ttotal: 1.2s\tremaining: 1.55s\n",
      "131:\tlearn: 0.4550299\ttotal: 1.21s\tremaining: 1.54s\n",
      "132:\tlearn: 0.4542882\ttotal: 1.22s\tremaining: 1.53s\n",
      "133:\tlearn: 0.4533844\ttotal: 1.23s\tremaining: 1.52s\n",
      "134:\tlearn: 0.4524073\ttotal: 1.23s\tremaining: 1.51s\n",
      "135:\tlearn: 0.4515613\ttotal: 1.24s\tremaining: 1.5s\n",
      "136:\tlearn: 0.4505083\ttotal: 1.26s\tremaining: 1.49s\n",
      "137:\tlearn: 0.4497980\ttotal: 1.26s\tremaining: 1.49s\n",
      "138:\tlearn: 0.4489390\ttotal: 1.27s\tremaining: 1.48s\n",
      "139:\tlearn: 0.4479866\ttotal: 1.29s\tremaining: 1.47s\n",
      "140:\tlearn: 0.4472079\ttotal: 1.3s\tremaining: 1.47s\n",
      "141:\tlearn: 0.4466166\ttotal: 1.31s\tremaining: 1.46s\n",
      "142:\tlearn: 0.4459851\ttotal: 1.32s\tremaining: 1.45s\n",
      "143:\tlearn: 0.4449427\ttotal: 1.33s\tremaining: 1.44s\n",
      "144:\tlearn: 0.4439603\ttotal: 1.34s\tremaining: 1.43s\n",
      "145:\tlearn: 0.4430087\ttotal: 1.35s\tremaining: 1.42s\n",
      "146:\tlearn: 0.4421178\ttotal: 1.36s\tremaining: 1.41s\n",
      "147:\tlearn: 0.4414386\ttotal: 1.36s\tremaining: 1.4s\n",
      "148:\tlearn: 0.4405747\ttotal: 1.37s\tremaining: 1.39s\n",
      "149:\tlearn: 0.4400228\ttotal: 1.38s\tremaining: 1.38s\n",
      "150:\tlearn: 0.4388902\ttotal: 1.39s\tremaining: 1.37s\n",
      "151:\tlearn: 0.4383419\ttotal: 1.4s\tremaining: 1.36s\n",
      "152:\tlearn: 0.4376946\ttotal: 1.41s\tremaining: 1.35s\n",
      "153:\tlearn: 0.4367974\ttotal: 1.42s\tremaining: 1.34s\n",
      "154:\tlearn: 0.4356397\ttotal: 1.42s\tremaining: 1.33s\n",
      "155:\tlearn: 0.4348179\ttotal: 1.43s\tremaining: 1.32s\n",
      "156:\tlearn: 0.4342030\ttotal: 1.44s\tremaining: 1.31s\n",
      "157:\tlearn: 0.4334186\ttotal: 1.45s\tremaining: 1.3s\n",
      "158:\tlearn: 0.4329650\ttotal: 1.46s\tremaining: 1.29s\n",
      "159:\tlearn: 0.4320344\ttotal: 1.47s\tremaining: 1.29s\n",
      "160:\tlearn: 0.4315803\ttotal: 1.48s\tremaining: 1.28s\n",
      "161:\tlearn: 0.4307775\ttotal: 1.49s\tremaining: 1.27s\n",
      "162:\tlearn: 0.4300422\ttotal: 1.5s\tremaining: 1.26s\n",
      "163:\tlearn: 0.4292096\ttotal: 1.51s\tremaining: 1.25s\n",
      "164:\tlearn: 0.4285559\ttotal: 1.51s\tremaining: 1.24s\n",
      "165:\tlearn: 0.4278287\ttotal: 1.52s\tremaining: 1.23s\n",
      "166:\tlearn: 0.4268806\ttotal: 1.53s\tremaining: 1.22s\n",
      "167:\tlearn: 0.4261110\ttotal: 1.54s\tremaining: 1.21s\n",
      "168:\tlearn: 0.4254014\ttotal: 1.55s\tremaining: 1.2s\n",
      "169:\tlearn: 0.4244768\ttotal: 1.56s\tremaining: 1.19s\n",
      "170:\tlearn: 0.4241033\ttotal: 1.57s\tremaining: 1.18s\n",
      "171:\tlearn: 0.4232867\ttotal: 1.58s\tremaining: 1.17s\n",
      "172:\tlearn: 0.4226540\ttotal: 1.59s\tremaining: 1.16s\n",
      "173:\tlearn: 0.4221782\ttotal: 1.59s\tremaining: 1.16s\n",
      "174:\tlearn: 0.4212455\ttotal: 1.6s\tremaining: 1.15s\n",
      "175:\tlearn: 0.4201607\ttotal: 1.61s\tremaining: 1.14s\n",
      "176:\tlearn: 0.4193202\ttotal: 1.62s\tremaining: 1.13s\n",
      "177:\tlearn: 0.4186346\ttotal: 1.63s\tremaining: 1.12s\n",
      "178:\tlearn: 0.4179661\ttotal: 1.64s\tremaining: 1.11s\n",
      "179:\tlearn: 0.4174158\ttotal: 1.65s\tremaining: 1.1s\n",
      "180:\tlearn: 0.4167227\ttotal: 1.66s\tremaining: 1.09s\n",
      "181:\tlearn: 0.4162275\ttotal: 1.67s\tremaining: 1.08s\n",
      "182:\tlearn: 0.4157337\ttotal: 1.68s\tremaining: 1.07s\n",
      "183:\tlearn: 0.4147734\ttotal: 1.69s\tremaining: 1.06s\n",
      "184:\tlearn: 0.4139948\ttotal: 1.69s\tremaining: 1.05s\n",
      "185:\tlearn: 0.4131394\ttotal: 1.7s\tremaining: 1.04s\n",
      "186:\tlearn: 0.4120604\ttotal: 1.71s\tremaining: 1.03s\n",
      "187:\tlearn: 0.4112866\ttotal: 1.72s\tremaining: 1.02s\n",
      "188:\tlearn: 0.4105712\ttotal: 1.73s\tremaining: 1.01s\n",
      "189:\tlearn: 0.4101109\ttotal: 1.74s\tremaining: 1s\n",
      "190:\tlearn: 0.4095938\ttotal: 1.75s\tremaining: 997ms\n",
      "191:\tlearn: 0.4089673\ttotal: 1.75s\tremaining: 987ms\n",
      "192:\tlearn: 0.4086179\ttotal: 1.76s\tremaining: 978ms\n",
      "193:\tlearn: 0.4079414\ttotal: 1.77s\tremaining: 968ms\n",
      "194:\tlearn: 0.4077699\ttotal: 1.78s\tremaining: 960ms\n",
      "195:\tlearn: 0.4071192\ttotal: 1.79s\tremaining: 951ms\n",
      "196:\tlearn: 0.4063704\ttotal: 1.8s\tremaining: 942ms\n",
      "197:\tlearn: 0.4059925\ttotal: 1.81s\tremaining: 933ms\n",
      "198:\tlearn: 0.4051751\ttotal: 1.82s\tremaining: 924ms\n",
      "199:\tlearn: 0.4045644\ttotal: 1.83s\tremaining: 915ms\n",
      "200:\tlearn: 0.4040816\ttotal: 1.84s\tremaining: 906ms\n",
      "201:\tlearn: 0.4035144\ttotal: 1.85s\tremaining: 896ms\n",
      "202:\tlearn: 0.4028159\ttotal: 1.86s\tremaining: 887ms\n",
      "203:\tlearn: 0.4022233\ttotal: 1.87s\tremaining: 879ms\n",
      "204:\tlearn: 0.4016733\ttotal: 1.88s\tremaining: 870ms\n",
      "205:\tlearn: 0.4010691\ttotal: 1.89s\tremaining: 860ms\n",
      "206:\tlearn: 0.4006669\ttotal: 1.89s\tremaining: 851ms\n",
      "207:\tlearn: 0.4000792\ttotal: 1.9s\tremaining: 842ms\n",
      "208:\tlearn: 0.3997625\ttotal: 1.91s\tremaining: 832ms\n",
      "209:\tlearn: 0.3989044\ttotal: 1.92s\tremaining: 823ms\n",
      "210:\tlearn: 0.3982054\ttotal: 1.93s\tremaining: 814ms\n",
      "211:\tlearn: 0.3975839\ttotal: 1.94s\tremaining: 804ms\n",
      "212:\tlearn: 0.3968403\ttotal: 1.95s\tremaining: 795ms\n",
      "213:\tlearn: 0.3961623\ttotal: 1.95s\tremaining: 785ms\n",
      "214:\tlearn: 0.3957618\ttotal: 1.96s\tremaining: 776ms\n",
      "215:\tlearn: 0.3954557\ttotal: 1.97s\tremaining: 767ms\n",
      "216:\tlearn: 0.3947994\ttotal: 1.98s\tremaining: 757ms\n",
      "217:\tlearn: 0.3943626\ttotal: 1.99s\tremaining: 748ms\n",
      "218:\tlearn: 0.3937624\ttotal: 2s\tremaining: 738ms\n",
      "219:\tlearn: 0.3935374\ttotal: 2s\tremaining: 729ms\n",
      "220:\tlearn: 0.3929944\ttotal: 2.01s\tremaining: 720ms\n",
      "221:\tlearn: 0.3927931\ttotal: 2.02s\tremaining: 710ms\n",
      "222:\tlearn: 0.3922370\ttotal: 2.03s\tremaining: 701ms\n",
      "223:\tlearn: 0.3915582\ttotal: 2.04s\tremaining: 692ms\n",
      "224:\tlearn: 0.3910478\ttotal: 2.05s\tremaining: 683ms\n",
      "225:\tlearn: 0.3907172\ttotal: 2.06s\tremaining: 673ms\n",
      "226:\tlearn: 0.3899569\ttotal: 2.07s\tremaining: 665ms\n",
      "227:\tlearn: 0.3895083\ttotal: 2.08s\tremaining: 655ms\n",
      "228:\tlearn: 0.3890199\ttotal: 2.08s\tremaining: 646ms\n",
      "229:\tlearn: 0.3883627\ttotal: 2.1s\tremaining: 640ms\n",
      "230:\tlearn: 0.3879193\ttotal: 2.11s\tremaining: 631ms\n",
      "231:\tlearn: 0.3877486\ttotal: 2.12s\tremaining: 622ms\n",
      "232:\tlearn: 0.3871770\ttotal: 2.14s\tremaining: 614ms\n",
      "233:\tlearn: 0.3866766\ttotal: 2.15s\tremaining: 606ms\n",
      "234:\tlearn: 0.3864985\ttotal: 2.16s\tremaining: 597ms\n",
      "235:\tlearn: 0.3859656\ttotal: 2.17s\tremaining: 588ms\n",
      "236:\tlearn: 0.3852634\ttotal: 2.18s\tremaining: 579ms\n",
      "237:\tlearn: 0.3847591\ttotal: 2.19s\tremaining: 570ms\n",
      "238:\tlearn: 0.3843541\ttotal: 2.2s\tremaining: 561ms\n",
      "239:\tlearn: 0.3838001\ttotal: 2.2s\tremaining: 551ms\n",
      "240:\tlearn: 0.3833843\ttotal: 2.21s\tremaining: 542ms\n",
      "241:\tlearn: 0.3831293\ttotal: 2.22s\tremaining: 533ms\n",
      "242:\tlearn: 0.3825637\ttotal: 2.23s\tremaining: 523ms\n",
      "243:\tlearn: 0.3824415\ttotal: 2.24s\tremaining: 514ms\n",
      "244:\tlearn: 0.3819379\ttotal: 2.25s\tremaining: 505ms\n",
      "245:\tlearn: 0.3814280\ttotal: 2.26s\tremaining: 495ms\n",
      "246:\tlearn: 0.3811836\ttotal: 2.27s\tremaining: 487ms\n",
      "247:\tlearn: 0.3808087\ttotal: 2.28s\tremaining: 477ms\n",
      "248:\tlearn: 0.3805554\ttotal: 2.29s\tremaining: 468ms\n",
      "249:\tlearn: 0.3801132\ttotal: 2.29s\tremaining: 459ms\n",
      "250:\tlearn: 0.3799265\ttotal: 2.3s\tremaining: 450ms\n",
      "251:\tlearn: 0.3796562\ttotal: 2.31s\tremaining: 441ms\n",
      "252:\tlearn: 0.3792907\ttotal: 2.32s\tremaining: 432ms\n",
      "253:\tlearn: 0.3786293\ttotal: 2.33s\tremaining: 423ms\n",
      "254:\tlearn: 0.3782311\ttotal: 2.34s\tremaining: 413ms\n",
      "255:\tlearn: 0.3780675\ttotal: 2.35s\tremaining: 404ms\n",
      "256:\tlearn: 0.3776681\ttotal: 2.36s\tremaining: 395ms\n",
      "257:\tlearn: 0.3769888\ttotal: 2.37s\tremaining: 385ms\n",
      "258:\tlearn: 0.3763058\ttotal: 2.38s\tremaining: 376ms\n",
      "259:\tlearn: 0.3759479\ttotal: 2.38s\tremaining: 367ms\n",
      "260:\tlearn: 0.3755181\ttotal: 2.39s\tremaining: 358ms\n",
      "261:\tlearn: 0.3750991\ttotal: 2.4s\tremaining: 348ms\n",
      "262:\tlearn: 0.3747725\ttotal: 2.41s\tremaining: 339ms\n",
      "263:\tlearn: 0.3741625\ttotal: 2.42s\tremaining: 330ms\n",
      "264:\tlearn: 0.3736874\ttotal: 2.43s\tremaining: 321ms\n",
      "265:\tlearn: 0.3735296\ttotal: 2.44s\tremaining: 311ms\n",
      "266:\tlearn: 0.3733464\ttotal: 2.44s\tremaining: 302ms\n",
      "267:\tlearn: 0.3730797\ttotal: 2.45s\tremaining: 293ms\n",
      "268:\tlearn: 0.3726464\ttotal: 2.46s\tremaining: 284ms\n",
      "269:\tlearn: 0.3723213\ttotal: 2.47s\tremaining: 275ms\n",
      "270:\tlearn: 0.3718811\ttotal: 2.48s\tremaining: 266ms\n",
      "271:\tlearn: 0.3714797\ttotal: 2.49s\tremaining: 257ms\n",
      "272:\tlearn: 0.3705251\ttotal: 2.5s\tremaining: 247ms\n",
      "273:\tlearn: 0.3699377\ttotal: 2.51s\tremaining: 238ms\n",
      "274:\tlearn: 0.3694429\ttotal: 2.52s\tremaining: 229ms\n",
      "275:\tlearn: 0.3691151\ttotal: 2.53s\tremaining: 220ms\n",
      "276:\tlearn: 0.3689895\ttotal: 2.54s\tremaining: 211ms\n",
      "277:\tlearn: 0.3683218\ttotal: 2.54s\tremaining: 201ms\n",
      "278:\tlearn: 0.3677902\ttotal: 2.55s\tremaining: 192ms\n",
      "279:\tlearn: 0.3676232\ttotal: 2.56s\tremaining: 183ms\n",
      "280:\tlearn: 0.3670487\ttotal: 2.57s\tremaining: 174ms\n",
      "281:\tlearn: 0.3668149\ttotal: 2.58s\tremaining: 165ms\n",
      "282:\tlearn: 0.3661783\ttotal: 2.59s\tremaining: 155ms\n",
      "283:\tlearn: 0.3657830\ttotal: 2.6s\tremaining: 146ms\n",
      "284:\tlearn: 0.3656260\ttotal: 2.6s\tremaining: 137ms\n",
      "285:\tlearn: 0.3653321\ttotal: 2.61s\tremaining: 128ms\n",
      "286:\tlearn: 0.3650998\ttotal: 2.62s\tremaining: 119ms\n",
      "287:\tlearn: 0.3646881\ttotal: 2.63s\tremaining: 110ms\n",
      "288:\tlearn: 0.3643700\ttotal: 2.64s\tremaining: 100ms\n",
      "289:\tlearn: 0.3638936\ttotal: 2.65s\tremaining: 91.3ms\n",
      "290:\tlearn: 0.3635433\ttotal: 2.66s\tremaining: 82.2ms\n",
      "291:\tlearn: 0.3632007\ttotal: 2.67s\tremaining: 73ms\n",
      "292:\tlearn: 0.3630177\ttotal: 2.68s\tremaining: 64ms\n",
      "293:\tlearn: 0.3624165\ttotal: 2.69s\tremaining: 54.8ms\n",
      "294:\tlearn: 0.3621518\ttotal: 2.69s\tremaining: 45.7ms\n",
      "295:\tlearn: 0.3620181\ttotal: 2.7s\tremaining: 36.5ms\n",
      "296:\tlearn: 0.3616107\ttotal: 2.71s\tremaining: 27.4ms\n",
      "297:\tlearn: 0.3612974\ttotal: 2.72s\tremaining: 18.3ms\n",
      "298:\tlearn: 0.3608169\ttotal: 2.73s\tremaining: 9.13ms\n",
      "299:\tlearn: 0.3606775\ttotal: 2.74s\tremaining: 0us\n",
      "Accuracy: 0.797686\n"
     ]
    }
   ],
   "source": [
    "kfold = KFold(n_splits=4)\n",
    "resultados = cross_val_score(model, X_train_fs, y_train, cv=kfold)\n",
    "print(\"Accuracy: %f\" % (resultados.mean()))"
   ]
  }
 ],
 "metadata": {
  "colab": {
   "authorship_tag": "ABX9TyPm435sGwp9Iq3n7Ni6V5A1",
   "name": "28_Bow_BinaryEncoding",
   "provenance": []
  },
  "kernelspec": {
   "display_name": "Python 3",
   "language": "python",
   "name": "python3"
  },
  "language_info": {
   "codemirror_mode": {
    "name": "ipython",
    "version": 3
   },
   "file_extension": ".py",
   "mimetype": "text/x-python",
   "name": "python",
   "nbconvert_exporter": "python",
   "pygments_lexer": "ipython3",
   "version": "3.7.6"
  }
 },
 "nbformat": 4,
 "nbformat_minor": 1
}
