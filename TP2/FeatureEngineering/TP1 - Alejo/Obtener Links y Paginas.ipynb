{
 "cells": [
  {
   "cell_type": "code",
   "execution_count": 1,
   "metadata": {},
   "outputs": [],
   "source": [
    "# importacion general de librerias y de visualizacion (matplotlib y seaborn)\n",
    "import pandas as pd\n",
    "import numpy as np\n",
    "from urllib.request import urlopen, HTTPError, URLError\n",
    "from urllib.parse import urlparse\n",
    "import re\n",
    "from concurrent.futures import ThreadPoolExecutor, TimeoutError\n",
    "from bs4 import BeautifulSoup\n",
    "import random\n",
    "\n",
    "pd.options.display.float_format = '{:20,.2f}'.format # suprimimos la notacion cientifica en los outputs\n",
    "\n",
    "import warnings\n",
    "warnings.filterwarnings('ignore')"
   ]
  },
  {
   "cell_type": "code",
   "execution_count": 2,
   "metadata": {},
   "outputs": [],
   "source": [
    "def is_not_nan(value):\n",
    "    return value == value"
   ]
  },
  {
   "cell_type": "code",
   "execution_count": 3,
   "metadata": {},
   "outputs": [],
   "source": [
    "twt_data = pd.read_csv('~/Documents/Datos/DataSets/TP2/train.csv')"
   ]
  },
  {
   "cell_type": "code",
   "execution_count": 4,
   "metadata": {},
   "outputs": [
    {
     "data": {
      "text/html": [
       "<div>\n",
       "<style scoped>\n",
       "    .dataframe tbody tr th:only-of-type {\n",
       "        vertical-align: middle;\n",
       "    }\n",
       "\n",
       "    .dataframe tbody tr th {\n",
       "        vertical-align: top;\n",
       "    }\n",
       "\n",
       "    .dataframe thead th {\n",
       "        text-align: right;\n",
       "    }\n",
       "</style>\n",
       "<table border=\"1\" class=\"dataframe\">\n",
       "  <thead>\n",
       "    <tr style=\"text-align: right;\">\n",
       "      <th></th>\n",
       "      <th>id</th>\n",
       "      <th>keyword</th>\n",
       "      <th>location</th>\n",
       "      <th>text</th>\n",
       "      <th>target</th>\n",
       "    </tr>\n",
       "  </thead>\n",
       "  <tbody>\n",
       "    <tr>\n",
       "      <th>7608</th>\n",
       "      <td>10869</td>\n",
       "      <td>NaN</td>\n",
       "      <td>NaN</td>\n",
       "      <td>Two giant cranes holding a bridge collapse int...</td>\n",
       "      <td>1</td>\n",
       "    </tr>\n",
       "    <tr>\n",
       "      <th>7609</th>\n",
       "      <td>10870</td>\n",
       "      <td>NaN</td>\n",
       "      <td>NaN</td>\n",
       "      <td>@aria_ahrary @TheTawniest The out of control w...</td>\n",
       "      <td>1</td>\n",
       "    </tr>\n",
       "    <tr>\n",
       "      <th>7610</th>\n",
       "      <td>10871</td>\n",
       "      <td>NaN</td>\n",
       "      <td>NaN</td>\n",
       "      <td>M1.94 [01:04 UTC]?5km S of Volcano Hawaii. htt...</td>\n",
       "      <td>1</td>\n",
       "    </tr>\n",
       "    <tr>\n",
       "      <th>7611</th>\n",
       "      <td>10872</td>\n",
       "      <td>NaN</td>\n",
       "      <td>NaN</td>\n",
       "      <td>Police investigating after an e-bike collided ...</td>\n",
       "      <td>1</td>\n",
       "    </tr>\n",
       "    <tr>\n",
       "      <th>7612</th>\n",
       "      <td>10873</td>\n",
       "      <td>NaN</td>\n",
       "      <td>NaN</td>\n",
       "      <td>The Latest: More Homes Razed by Northern Calif...</td>\n",
       "      <td>1</td>\n",
       "    </tr>\n",
       "  </tbody>\n",
       "</table>\n",
       "</div>"
      ],
      "text/plain": [
       "         id keyword location  \\\n",
       "7608  10869     NaN      NaN   \n",
       "7609  10870     NaN      NaN   \n",
       "7610  10871     NaN      NaN   \n",
       "7611  10872     NaN      NaN   \n",
       "7612  10873     NaN      NaN   \n",
       "\n",
       "                                                   text  target  \n",
       "7608  Two giant cranes holding a bridge collapse int...       1  \n",
       "7609  @aria_ahrary @TheTawniest The out of control w...       1  \n",
       "7610  M1.94 [01:04 UTC]?5km S of Volcano Hawaii. htt...       1  \n",
       "7611  Police investigating after an e-bike collided ...       1  \n",
       "7612  The Latest: More Homes Razed by Northern Calif...       1  "
      ]
     },
     "execution_count": 4,
     "metadata": {},
     "output_type": "execute_result"
    }
   ],
   "source": [
    "twt_data.tail()"
   ]
  },
  {
   "cell_type": "code",
   "execution_count": 5,
   "metadata": {},
   "outputs": [
    {
     "data": {
      "text/html": [
       "<div>\n",
       "<style scoped>\n",
       "    .dataframe tbody tr th:only-of-type {\n",
       "        vertical-align: middle;\n",
       "    }\n",
       "\n",
       "    .dataframe tbody tr th {\n",
       "        vertical-align: top;\n",
       "    }\n",
       "\n",
       "    .dataframe thead th {\n",
       "        text-align: right;\n",
       "    }\n",
       "</style>\n",
       "<table border=\"1\" class=\"dataframe\">\n",
       "  <thead>\n",
       "    <tr style=\"text-align: right;\">\n",
       "      <th></th>\n",
       "      <th>id</th>\n",
       "      <th>target</th>\n",
       "    </tr>\n",
       "  </thead>\n",
       "  <tbody>\n",
       "    <tr>\n",
       "      <th>count</th>\n",
       "      <td>7,613.00</td>\n",
       "      <td>7,613.00</td>\n",
       "    </tr>\n",
       "    <tr>\n",
       "      <th>mean</th>\n",
       "      <td>5,441.93</td>\n",
       "      <td>0.43</td>\n",
       "    </tr>\n",
       "    <tr>\n",
       "      <th>std</th>\n",
       "      <td>3,137.12</td>\n",
       "      <td>0.50</td>\n",
       "    </tr>\n",
       "    <tr>\n",
       "      <th>min</th>\n",
       "      <td>1.00</td>\n",
       "      <td>0.00</td>\n",
       "    </tr>\n",
       "    <tr>\n",
       "      <th>25%</th>\n",
       "      <td>2,734.00</td>\n",
       "      <td>0.00</td>\n",
       "    </tr>\n",
       "    <tr>\n",
       "      <th>50%</th>\n",
       "      <td>5,408.00</td>\n",
       "      <td>0.00</td>\n",
       "    </tr>\n",
       "    <tr>\n",
       "      <th>75%</th>\n",
       "      <td>8,146.00</td>\n",
       "      <td>1.00</td>\n",
       "    </tr>\n",
       "    <tr>\n",
       "      <th>max</th>\n",
       "      <td>10,873.00</td>\n",
       "      <td>1.00</td>\n",
       "    </tr>\n",
       "  </tbody>\n",
       "</table>\n",
       "</div>"
      ],
      "text/plain": [
       "                        id               target\n",
       "count             7,613.00             7,613.00\n",
       "mean              5,441.93                 0.43\n",
       "std               3,137.12                 0.50\n",
       "min                   1.00                 0.00\n",
       "25%               2,734.00                 0.00\n",
       "50%               5,408.00                 0.00\n",
       "75%               8,146.00                 1.00\n",
       "max              10,873.00                 1.00"
      ]
     },
     "execution_count": 5,
     "metadata": {},
     "output_type": "execute_result"
    }
   ],
   "source": [
    "twt_data.describe()"
   ]
  },
  {
   "cell_type": "code",
   "execution_count": 6,
   "metadata": {},
   "outputs": [
    {
     "name": "stdout",
     "output_type": "stream",
     "text": [
      "<class 'pandas.core.frame.DataFrame'>\n",
      "RangeIndex: 7613 entries, 0 to 7612\n",
      "Data columns (total 5 columns):\n",
      " #   Column    Non-Null Count  Dtype \n",
      "---  ------    --------------  ----- \n",
      " 0   id        7613 non-null   int64 \n",
      " 1   keyword   7552 non-null   object\n",
      " 2   location  5080 non-null   object\n",
      " 3   text      7613 non-null   object\n",
      " 4   target    7613 non-null   int64 \n",
      "dtypes: int64(2), object(3)\n",
      "memory usage: 208.2+ KB\n"
     ]
    }
   ],
   "source": [
    "twt_data.info()"
   ]
  },
  {
   "cell_type": "code",
   "execution_count": 7,
   "metadata": {},
   "outputs": [],
   "source": [
    "def obtain_link(twt):\n",
    "    url = re.search(\"(?P<url>https?://[^\\s]+)\", twt)\n",
    "    return url.group(\"url\") if url else np.NaN  "
   ]
  },
  {
   "cell_type": "code",
   "execution_count": 8,
   "metadata": {},
   "outputs": [
    {
     "data": {
      "text/html": [
       "<div>\n",
       "<style scoped>\n",
       "    .dataframe tbody tr th:only-of-type {\n",
       "        vertical-align: middle;\n",
       "    }\n",
       "\n",
       "    .dataframe tbody tr th {\n",
       "        vertical-align: top;\n",
       "    }\n",
       "\n",
       "    .dataframe thead th {\n",
       "        text-align: right;\n",
       "    }\n",
       "</style>\n",
       "<table border=\"1\" class=\"dataframe\">\n",
       "  <thead>\n",
       "    <tr style=\"text-align: right;\">\n",
       "      <th></th>\n",
       "      <th>id</th>\n",
       "      <th>keyword</th>\n",
       "      <th>location</th>\n",
       "      <th>text</th>\n",
       "      <th>target</th>\n",
       "      <th>link</th>\n",
       "    </tr>\n",
       "  </thead>\n",
       "  <tbody>\n",
       "    <tr>\n",
       "      <th>0</th>\n",
       "      <td>1</td>\n",
       "      <td>NaN</td>\n",
       "      <td>NaN</td>\n",
       "      <td>Our Deeds are the Reason of this #earthquake M...</td>\n",
       "      <td>1</td>\n",
       "      <td>NaN</td>\n",
       "    </tr>\n",
       "    <tr>\n",
       "      <th>1</th>\n",
       "      <td>4</td>\n",
       "      <td>NaN</td>\n",
       "      <td>NaN</td>\n",
       "      <td>Forest fire near La Ronge Sask. Canada</td>\n",
       "      <td>1</td>\n",
       "      <td>NaN</td>\n",
       "    </tr>\n",
       "    <tr>\n",
       "      <th>2</th>\n",
       "      <td>5</td>\n",
       "      <td>NaN</td>\n",
       "      <td>NaN</td>\n",
       "      <td>All residents asked to 'shelter in place' are ...</td>\n",
       "      <td>1</td>\n",
       "      <td>NaN</td>\n",
       "    </tr>\n",
       "    <tr>\n",
       "      <th>3</th>\n",
       "      <td>6</td>\n",
       "      <td>NaN</td>\n",
       "      <td>NaN</td>\n",
       "      <td>13,000 people receive #wildfires evacuation or...</td>\n",
       "      <td>1</td>\n",
       "      <td>NaN</td>\n",
       "    </tr>\n",
       "    <tr>\n",
       "      <th>4</th>\n",
       "      <td>7</td>\n",
       "      <td>NaN</td>\n",
       "      <td>NaN</td>\n",
       "      <td>Just got sent this photo from Ruby #Alaska as ...</td>\n",
       "      <td>1</td>\n",
       "      <td>NaN</td>\n",
       "    </tr>\n",
       "    <tr>\n",
       "      <th>...</th>\n",
       "      <td>...</td>\n",
       "      <td>...</td>\n",
       "      <td>...</td>\n",
       "      <td>...</td>\n",
       "      <td>...</td>\n",
       "      <td>...</td>\n",
       "    </tr>\n",
       "    <tr>\n",
       "      <th>7608</th>\n",
       "      <td>10869</td>\n",
       "      <td>NaN</td>\n",
       "      <td>NaN</td>\n",
       "      <td>Two giant cranes holding a bridge collapse int...</td>\n",
       "      <td>1</td>\n",
       "      <td>http://t.co/STfMbbZFB5</td>\n",
       "    </tr>\n",
       "    <tr>\n",
       "      <th>7609</th>\n",
       "      <td>10870</td>\n",
       "      <td>NaN</td>\n",
       "      <td>NaN</td>\n",
       "      <td>@aria_ahrary @TheTawniest The out of control w...</td>\n",
       "      <td>1</td>\n",
       "      <td>NaN</td>\n",
       "    </tr>\n",
       "    <tr>\n",
       "      <th>7610</th>\n",
       "      <td>10871</td>\n",
       "      <td>NaN</td>\n",
       "      <td>NaN</td>\n",
       "      <td>M1.94 [01:04 UTC]?5km S of Volcano Hawaii. htt...</td>\n",
       "      <td>1</td>\n",
       "      <td>http://t.co/zDtoyd8EbJ</td>\n",
       "    </tr>\n",
       "    <tr>\n",
       "      <th>7611</th>\n",
       "      <td>10872</td>\n",
       "      <td>NaN</td>\n",
       "      <td>NaN</td>\n",
       "      <td>Police investigating after an e-bike collided ...</td>\n",
       "      <td>1</td>\n",
       "      <td>NaN</td>\n",
       "    </tr>\n",
       "    <tr>\n",
       "      <th>7612</th>\n",
       "      <td>10873</td>\n",
       "      <td>NaN</td>\n",
       "      <td>NaN</td>\n",
       "      <td>The Latest: More Homes Razed by Northern Calif...</td>\n",
       "      <td>1</td>\n",
       "      <td>http://t.co/YmY4rSkQ3d</td>\n",
       "    </tr>\n",
       "  </tbody>\n",
       "</table>\n",
       "<p>7613 rows × 6 columns</p>\n",
       "</div>"
      ],
      "text/plain": [
       "         id keyword location  \\\n",
       "0         1     NaN      NaN   \n",
       "1         4     NaN      NaN   \n",
       "2         5     NaN      NaN   \n",
       "3         6     NaN      NaN   \n",
       "4         7     NaN      NaN   \n",
       "...     ...     ...      ...   \n",
       "7608  10869     NaN      NaN   \n",
       "7609  10870     NaN      NaN   \n",
       "7610  10871     NaN      NaN   \n",
       "7611  10872     NaN      NaN   \n",
       "7612  10873     NaN      NaN   \n",
       "\n",
       "                                                   text  target  \\\n",
       "0     Our Deeds are the Reason of this #earthquake M...       1   \n",
       "1                Forest fire near La Ronge Sask. Canada       1   \n",
       "2     All residents asked to 'shelter in place' are ...       1   \n",
       "3     13,000 people receive #wildfires evacuation or...       1   \n",
       "4     Just got sent this photo from Ruby #Alaska as ...       1   \n",
       "...                                                 ...     ...   \n",
       "7608  Two giant cranes holding a bridge collapse int...       1   \n",
       "7609  @aria_ahrary @TheTawniest The out of control w...       1   \n",
       "7610  M1.94 [01:04 UTC]?5km S of Volcano Hawaii. htt...       1   \n",
       "7611  Police investigating after an e-bike collided ...       1   \n",
       "7612  The Latest: More Homes Razed by Northern Calif...       1   \n",
       "\n",
       "                        link  \n",
       "0                        NaN  \n",
       "1                        NaN  \n",
       "2                        NaN  \n",
       "3                        NaN  \n",
       "4                        NaN  \n",
       "...                      ...  \n",
       "7608  http://t.co/STfMbbZFB5  \n",
       "7609                     NaN  \n",
       "7610  http://t.co/zDtoyd8EbJ  \n",
       "7611                     NaN  \n",
       "7612  http://t.co/YmY4rSkQ3d  \n",
       "\n",
       "[7613 rows x 6 columns]"
      ]
     },
     "execution_count": 8,
     "metadata": {},
     "output_type": "execute_result"
    }
   ],
   "source": [
    "twt_data['link'] = twt_data['text'].map(obtain_link)\n",
    "twt_data"
   ]
  },
  {
   "cell_type": "code",
   "execution_count": 9,
   "metadata": {},
   "outputs": [
    {
     "name": "stdout",
     "output_type": "stream",
     "text": [
      "<class 'pandas.core.frame.DataFrame'>\n",
      "RangeIndex: 7613 entries, 0 to 7612\n",
      "Data columns (total 6 columns):\n",
      " #   Column    Non-Null Count  Dtype \n",
      "---  ------    --------------  ----- \n",
      " 0   id        7613 non-null   int64 \n",
      " 1   keyword   7552 non-null   object\n",
      " 2   location  5080 non-null   object\n",
      " 3   text      7613 non-null   object\n",
      " 4   target    7613 non-null   int64 \n",
      " 5   link      3971 non-null   object\n",
      "dtypes: int64(2), object(4)\n",
      "memory usage: 238.0+ KB\n"
     ]
    }
   ],
   "source": [
    "twt_data.info()"
   ]
  },
  {
   "cell_type": "code",
   "execution_count": 10,
   "metadata": {},
   "outputs": [],
   "source": [
    "def isShorted(link):\n",
    "    if link != link: return np.NaN \n",
    "    return 't.co' in str(link)"
   ]
  },
  {
   "cell_type": "code",
   "execution_count": 11,
   "metadata": {},
   "outputs": [],
   "source": [
    "twt_data['link_shorted'] = twt_data['link'].map(isShorted)\n"
   ]
  },
  {
   "cell_type": "markdown",
   "metadata": {},
   "source": [
    "## A continuacion trabajaremos exclusivamente con los twits que poseen links"
   ]
  },
  {
   "cell_type": "code",
   "execution_count": 12,
   "metadata": {},
   "outputs": [
    {
     "data": {
      "text/html": [
       "<div>\n",
       "<style scoped>\n",
       "    .dataframe tbody tr th:only-of-type {\n",
       "        vertical-align: middle;\n",
       "    }\n",
       "\n",
       "    .dataframe tbody tr th {\n",
       "        vertical-align: top;\n",
       "    }\n",
       "\n",
       "    .dataframe thead th {\n",
       "        text-align: right;\n",
       "    }\n",
       "</style>\n",
       "<table border=\"1\" class=\"dataframe\">\n",
       "  <thead>\n",
       "    <tr style=\"text-align: right;\">\n",
       "      <th></th>\n",
       "      <th>id</th>\n",
       "      <th>keyword</th>\n",
       "      <th>location</th>\n",
       "      <th>text</th>\n",
       "      <th>target</th>\n",
       "      <th>link</th>\n",
       "      <th>link_shorted</th>\n",
       "    </tr>\n",
       "  </thead>\n",
       "  <tbody>\n",
       "    <tr>\n",
       "      <th>31</th>\n",
       "      <td>48</td>\n",
       "      <td>ablaze</td>\n",
       "      <td>Birmingham</td>\n",
       "      <td>@bbcmtd Wholesale Markets ablaze http://t.co/l...</td>\n",
       "      <td>1</td>\n",
       "      <td>http://t.co/lHYXEOHY6C</td>\n",
       "      <td>True</td>\n",
       "    </tr>\n",
       "    <tr>\n",
       "      <th>32</th>\n",
       "      <td>49</td>\n",
       "      <td>ablaze</td>\n",
       "      <td>Est. September 2012 - Bristol</td>\n",
       "      <td>We always try to bring the heavy. #metal #RT h...</td>\n",
       "      <td>0</td>\n",
       "      <td>http://t.co/YAo1e0xngw</td>\n",
       "      <td>True</td>\n",
       "    </tr>\n",
       "    <tr>\n",
       "      <th>33</th>\n",
       "      <td>50</td>\n",
       "      <td>ablaze</td>\n",
       "      <td>AFRICA</td>\n",
       "      <td>#AFRICANBAZE: Breaking news:Nigeria flag set a...</td>\n",
       "      <td>1</td>\n",
       "      <td>http://t.co/2nndBGwyEi</td>\n",
       "      <td>True</td>\n",
       "    </tr>\n",
       "    <tr>\n",
       "      <th>35</th>\n",
       "      <td>53</td>\n",
       "      <td>ablaze</td>\n",
       "      <td>London, UK</td>\n",
       "      <td>On plus side LOOK AT THE SKY LAST NIGHT IT WAS...</td>\n",
       "      <td>0</td>\n",
       "      <td>http://t.co/qqsmshaJ3N</td>\n",
       "      <td>True</td>\n",
       "    </tr>\n",
       "    <tr>\n",
       "      <th>37</th>\n",
       "      <td>55</td>\n",
       "      <td>ablaze</td>\n",
       "      <td>World Wide!!</td>\n",
       "      <td>INEC Office in Abia Set Ablaze - http://t.co/3...</td>\n",
       "      <td>1</td>\n",
       "      <td>http://t.co/3ImaomknnA</td>\n",
       "      <td>True</td>\n",
       "    </tr>\n",
       "    <tr>\n",
       "      <th>...</th>\n",
       "      <td>...</td>\n",
       "      <td>...</td>\n",
       "      <td>...</td>\n",
       "      <td>...</td>\n",
       "      <td>...</td>\n",
       "      <td>...</td>\n",
       "      <td>...</td>\n",
       "    </tr>\n",
       "    <tr>\n",
       "      <th>7606</th>\n",
       "      <td>10866</td>\n",
       "      <td>NaN</td>\n",
       "      <td>NaN</td>\n",
       "      <td>Suicide bomber kills 15 in Saudi security site...</td>\n",
       "      <td>1</td>\n",
       "      <td>http://t.co/nF4IculOje</td>\n",
       "      <td>True</td>\n",
       "    </tr>\n",
       "    <tr>\n",
       "      <th>7607</th>\n",
       "      <td>10867</td>\n",
       "      <td>NaN</td>\n",
       "      <td>NaN</td>\n",
       "      <td>#stormchase Violent Record Breaking EF-5 El Re...</td>\n",
       "      <td>1</td>\n",
       "      <td>http://t.co/3SICroAaNz</td>\n",
       "      <td>True</td>\n",
       "    </tr>\n",
       "    <tr>\n",
       "      <th>7608</th>\n",
       "      <td>10869</td>\n",
       "      <td>NaN</td>\n",
       "      <td>NaN</td>\n",
       "      <td>Two giant cranes holding a bridge collapse int...</td>\n",
       "      <td>1</td>\n",
       "      <td>http://t.co/STfMbbZFB5</td>\n",
       "      <td>True</td>\n",
       "    </tr>\n",
       "    <tr>\n",
       "      <th>7610</th>\n",
       "      <td>10871</td>\n",
       "      <td>NaN</td>\n",
       "      <td>NaN</td>\n",
       "      <td>M1.94 [01:04 UTC]?5km S of Volcano Hawaii. htt...</td>\n",
       "      <td>1</td>\n",
       "      <td>http://t.co/zDtoyd8EbJ</td>\n",
       "      <td>True</td>\n",
       "    </tr>\n",
       "    <tr>\n",
       "      <th>7612</th>\n",
       "      <td>10873</td>\n",
       "      <td>NaN</td>\n",
       "      <td>NaN</td>\n",
       "      <td>The Latest: More Homes Razed by Northern Calif...</td>\n",
       "      <td>1</td>\n",
       "      <td>http://t.co/YmY4rSkQ3d</td>\n",
       "      <td>True</td>\n",
       "    </tr>\n",
       "  </tbody>\n",
       "</table>\n",
       "<p>3968 rows × 7 columns</p>\n",
       "</div>"
      ],
      "text/plain": [
       "         id keyword                       location  \\\n",
       "31       48  ablaze                     Birmingham   \n",
       "32       49  ablaze  Est. September 2012 - Bristol   \n",
       "33       50  ablaze                         AFRICA   \n",
       "35       53  ablaze                     London, UK   \n",
       "37       55  ablaze                   World Wide!!   \n",
       "...     ...     ...                            ...   \n",
       "7606  10866     NaN                            NaN   \n",
       "7607  10867     NaN                            NaN   \n",
       "7608  10869     NaN                            NaN   \n",
       "7610  10871     NaN                            NaN   \n",
       "7612  10873     NaN                            NaN   \n",
       "\n",
       "                                                   text  target  \\\n",
       "31    @bbcmtd Wholesale Markets ablaze http://t.co/l...       1   \n",
       "32    We always try to bring the heavy. #metal #RT h...       0   \n",
       "33    #AFRICANBAZE: Breaking news:Nigeria flag set a...       1   \n",
       "35    On plus side LOOK AT THE SKY LAST NIGHT IT WAS...       0   \n",
       "37    INEC Office in Abia Set Ablaze - http://t.co/3...       1   \n",
       "...                                                 ...     ...   \n",
       "7606  Suicide bomber kills 15 in Saudi security site...       1   \n",
       "7607  #stormchase Violent Record Breaking EF-5 El Re...       1   \n",
       "7608  Two giant cranes holding a bridge collapse int...       1   \n",
       "7610  M1.94 [01:04 UTC]?5km S of Volcano Hawaii. htt...       1   \n",
       "7612  The Latest: More Homes Razed by Northern Calif...       1   \n",
       "\n",
       "                        link link_shorted  \n",
       "31    http://t.co/lHYXEOHY6C         True  \n",
       "32    http://t.co/YAo1e0xngw         True  \n",
       "33    http://t.co/2nndBGwyEi         True  \n",
       "35    http://t.co/qqsmshaJ3N         True  \n",
       "37    http://t.co/3ImaomknnA         True  \n",
       "...                      ...          ...  \n",
       "7606  http://t.co/nF4IculOje         True  \n",
       "7607  http://t.co/3SICroAaNz         True  \n",
       "7608  http://t.co/STfMbbZFB5         True  \n",
       "7610  http://t.co/zDtoyd8EbJ         True  \n",
       "7612  http://t.co/YmY4rSkQ3d         True  \n",
       "\n",
       "[3968 rows x 7 columns]"
      ]
     },
     "execution_count": 12,
     "metadata": {},
     "output_type": "execute_result"
    }
   ],
   "source": [
    "twt_data_with_links = twt_data.dropna(subset=['link'])\n",
    "twt_data_with_links = twt_data_with_links[twt_data_with_links['link_shorted']]\n",
    "twt_data_with_links"
   ]
  },
  {
   "cell_type": "code",
   "execution_count": 13,
   "metadata": {},
   "outputs": [
    {
     "name": "stdout",
     "output_type": "stream",
     "text": [
      "<class 'pandas.core.frame.DataFrame'>\n",
      "Int64Index: 3968 entries, 31 to 7612\n",
      "Data columns (total 7 columns):\n",
      " #   Column        Non-Null Count  Dtype \n",
      "---  ------        --------------  ----- \n",
      " 0   id            3968 non-null   int64 \n",
      " 1   keyword       3948 non-null   object\n",
      " 2   location      2714 non-null   object\n",
      " 3   text          3968 non-null   object\n",
      " 4   target        3968 non-null   int64 \n",
      " 5   link          3968 non-null   object\n",
      " 6   link_shorted  3968 non-null   object\n",
      "dtypes: int64(2), object(5)\n",
      "memory usage: 170.5+ KB\n"
     ]
    }
   ],
   "source": [
    "twt_data_with_links.info()"
   ]
  },
  {
   "cell_type": "code",
   "execution_count": 14,
   "metadata": {},
   "outputs": [
    {
     "name": "stdout",
     "output_type": "stream",
     "text": [
      "<class 'pandas.core.frame.DataFrame'>\n",
      "Int64Index: 3968 entries, 48 to 10873\n",
      "Data columns (total 9 columns):\n",
      " #   Column        Non-Null Count  Dtype \n",
      "---  ------        --------------  ----- \n",
      " 0   keyword       3948 non-null   object\n",
      " 1   location      2714 non-null   object\n",
      " 2   text          3968 non-null   object\n",
      " 3   target        3968 non-null   int64 \n",
      " 4   link          3968 non-null   object\n",
      " 5   link_shorted  3968 non-null   object\n",
      " 6   real_link     3968 non-null   object\n",
      " 7   error         3968 non-null   object\n",
      " 8   page          3968 non-null   object\n",
      "dtypes: int64(1), object(8)\n",
      "memory usage: 186.0+ KB\n"
     ]
    }
   ],
   "source": [
    "twt_data_with_links['real_link'] = 'np.nan'\n",
    "twt_data_with_links['error'] = 'np.nan'\n",
    "twt_data_with_links['page'] = 'np.nan'\n",
    "twt_data_with_links = twt_data_with_links.set_index('id')\n",
    "twt_data_with_links.info()"
   ]
  },
  {
   "cell_type": "code",
   "execution_count": 15,
   "metadata": {},
   "outputs": [],
   "source": [
    "def obtain_real_link(index, url):\n",
    "    try:\n",
    "        with urlopen(url, timeout = 20) as response:\n",
    "            actual_url = response.geturl()\n",
    "            error = 0\n",
    "            page = response.read()\n",
    "    except HTTPError as e:\n",
    "        actual_url = e.url\n",
    "        error = e\n",
    "        page = 0\n",
    "    except URLError as e:\n",
    "        actual_url = url\n",
    "        error = e\n",
    "        page = 0\n",
    "    except:\n",
    "        actual_url = url\n",
    "        error = 'OTHER_ERROR'\n",
    "        page = 0\n",
    "    return (index, actual_url, error, page)"
   ]
  },
  {
   "cell_type": "code",
   "execution_count": 16,
   "metadata": {},
   "outputs": [],
   "source": [
    "def doWork(row):\n",
    "    return obtain_real_link(row[0], row[1]['link'])"
   ]
  },
  {
   "cell_type": "code",
   "execution_count": 17,
   "metadata": {},
   "outputs": [],
   "source": [
    "# con esta pieza de codigo obtenemos los links reales y las paginas de forma paralelizada\n",
    "def requestPage(dataFrame):\n",
    "    init = 0\n",
    "    aux_iter = 0\n",
    "    index = -1\n",
    "    retry = 0\n",
    "    with ThreadPoolExecutor(max_workers=50) as pool:\n",
    "        while True:\n",
    "            try:\n",
    "                for result in pool.map(doWork, dataFrame.iloc[init:].iterrows(), timeout=110):\n",
    "                    index = result[0]\n",
    "                    twt_data_with_links['real_link'][index] = result[1]\n",
    "                    twt_data_with_links['error'][index] = result[2]\n",
    "                    twt_data_with_links['page'][index] = result[3]\n",
    "                    retry = 0\n",
    "                    aux_iter = aux_iter + 1\n",
    "                break\n",
    "            except TimeoutError:\n",
    "                if (retry == 2):\n",
    "                    index = dataFrame.index[aux_iter]\n",
    "                    print('TIME OUT:', aux_iter, index)\n",
    "                    twt_data_with_links['real_link'][index] = 0\n",
    "                    twt_data_with_links['error'][index] = 'TIME OUT'\n",
    "                    twt_data_with_links['page'][index] = 0\n",
    "                    retry == 0\n",
    "                    init = init + 1\n",
    "                    aux_iter = aux_iter + 1\n",
    "                else:\n",
    "                    retry = retry + 1\n",
    "                    init = aux_iter\n",
    "            except KeyboardInterrupt:\n",
    "                print('Terminado por el usuario')\n",
    "        return pool"
   ]
  },
  {
   "cell_type": "code",
   "execution_count": null,
   "metadata": {},
   "outputs": [
    {
     "name": "stdout",
     "output_type": "stream",
     "text": [
      "TIME OUT: 788 2314\n"
     ]
    }
   ],
   "source": [
    "iteraciones = 0\n",
    "while iteraciones < 5:\n",
    "    requestPage(twt_data_with_links.loc[twt_data_with_links['error'] != 0]).shutdown(wait=True)"
   ]
  },
  {
   "cell_type": "code",
   "execution_count": null,
   "metadata": {},
   "outputs": [],
   "source": [
    "twt_data_with_links.loc[twt_data_with_links['error'] != 0]"
   ]
  },
  {
   "cell_type": "code",
   "execution_count": null,
   "metadata": {},
   "outputs": [],
   "source": [
    "with urlopen('http://t.co/FWqfCKNCQW', timeout = 20) as response:\n",
    "    actual_url = response.geturl()\n",
    "    error = 0\n",
    "    page = response.read()"
   ]
  },
  {
   "cell_type": "code",
   "execution_count": null,
   "metadata": {},
   "outputs": [],
   "source": [
    "twt_data_with_links['error_code'] = twt_data_with_links['error'].map(lambda x: x.status if isinstance(x, HTTPError) else np.NaN)"
   ]
  },
  {
   "cell_type": "raw",
   "metadata": {},
   "source": [
    "twt_data_with_links.to_csv('~/Documents/Datos/DataSets/TP2/train_with_links.csv')"
   ]
  },
  {
   "cell_type": "raw",
   "metadata": {},
   "source": [
    "twt_data_with_links = pd.read_csv('~/Documents/Datos/DataSets/TP2/train_with_links.csv').drop(columns=['Unnamed: 0'])"
   ]
  },
  {
   "cell_type": "raw",
   "metadata": {},
   "source": [
    "twt_data_with_links_b = pd.read_csv('~/Documents/Datos/DataSets/twt_with_links.csv').drop(columns=['Unnamed: 0'])"
   ]
  },
  {
   "cell_type": "code",
   "execution_count": null,
   "metadata": {},
   "outputs": [],
   "source": [
    "twt_data_with_links.info()"
   ]
  },
  {
   "cell_type": "code",
   "execution_count": null,
   "metadata": {},
   "outputs": [],
   "source": [
    "twt_data_with_links['site'] = twt_data_with_links['real_link'].map(lambda x: urlparse(x).netloc)\n",
    "twt_data_with_links"
   ]
  },
  {
   "cell_type": "code",
   "execution_count": null,
   "metadata": {},
   "outputs": [],
   "source": [
    "twt_data_with_links['for_graphics'] = 1\n",
    "grouped_by_sites = twt_data_with_links.groupby('site').sum()\n",
    "grouped_by_sites"
   ]
  },
  {
   "cell_type": "markdown",
   "metadata": {},
   "source": [
    "### Dejaremos afuera el sition t.co y las lineas que tienen como sitio twitter.com y su respuesta fue un error"
   ]
  },
  {
   "cell_type": "code",
   "execution_count": null,
   "metadata": {},
   "outputs": [],
   "source": [
    "def filter_twitter_error(row):\n",
    "    return row.site != 't.co' and (row.site != 'twitter.com' or row.error != row.error)"
   ]
  },
  {
   "cell_type": "code",
   "execution_count": null,
   "metadata": {},
   "outputs": [],
   "source": [
    "filter_list = []\n",
    "for index, row in twt_data_with_links.iterrows():\n",
    "    filter_list.append(filter_twitter_error(row))\n",
    "twt_data_with_links.loc[filter_list]"
   ]
  },
  {
   "cell_type": "markdown",
   "metadata": {},
   "source": [
    "## A continuacion nos quedaremos exclusivamente con las lineas sin errores para analizar las paguinas"
   ]
  },
  {
   "cell_type": "code",
   "execution_count": null,
   "metadata": {},
   "outputs": [],
   "source": [
    "twt_data_without_error = twt_data_with_links.loc[twt_data_with_links['error'] != twt_data_with_links['error']]\n",
    "twt_data_without_error"
   ]
  },
  {
   "cell_type": "code",
   "execution_count": null,
   "metadata": {},
   "outputs": [],
   "source": [
    "def get_the_header(page):\n",
    "    soup = BeautifulSoup(page, \"lxml\")\n",
    "    header = str(soup.h1.string) if soup.h1 else ''\n",
    "    soup.decompose()\n",
    "    return header"
   ]
  },
  {
   "cell_type": "raw",
   "metadata": {},
   "source": [
    "twt_data_without_error['header'] = twt_data_without_error['page'].map(get_the_header)\n",
    "twt_data_without_error"
   ]
  },
  {
   "cell_type": "raw",
   "metadata": {},
   "source": [
    "twt_data_without_error.to_csv('../../../DataSets/twt_with_header.csv')"
   ]
  },
  {
   "cell_type": "code",
   "execution_count": null,
   "metadata": {},
   "outputs": [],
   "source": [
    "twt_data_without_error = pd.read_csv('../../../DataSets/twt_with_header.csv').drop(columns=['Unnamed: 0', 'Unnamed: 0.1'])\n",
    "twt_data_without_error"
   ]
  },
  {
   "cell_type": "code",
   "execution_count": null,
   "metadata": {},
   "outputs": [],
   "source": [
    "twt_data_without_error.info()"
   ]
  },
  {
   "cell_type": "markdown",
   "metadata": {},
   "source": [
    "## A continuacion nos quedaremos exclusivamente paguinas que nos devolvieron un header para analizar el mismo"
   ]
  },
  {
   "cell_type": "code",
   "execution_count": null,
   "metadata": {},
   "outputs": [],
   "source": [
    "twt_data_without_error = twt_data_without_error.loc[twt_data_without_error[\"header\"] != 'None']\n",
    "twt_data_without_error = twt_data_without_error.loc[twt_data_without_error[\"header\"] != '']\n",
    "twt_data_without_error = twt_data_without_error.loc[twt_data_without_error[\"header\"] == twt_data_without_error[\"header\"]]\n",
    "twt_data_without_error"
   ]
  },
  {
   "cell_type": "code",
   "execution_count": null,
   "metadata": {},
   "outputs": [],
   "source": [
    "#repeticion_de_palabras\n",
    "twt_data_without_error[\"header\"] = twt_data_without_error[\"header\"].str.lower().str.strip() #transformo todas las palabras a minuscula\n",
    "twt_data_without_error[\"header\"] = twt_data_without_error[\"header\"].apply(lambda x: re.sub(r'[^\\w]', ' ', x)) #quito todos los caracteres no alfanumericos\n",
    "twt_data_without_error[\"header\"] = twt_data_without_error[\"header\"].apply(lambda x: re.sub(r'_', ' ', x))\n",
    "twt_data_without_error[\"header\"] = twt_data_without_error[\"header\"].apply(lambda x: re.sub(r'[0-9]',' ', x)) #quito los caracteres numericos\n",
    "twt_data_without_error[\"header\"] = twt_data_without_error[\"header\"].apply(lambda s: re.sub(r'\\b\\w{1}\\b', '', s)) #quito las letras sueltas\n",
    "twt_data_without_error[\"header\"] = twt_data_without_error[\"header\"].apply(lambda x: re.sub(' +',' ', x)) #quito los espacios de mas\n",
    "twt_data_without_error[\"header\"] = twt_data_without_error[\"header\"].apply(lambda s: re.sub(r'\\b\\w{1,2}\\b', '', s)) #quito las palabras cortas\n",
    "twt_data_without_error"
   ]
  },
  {
   "cell_type": "code",
   "execution_count": null,
   "metadata": {},
   "outputs": [],
   "source": [
    "twt_data_without_error['header_splited'] = twt_data_without_error['header'].str.split(' ')\n",
    "twt_data_without_error"
   ]
  },
  {
   "cell_type": "code",
   "execution_count": null,
   "metadata": {},
   "outputs": [],
   "source": [
    "list_stopwords = [\"the\",\"and\",\"you\",\"for\",\"that\",\"with\",\"this\",\"from\",\"are\",\"have\",\"was\",\"like\",\"but\",\"just\",\"not\",\"your\",\\\n",
    "                 \"all\",\"after\",\"will\",\"can\",\"has\",\"when\",\"they\",\"get\",\"new\",\"now\",\"what\",\"amp\",\"\",\"http\",\"https\",\"out\",\\\n",
    "                 \"more\",\"about\",\"how\",\"there\",\"don\",\"over\",\"into\",\"than\",\"would\",\"been\",\"her\",\"who\",\"were\",\"some\",\"still\",\\\n",
    "                 \"his\",\"back\",\"why\",\"them\",\"got\",\"know\",\"had\",\"see\",\"going\",\"our\",\"htt\",\"via\",\"nws\",\"wait\",\\\n",
    "                 \"hwy\",\"top\",\"both\",\"hah\",\"haha\",\"getting\",\"far\",\"near\", \"video\", \"unavailable\", \"cuenta\", \"suspendida\"]\n",
    "def count_words(word, count):\n",
    "    if(word in list_stopwords):\n",
    "        return\n",
    "    if (word in count):\n",
    "        count[word] = count[word] + 1\n",
    "        return\n",
    "    count[word] = 1"
   ]
  },
  {
   "cell_type": "code",
   "execution_count": null,
   "metadata": {},
   "outputs": [],
   "source": [
    "total_word_count = {}\n",
    "twt_data_without_error['header_splited'].map(\n",
    "    lambda x: [count_words(word, total_word_count) for word in x]\n",
    ")\n",
    "total_word_count"
   ]
  },
  {
   "cell_type": "code",
   "execution_count": null,
   "metadata": {},
   "outputs": [],
   "source": [
    "disaster_word_count = {}\n",
    "twt_data_without_error.loc[twt_data_without_error['target'] == 1,'header_splited'].map(\n",
    "    lambda x: [count_words(word, disaster_word_count) for word in x] if (x != None) else None\n",
    ")\n",
    "disaster_word_count"
   ]
  },
  {
   "cell_type": "code",
   "execution_count": null,
   "metadata": {},
   "outputs": [],
   "source": [
    "normal_word_count = {}\n",
    "twt_data_without_error.loc[twt_data_without_error['target'] == 0,'header_splited'].map(\n",
    "    lambda x: [count_words(word, normal_word_count) for word in x] if (x != None) else None\n",
    ")\n",
    "normal_word_count"
   ]
  },
  {
   "cell_type": "code",
   "execution_count": null,
   "metadata": {},
   "outputs": [],
   "source": [
    "total_header_words = pd.DataFrame(list(total_word_count.items()), index=range(len(total_word_count.items())),\\\n",
    "                                  columns=['word', 'count'])\n",
    "disaster_header_words = pd.DataFrame(list(disaster_word_count.items()), index=range(len(disaster_word_count.items())),\\\n",
    "                                  columns=['word', 'count'])\n",
    "normal_header_words = pd.DataFrame(list(normal_word_count.items()), index=range(len(normal_word_count.items())),\\\n",
    "                                  columns=['word', 'count'])"
   ]
  },
  {
   "cell_type": "code",
   "execution_count": null,
   "metadata": {},
   "outputs": [],
   "source": [
    "def disaster_color_fun(word, font_size, position, orientation, random_state=None,\n",
    "                    **kwargs):\n",
    "    pot = - (4/font_size)\n",
    "    percentage = pow(10, pot)\n",
    "    return \"hsl(22, %d%%, 48%%)\" % (100 * percentage)"
   ]
  },
  {
   "cell_type": "code",
   "execution_count": null,
   "metadata": {},
   "outputs": [],
   "source": [
    "def normal_color_fun(word, font_size, position, orientation, random_state=None,\n",
    "                    **kwargs):\n",
    "    pot = - (4/font_size)\n",
    "    percentage = pow(10, pot)\n",
    "    return \"hsl(166, %d%%, 35%%)\" % (100 * percentage)"
   ]
  },
  {
   "cell_type": "code",
   "execution_count": null,
   "metadata": {},
   "outputs": [],
   "source": [
    "normal_color"
   ]
  },
  {
   "cell_type": "code",
   "execution_count": null,
   "metadata": {},
   "outputs": [],
   "source": [
    "twt_data_with_links"
   ]
  },
  {
   "cell_type": "code",
   "execution_count": null,
   "metadata": {},
   "outputs": [],
   "source": [
    "twt_data_with_links_b.columns = [x+'_b' for x in twt_data_with_links_b.columns]"
   ]
  },
  {
   "cell_type": "code",
   "execution_count": null,
   "metadata": {},
   "outputs": [],
   "source": [
    "aux = twt_data_with_links_b.join(twt_data_with_links)[:][['id','error', 'id_b', 'error_b']]\n",
    "aux.head()"
   ]
  },
  {
   "cell_type": "code",
   "execution_count": null,
   "metadata": {},
   "outputs": [],
   "source": [
    "aux['error'] = aux['error'].fillna(0)\n",
    "aux['error_b'] = aux['error_b'].fillna(0)\n",
    "aux.head()"
   ]
  },
  {
   "cell_type": "code",
   "execution_count": null,
   "metadata": {},
   "outputs": [],
   "source": [
    "twt_data_with_links_b.info()"
   ]
  },
  {
   "cell_type": "code",
   "execution_count": null,
   "metadata": {},
   "outputs": [],
   "source": [
    "twt_data_with_links.info()"
   ]
  },
  {
   "cell_type": "code",
   "execution_count": null,
   "metadata": {},
   "outputs": [],
   "source": [
    "aux[(aux['error'] == 0) & (aux['error_b'] != 0)]"
   ]
  },
  {
   "cell_type": "code",
   "execution_count": null,
   "metadata": {},
   "outputs": [],
   "source": [
    "twt_data_with_links.loc[23]['page']"
   ]
  }
 ],
 "metadata": {
  "kernelspec": {
   "display_name": "Python 3",
   "language": "python",
   "name": "python3"
  },
  "language_info": {
   "codemirror_mode": {
    "name": "ipython",
    "version": 3
   },
   "file_extension": ".py",
   "mimetype": "text/x-python",
   "name": "python",
   "nbconvert_exporter": "python",
   "pygments_lexer": "ipython3",
   "version": "3.7.3"
  }
 },
 "nbformat": 4,
 "nbformat_minor": 4
}
