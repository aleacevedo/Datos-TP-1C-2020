{
 "cells": [
  {
   "cell_type": "code",
   "execution_count": null,
   "metadata": {},
   "outputs": [],
   "source": [
    "import pandas as pd\n",
    "import numpy as np\n",
    "import re\n",
    "import unidecode\n",
    "import nltk\n",
    "from nltk.tokenize import TweetTokenizer\n",
    "from nltk import SnowballStemmer\n",
    "import string\n",
    "stopwords = nltk.corpus.stopwords.words('english')\n",
    "\n",
    "import warnings\n",
    "warnings.filterwarnings('ignore')"
   ]
  },
  {
   "cell_type": "code",
   "execution_count": null,
   "metadata": {},
   "outputs": [],
   "source": [
    "train = pd.read_csv('~/Documents/Datos/DataSets/TP2/test.csv')"
   ]
  },
  {
   "cell_type": "code",
   "execution_count": null,
   "metadata": {},
   "outputs": [],
   "source": [
    "def concatenate(x,char):\n",
    "    words = \"\"\n",
    "    for word in x:\n",
    "        if word.startswith(char):\n",
    "            words = words + word + \" \"\n",
    "    return words\n",
    "\n",
    "def count_vowels(x):\n",
    "    return (x.count('a') + x.count('e') + x.count('i') + x.count('o') + x.count('u'))\n",
    "\n",
    "def count_short_words(x):\n",
    "    count = 0\n",
    "    words = x.split(' ')\n",
    "    for word in words:\n",
    "        if 1 <= len(word) <= 3:\n",
    "            count += 1\n",
    "    return count\n",
    "\n",
    "def count_stopwords(x):\n",
    "    count = 0\n",
    "    words = x.split(' ')\n",
    "    for word in words:\n",
    "        if word in stopwords:\n",
    "            count += 1\n",
    "    return count"
   ]
  },
  {
   "cell_type": "code",
   "execution_count": null,
   "metadata": {},
   "outputs": [],
   "source": [
    "def remove_punctuation(word):        \n",
    "    clean_word = ''.join([char for char in word if char not in string.punctuation])\n",
    "    return clean_word\n",
    "\n",
    "def cleaning_text(text):\n",
    "    tokenizer = TweetTokenizer(strip_handles=True, reduce_len=True)\n",
    "    stemmer = SnowballStemmer('english')\n",
    "    text_tokenize = tokenizer.tokenize(text)\n",
    "    wordlist = []\n",
    "    for word in text_tokenize:\n",
    "        word = word.lower()\n",
    "        word = re.sub('(?P<url>https?://[^\\s]+)', ' ', word)\n",
    "        word = remove_punctuation(word)\n",
    "        word = re.sub(r'[^\\w]', ' ', word)\n",
    "        word = unidecode.unidecode(word)\n",
    "        word = re.sub(r'[0-9]','', word)\n",
    "        if((word != '')&(word != ' ')&(word not in stopwords)):\n",
    "            wordlist.append(word)\n",
    "        word = stemmer.stem(word)\n",
    "    clean_text = ' '.join(wordlist)\n",
    "    return clean_text"
   ]
  },
  {
   "cell_type": "code",
   "execution_count": null,
   "metadata": {},
   "outputs": [],
   "source": [
    "train[\"special_chars_count\"] =  train[\"text\"]\n",
    "train[\"special_chars_count\"] =  train[\"special_chars_count\"].str.lower()\n",
    "train[\"special_chars_count\"] = train[\"special_chars_count\"].apply(lambda x: re.sub(r'[a-z]','',x))\n",
    "train[\"special_chars_count\"] = train[\"special_chars_count\"].str.strip()\n",
    "train[\"special_chars_count\"] = train[\"special_chars_count\"].apply(lambda x: re.sub(' +','', x))\n",
    "train[\"special_chars_count\"] = train[\"special_chars_count\"].apply(lambda x: re.sub(r'[0-9]','', x))\n",
    "train[\"special_chars_count\"] = train[\"special_chars_count\"].str.len()\n",
    "\n",
    "train[\"hashtags\"] = train[\"text\"].str.lower().str.split(' ').apply(lambda x: concatenate(x,'#'))\n",
    "train[\"labels\"] = train[\"text\"].str.lower().str.split(' ').apply(lambda x: concatenate(x,'@'))\n",
    "train[\"hashtags_count\"] = train[\"hashtags\"].str.split(' ').apply(lambda x: len(x))-1\n",
    "train[\"labels_count\"] = train[\"labels\"].str.split(' ').apply(lambda x: len(x))-1\n",
    "\n",
    "train[\"num_chars_count\"] = train[\"text\"]\n",
    "train[\"num_chars_count\"] =  train[\"num_chars_count\"].str.lower()\n",
    "train[\"num_chars_count\"] = train[\"num_chars_count\"].apply(lambda x: re.sub(r'[a-z]','',x))\n",
    "train[\"num_chars_count\"] = train[\"num_chars_count\"].apply(lambda x: re.sub(r'[^\\w]','',x))\n",
    "train[\"num_chars_count\"] = train[\"num_chars_count\"].str.strip()\n",
    "train[\"num_chars_count\"] = train[\"num_chars_count\"].str.len()\n",
    "\n",
    "train[\"links_count\"] = train['text'].apply(lambda x: len([w for w in str(x).lower().split()\n",
    "                                                           if 'http' in w or 'https' in w]))\n",
    "\n",
    "train[\"clean_text\"] = train[\"text\"].apply(lambda x: cleaning_text(x)) # para el bag of words o tf-idf\n",
    "\n",
    "train[\"text\"] = train[\"text\"].str.lower()\n",
    "train[\"text\"] = train[\"text\"].apply(lambda x: re.sub('(?P<url>https?://[^\\s]+)', ' ', x))\n",
    "train[\"text\"] = train[\"text\"].apply(lambda x: re.sub(r'[^\\w]', ' ', x))\n",
    "train[\"text\"] = train[\"text\"].apply(lambda x: re.sub(r'_', ' ', x))\n",
    "train[\"text\"] = train[\"text\"].apply(lambda x: re.sub(r'[0-9]',' ', x))\n",
    "train[\"text\"] = train[\"text\"].apply(lambda x: re.sub(' +',' ', x))\n",
    "train[\"text\"] = train[\"text\"].apply(lambda x: unidecode.unidecode(x))\n",
    "train[\"text\"] = train[\"text\"].str.strip()\n",
    "train[\"text_length\"] = train[\"text\"].str.len()\n",
    "\n",
    "train[\"mean_word_length\"] = train['text'].apply(lambda x: np.mean([len(w) for w in str(x).split()]))\n",
    "train[\"vowels_count\"] = train[\"text\"].apply(lambda x: count_vowels(x))\n",
    "train[\"short_words_count\"] = train[\"text\"].apply(lambda x: count_short_words(x))\n",
    "train[\"stopwords_count\"] = train[\"text\"].apply(lambda x: count_stopwords(x))\n",
    "train[\"text\"] = train[\"text\"].apply(lambda x: re.sub(r'\\b\\w{1}\\b', '', x))\n",
    "train[\"words_count\"] = train[\"text\"].str.split(' ').apply(lambda x: len(x))\n",
    "\n",
    "train[\"keyword\"] = train[\"keyword\"].str.replace('%20',' ')\n",
    "train[\"keyword\"] = train[\"keyword\"].astype('category')\n",
    "\n",
    "train.rename(columns={\"target\":\"target_label\"}, inplace=True)\n",
    "# Si usamos BoW o TF-IDF\n",
    "train.rename(columns={\"location\":\"location_original\"}, inplace=True)\n",
    "train.rename(columns={\"id\":\"id_original\"}, inplace=True)\n",
    "train.rename(columns={\"text\":\"text_original\"}, inplace=True)\n",
    "train.rename(columns={\"keyword\":\"keyword_original\"}, inplace=True)\n",
    "\n",
    "train.head()"
   ]
  },
  {
   "cell_type": "code",
   "execution_count": null,
   "metadata": {},
   "outputs": [],
   "source": [
    "train.to_csv('~/Documents/Datos/DataSets/TP2/test_featured.csv', index=False)"
   ]
  },
  {
   "cell_type": "code",
   "execution_count": null,
   "metadata": {},
   "outputs": [],
   "source": []
  }
 ],
 "metadata": {
  "kernelspec": {
   "display_name": "Python 3",
   "language": "python",
   "name": "python3"
  },
  "language_info": {
   "codemirror_mode": {
    "name": "ipython",
    "version": 3
   },
   "file_extension": ".py",
   "mimetype": "text/x-python",
   "name": "python",
   "nbconvert_exporter": "python",
   "pygments_lexer": "ipython3",
   "version": "3.7.3"
  }
 },
 "nbformat": 4,
 "nbformat_minor": 4
}
