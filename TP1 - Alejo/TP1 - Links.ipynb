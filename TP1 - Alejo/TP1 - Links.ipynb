{
 "cells": [
  {
   "cell_type": "code",
   "execution_count": 1,
   "metadata": {},
   "outputs": [],
   "source": [
    "# importacion general de librerias y de visualizacion (matplotlib y seaborn)\n",
    "import pandas as pd\n",
    "import numpy as np\n",
    "import matplotlib.pyplot as plt\n",
    "import seaborn as sns\n",
    "from urllib.request import urlopen, HTTPError, URLError\n",
    "from urllib.parse import urlparse\n",
    "import re\n",
    "from concurrent.futures import ThreadPoolExecutor, TimeoutError\n",
    "from bs4 import BeautifulSoup\n",
    "from wordcloud import WordCloud, STOPWORDS\n",
    "from PIL import Image\n",
    "import random\n",
    "\n",
    "\n",
    "\n",
    "\n",
    "\n",
    "\n",
    "%matplotlib inline\n",
    "\n",
    "plt.style.use('default') # haciendo los graficos un poco mas bonitos en matplotlib\n",
    "#plt.rcParams['figure.figsize'] = (20, 10)\n",
    "\n",
    "sns.set(style=\"whitegrid\") # seteando tipo de grid en seaborn\n",
    "\n",
    "pd.options.display.float_format = '{:20,.2f}'.format # suprimimos la notacion cientifica en los outputs\n",
    "\n",
    "import warnings\n",
    "warnings.filterwarnings('ignore')"
   ]
  },
  {
   "cell_type": "code",
   "execution_count": null,
   "metadata": {},
   "outputs": [],
   "source": [
    "twt_data = pd.read_csv('../../../DataSets/twt_train.csv')\n",
    "twt_data_with_links_saved = pd.read_csv('../../../DataSets/twt_with_links.csv')"
   ]
  },
  {
   "cell_type": "code",
   "execution_count": null,
   "metadata": {},
   "outputs": [],
   "source": [
    "twt_data"
   ]
  },
  {
   "cell_type": "code",
   "execution_count": null,
   "metadata": {},
   "outputs": [],
   "source": [
    "twt_data.describe()"
   ]
  },
  {
   "cell_type": "code",
   "execution_count": null,
   "metadata": {},
   "outputs": [],
   "source": [
    "twt_data.info()"
   ]
  },
  {
   "cell_type": "code",
   "execution_count": null,
   "metadata": {},
   "outputs": [],
   "source": [
    "def obtain_link(twt):\n",
    "    url = re.search(\"(?P<url>https?://[^\\s]+)\", twt)\n",
    "    return url.group(\"url\") if url else np.NaN  "
   ]
  },
  {
   "cell_type": "code",
   "execution_count": null,
   "metadata": {},
   "outputs": [],
   "source": [
    "twt_data['link'] = twt_data['text'].map(obtain_link)\n",
    "twt_data"
   ]
  },
  {
   "cell_type": "code",
   "execution_count": null,
   "metadata": {},
   "outputs": [],
   "source": [
    "twt_data.info()"
   ]
  },
  {
   "cell_type": "code",
   "execution_count": null,
   "metadata": {},
   "outputs": [],
   "source": [
    "def isShorted(link):\n",
    "    if link != link: return np.NaN \n",
    "    return 't.co' in str(link)"
   ]
  },
  {
   "cell_type": "code",
   "execution_count": null,
   "metadata": {},
   "outputs": [],
   "source": [
    "twt_data['link_shorted'] = twt_data['link'].map(isShorted)\n"
   ]
  },
  {
   "cell_type": "code",
   "execution_count": null,
   "metadata": {},
   "outputs": [],
   "source": [
    "twt_data"
   ]
  },
  {
   "cell_type": "code",
   "execution_count": null,
   "metadata": {},
   "outputs": [],
   "source": [
    "twt_data_with_links = twt_data.dropna(subset=['link'])\n",
    "twt_data_with_links"
   ]
  },
  {
   "cell_type": "code",
   "execution_count": null,
   "metadata": {},
   "outputs": [],
   "source": [
    "twt_data_with_links = twt_data_with_links[twt_data_with_links['link_shorted']]\n",
    "twt_data_with_links"
   ]
  },
  {
   "cell_type": "code",
   "execution_count": null,
   "metadata": {},
   "outputs": [],
   "source": [
    "twt_data_with_links.info()"
   ]
  },
  {
   "cell_type": "code",
   "execution_count": null,
   "metadata": {},
   "outputs": [],
   "source": [
    "twt_data_with_links['real_link'] = 'np.NaN'\n",
    "twt_data_with_links['error'] = 'np.NaN'\n",
    "twt_data_with_links['page'] = 'np.NaN'\n",
    "twt_data_with_links = twt_data_with_links.reset_index()\n",
    "twt_data_with_links.info()"
   ]
  },
  {
   "cell_type": "code",
   "execution_count": null,
   "metadata": {},
   "outputs": [],
   "source": [
    "def obtain_real_link(index, url):\n",
    "    try:\n",
    "        with urlopen(url, timeout = 20) as response:\n",
    "            actual_url = response.geturl()\n",
    "            error = np.NaN\n",
    "            page = response.read()\n",
    "    except HTTPError as e:\n",
    "        actual_url = e.url\n",
    "        error = e\n",
    "        page = np.NaN\n",
    "    except URLError as e:\n",
    "        actual_url = url\n",
    "        error = e\n",
    "        page = np.NaN\n",
    "    except:\n",
    "        actual_url = url\n",
    "        error = 'OTHER_ERROR'\n",
    "        page = np.NaN\n",
    "    return (index, actual_url, error, page)"
   ]
  },
  {
   "cell_type": "code",
   "execution_count": null,
   "metadata": {},
   "outputs": [],
   "source": [
    "def doWork(row):\n",
    "    return obtain_real_link(row[0], row[1]['link'])"
   ]
  },
  {
   "cell_type": "raw",
   "metadata": {},
   "source": [
    "init = 0\n",
    "index = -1\n",
    "retry = 0\n",
    "with ThreadPoolExecutor(max_workers=200) as pool:\n",
    "    while True:\n",
    "        try:\n",
    "            for result in pool.map(doWork, twt_data_with_links.loc[init:].iterrows(), timeout=110):\n",
    "                index = result[0]\n",
    "                twt_data_with_links['real_link'][index] = result[1]\n",
    "                twt_data_with_links['error'][index] = result[2]\n",
    "                twt_data_with_links['page'][index] = result[3]\n",
    "                retry = 0\n",
    "            break\n",
    "        except TimeoutError\n",
    "            if (retry == 2):\n",
    "                retry == 0\n",
    "                init = init + 1\n",
    "            else:\n",
    "                retry = retry + 1\n",
    "                init = index + 1\n",
    "        except KeyboardInterrupt:\n",
    "            print('Terminado por el usuario')"
   ]
  },
  {
   "cell_type": "raw",
   "metadata": {},
   "source": [
    "twt_data_with_links['error_code'] = twt_data_with_links['error'].map(lambda x: x.status if isinstance(x, HTTPError) else np.NaN)"
   ]
  },
  {
   "cell_type": "raw",
   "metadata": {},
   "source": [
    "twt_data_with_links.to_csv('../DataSets/twt_with_links.csv')"
   ]
  },
  {
   "cell_type": "code",
   "execution_count": null,
   "metadata": {},
   "outputs": [],
   "source": [
    "twt_data_with_links_saved"
   ]
  },
  {
   "cell_type": "code",
   "execution_count": null,
   "metadata": {},
   "outputs": [],
   "source": [
    "twt_data_with_links.head()"
   ]
  },
  {
   "cell_type": "code",
   "execution_count": null,
   "metadata": {},
   "outputs": [],
   "source": [
    "twt_data_with_links.info()"
   ]
  },
  {
   "cell_type": "code",
   "execution_count": null,
   "metadata": {},
   "outputs": [],
   "source": [
    "twt_data_with_links['site'] = twt_data_with_links['real_link'].map(lambda x: urlparse(x).netloc)\n",
    "twt_data_with_links"
   ]
  },
  {
   "cell_type": "code",
   "execution_count": null,
   "metadata": {},
   "outputs": [],
   "source": [
    "twt_data_with_links['site'].value_counts()"
   ]
  },
  {
   "cell_type": "code",
   "execution_count": null,
   "metadata": {},
   "outputs": [],
   "source": [
    "twt_data_with_links.loc[twt_data_with_links['error'] != twt_data_with_links['error'], 'site'].value_counts()"
   ]
  },
  {
   "cell_type": "code",
   "execution_count": null,
   "metadata": {},
   "outputs": [],
   "source": [
    "twt_data_with_links['target'].value_counts()"
   ]
  },
  {
   "cell_type": "code",
   "execution_count": null,
   "metadata": {},
   "outputs": [],
   "source": [
    "twt_data_with_links.loc[twt_data_with_links['error'] != twt_data_with_links['error'], 'target'].value_counts()"
   ]
  },
  {
   "cell_type": "code",
   "execution_count": null,
   "metadata": {},
   "outputs": [],
   "source": [
    "twt_data_with_links_saved = twt_data_with_links_saved.loc[twt_data_with_links_saved['error'] != twt_data_with_links_saved['error']]\n",
    "twt_data_with_links_saved"
   ]
  },
  {
   "cell_type": "code",
   "execution_count": null,
   "metadata": {},
   "outputs": [],
   "source": [
    "def get_the_header(page):\n",
    "    soup = BeautifulSoup(page, \"lxml\")\n",
    "    header = str(soup.h1.string) if soup.h1 else ''\n",
    "    soup.decompose()\n",
    "    return header"
   ]
  },
  {
   "cell_type": "code",
   "execution_count": null,
   "metadata": {},
   "outputs": [],
   "source": [
    "twt_data_with_links_saved['header'] = twt_data_with_links_saved['page'].map(get_the_header)\n",
    "twt_data_with_links_saved"
   ]
  },
  {
   "cell_type": "code",
   "execution_count": null,
   "metadata": {},
   "outputs": [],
   "source": [
    "twt_data_with_links_saved.to_csv('../../../DataSets/twt_with_header.csv')"
   ]
  },
  {
   "cell_type": "code",
   "execution_count": null,
   "metadata": {},
   "outputs": [],
   "source": [
    "twt_data_with_links_saved = twt_data_with_links_saved.loc[twt_data_with_links_saved[\"header\"] != 'None']\n",
    "twt_data_with_links_saved = twt_data_with_links_saved.loc[twt_data_with_links_saved[\"header\"] != '']\n",
    "twt_data_with_links_saved"
   ]
  },
  {
   "cell_type": "code",
   "execution_count": null,
   "metadata": {},
   "outputs": [],
   "source": [
    "#repeticion_de_palabras\n",
    "twt_data_with_links_saved[\"header\"] = twt_data_with_links_saved[\"header\"].str.lower().str.strip() #transformo todas las palabras a minuscula\n",
    "twt_data_with_links_saved[\"header\"] = twt_data_with_links_saved[\"header\"].apply(lambda x: re.sub(r'[^\\w]', ' ', x)) #quito todos los caracteres no alfanumericos\n",
    "twt_data_with_links_saved[\"header\"] = twt_data_with_links_saved[\"header\"].apply(lambda x: re.sub(r'_', ' ', x))\n",
    "twt_data_with_links_saved[\"header\"] = twt_data_with_links_saved[\"header\"].apply(lambda x: re.sub(r'[0-9]',' ', x)) #quito los caracteres numericos\n",
    "twt_data_with_links_saved[\"header\"] = twt_data_with_links_saved[\"header\"].apply(lambda s: re.sub(r'\\b\\w{1}\\b', '', s)) #quito las letras sueltas\n",
    "twt_data_with_links_saved[\"header\"] = twt_data_with_links_saved[\"header\"].apply(lambda x: re.sub(' +',' ', x)) #quito los espacios de mas\n",
    "twt_data_with_links_saved[\"header\"] = twt_data_with_links_saved[\"header\"].apply(lambda s: re.sub(r'\\b\\w{1,2}\\b', '', s)) #quito las palabras cortas\n"
   ]
  },
  {
   "cell_type": "code",
   "execution_count": null,
   "metadata": {},
   "outputs": [],
   "source": [
    "twt_data_with_links_saved['header_splited'] = twt_data_with_links_saved['header'].str.split(' ')\n",
    "twt_data_with_links_saved"
   ]
  },
  {
   "cell_type": "code",
   "execution_count": null,
   "metadata": {},
   "outputs": [],
   "source": [
    "list_stopwords = [\"the\",\"and\",\"you\",\"for\",\"that\",\"with\",\"this\",\"from\",\"are\",\"have\",\"was\",\"like\",\"but\",\"just\",\"not\",\"your\",\\\n",
    "                 \"all\",\"after\",\"will\",\"can\",\"has\",\"when\",\"they\",\"get\",\"new\",\"now\",\"what\",\"amp\",\"\",\"http\",\"https\",\"out\",\\\n",
    "                 \"more\",\"about\",\"how\",\"there\",\"don\",\"over\",\"into\",\"than\",\"would\",\"been\",\"her\",\"who\",\"were\",\"some\",\"still\",\\\n",
    "                 \"his\",\"back\",\"why\",\"them\",\"got\",\"know\",\"had\",\"see\",\"going\",\"our\",\"htt\",\"via\",\"nws\",\"wait\",\\\n",
    "                 \"hwy\",\"top\",\"both\",\"hah\",\"haha\",\"getting\",\"far\",\"near\", \"video\", \"unavailable\", \"is\"]\n",
    "def count_words(word, count):\n",
    "    if(word in list_stopwords):\n",
    "        return\n",
    "    if (word in count):\n",
    "        count[word] = count[word] + 1\n",
    "        return\n",
    "    count[word] = 1\n",
    "        "
   ]
  },
  {
   "cell_type": "code",
   "execution_count": null,
   "metadata": {
    "scrolled": true
   },
   "outputs": [],
   "source": [
    "total_word_count = {}\n",
    "twt_data_with_links_saved['header_splited'].map(\n",
    "    lambda x: [count_words(word, total_word_count) for word in x]\n",
    ")\n",
    "total_word_count"
   ]
  },
  {
   "cell_type": "code",
   "execution_count": null,
   "metadata": {},
   "outputs": [],
   "source": [
    "disaster_word_count = {}\n",
    "twt_data_with_links_saved.loc[twt_data_with_links_saved['target'] == 1,'header_splited'].map(\n",
    "    lambda x: [count_words(word, disaster_word_count) for word in x] if (x != None) else None\n",
    ")\n",
    "disaster_word_count"
   ]
  },
  {
   "cell_type": "code",
   "execution_count": null,
   "metadata": {},
   "outputs": [],
   "source": [
    "normal_word_count = {}\n",
    "twt_data_with_links_saved.loc[twt_data_with_links_saved['target'] == 0,'header_splited'].map(\n",
    "    lambda x: [count_words(word, normal_word_count) for word in x] if (x != None) else None\n",
    ")\n",
    "normal_word_count"
   ]
  },
  {
   "cell_type": "code",
   "execution_count": null,
   "metadata": {},
   "outputs": [],
   "source": [
    "{k: v for k, v in sorted(normal_word_count.items(), key=lambda item: item[1], reverse = True)}\n"
   ]
  },
  {
   "cell_type": "code",
   "execution_count": null,
   "metadata": {},
   "outputs": [],
   "source": [
    "{k: v for k, v in sorted(disaster_word_count.items(), key=lambda item: item[1], reverse = True)}\n"
   ]
  },
  {
   "cell_type": "code",
   "execution_count": null,
   "metadata": {},
   "outputs": [],
   "source": [
    "{k: v for k, v in sorted(total_word_count.items(), key=lambda item: item[1], reverse = True)}\n"
   ]
  },
  {
   "cell_type": "code",
   "execution_count": null,
   "metadata": {},
   "outputs": [],
   "source": [
    "twt_data.head()"
   ]
  },
  {
   "cell_type": "code",
   "execution_count": null,
   "metadata": {},
   "outputs": [],
   "source": [
    "twt_data['for_graphics'] = 1\n",
    "grouped_twt = twt_data.groupby('target').sum().reset_index()\n",
    "g = sns.barplot(x='target', y='for_graphics', data=grouped_twt)\n",
    "for index, row in grouped_twt.iterrows():\n",
    "    g.text(row.target, row.for_graphics, row.for_graphics, color='black', ha=\"center\")\n",
    "g.set_title(\"Cantidad de tweets segun su target\", fontsize=16, pad=20)\n",
    "g.set_xlabel(\"Target\", fontsize=14)\n",
    "g.set_ylabel(\"Cantidad\", fontsize=14)"
   ]
  },
  {
   "cell_type": "code",
   "execution_count": null,
   "metadata": {},
   "outputs": [],
   "source": [
    "def is_not_nan(value):\n",
    "    return value == value"
   ]
  },
  {
   "cell_type": "code",
   "execution_count": null,
   "metadata": {},
   "outputs": [],
   "source": [
    "twt_data['with_link'] = twt_data['link'].map(is_not_nan)\n",
    "twt_data"
   ]
  },
  {
   "cell_type": "code",
   "execution_count": null,
   "metadata": {},
   "outputs": [],
   "source": [
    "grouped_twt = twt_data.groupby('with_link').sum().reset_index()\n",
    "g = sns.barplot(x='with_link', y='for_graphics', data=grouped_twt)\n",
    "for index, row in grouped_twt.iterrows():\n",
    "    g.text(row.name, row.for_graphics, row.for_graphics, color='black', ha=\"center\")\n",
    "g.set_title(\"Cantidad de tweets segun la existencia de links\", fontsize=16, pad=20)\n",
    "g.set_xlabel(\"Tiene link?\", fontsize=14)\n",
    "g.set_ylabel(\"Cantidad\", fontsize=14)"
   ]
  },
  {
   "cell_type": "code",
   "execution_count": null,
   "metadata": {},
   "outputs": [],
   "source": [
    "grouped_twt = twt_data.groupby(['target', 'with_link']).sum().reset_index()\n",
    "g = sns.barplot(x='target', y='for_graphics', hue='with_link', data=grouped_twt)\n",
    "g.set_title(\"Cantidad de tweets segun su target y si tiene link\", fontsize=16, pad=20)\n",
    "g.set_xlabel(\"Target\", fontsize=14)\n",
    "g.set_ylabel(\"Cantidad\", fontsize=14)"
   ]
  },
  {
   "cell_type": "code",
   "execution_count": null,
   "metadata": {},
   "outputs": [],
   "source": [
    "grouped_by_target_twt = twt_data.groupby(['target']).sum().reset_index()\n",
    "grouped_by_links_twt = twt_data.groupby(['target', 'with_link']).sum().reset_index()\n"
   ]
  },
  {
   "cell_type": "code",
   "execution_count": null,
   "metadata": {},
   "outputs": [],
   "source": [
    "grouped_by_target_twt"
   ]
  },
  {
   "cell_type": "code",
   "execution_count": null,
   "metadata": {},
   "outputs": [],
   "source": [
    "grouped_by_links_twt"
   ]
  },
  {
   "cell_type": "code",
   "execution_count": null,
   "metadata": {},
   "outputs": [],
   "source": [
    "grouped_by_links_twt.loc[grouped_by_links_twt['with_link'] == False, 'for_graphics'] = grouped_by_target_twt.loc[:, 'for_graphics']\n",
    "grouped_by_links_twt"
   ]
  },
  {
   "cell_type": "code",
   "execution_count": null,
   "metadata": {},
   "outputs": [],
   "source": [
    "grouped_by_links_twt.loc[grouped_by_links_twt['with_link'] == False, 'for_graphics'] = grouped_by_target_twt['for_graphics'].tolist()\n",
    "grouped_by_links_twt.loc[grouped_by_links_twt['with_link'] == False, 'with_link'] = 'Total'\n",
    "grouped_by_links_twt"
   ]
  },
  {
   "cell_type": "code",
   "execution_count": null,
   "metadata": {},
   "outputs": [],
   "source": [
    "g = sns.barplot(x = 'target', y = 'for_graphics', data=grouped_by_links_twt, hue='with_link', dodge=False)\n",
    "g.set_title(\"Cantidad de tweets segun la existencia de links\", fontsize=16, pad=20)\n",
    "g.set_xlabel(\"Tiene link?\", fontsize=14)\n",
    "g.set_ylabel(\"Cantidad\", fontsize=14)"
   ]
  },
  {
   "cell_type": "code",
   "execution_count": null,
   "metadata": {},
   "outputs": [],
   "source": [
    "g = sns.barplot(x = 'target', y = 'for_graphics', data=grouped_by_links_twt, hue='with_link')\n",
    "g.set_title(\"Cantidad de tweets segun la existencia de links\", fontsize=16, pad=20)\n",
    "g.set_xlabel(\"Tiene link?\", fontsize=14)\n",
    "g.set_ylabel(\"Cantidad\", fontsize=14)"
   ]
  },
  {
   "cell_type": "code",
   "execution_count": null,
   "metadata": {},
   "outputs": [],
   "source": [
    "twt_with_link = grouped_by_links_twt.loc[grouped_by_links_twt['with_link'] == True]\n",
    "g = sns.barplot(x = 'target', y = 'for_graphics', data=twt_with_link)\n",
    "g.set_title(\"Cantidad de tweets que contienen link segun el target\", fontsize=16, pad=20)\n",
    "g.set_xlabel(\"Target\", fontsize=14)\n",
    "g.set_ylabel(\"Cantidad\", fontsize=14)\n",
    "for index, row in twt_with_link.iterrows():\n",
    "    g.text(row.target, row.for_graphics, row.for_graphics, color='black', ha=\"center\")"
   ]
  },
  {
   "cell_type": "markdown",
   "metadata": {},
   "source": [
    "A continuacion trabajaremos exclusivamente con los twits que poseen links"
   ]
  },
  {
   "cell_type": "code",
   "execution_count": null,
   "metadata": {},
   "outputs": [],
   "source": [
    "twt_data_with_links = twt_data_with_links.drop(columns=['Unnamed: 0'])\n",
    "twt_data_with_links['for_graphics'] = 1\n",
    "twt_data_with_links"
   ]
  },
  {
   "cell_type": "code",
   "execution_count": null,
   "metadata": {},
   "outputs": [],
   "source": [
    "grouped_by_sites = twt_data_with_links.groupby('site').sum()\n",
    "grouped_by_sites"
   ]
  },
  {
   "cell_type": "code",
   "execution_count": null,
   "metadata": {},
   "outputs": [],
   "source": [
    "sites_top_20 = grouped_by_sites.sort_values('for_graphics', ascending=False).head(20).reset_index()\n",
    "sites_top_20"
   ]
  },
  {
   "cell_type": "code",
   "execution_count": null,
   "metadata": {},
   "outputs": [],
   "source": [
    "g = sns.barplot(x = 'for_graphics', y = 'site', data=sites_top_20)\n",
    "g.set_title(\"Top 20 de sitios mas linkeados a los tweets\", fontsize=16, pad=20)\n",
    "g.set_xlabel(\"Cantidad\", fontsize=14)\n",
    "g.set_ylabel(\"Sitios\", fontsize=14)"
   ]
  },
  {
   "cell_type": "markdown",
   "metadata": {},
   "source": [
    "Dejaremos afuera el sition t.co y los que tienen como sitio twitter.com y error "
   ]
  },
  {
   "cell_type": "code",
   "execution_count": null,
   "metadata": {},
   "outputs": [],
   "source": [
    "def filter_twitter_error(row):\n",
    "    return row.site != 't.co' and (row.site != 'twitter.com' or row.error != row.error)"
   ]
  },
  {
   "cell_type": "code",
   "execution_count": null,
   "metadata": {},
   "outputs": [],
   "source": [
    "filter_list = []\n",
    "for index, row in twt_data_with_links.iterrows():\n",
    "    filter_list.append(filter_twitter_error(row))\n",
    "twt_data_with_links.loc[filter_list]"
   ]
  },
  {
   "cell_type": "code",
   "execution_count": null,
   "metadata": {},
   "outputs": [],
   "source": [
    "sites_top_20_filtered = twt_data_with_links.loc[filter_list].groupby('site').sum()\\\n",
    "    .sort_values('for_graphics', ascending=False).head(20).reset_index()\n",
    "g = sns.barplot(x = 'for_graphics', y = 'site', data=sites_top_20_filtered)\n",
    "g.set_title(\"Top 20 de sitios mas linkeados a los tweets\", fontsize=16, pad=20)\n",
    "g.set_xlabel(\"Cantidad\", fontsize=14)\n",
    "g.set_ylabel(\"Sitios\", fontsize=14)"
   ]
  },
  {
   "cell_type": "code",
   "execution_count": null,
   "metadata": {},
   "outputs": [],
   "source": [
    "sites_top_20_filtered = twt_data_with_links.loc[filter_list].loc[twt_data_with_links['target']==1].groupby('site')\\\n",
    "    .sum().sort_values('for_graphics', ascending=False).head(20).reset_index()\n",
    "g = sns.barplot(x = 'for_graphics', y = 'site', data=sites_top_20_filtered)\n",
    "g.set_title(\"Top 20 de sitios mas linkeados a los tweets\", fontsize=16, pad=20)\n",
    "g.set_xlabel(\"Cantidad\", fontsize=14)\n",
    "g.set_ylabel(\"Sitios\", fontsize=14)"
   ]
  },
  {
   "cell_type": "code",
   "execution_count": null,
   "metadata": {},
   "outputs": [],
   "source": [
    "sites_top_20_filtered = twt_data_with_links.loc[filter_list].loc[twt_data_with_links['target']==0].groupby('site')\\\n",
    "    .sum().sort_values('for_graphics', ascending=False).head(20).reset_index()\n",
    "g = sns.barplot(x = 'for_graphics', y = 'site', data=sites_top_20_filtered)\n",
    "g.set_title(\"Top 20 de sitios mas linkeados a los tweets\", fontsize=16, pad=20)\n",
    "g.set_xlabel(\"Cantidad\", fontsize=14)\n",
    "g.set_ylabel(\"Sitios\", fontsize=14)"
   ]
  },
  {
   "cell_type": "markdown",
   "metadata": {},
   "source": [
    "A continuacion nos quedaremos solo con las lineas que no contienen errores ya que analizaremos las paginas"
   ]
  },
  {
   "cell_type": "code",
   "execution_count": null,
   "metadata": {},
   "outputs": [],
   "source": [
    "twt_data_with_links"
   ]
  },
  {
   "cell_type": "code",
   "execution_count": null,
   "metadata": {},
   "outputs": [],
   "source": [
    "twt_data_with_links_saved.drop(columns=['Unnamed: 0'], inplace=True)\n",
    "twt_data_with_links_saved"
   ]
  },
  {
   "cell_type": "code",
   "execution_count": null,
   "metadata": {},
   "outputs": [],
   "source": [
    "total_header_words = pd.DataFrame(list(total_word_count.items()), index=range(len(total_word_count.items())),\\\n",
    "                                  columns=['word', 'count'])\n",
    "disaster_header_words = pd.DataFrame(list(disaster_word_count.items()), index=range(len(disaster_word_count.items())),\\\n",
    "                                  columns=['word', 'count'])\n",
    "normal_header_words = pd.DataFrame(list(normal_word_count.items()), index=range(len(normal_word_count.items())),\\\n",
    "                                  columns=['word', 'count'])\n",
    "total_header_words"
   ]
  },
  {
   "cell_type": "code",
   "execution_count": null,
   "metadata": {},
   "outputs": [],
   "source": [
    "disaster_header_words"
   ]
  },
  {
   "cell_type": "code",
   "execution_count": null,
   "metadata": {},
   "outputs": [],
   "source": [
    "normal_header_words"
   ]
  },
  {
   "cell_type": "code",
   "execution_count": null,
   "metadata": {},
   "outputs": [],
   "source": [
    "words_top_20 = total_header_words.sort_values('count', ascending=False).head(20).reset_index()\n",
    "g = sns.barplot(x = 'count', y = 'word', data=words_top_20)\n",
    "g.set_title(\"Top 20 de sitios mas linkeados a los tweets\", fontsize=16, pad=20)\n",
    "g.set_xlabel(\"Cantidad\", fontsize=14)\n",
    "g.set_ylabel(\"Sitios\", fontsize=14)"
   ]
  },
  {
   "cell_type": "code",
   "execution_count": null,
   "metadata": {},
   "outputs": [],
   "source": [
    "words_top_20 = disaster_header_words.sort_values('count', ascending=False).head(20).reset_index()\n",
    "g = sns.barplot(x = 'count', y = 'word', data=words_top_20)\n",
    "g.set_title(\"Top 20 de sitios mas linkeados a los tweets\", fontsize=16, pad=20)\n",
    "g.set_xlabel(\"Cantidad\", fontsize=14)\n",
    "g.set_ylabel(\"Sitios\", fontsize=14)"
   ]
  },
  {
   "cell_type": "code",
   "execution_count": null,
   "metadata": {},
   "outputs": [],
   "source": [
    "words_top_20 = normal_header_words.sort_values('count', ascending=False).head(20).reset_index()\n",
    "g = sns.barplot(x = 'count', y = 'word', data=words_top_20)\n",
    "g.set_title(\"Top 20 de sitios mas linkeados a los tweets\", fontsize=16, pad=20)\n",
    "g.set_xlabel(\"Cantidad\", fontsize=14)\n",
    "g.set_ylabel(\"Sitios\", fontsize=14)"
   ]
  },
  {
   "cell_type": "code",
   "execution_count": null,
   "metadata": {},
   "outputs": [],
   "source": [
    "#palabras mas usadas en tweets no tienen que ver con desastres reales\n",
    "wordcloud = WordCloud(width = 500, height = 500, min_font_size = 5, max_font_size = 70, max_words = 1000, \n",
    "                      background_color = 'black', stopwords = list_stopwords).generate_from_frequencies(normal_word_count)\n",
    "fig = plt.figure(\n",
    "    figsize = (10, 7),\n",
    "    facecolor = 'k')\n",
    "plt.imshow(wordcloud, interpolation = 'bilinear')\n",
    "plt.axis('off')\n",
    "plt.tight_layout(pad=0)\n",
    "plt.show()"
   ]
  },
  {
   "cell_type": "code",
   "execution_count": null,
   "metadata": {},
   "outputs": [],
   "source": [
    "#palabras mas usadas en tweets no tienen que ver con desastres reales\n",
    "mask = np.array(Image.open(('../../../DataSets/twitter.png')))\n",
    "wordcloud = WordCloud(width = 500, height = 500, min_font_size = 5, max_font_size = 70, max_words = 1000, \n",
    "                      background_color = 'black', mask=mask, stopwords = list_stopwords)\\\n",
    "                        .generate_from_frequencies(disaster_word_count)\n",
    "fig = plt.figure(\n",
    "    figsize = (10, 7),\n",
    "    facecolor = 'k')\n",
    "plt.imshow(wordcloud.recolor(color_func=twitter_color_func, random_state=3),\n",
    "           interpolation=\"bilinear\")\n",
    "plt.axis('off')\n",
    "plt.tight_layout(pad=0)\n",
    "plt.show()"
   ]
  },
  {
   "cell_type": "code",
   "execution_count": null,
   "metadata": {},
   "outputs": [],
   "source": [
    "def twitter_color_func(word, font_size, position, orientation, random_state=None,\n",
    "                    **kwargs):\n",
    "    return \"hsl(197, 100%%, %d%%)\" % random.randint(60, 100)"
   ]
  },
  {
   "cell_type": "markdown",
   "metadata": {},
   "source": [
    "A continuacion algunos histogramas"
   ]
  },
  {
   "cell_type": "code",
   "execution_count": null,
   "metadata": {},
   "outputs": [],
   "source": [
    "g = sns.distplot(list(disaster_word_count.values()), hist=True, kde=False, bins=20)\n",
    "g.set_title('Distribucion de la cantidad de veces que aparece una palabra durante un desastre',\\\n",
    "            fontsize=16, pad=20)\n",
    "g.set_ylabel('Densidad', fontsize=18)\n",
    "g.set_yscale('log')\n",
    "g.set_xlabel('Longitud', fontsize=18)"
   ]
  },
  {
   "cell_type": "code",
   "execution_count": null,
   "metadata": {},
   "outputs": [],
   "source": [
    "g = sns.distplot(list(normal_word_count.values()), hist=True, kde=False, bins=10)\n",
    "g.set_title('Distribucion de la cantidad de veces que aparece una palabra durante un normalidad',\\\n",
    "            fontsize=16, pad=20)\n",
    "g.set_ylabel('Densidad', fontsize=18)\n",
    "g.set_yscale('log')\n",
    "g.set_xlabel('Longitud', fontsize=18)"
   ]
  },
  {
   "cell_type": "code",
   "execution_count": 4,
   "metadata": {},
   "outputs": [
    {
     "data": {
      "image/png": "[encoded data removed]",
      "text/plain": [
       "<Figure size 2000x100 with 1 Axes>"
      ]
     },
     "metadata": {},
     "output_type": "display_data"
    }
   ],
   "source": [
    "sns.palplot(sns.hls_palette(20, l=0.35, s=1))"
   ]
  },
  {
   "cell_type": "code",
   "execution_count": null,
   "metadata": {},
   "outputs": [],
   "source": []
  }
 ],
 "metadata": {
  "kernelspec": {
   "display_name": "Python 3",
   "language": "python",
   "name": "python3"
  },
  "language_info": {
   "codemirror_mode": {
    "name": "ipython",
    "version": 3
   },
   "file_extension": ".py",
   "mimetype": "text/x-python",
   "name": "python",
   "nbconvert_exporter": "python",
   "pygments_lexer": "ipython3",
   "version": "3.7.3"
  }
 },
 "nbformat": 4,
 "nbformat_minor": 4
}
